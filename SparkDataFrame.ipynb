{
  "cells": [
    {
      "cell_type": "markdown",
      "metadata": {
        "id": "view-in-github",
        "colab_type": "text"
      },
      "source": [
        "<a href=\"https://colab.research.google.com/github/wandering719/tryplace-public-/blob/main/SparkDataFrame.ipynb\" target=\"_parent\"><img src=\"https://colab.research.google.com/assets/colab-badge.svg\" alt=\"Open In Colab\"/></a>"
      ]
    },
    {
      "cell_type": "markdown",
      "source": [
        "#注意事項:\n",
        "#當您執行本Notebook的程式後，如果你要關閉Notebook，請選擇選單: File > Close and Halt    才能確實停止目前正在執行的程式，並且釋放資源\n",
        "#如果您沒有使用以上方法，只關閉此分頁，程式仍在執行，未釋放資源，當您開啟並執行其他的Notebook時，可能會發生錯誤"
      ],
      "metadata": {
        "application/vnd.databricks.v1+cell": {
          "title": "",
          "showTitle": false,
          "inputWidgets": {},
          "nuid": "4ca5e516-5681-4d7f-8289-2d62368e4a60"
        },
        "id": "WSIHDkjP7TMZ"
      }
    },
    {
      "cell_type": "code",
      "source": [
        "sc.master"
      ],
      "metadata": {
        "application/vnd.databricks.v1+cell": {
          "title": "",
          "showTitle": false,
          "inputWidgets": {},
          "nuid": "448704b0-9ee1-4064-ba13-95a9e87949fd"
        },
        "id": "9ak8a3uV7TMl",
        "outputId": "017dc3e7-a663-44d8-f58b-e394ee2b77cc"
      },
      "outputs": [
        {
          "output_type": "display_data",
          "metadata": {
            "application/vnd.databricks.v1+output": {
              "datasetInfos": [],
              "data": "<div class=\"ansiout\">Out[1]: &#39;local[8]&#39;</div>",
              "removedWidgets": [],
              "addedWidgets": {},
              "type": "html",
              "arguments": {}
            }
          },
          "data": {
            "text/html": [
              "<style scoped>\n  .ansiout {\n    display: block;\n    unicode-bidi: embed;\n    white-space: pre-wrap;\n    word-wrap: break-word;\n    word-break: break-all;\n    font-family: \"Source Code Pro\", \"Menlo\", monospace;;\n    font-size: 13px;\n    color: #555;\n    margin-left: 4px;\n    line-height: 19px;\n  }\n</style>\n<div class=\"ansiout\">Out[1]: &#39;local[8]&#39;</div>"
            ]
          }
        }
      ],
      "execution_count": null
    },
    {
      "cell_type": "code",
      "source": [
        "global Path    \n",
        "if sc.master[0:5]==\"local\" :\n",
        "   Path=\"/FileStore/tables/\"\n",
        "else:   \n",
        "   Path=\"hdfs://master:9000/user/hduser/\"\n",
        "#如果您要在cluster模式執行(hadoop yarn 或Spark Stand alone)，請依照書上說明，先上傳檔案至HDFS目"
      ],
      "metadata": {
        "application/vnd.databricks.v1+cell": {
          "title": "",
          "showTitle": false,
          "inputWidgets": {},
          "nuid": "b563de77-0229-44c8-8644-67325b90e9f4"
        },
        "id": "uvApFoi27TMr",
        "outputId": "dcf9a5bb-2aba-4707-fbd0-09835abac32c"
      },
      "outputs": [
        {
          "output_type": "display_data",
          "metadata": {
            "application/vnd.databricks.v1+output": {
              "datasetInfos": [],
              "data": "<div class=\"ansiout\"></div>",
              "removedWidgets": [],
              "addedWidgets": {},
              "type": "html",
              "arguments": {}
            }
          },
          "data": {
            "text/html": [
              "<style scoped>\n  .ansiout {\n    display: block;\n    unicode-bidi: embed;\n    white-space: pre-wrap;\n    word-wrap: break-word;\n    word-break: break-all;\n    font-family: \"Source Code Pro\", \"Menlo\", monospace;;\n    font-size: 13px;\n    color: #555;\n    margin-left: 4px;\n    line-height: 19px;\n  }\n</style>\n<div class=\"ansiout\"></div>"
            ]
          }
        }
      ],
      "execution_count": null
    },
    {
      "cell_type": "markdown",
      "source": [
        "# 19.3\t建立RDD、DataFrame與Spark SQL tempTable"
      ],
      "metadata": {
        "application/vnd.databricks.v1+cell": {
          "title": "",
          "showTitle": false,
          "inputWidgets": {},
          "nuid": "e14c7182-193e-4e3e-a017-dd38e79bda79"
        },
        "id": "msLj8qnf7TMu"
      }
    },
    {
      "cell_type": "code",
      "source": [
        "#Step 1  讀取文字檔,建立RDD"
      ],
      "metadata": {
        "application/vnd.databricks.v1+cell": {
          "title": "",
          "showTitle": false,
          "inputWidgets": {},
          "nuid": "52c1b582-3006-42a9-9eb8-a2604ef297c5"
        },
        "id": "RkbuYpQm7TMv",
        "outputId": "32061701-f7fb-42cf-ec45-1d43d74e78d1"
      },
      "outputs": [
        {
          "output_type": "display_data",
          "metadata": {
            "application/vnd.databricks.v1+output": {
              "datasetInfos": [],
              "data": "<div class=\"ansiout\"></div>",
              "removedWidgets": [],
              "addedWidgets": {},
              "type": "html",
              "arguments": {}
            }
          },
          "data": {
            "text/html": [
              "<style scoped>\n  .ansiout {\n    display: block;\n    unicode-bidi: embed;\n    white-space: pre-wrap;\n    word-wrap: break-word;\n    word-break: break-all;\n    font-family: \"Source Code Pro\", \"Menlo\", monospace;;\n    font-size: 13px;\n    color: #555;\n    margin-left: 4px;\n    line-height: 19px;\n  }\n</style>\n<div class=\"ansiout\"></div>"
            ]
          }
        }
      ],
      "execution_count": null
    },
    {
      "cell_type": "code",
      "source": [
        "RawUserRDD= sc.textFile(Path+\"u.user\")"
      ],
      "metadata": {
        "application/vnd.databricks.v1+cell": {
          "title": "",
          "showTitle": false,
          "inputWidgets": {},
          "nuid": "1baffb50-c489-48e6-9f4c-0fdf188b2d96"
        },
        "id": "I6ZlJlI_7TMx",
        "outputId": "c1468f8c-15a4-44bb-e72c-a235db67ef46"
      },
      "outputs": [
        {
          "output_type": "display_data",
          "metadata": {
            "application/vnd.databricks.v1+output": {
              "datasetInfos": [],
              "data": "<div class=\"ansiout\"></div>",
              "removedWidgets": [],
              "addedWidgets": {},
              "type": "html",
              "arguments": {}
            }
          },
          "data": {
            "text/html": [
              "<style scoped>\n  .ansiout {\n    display: block;\n    unicode-bidi: embed;\n    white-space: pre-wrap;\n    word-wrap: break-word;\n    word-break: break-all;\n    font-family: \"Source Code Pro\", \"Menlo\", monospace;;\n    font-size: 13px;\n    color: #555;\n    margin-left: 4px;\n    line-height: 19px;\n  }\n</style>\n<div class=\"ansiout\"></div>"
            ]
          }
        }
      ],
      "execution_count": null
    },
    {
      "cell_type": "code",
      "source": [
        "RawUserRDD.count()"
      ],
      "metadata": {
        "application/vnd.databricks.v1+cell": {
          "title": "",
          "showTitle": false,
          "inputWidgets": {},
          "nuid": "49304b60-3498-4ced-8298-8a911fdd2887"
        },
        "id": "i4rrZstS7TMz",
        "outputId": "c8781887-b3b5-48da-fac2-c6d8d6af5ffa"
      },
      "outputs": [
        {
          "output_type": "display_data",
          "metadata": {
            "application/vnd.databricks.v1+output": {
              "datasetInfos": [],
              "data": "<div class=\"ansiout\">Out[4]: 943</div>",
              "removedWidgets": [],
              "addedWidgets": {},
              "type": "html",
              "arguments": {}
            }
          },
          "data": {
            "text/html": [
              "<style scoped>\n  .ansiout {\n    display: block;\n    unicode-bidi: embed;\n    white-space: pre-wrap;\n    word-wrap: break-word;\n    word-break: break-all;\n    font-family: \"Source Code Pro\", \"Menlo\", monospace;;\n    font-size: 13px;\n    color: #555;\n    margin-left: 4px;\n    line-height: 19px;\n  }\n</style>\n<div class=\"ansiout\">Out[4]: 943</div>"
            ]
          }
        }
      ],
      "execution_count": null
    },
    {
      "cell_type": "code",
      "source": [
        "RawUserRDD.take(5)"
      ],
      "metadata": {
        "application/vnd.databricks.v1+cell": {
          "title": "",
          "showTitle": false,
          "inputWidgets": {},
          "nuid": "6754b45f-48ae-4e8e-b84b-52a223fc32ed"
        },
        "id": "7UkVU3mx7TM0",
        "outputId": "3437fb3f-b981-4583-cadd-be381ac25d3e"
      },
      "outputs": [
        {
          "output_type": "display_data",
          "metadata": {
            "application/vnd.databricks.v1+output": {
              "datasetInfos": [],
              "data": "<div class=\"ansiout\">Out[5]: [&#39;1|24|M|technician|85711&#39;,\n &#39;2|53|F|other|94043&#39;,\n &#39;3|23|M|writer|32067&#39;,\n &#39;4|24|M|technician|43537&#39;,\n &#39;5|33|F|other|15213&#39;]</div>",
              "removedWidgets": [],
              "addedWidgets": {},
              "type": "html",
              "arguments": {}
            }
          },
          "data": {
            "text/html": [
              "<style scoped>\n  .ansiout {\n    display: block;\n    unicode-bidi: embed;\n    white-space: pre-wrap;\n    word-wrap: break-word;\n    word-break: break-all;\n    font-family: \"Source Code Pro\", \"Menlo\", monospace;;\n    font-size: 13px;\n    color: #555;\n    margin-left: 4px;\n    line-height: 19px;\n  }\n</style>\n<div class=\"ansiout\">Out[5]: [&#39;1|24|M|technician|85711&#39;,\n &#39;2|53|F|other|94043&#39;,\n &#39;3|23|M|writer|32067&#39;,\n &#39;4|24|M|technician|43537&#39;,\n &#39;5|33|F|other|15213&#39;]</div>"
            ]
          }
        }
      ],
      "execution_count": null
    },
    {
      "cell_type": "code",
      "source": [
        "userRDD =RawUserRDD.map(lambda line: line.split(\"|\"))\n",
        "userRDD .take(5)"
      ],
      "metadata": {
        "application/vnd.databricks.v1+cell": {
          "title": "",
          "showTitle": false,
          "inputWidgets": {},
          "nuid": "5689fff8-05da-4731-afda-ec4b09253852"
        },
        "id": "NBX7AHPL7TM2",
        "outputId": "5253cd88-bffe-416c-cd1a-23b28dd29577"
      },
      "outputs": [
        {
          "output_type": "display_data",
          "metadata": {
            "application/vnd.databricks.v1+output": {
              "datasetInfos": [],
              "data": "<div class=\"ansiout\">Out[6]: [[&#39;1&#39;, &#39;24&#39;, &#39;M&#39;, &#39;technician&#39;, &#39;85711&#39;],\n [&#39;2&#39;, &#39;53&#39;, &#39;F&#39;, &#39;other&#39;, &#39;94043&#39;],\n [&#39;3&#39;, &#39;23&#39;, &#39;M&#39;, &#39;writer&#39;, &#39;32067&#39;],\n [&#39;4&#39;, &#39;24&#39;, &#39;M&#39;, &#39;technician&#39;, &#39;43537&#39;],\n [&#39;5&#39;, &#39;33&#39;, &#39;F&#39;, &#39;other&#39;, &#39;15213&#39;]]</div>",
              "removedWidgets": [],
              "addedWidgets": {},
              "type": "html",
              "arguments": {}
            }
          },
          "data": {
            "text/html": [
              "<style scoped>\n  .ansiout {\n    display: block;\n    unicode-bidi: embed;\n    white-space: pre-wrap;\n    word-wrap: break-word;\n    word-break: break-all;\n    font-family: \"Source Code Pro\", \"Menlo\", monospace;;\n    font-size: 13px;\n    color: #555;\n    margin-left: 4px;\n    line-height: 19px;\n  }\n</style>\n<div class=\"ansiout\">Out[6]: [[&#39;1&#39;, &#39;24&#39;, &#39;M&#39;, &#39;technician&#39;, &#39;85711&#39;],\n [&#39;2&#39;, &#39;53&#39;, &#39;F&#39;, &#39;other&#39;, &#39;94043&#39;],\n [&#39;3&#39;, &#39;23&#39;, &#39;M&#39;, &#39;writer&#39;, &#39;32067&#39;],\n [&#39;4&#39;, &#39;24&#39;, &#39;M&#39;, &#39;technician&#39;, &#39;43537&#39;],\n [&#39;5&#39;, &#39;33&#39;, &#39;F&#39;, &#39;other&#39;, &#39;15213&#39;]]</div>"
            ]
          }
        }
      ],
      "execution_count": null
    },
    {
      "cell_type": "markdown",
      "source": [
        "# 建立DataFrame"
      ],
      "metadata": {
        "application/vnd.databricks.v1+cell": {
          "title": "",
          "showTitle": false,
          "inputWidgets": {},
          "nuid": "4a9fd453-3d4d-46e0-b4fb-b70f5d72a40a"
        },
        "id": "NVXjm9n07TM4"
      }
    },
    {
      "cell_type": "code",
      "source": [
        "#from pyspark.sql import SQLContext\n",
        "#sqlContex=SQLContext(sc)"
      ],
      "metadata": {
        "application/vnd.databricks.v1+cell": {
          "title": "",
          "showTitle": false,
          "inputWidgets": {},
          "nuid": "4750c33e-4836-4eae-a4fd-b1f8678cea55"
        },
        "id": "lE0bpuzO7TM6",
        "outputId": "5c51b621-871e-4b19-e2c9-148316c60f5c"
      },
      "outputs": [
        {
          "output_type": "display_data",
          "metadata": {
            "application/vnd.databricks.v1+output": {
              "datasetInfos": [],
              "data": "<div class=\"ansiout\"></div>",
              "removedWidgets": [],
              "addedWidgets": {},
              "type": "html",
              "arguments": {}
            }
          },
          "data": {
            "text/html": [
              "<style scoped>\n  .ansiout {\n    display: block;\n    unicode-bidi: embed;\n    white-space: pre-wrap;\n    word-wrap: break-word;\n    word-break: break-all;\n    font-family: \"Source Code Pro\", \"Menlo\", monospace;;\n    font-size: 13px;\n    color: #555;\n    margin-left: 4px;\n    line-height: 19px;\n  }\n</style>\n<div class=\"ansiout\"></div>"
            ]
          }
        }
      ],
      "execution_count": null
    },
    {
      "cell_type": "code",
      "source": [
        "from pyspark.sql import SparkSession\n",
        "sqlContext = SparkSession.builder.getOrCreate()"
      ],
      "metadata": {
        "application/vnd.databricks.v1+cell": {
          "title": "",
          "showTitle": false,
          "inputWidgets": {},
          "nuid": "82992df4-9b34-4e76-bc88-01f6e4ed066a"
        },
        "id": "SOmsSglA7TM7",
        "outputId": "e7c3c2ca-239c-4e72-a27d-6d80fc9e3d12"
      },
      "outputs": [
        {
          "output_type": "display_data",
          "metadata": {
            "application/vnd.databricks.v1+output": {
              "datasetInfos": [],
              "data": "<div class=\"ansiout\"></div>",
              "removedWidgets": [],
              "addedWidgets": {},
              "type": "html",
              "arguments": {}
            }
          },
          "data": {
            "text/html": [
              "<style scoped>\n  .ansiout {\n    display: block;\n    unicode-bidi: embed;\n    white-space: pre-wrap;\n    word-wrap: break-word;\n    word-break: break-all;\n    font-family: \"Source Code Pro\", \"Menlo\", monospace;;\n    font-size: 13px;\n    color: #555;\n    margin-left: 4px;\n    line-height: 19px;\n  }\n</style>\n<div class=\"ansiout\"></div>"
            ]
          }
        }
      ],
      "execution_count": null
    },
    {
      "cell_type": "code",
      "source": [
        "from pyspark.sql import Row\n",
        "user_Rows = userRDD.map(lambda p:\n",
        "     Row(\n",
        "         userid=int(p[0]), \n",
        "         age=int(p[1]),\n",
        "         gender=p[2],\n",
        "         occupation=p[3],\n",
        "         zipcode=p[4]\n",
        "    )\n",
        ")\n",
        "user_Rows.take(5)"
      ],
      "metadata": {
        "application/vnd.databricks.v1+cell": {
          "title": "",
          "showTitle": false,
          "inputWidgets": {},
          "nuid": "8f908a8e-35b6-4da4-ab62-432f9aa95801"
        },
        "id": "TfzaJwPF7TM9",
        "outputId": "6e38aa70-3060-4021-b7e5-87e0ca7a73fd"
      },
      "outputs": [
        {
          "output_type": "display_data",
          "metadata": {
            "application/vnd.databricks.v1+output": {
              "datasetInfos": [],
              "data": "<div class=\"ansiout\">Out[8]: [Row(age=24, gender=&#39;M&#39;, occupation=&#39;technician&#39;, userid=1, zipcode=&#39;85711&#39;),\n Row(age=53, gender=&#39;F&#39;, occupation=&#39;other&#39;, userid=2, zipcode=&#39;94043&#39;),\n Row(age=23, gender=&#39;M&#39;, occupation=&#39;writer&#39;, userid=3, zipcode=&#39;32067&#39;),\n Row(age=24, gender=&#39;M&#39;, occupation=&#39;technician&#39;, userid=4, zipcode=&#39;43537&#39;),\n Row(age=33, gender=&#39;F&#39;, occupation=&#39;other&#39;, userid=5, zipcode=&#39;15213&#39;)]</div>",
              "removedWidgets": [],
              "addedWidgets": {},
              "type": "html",
              "arguments": {}
            }
          },
          "data": {
            "text/html": [
              "<style scoped>\n  .ansiout {\n    display: block;\n    unicode-bidi: embed;\n    white-space: pre-wrap;\n    word-wrap: break-word;\n    word-break: break-all;\n    font-family: \"Source Code Pro\", \"Menlo\", monospace;;\n    font-size: 13px;\n    color: #555;\n    margin-left: 4px;\n    line-height: 19px;\n  }\n</style>\n<div class=\"ansiout\">Out[8]: [Row(age=24, gender=&#39;M&#39;, occupation=&#39;technician&#39;, userid=1, zipcode=&#39;85711&#39;),\n Row(age=53, gender=&#39;F&#39;, occupation=&#39;other&#39;, userid=2, zipcode=&#39;94043&#39;),\n Row(age=23, gender=&#39;M&#39;, occupation=&#39;writer&#39;, userid=3, zipcode=&#39;32067&#39;),\n Row(age=24, gender=&#39;M&#39;, occupation=&#39;technician&#39;, userid=4, zipcode=&#39;43537&#39;),\n Row(age=33, gender=&#39;F&#39;, occupation=&#39;other&#39;, userid=5, zipcode=&#39;15213&#39;)]</div>"
            ]
          }
        }
      ],
      "execution_count": null
    },
    {
      "cell_type": "code",
      "source": [
        "user_df = sqlContext.createDataFrame(user_Rows)\n",
        "user_df .printSchema()"
      ],
      "metadata": {
        "application/vnd.databricks.v1+cell": {
          "title": "",
          "showTitle": false,
          "inputWidgets": {},
          "nuid": "0fcd5bd9-91c5-4ab0-bb82-f2865d5d3866"
        },
        "id": "GQAGZ85j7TM_",
        "outputId": "b1fc26da-f367-4ca2-b7fe-00bd552f7b45"
      },
      "outputs": [
        {
          "output_type": "display_data",
          "metadata": {
            "application/vnd.databricks.v1+output": {
              "datasetInfos": [
                {
                  "name": "user_df",
                  "typeStr": "pyspark.sql.dataframe.DataFrame",
                  "schema": {
                    "fields": [
                      {
                        "metadata": {},
                        "name": "age",
                        "nullable": true,
                        "type": "long"
                      },
                      {
                        "metadata": {},
                        "name": "gender",
                        "nullable": true,
                        "type": "string"
                      },
                      {
                        "metadata": {},
                        "name": "occupation",
                        "nullable": true,
                        "type": "string"
                      },
                      {
                        "metadata": {},
                        "name": "userid",
                        "nullable": true,
                        "type": "long"
                      },
                      {
                        "metadata": {},
                        "name": "zipcode",
                        "nullable": true,
                        "type": "string"
                      }
                    ],
                    "type": "struct"
                  },
                  "tableIdentifier": null
                }
              ],
              "data": "<div class=\"ansiout\">root\n |-- age: long (nullable = true)\n |-- gender: string (nullable = true)\n |-- occupation: string (nullable = true)\n |-- userid: long (nullable = true)\n |-- zipcode: string (nullable = true)\n\n</div>",
              "removedWidgets": [],
              "addedWidgets": {},
              "type": "html",
              "arguments": {}
            }
          },
          "data": {
            "text/html": [
              "<style scoped>\n  .ansiout {\n    display: block;\n    unicode-bidi: embed;\n    white-space: pre-wrap;\n    word-wrap: break-word;\n    word-break: break-all;\n    font-family: \"Source Code Pro\", \"Menlo\", monospace;;\n    font-size: 13px;\n    color: #555;\n    margin-left: 4px;\n    line-height: 19px;\n  }\n</style>\n<div class=\"ansiout\">root\n-- age: long (nullable = true)\n-- gender: string (nullable = true)\n-- occupation: string (nullable = true)\n-- userid: long (nullable = true)\n-- zipcode: string (nullable = true)\n\n</div>"
            ]
          }
        }
      ],
      "execution_count": null
    },
    {
      "cell_type": "code",
      "source": [
        "user_df.show(5)"
      ],
      "metadata": {
        "application/vnd.databricks.v1+cell": {
          "title": "",
          "showTitle": false,
          "inputWidgets": {},
          "nuid": "edc26ec5-1378-4da0-9287-de7dbbc0c327"
        },
        "id": "xFhs4UC17TNA",
        "outputId": "f27fe7ce-ab7a-4ba3-a6e1-e519e48d4146"
      },
      "outputs": [
        {
          "output_type": "display_data",
          "metadata": {
            "application/vnd.databricks.v1+output": {
              "datasetInfos": [],
              "data": "<div class=\"ansiout\">+---+------+----------+------+-------+\n|age|gender|occupation|userid|zipcode|\n+---+------+----------+------+-------+\n| 24|     M|technician|     1|  85711|\n| 53|     F|     other|     2|  94043|\n| 23|     M|    writer|     3|  32067|\n| 24|     M|technician|     4|  43537|\n| 33|     F|     other|     5|  15213|\n+---+------+----------+------+-------+\nonly showing top 5 rows\n\n</div>",
              "removedWidgets": [],
              "addedWidgets": {},
              "type": "html",
              "arguments": {}
            }
          },
          "data": {
            "text/html": [
              "<style scoped>\n  .ansiout {\n    display: block;\n    unicode-bidi: embed;\n    white-space: pre-wrap;\n    word-wrap: break-word;\n    word-break: break-all;\n    font-family: \"Source Code Pro\", \"Menlo\", monospace;;\n    font-size: 13px;\n    color: #555;\n    margin-left: 4px;\n    line-height: 19px;\n  }\n</style>\n<div class=\"ansiout\">+---+------+----------+------+-------+\nage|gender|occupation|userid|zipcode|\n+---+------+----------+------+-------+\n 24|     M|technician|     1|  85711|\n 53|     F|     other|     2|  94043|\n 23|     M|    writer|     3|  32067|\n 24|     M|technician|     4|  43537|\n 33|     F|     other|     5|  15213|\n+---+------+----------+------+-------+\nonly showing top 5 rows\n\n</div>"
            ]
          }
        }
      ],
      "execution_count": null
    },
    {
      "cell_type": "code",
      "source": [
        "df=user_df.alias(\"df\")\n",
        "df.show(5)"
      ],
      "metadata": {
        "application/vnd.databricks.v1+cell": {
          "title": "",
          "showTitle": false,
          "inputWidgets": {},
          "nuid": "cbf7923e-b693-4ecd-a203-1ae4f5ef85dd"
        },
        "id": "Isj0eaxk7TNB",
        "outputId": "1d9853a0-d70e-4884-9f8b-0a22cf4ee7d5"
      },
      "outputs": [
        {
          "output_type": "display_data",
          "metadata": {
            "application/vnd.databricks.v1+output": {
              "datasetInfos": [
                {
                  "name": "df",
                  "typeStr": "pyspark.sql.dataframe.DataFrame",
                  "schema": {
                    "fields": [
                      {
                        "metadata": {},
                        "name": "age",
                        "nullable": true,
                        "type": "long"
                      },
                      {
                        "metadata": {},
                        "name": "gender",
                        "nullable": true,
                        "type": "string"
                      },
                      {
                        "metadata": {},
                        "name": "occupation",
                        "nullable": true,
                        "type": "string"
                      },
                      {
                        "metadata": {},
                        "name": "userid",
                        "nullable": true,
                        "type": "long"
                      },
                      {
                        "metadata": {},
                        "name": "zipcode",
                        "nullable": true,
                        "type": "string"
                      }
                    ],
                    "type": "struct"
                  },
                  "tableIdentifier": null
                }
              ],
              "data": "<div class=\"ansiout\">+---+------+----------+------+-------+\n|age|gender|occupation|userid|zipcode|\n+---+------+----------+------+-------+\n| 24|     M|technician|     1|  85711|\n| 53|     F|     other|     2|  94043|\n| 23|     M|    writer|     3|  32067|\n| 24|     M|technician|     4|  43537|\n| 33|     F|     other|     5|  15213|\n+---+------+----------+------+-------+\nonly showing top 5 rows\n\n</div>",
              "removedWidgets": [],
              "addedWidgets": {},
              "type": "html",
              "arguments": {}
            }
          },
          "data": {
            "text/html": [
              "<style scoped>\n  .ansiout {\n    display: block;\n    unicode-bidi: embed;\n    white-space: pre-wrap;\n    word-wrap: break-word;\n    word-break: break-all;\n    font-family: \"Source Code Pro\", \"Menlo\", monospace;;\n    font-size: 13px;\n    color: #555;\n    margin-left: 4px;\n    line-height: 19px;\n  }\n</style>\n<div class=\"ansiout\">+---+------+----------+------+-------+\nage|gender|occupation|userid|zipcode|\n+---+------+----------+------+-------+\n 24|     M|technician|     1|  85711|\n 53|     F|     other|     2|  94043|\n 23|     M|    writer|     3|  32067|\n 24|     M|technician|     4|  43537|\n 33|     F|     other|     5|  15213|\n+---+------+----------+------+-------+\nonly showing top 5 rows\n\n</div>"
            ]
          }
        }
      ],
      "execution_count": null
    },
    {
      "cell_type": "markdown",
      "source": [
        "# 建立Spark SQL tempTable"
      ],
      "metadata": {
        "application/vnd.databricks.v1+cell": {
          "title": "",
          "showTitle": false,
          "inputWidgets": {},
          "nuid": "9ab3e6ad-a89b-437c-860a-c2308927bde5"
        },
        "id": "oaaUn-3K7TNC"
      }
    },
    {
      "cell_type": "code",
      "source": [
        "user_df.registerTempTable(\"user_table\")"
      ],
      "metadata": {
        "application/vnd.databricks.v1+cell": {
          "title": "",
          "showTitle": false,
          "inputWidgets": {},
          "nuid": "a63cc3ec-806f-4067-a76a-02f2901fb4b8"
        },
        "id": "FZb9JBWz7TNC",
        "outputId": "50b603bd-3c22-403d-952d-64c921201f7e"
      },
      "outputs": [
        {
          "output_type": "display_data",
          "metadata": {
            "application/vnd.databricks.v1+output": {
              "datasetInfos": [],
              "data": "<div class=\"ansiout\"></div>",
              "removedWidgets": [],
              "addedWidgets": {},
              "type": "html",
              "arguments": {}
            }
          },
          "data": {
            "text/html": [
              "<style scoped>\n  .ansiout {\n    display: block;\n    unicode-bidi: embed;\n    white-space: pre-wrap;\n    word-wrap: break-word;\n    word-break: break-all;\n    font-family: \"Source Code Pro\", \"Menlo\", monospace;;\n    font-size: 13px;\n    color: #555;\n    margin-left: 4px;\n    line-height: 19px;\n  }\n</style>\n<div class=\"ansiout\"></div>"
            ]
          }
        }
      ],
      "execution_count": null
    },
    {
      "cell_type": "code",
      "source": [
        "sqlContext.sql(\" SELECT count(*) counts FROM user_table\").show()"
      ],
      "metadata": {
        "application/vnd.databricks.v1+cell": {
          "title": "",
          "showTitle": false,
          "inputWidgets": {},
          "nuid": "e3e42b60-8389-4095-b7a9-07405eb8981f"
        },
        "id": "MBXbJ3c77TND",
        "outputId": "d4c9cb77-c223-4420-bac2-2dac1971dd39"
      },
      "outputs": [
        {
          "output_type": "display_data",
          "metadata": {
            "application/vnd.databricks.v1+output": {
              "datasetInfos": [],
              "data": "<div class=\"ansiout\">+------+\n|counts|\n+------+\n|   943|\n+------+\n\n</div>",
              "removedWidgets": [],
              "addedWidgets": {},
              "type": "html",
              "arguments": {}
            }
          },
          "data": {
            "text/html": [
              "<style scoped>\n  .ansiout {\n    display: block;\n    unicode-bidi: embed;\n    white-space: pre-wrap;\n    word-wrap: break-word;\n    word-break: break-all;\n    font-family: \"Source Code Pro\", \"Menlo\", monospace;;\n    font-size: 13px;\n    color: #555;\n    margin-left: 4px;\n    line-height: 19px;\n  }\n</style>\n<div class=\"ansiout\">+------+\ncounts|\n+------+\n   943|\n+------+\n\n</div>"
            ]
          }
        }
      ],
      "execution_count": null
    },
    {
      "cell_type": "code",
      "source": [
        "sqlContext.sql(\"\"\"\n",
        "SELECT count(*) counts \n",
        "FROM   user_table\n",
        "\"\"\").show()"
      ],
      "metadata": {
        "application/vnd.databricks.v1+cell": {
          "title": "",
          "showTitle": false,
          "inputWidgets": {},
          "nuid": "121aa1d6-77e7-4b47-a01b-fe43561669f8"
        },
        "id": "fqy0tglz7TNE",
        "outputId": "9315444f-a2a7-4c55-b7b7-20917e04f36f"
      },
      "outputs": [
        {
          "output_type": "display_data",
          "metadata": {
            "application/vnd.databricks.v1+output": {
              "datasetInfos": [],
              "data": "<div class=\"ansiout\">+------+\n|counts|\n+------+\n|   943|\n+------+\n\n</div>",
              "removedWidgets": [],
              "addedWidgets": {},
              "type": "html",
              "arguments": {}
            }
          },
          "data": {
            "text/html": [
              "<style scoped>\n  .ansiout {\n    display: block;\n    unicode-bidi: embed;\n    white-space: pre-wrap;\n    word-wrap: break-word;\n    word-break: break-all;\n    font-family: \"Source Code Pro\", \"Menlo\", monospace;;\n    font-size: 13px;\n    color: #555;\n    margin-left: 4px;\n    line-height: 19px;\n  }\n</style>\n<div class=\"ansiout\">+------+\ncounts|\n+------+\n   943|\n+------+\n\n</div>"
            ]
          }
        }
      ],
      "execution_count": null
    },
    {
      "cell_type": "code",
      "source": [
        "sqlContext.sql(\" SELECT *  FROM user_table \").show(1000)"
      ],
      "metadata": {
        "application/vnd.databricks.v1+cell": {
          "title": "",
          "showTitle": false,
          "inputWidgets": {},
          "nuid": "008ed02a-23a1-4b8f-8fb0-d6c9222e9422"
        },
        "id": "p38lXRHC7TNF",
        "outputId": "64172eb9-d3e9-44d8-b654-f5cd8000e1f3"
      },
      "outputs": [
        {
          "output_type": "display_data",
          "metadata": {
            "application/vnd.databricks.v1+output": {
              "datasetInfos": [],
              "data": "<div class=\"ansiout\">+---+------+-------------+------+-------+\n|age|gender|   occupation|userid|zipcode|\n+---+------+-------------+------+-------+\n| 24|     M|   technician|     1|  85711|\n| 53|     F|        other|     2|  94043|\n| 23|     M|       writer|     3|  32067|\n| 24|     M|   technician|     4|  43537|\n| 33|     F|        other|     5|  15213|\n| 42|     M|    executive|     6|  98101|\n| 57|     M|administrator|     7|  91344|\n| 36|     M|administrator|     8|  05201|\n| 29|     M|      student|     9|  01002|\n| 53|     M|       lawyer|    10|  90703|\n| 39|     F|        other|    11|  30329|\n| 28|     F|        other|    12|  06405|\n| 47|     M|     educator|    13|  29206|\n| 45|     M|    scientist|    14|  55106|\n| 49|     F|     educator|    15|  97301|\n| 21|     M|entertainment|    16|  10309|\n| 30|     M|   programmer|    17|  06355|\n| 35|     F|        other|    18|  37212|\n| 40|     M|    librarian|    19|  02138|\n| 42|     F|    homemaker|    20|  95660|\n| 26|     M|       writer|    21|  30068|\n| 25|     M|       writer|    22|  40206|\n| 30|     F|       artist|    23|  48197|\n| 21|     F|       artist|    24|  94533|\n| 39|     M|     engineer|    25|  55107|\n| 49|     M|     engineer|    26|  21044|\n| 40|     F|    librarian|    27|  30030|\n| 32|     M|       writer|    28|  55369|\n| 41|     M|   programmer|    29|  94043|\n|  7|     M|      student|    30|  55436|\n| 24|     M|       artist|    31|  10003|\n| 28|     F|      student|    32|  78741|\n| 23|     M|      student|    33|  27510|\n| 38|     F|administrator|    34|  42141|\n| 20|     F|    homemaker|    35|  42459|\n| 19|     F|      student|    36|  93117|\n| 23|     M|      student|    37|  55105|\n| 28|     F|        other|    38|  54467|\n| 41|     M|entertainment|    39|  01040|\n| 38|     M|    scientist|    40|  27514|\n| 33|     M|     engineer|    41|  80525|\n| 30|     M|administrator|    42|  17870|\n| 29|     F|    librarian|    43|  20854|\n| 26|     M|   technician|    44|  46260|\n| 29|     M|   programmer|    45|  50233|\n| 27|     F|    marketing|    46|  46538|\n| 53|     M|    marketing|    47|  07102|\n| 45|     M|administrator|    48|  12550|\n| 23|     F|      student|    49|  76111|\n| 21|     M|       writer|    50|  52245|\n| 28|     M|     educator|    51|  16509|\n| 18|     F|      student|    52|  55105|\n| 26|     M|   programmer|    53|  55414|\n| 22|     M|    executive|    54|  66315|\n| 37|     M|   programmer|    55|  01331|\n| 25|     M|    librarian|    56|  46260|\n| 16|     M|         none|    57|  84010|\n| 27|     M|   programmer|    58|  52246|\n| 49|     M|     educator|    59|  08403|\n| 50|     M|   healthcare|    60|  06472|\n| 36|     M|     engineer|    61|  30040|\n| 27|     F|administrator|    62|  97214|\n| 31|     M|    marketing|    63|  75240|\n| 32|     M|     educator|    64|  43202|\n| 51|     F|     educator|    65|  48118|\n| 23|     M|      student|    66|  80521|\n| 17|     M|      student|    67|  60402|\n| 19|     M|      student|    68|  22904|\n| 24|     M|     engineer|    69|  55337|\n| 27|     M|     engineer|    70|  60067|\n| 39|     M|    scientist|    71|  98034|\n| 48|     F|administrator|    72|  73034|\n| 24|     M|      student|    73|  41850|\n| 39|     M|    scientist|    74|  T8H1N|\n| 24|     M|entertainment|    75|  08816|\n| 20|     M|      student|    76|  02215|\n| 30|     M|   technician|    77|  29379|\n| 26|     M|administrator|    78|  61801|\n| 39|     F|administrator|    79|  03755|\n| 34|     F|administrator|    80|  52241|\n| 21|     M|      student|    81|  21218|\n| 50|     M|   programmer|    82|  22902|\n| 40|     M|        other|    83|  44133|\n| 32|     M|    executive|    84|  55369|\n| 51|     M|     educator|    85|  20003|\n| 26|     M|administrator|    86|  46005|\n| 47|     M|administrator|    87|  89503|\n| 49|     F|    librarian|    88|  11701|\n| 43|     F|administrator|    89|  68106|\n| 60|     M|     educator|    90|  78155|\n| 55|     M|    marketing|    91|  01913|\n| 32|     M|entertainment|    92|  80525|\n| 48|     M|    executive|    93|  23112|\n| 26|     M|      student|    94|  71457|\n| 31|     M|administrator|    95|  10707|\n| 25|     F|       artist|    96|  75206|\n| 43|     M|       artist|    97|  98006|\n| 49|     F|    executive|    98|  90291|\n| 20|     M|      student|    99|  63129|\n| 36|     M|    executive|   100|  90254|\n| 15|     M|      student|   101|  05146|\n| 38|     M|   programmer|   102|  30220|\n| 26|     M|      student|   103|  55108|\n| 27|     M|      student|   104|  55108|\n| 24|     M|     engineer|   105|  94043|\n| 61|     M|      retired|   106|  55125|\n| 39|     M|    scientist|   107|  60466|\n| 44|     M|     educator|   108|  63130|\n| 29|     M|        other|   109|  55423|\n| 19|     M|      student|   110|  77840|\n| 57|     M|     engineer|   111|  90630|\n| 30|     M|     salesman|   112|  60613|\n| 47|     M|    executive|   113|  95032|\n| 27|     M|   programmer|   114|  75013|\n| 31|     M|     engineer|   115|  17110|\n| 40|     M|   healthcare|   116|  97232|\n| 20|     M|      student|   117|  16125|\n| 21|     M|administrator|   118|  90210|\n| 32|     M|   programmer|   119|  67401|\n| 47|     F|        other|   120|  06260|\n| 54|     M|    librarian|   121|  99603|\n| 32|     F|       writer|   122|  22206|\n| 48|     F|       artist|   123|  20008|\n| 34|     M|      student|   124|  60615|\n| 30|     M|       lawyer|   125|  22202|\n| 28|     F|       lawyer|   126|  20015|\n| 33|     M|         none|   127|  73439|\n| 24|     F|    marketing|   128|  20009|\n| 36|     F|    marketing|   129|  07039|\n| 20|     M|         none|   130|  60115|\n| 59|     F|administrator|   131|  15237|\n| 24|     M|        other|   132|  94612|\n| 53|     M|     engineer|   133|  78602|\n| 31|     M|   programmer|   134|  80236|\n| 23|     M|      student|   135|  38401|\n| 51|     M|        other|   136|  97365|\n| 50|     M|     educator|   137|  84408|\n| 46|     M|       doctor|   138|  53211|\n| 20|     M|      student|   139|  08904|\n| 30|     F|      student|   140|  32250|\n| 49|     M|   programmer|   141|  36117|\n| 13|     M|        other|   142|  48118|\n| 42|     M|   technician|   143|  08832|\n| 53|     M|   programmer|   144|  20910|\n| 31|     M|entertainment|   145|  V3N4P|\n| 45|     M|       artist|   146|  83814|\n| 40|     F|    librarian|   147|  02143|\n| 33|     M|     engineer|   148|  97006|\n| 35|     F|    marketing|   149|  17325|\n| 20|     F|       artist|   150|  02139|\n| 38|     F|administrator|   151|  48103|\n| 33|     F|     educator|   152|  68767|\n| 25|     M|      student|   153|  60641|\n| 25|     M|      student|   154|  53703|\n| 32|     F|        other|   155|  11217|\n| 25|     M|     educator|   156|  08360|\n| 57|     M|     engineer|   157|  70808|\n| 50|     M|     educator|   158|  27606|\n| 23|     F|      student|   159|  55346|\n| 27|     M|   programmer|   160|  66215|\n| 50|     M|       lawyer|   161|  55104|\n| 25|     M|       artist|   162|  15610|\n| 49|     M|administrator|   163|  97212|\n| 47|     M|   healthcare|   164|  80123|\n| 20|     F|        other|   165|  53715|\n| 47|     M|     educator|   166|  55113|\n| 37|     M|        other|   167|  L9G2B|\n| 48|     M|        other|   168|  80127|\n| 52|     F|        other|   169|  53705|\n| 53|     F|   healthcare|   170|  30067|\n| 48|     F|     educator|   171|  78750|\n| 55|     M|    marketing|   172|  22207|\n| 56|     M|        other|   173|  22306|\n| 30|     F|administrator|   174|  52302|\n| 26|     F|    scientist|   175|  21911|\n| 28|     M|    scientist|   176|  07030|\n| 20|     M|   programmer|   177|  19104|\n| 26|     M|        other|   178|  49512|\n| 15|     M|entertainment|   179|  20755|\n| 22|     F|administrator|   180|  60202|\n| 26|     M|    executive|   181|  21218|\n| 36|     M|   programmer|   182|  33884|\n| 33|     M|    scientist|   183|  27708|\n| 37|     M|    librarian|   184|  76013|\n| 53|     F|    librarian|   185|  97403|\n| 39|     F|    executive|   186|  00000|\n| 26|     M|     educator|   187|  16801|\n| 42|     M|      student|   188|  29440|\n| 32|     M|       artist|   189|  95014|\n| 30|     M|administrator|   190|  95938|\n| 33|     M|administrator|   191|  95161|\n| 42|     M|     educator|   192|  90840|\n| 29|     M|      student|   193|  49931|\n| 38|     M|administrator|   194|  02154|\n| 42|     M|    scientist|   195|  93555|\n| 49|     M|       writer|   196|  55105|\n| 55|     M|   technician|   197|  75094|\n| 21|     F|      student|   198|  55414|\n| 30|     M|       writer|   199|  17604|\n| 40|     M|   programmer|   200|  93402|\n| 27|     M|       writer|   201|  E2A4H|\n| 41|     F|     educator|   202|  60201|\n| 25|     F|      student|   203|  32301|\n| 52|     F|    librarian|   204|  10960|\n| 47|     M|       lawyer|   205|  06371|\n| 14|     F|      student|   206|  53115|\n| 39|     M|    marketing|   207|  92037|\n| 43|     M|     engineer|   208|  01720|\n| 33|     F|     educator|   209|  85710|\n| 39|     M|     engineer|   210|  03060|\n| 66|     M|     salesman|   211|  32605|\n| 49|     F|     educator|   212|  61401|\n| 33|     M|    executive|   213|  55345|\n| 26|     F|    librarian|   214|  11231|\n| 35|     M|   programmer|   215|  63033|\n| 22|     M|     engineer|   216|  02215|\n| 22|     M|        other|   217|  11727|\n| 37|     M|administrator|   218|  06513|\n| 32|     M|   programmer|   219|  43212|\n| 30|     M|    librarian|   220|  78205|\n| 19|     M|      student|   221|  20685|\n| 29|     M|   programmer|   222|  27502|\n| 19|     F|      student|   223|  47906|\n| 31|     F|     educator|   224|  43512|\n| 51|     F|administrator|   225|  58202|\n| 28|     M|      student|   226|  92103|\n| 46|     M|    executive|   227|  60659|\n| 21|     F|      student|   228|  22003|\n| 29|     F|    librarian|   229|  22903|\n| 28|     F|      student|   230|  14476|\n| 48|     M|    librarian|   231|  01080|\n| 45|     M|    scientist|   232|  99709|\n| 38|     M|     engineer|   233|  98682|\n| 60|     M|      retired|   234|  94702|\n| 37|     M|     educator|   235|  22973|\n| 44|     F|       writer|   236|  53214|\n| 49|     M|administrator|   237|  63146|\n| 42|     F|administrator|   238|  44124|\n| 39|     M|       artist|   239|  95628|\n| 23|     F|     educator|   240|  20784|\n| 26|     F|      student|   241|  20001|\n| 33|     M|     educator|   242|  31404|\n| 33|     M|     educator|   243|  60201|\n| 28|     M|   technician|   244|  80525|\n| 22|     M|      student|   245|  55109|\n| 19|     M|      student|   246|  28734|\n| 28|     M|     engineer|   247|  20770|\n| 25|     M|      student|   248|  37235|\n| 25|     M|      student|   249|  84103|\n| 29|     M|    executive|   250|  95110|\n| 28|     M|       doctor|   251|  85032|\n| 42|     M|     engineer|   252|  07733|\n| 26|     F|    librarian|   253|  22903|\n| 44|     M|     educator|   254|  42647|\n| 23|     M|entertainment|   255|  07029|\n| 35|     F|         none|   256|  39042|\n| 17|     M|      student|   257|  77005|\n| 19|     F|      student|   258|  77801|\n| 21|     M|      student|   259|  48823|\n| 40|     F|       artist|   260|  89801|\n| 28|     M|administrator|   261|  85202|\n| 19|     F|      student|   262|  78264|\n| 41|     M|   programmer|   263|  55346|\n| 36|     F|       writer|   264|  90064|\n| 26|     M|    executive|   265|  84601|\n| 62|     F|administrator|   266|  78756|\n| 23|     M|     engineer|   267|  83716|\n| 24|     M|     engineer|   268|  19422|\n| 31|     F|    librarian|   269|  43201|\n| 18|     F|      student|   270|  63119|\n| 51|     M|     engineer|   271|  22932|\n| 33|     M|    scientist|   272|  53706|\n| 50|     F|        other|   273|  10016|\n| 20|     F|      student|   274|  55414|\n| 38|     M|     engineer|   275|  92064|\n| 21|     M|      student|   276|  95064|\n| 35|     F|administrator|   277|  55406|\n| 37|     F|    librarian|   278|  30033|\n| 33|     M|   programmer|   279|  85251|\n| 30|     F|    librarian|   280|  22903|\n| 15|     F|      student|   281|  06059|\n| 22|     M|administrator|   282|  20057|\n| 28|     M|   programmer|   283|  55305|\n| 40|     M|    executive|   284|  92629|\n| 25|     M|   programmer|   285|  53713|\n| 27|     M|      student|   286|  15217|\n| 21|     M|     salesman|   287|  31211|\n| 34|     M|    marketing|   288|  23226|\n| 11|     M|         none|   289|  94619|\n| 40|     M|     engineer|   290|  93550|\n| 19|     M|      student|   291|  44106|\n| 35|     F|   programmer|   292|  94703|\n| 24|     M|       writer|   293|  60804|\n| 34|     M|   technician|   294|  92110|\n| 31|     M|     educator|   295|  50325|\n| 43|     F|administrator|   296|  16803|\n| 29|     F|     educator|   297|  98103|\n| 44|     M|    executive|   298|  01581|\n| 29|     M|       doctor|   299|  63108|\n| 26|     F|   programmer|   300|  55106|\n| 24|     M|      student|   301|  55439|\n| 42|     M|     educator|   302|  77904|\n| 19|     M|      student|   303|  14853|\n| 22|     F|      student|   304|  71701|\n| 23|     M|   programmer|   305|  94086|\n| 45|     M|        other|   306|  73132|\n| 25|     M|      student|   307|  55454|\n| 60|     M|      retired|   308|  95076|\n| 40|     M|    scientist|   309|  70802|\n| 37|     M|     educator|   310|  91711|\n| 32|     M|   technician|   311|  73071|\n| 48|     M|        other|   312|  02110|\n| 41|     M|    marketing|   313|  60035|\n| 20|     F|      student|   314|  08043|\n| 31|     M|     educator|   315|  18301|\n| 43|     F|        other|   316|  77009|\n| 22|     M|administrator|   317|  13210|\n| 65|     M|      retired|   318|  06518|\n| 38|     M|   programmer|   319|  22030|\n| 19|     M|      student|   320|  24060|\n| 49|     F|     educator|   321|  55413|\n| 20|     M|      student|   322|  50613|\n| 21|     M|      student|   323|  19149|\n| 21|     F|      student|   324|  02176|\n| 48|     M|   technician|   325|  02139|\n| 41|     M|administrator|   326|  15235|\n| 22|     M|      student|   327|  11101|\n| 51|     M|administrator|   328|  06779|\n| 48|     M|     educator|   329|  01720|\n| 35|     F|     educator|   330|  33884|\n| 33|     M|entertainment|   331|  91344|\n| 20|     M|      student|   332|  40504|\n| 47|     M|        other|   333|  V0R2M|\n| 32|     M|    librarian|   334|  30002|\n| 45|     M|    executive|   335|  33775|\n| 23|     M|     salesman|   336|  42101|\n| 37|     M|    scientist|   337|  10522|\n| 39|     F|    librarian|   338|  59717|\n| 35|     M|       lawyer|   339|  37901|\n| 46|     M|     engineer|   340|  80123|\n| 17|     F|      student|   341|  44405|\n| 25|     F|        other|   342|  98006|\n| 43|     M|     engineer|   343|  30093|\n| 30|     F|    librarian|   344|  94117|\n| 28|     F|    librarian|   345|  94143|\n| 34|     M|        other|   346|  76059|\n| 18|     M|      student|   347|  90210|\n| 24|     F|      student|   348|  45660|\n| 68|     M|      retired|   349|  61455|\n| 32|     M|      student|   350|  97301|\n| 61|     M|     educator|   351|  49938|\n| 37|     F|   programmer|   352|  55105|\n| 25|     M|    scientist|   353|  28480|\n| 29|     F|    librarian|   354|  48197|\n| 25|     M|      student|   355|  60135|\n| 32|     F|    homemaker|   356|  92688|\n| 26|     M|    executive|   357|  98133|\n| 40|     M|     educator|   358|  10022|\n| 22|     M|      student|   359|  61801|\n| 51|     M|        other|   360|  98027|\n| 22|     M|      student|   361|  44074|\n| 35|     F|    homemaker|   362|  85233|\n| 20|     M|      student|   363|  87501|\n| 63|     M|     engineer|   364|  01810|\n| 29|     M|       lawyer|   365|  20009|\n| 20|     F|      student|   366|  50670|\n| 17|     M|      student|   367|  37411|\n| 18|     M|      student|   368|  92113|\n| 24|     M|      student|   369|  91335|\n| 52|     M|       writer|   370|  08534|\n| 36|     M|     engineer|   371|  99206|\n| 25|     F|      student|   372|  66046|\n| 24|     F|        other|   373|  55116|\n| 36|     M|    executive|   374|  78746|\n| 17|     M|entertainment|   375|  37777|\n| 28|     F|        other|   376|  10010|\n| 22|     M|      student|   377|  18015|\n| 35|     M|      student|   378|  02859|\n| 44|     M|   programmer|   379|  98117|\n| 32|     M|     engineer|   380|  55117|\n| 33|     M|       artist|   381|  94608|\n| 45|     M|     engineer|   382|  01824|\n| 42|     M|administrator|   383|  75204|\n| 52|     M|   programmer|   384|  45218|\n| 36|     M|       writer|   385|  10003|\n| 36|     M|     salesman|   386|  43221|\n| 33|     M|entertainment|   387|  37412|\n| 31|     M|        other|   388|  36106|\n| 44|     F|       writer|   389|  83702|\n| 42|     F|       writer|   390|  85016|\n| 23|     M|      student|   391|  84604|\n| 52|     M|       writer|   392|  59801|\n| 19|     M|      student|   393|  83686|\n| 25|     M|administrator|   394|  96819|\n| 43|     M|        other|   395|  44092|\n| 57|     M|     engineer|   396|  94551|\n| 17|     M|      student|   397|  27514|\n| 40|     M|        other|   398|  60008|\n| 25|     M|        other|   399|  92374|\n| 33|     F|administrator|   400|  78213|\n| 46|     F|   healthcare|   401|  84107|\n| 30|     M|     engineer|   402|  95129|\n| 37|     M|        other|   403|  06811|\n| 29|     F|   programmer|   404|  55108|\n| 22|     F|   healthcare|   405|  10019|\n| 52|     M|     educator|   406|  93109|\n| 29|     M|     engineer|   407|  03261|\n| 23|     M|      student|   408|  61755|\n| 48|     M|administrator|   409|  98225|\n| 30|     F|       artist|   410|  94025|\n| 34|     M|     educator|   411|  44691|\n| 25|     M|     educator|   412|  15222|\n| 55|     M|     educator|   413|  78212|\n| 24|     M|   programmer|   414|  38115|\n| 39|     M|     educator|   415|  85711|\n| 20|     F|      student|   416|  92626|\n| 27|     F|        other|   417|  48103|\n| 55|     F|         none|   418|  21206|\n| 37|     M|       lawyer|   419|  43215|\n| 53|     M|     educator|   420|  02140|\n| 38|     F|   programmer|   421|  55105|\n| 26|     M|entertainment|   422|  94533|\n| 64|     M|        other|   423|  91606|\n| 36|     F|    marketing|   424|  55422|\n| 19|     M|      student|   425|  58644|\n| 55|     M|     educator|   426|  01602|\n| 51|     M|       doctor|   427|  85258|\n| 28|     M|      student|   428|  55414|\n| 27|     M|      student|   429|  29205|\n| 38|     M|    scientist|   430|  98199|\n| 24|     M|    marketing|   431|  92629|\n| 22|     M|entertainment|   432|  50311|\n| 27|     M|       artist|   433|  11211|\n| 16|     F|      student|   434|  49705|\n| 24|     M|     engineer|   435|  60007|\n| 30|     F|administrator|   436|  17345|\n| 27|     F|        other|   437|  20009|\n| 51|     F|administrator|   438|  43204|\n| 23|     F|administrator|   439|  20817|\n| 30|     M|        other|   440|  48076|\n| 50|     M|   technician|   441|  55013|\n| 22|     M|      student|   442|  85282|\n| 35|     M|     salesman|   443|  33308|\n| 51|     F|       lawyer|   444|  53202|\n| 21|     M|       writer|   445|  92653|\n| 57|     M|     educator|   446|  60201|\n| 30|     M|administrator|   447|  55113|\n| 23|     M|entertainment|   448|  10021|\n| 23|     M|    librarian|   449|  55021|\n| 35|     F|     educator|   450|  11758|\n| 16|     M|      student|   451|  48446|\n| 35|     M|administrator|   452|  28018|\n| 18|     M|      student|   453|  06333|\n| 57|     M|        other|   454|  97330|\n| 48|     M|administrator|   455|  83709|\n| 24|     M|   technician|   456|  31820|\n| 33|     F|     salesman|   457|  30011|\n| 47|     M|   technician|   458|  Y1A6B|\n| 22|     M|      student|   459|  29201|\n| 44|     F|        other|   460|  60630|\n| 15|     M|      student|   461|  98102|\n| 19|     F|      student|   462|  02918|\n| 48|     F|   healthcare|   463|  75218|\n| 60|     M|       writer|   464|  94583|\n| 32|     M|        other|   465|  05001|\n| 22|     M|      student|   466|  90804|\n| 29|     M|     engineer|   467|  91201|\n| 28|     M|     engineer|   468|  02341|\n| 60|     M|     educator|   469|  78628|\n| 24|     M|   programmer|   470|  10021|\n| 10|     M|      student|   471|  77459|\n| 24|     M|      student|   472|  87544|\n| 29|     M|      student|   473|  94708|\n| 51|     M|    executive|   474|  93711|\n| 30|     M|   programmer|   475|  75230|\n| 28|     M|      student|   476|  60440|\n| 23|     F|      student|   477|  02125|\n| 29|     M|        other|   478|  10019|\n| 30|     M|     educator|   479|  55409|\n| 57|     M|      retired|   480|  98257|\n| 73|     M|      retired|   481|  37771|\n| 18|     F|      student|   482|  40256|\n| 29|     M|    scientist|   483|  43212|\n| 27|     M|      student|   484|  21208|\n| 44|     F|     educator|   485|  95821|\n| 39|     M|     educator|   486|  93101|\n| 22|     M|     engineer|   487|  92121|\n| 48|     M|   technician|   488|  21012|\n| 55|     M|        other|   489|  45218|\n| 29|     F|       artist|   490|  V5A2B|\n| 43|     F|       writer|   491|  53711|\n| 57|     M|     educator|   492|  94618|\n| 22|     M|     engineer|   493|  60090|\n| 38|     F|administrator|   494|  49428|\n| 29|     M|     engineer|   495|  03052|\n| 21|     F|      student|   496|  55414|\n| 20|     M|      student|   497|  50112|\n| 26|     M|       writer|   498|  55408|\n| 42|     M|   programmer|   499|  75006|\n| 28|     M|administrator|   500|  94305|\n| 22|     M|      student|   501|  10025|\n| 22|     M|      student|   502|  23092|\n| 50|     F|       writer|   503|  27514|\n| 40|     F|       writer|   504|  92115|\n| 27|     F|        other|   505|  20657|\n| 46|     M|   programmer|   506|  03869|\n| 18|     F|       writer|   507|  28450|\n| 27|     M|    marketing|   508|  19382|\n| 23|     M|administrator|   509|  10011|\n| 34|     M|        other|   510|  98038|\n| 22|     M|      student|   511|  21250|\n| 29|     M|        other|   512|  20090|\n| 43|     M|administrator|   513|  26241|\n| 27|     M|   programmer|   514|  20707|\n| 53|     M|    marketing|   515|  49508|\n| 53|     F|    librarian|   516|  10021|\n| 24|     M|      student|   517|  55454|\n| 49|     F|       writer|   518|  99709|\n| 22|     M|        other|   519|  55320|\n| 62|     M|   healthcare|   520|  12603|\n| 19|     M|      student|   521|  02146|\n| 36|     M|     engineer|   522|  55443|\n| 50|     F|administrator|   523|  04102|\n| 56|     M|     educator|   524|  02159|\n| 27|     F|administrator|   525|  19711|\n| 30|     M|    marketing|   526|  97124|\n| 33|     M|    librarian|   527|  12180|\n| 18|     M|      student|   528|  55104|\n| 47|     F|administrator|   529|  44224|\n| 29|     M|     engineer|   530|  94040|\n| 30|     F|     salesman|   531|  97408|\n| 20|     M|      student|   532|  92705|\n| 43|     M|    librarian|   533|  02324|\n| 20|     M|      student|   534|  05464|\n| 45|     F|     educator|   535|  80302|\n| 38|     M|     engineer|   536|  30078|\n| 36|     M|     engineer|   537|  22902|\n| 31|     M|    scientist|   538|  21010|\n| 53|     F|administrator|   539|  80303|\n| 28|     M|     engineer|   540|  91201|\n| 19|     F|      student|   541|  84302|\n| 21|     M|      student|   542|  60515|\n| 33|     M|    scientist|   543|  95123|\n| 44|     F|        other|   544|  29464|\n| 27|     M|   technician|   545|  08052|\n| 36|     M|    executive|   546|  22911|\n| 50|     M|     educator|   547|  14534|\n| 51|     M|       writer|   548|  95468|\n| 42|     M|    scientist|   549|  45680|\n| 16|     F|      student|   550|  95453|\n| 25|     M|   programmer|   551|  55414|\n| 45|     M|        other|   552|  68147|\n| 58|     M|     educator|   553|  62901|\n| 32|     M|    scientist|   554|  62901|\n| 29|     F|     educator|   555|  23227|\n| 35|     F|     educator|   556|  30606|\n| 30|     F|       writer|   557|  11217|\n| 56|     F|       writer|   558|  63132|\n| 69|     M|    executive|   559|  10022|\n| 32|     M|      student|   560|  10003|\n| 23|     M|     engineer|   561|  60005|\n| 54|     F|administrator|   562|  20879|\n| 39|     F|    librarian|   563|  32707|\n| 65|     M|      retired|   564|  94591|\n| 40|     M|      student|   565|  55422|\n| 20|     M|      student|   566|  14627|\n| 24|     M|entertainment|   567|  10003|\n| 39|     M|     educator|   568|  01915|\n| 34|     M|     educator|   569|  91903|\n| 26|     M|     educator|   570|  14627|\n| 34|     M|       artist|   571|  01945|\n| 51|     M|     educator|   572|  20003|\n| 68|     M|      retired|   573|  48911|\n| 56|     M|     educator|   574|  53188|\n| 33|     M|    marketing|   575|  46032|\n| 48|     M|    executive|   576|  98281|\n| 36|     F|      student|   577|  77845|\n| 31|     M|administrator|   578|  M7A1A|\n| 32|     M|     educator|   579|  48103|\n| 16|     M|      student|   580|  17961|\n| 37|     M|        other|   581|  94131|\n| 17|     M|      student|   582|  93003|\n| 44|     M|     engineer|   583|  29631|\n| 25|     M|      student|   584|  27511|\n| 69|     M|    librarian|   585|  98501|\n| 20|     M|      student|   586|  79508|\n| 26|     M|        other|   587|  14216|\n| 18|     F|      student|   588|  93063|\n| 21|     M|       lawyer|   589|  90034|\n| 50|     M|     educator|   590|  82435|\n| 57|     F|    librarian|   591|  92093|\n| 18|     M|      student|   592|  97520|\n| 31|     F|     educator|   593|  68767|\n| 46|     M|     educator|   594|  M4J2K|\n| 25|     M|   programmer|   595|  31909|\n| 20|     M|       artist|   596|  77073|\n| 23|     M|        other|   597|  84116|\n| 40|     F|    marketing|   598|  43085|\n| 22|     F|      student|   599|  R3T5K|\n| 34|     M|   programmer|   600|  02320|\n| 19|     F|       artist|   601|  99687|\n| 47|     F|        other|   602|  34656|\n| 21|     M|   programmer|   603|  47905|\n| 39|     M|     educator|   604|  11787|\n| 33|     M|     engineer|   605|  33716|\n| 28|     M|   programmer|   606|  63044|\n| 49|     F|   healthcare|   607|  02154|\n| 22|     M|        other|   608|  10003|\n| 13|     F|      student|   609|  55106|\n| 22|     M|      student|   610|  21227|\n| 46|     M|    librarian|   611|  77008|\n| 36|     M|     educator|   612|  79070|\n| 37|     F|    marketing|   613|  29678|\n| 54|     M|     educator|   614|  80227|\n| 38|     M|     educator|   615|  27705|\n| 55|     M|    scientist|   616|  50613|\n| 27|     F|       writer|   617|  11201|\n| 15|     F|      student|   618|  44212|\n| 17|     M|      student|   619|  44134|\n| 18|     F|       writer|   620|  81648|\n| 17|     M|      student|   621|  60402|\n| 25|     M|   programmer|   622|  14850|\n| 50|     F|     educator|   623|  60187|\n| 19|     M|      student|   624|  30067|\n| 27|     M|   programmer|   625|  20723|\n| 23|     M|    scientist|   626|  19807|\n| 24|     M|     engineer|   627|  08034|\n| 13|     M|         none|   628|  94306|\n| 46|     F|        other|   629|  44224|\n| 26|     F|   healthcare|   630|  55408|\n| 18|     F|      student|   631|  38866|\n| 18|     M|      student|   632|  55454|\n| 35|     M|   programmer|   633|  55414|\n| 39|     M|     engineer|   634|  T8H1N|\n| 22|     M|        other|   635|  23237|\n| 47|     M|     educator|   636|  48043|\n| 30|     M|        other|   637|  74101|\n| 45|     M|     engineer|   638|  01940|\n| 42|     F|    librarian|   639|  12065|\n| 20|     M|      student|   640|  61801|\n| 24|     M|      student|   641|  60626|\n| 18|     F|      student|   642|  95521|\n| 39|     M|    scientist|   643|  55122|\n| 51|     M|      retired|   644|  63645|\n| 27|     M|   programmer|   645|  53211|\n| 17|     F|      student|   646|  51250|\n| 40|     M|     educator|   647|  45810|\n| 43|     M|     engineer|   648|  91351|\n| 20|     M|      student|   649|  39762|\n| 42|     M|     engineer|   650|  83814|\n| 65|     M|      retired|   651|  02903|\n| 35|     M|        other|   652|  22911|\n| 31|     M|    executive|   653|  55105|\n| 27|     F|      student|   654|  78739|\n| 50|     F|   healthcare|   655|  60657|\n| 48|     M|     educator|   656|  10314|\n| 26|     F|         none|   657|  78704|\n| 33|     M|   programmer|   658|  92626|\n| 31|     M|     educator|   659|  54248|\n| 26|     M|      student|   660|  77380|\n| 28|     M|   programmer|   661|  98121|\n| 55|     M|    librarian|   662|  19102|\n| 26|     M|        other|   663|  19341|\n| 30|     M|     engineer|   664|  94115|\n| 25|     M|administrator|   665|  55412|\n| 44|     M|administrator|   666|  61820|\n| 35|     M|    librarian|   667|  01970|\n| 29|     F|       writer|   668|  10016|\n| 37|     M|        other|   669|  20009|\n| 30|     M|   technician|   670|  21114|\n| 21|     M|   programmer|   671|  91919|\n| 54|     F|administrator|   672|  90095|\n| 51|     M|     educator|   673|  22906|\n| 13|     F|      student|   674|  55337|\n| 34|     M|        other|   675|  28814|\n| 30|     M|   programmer|   676|  32712|\n| 20|     M|        other|   677|  99835|\n| 50|     M|     educator|   678|  61462|\n| 20|     F|      student|   679|  54302|\n| 33|     M|       lawyer|   680|  90405|\n| 44|     F|    marketing|   681|  97208|\n| 23|     M|   programmer|   682|  55128|\n| 42|     M|    librarian|   683|  23509|\n| 28|     M|      student|   684|  55414|\n| 32|     F|    librarian|   685|  55409|\n| 32|     M|     educator|   686|  26506|\n| 31|     F|   healthcare|   687|  27713|\n| 37|     F|administrator|   688|  60476|\n| 25|     M|        other|   689|  45439|\n| 35|     M|     salesman|   690|  63304|\n| 34|     M|     educator|   691|  60089|\n| 34|     M|     engineer|   692|  18053|\n| 43|     F|   healthcare|   693|  85210|\n| 60|     M|   programmer|   694|  06365|\n| 26|     M|       writer|   695|  38115|\n| 55|     M|        other|   696|  94920|\n| 25|     M|        other|   697|  77042|\n| 28|     F|   programmer|   698|  06906|\n| 44|     M|        other|   699|  96754|\n| 17|     M|      student|   700|  76309|\n| 51|     F|    librarian|   701|  56321|\n| 37|     M|        other|   702|  89104|\n| 26|     M|     educator|   703|  49512|\n| 51|     F|    librarian|   704|  91105|\n| 21|     F|      student|   705|  54494|\n| 23|     M|      student|   706|  55454|\n| 56|     F|    librarian|   707|  19146|\n| 26|     F|    homemaker|   708|  96349|\n| 21|     M|        other|   709|  N4T1A|\n| 19|     M|      student|   710|  92020|\n| 22|     F|      student|   711|  15203|\n| 22|     F|      student|   712|  54901|\n| 42|     F|        other|   713|  07204|\n| 26|     M|     engineer|   714|  55343|\n| 21|     M|   technician|   715|  91206|\n| 36|     F|administrator|   716|  44265|\n| 24|     M|   technician|   717|  84105|\n| 42|     M|   technician|   718|  64118|\n| 37|     F|        other|   719|  V0R2H|\n| 49|     F|administrator|   720|  16506|\n| 24|     F|entertainment|   721|  11238|\n| 50|     F|    homemaker|   722|  17331|\n| 26|     M|    executive|   723|  94403|\n| 31|     M|    executive|   724|  40243|\n| 21|     M|      student|   725|  91711|\n| 25|     F|administrator|   726|  80538|\n| 25|     M|      student|   727|  78741|\n| 58|     M|    executive|   728|  94306|\n| 19|     M|      student|   729|  56567|\n| 31|     F|    scientist|   730|  32114|\n| 41|     F|     educator|   731|  70403|\n| 28|     F|        other|   732|  98405|\n| 44|     F|        other|   733|  60630|\n| 25|     F|        other|   734|  63108|\n| 29|     F|   healthcare|   735|  85719|\n| 48|     F|       writer|   736|  94618|\n| 30|     M|   programmer|   737|  98072|\n| 35|     M|   technician|   738|  95403|\n| 35|     M|   technician|   739|  73162|\n| 25|     F|     educator|   740|  22206|\n| 25|     M|       writer|   741|  63108|\n| 35|     M|      student|   742|  29210|\n| 31|     M|   programmer|   743|  92660|\n| 35|     M|    marketing|   744|  47024|\n| 42|     M|       writer|   745|  55113|\n| 25|     M|     engineer|   746|  19047|\n| 19|     M|        other|   747|  93612|\n| 28|     M|administrator|   748|  94720|\n| 33|     M|        other|   749|  80919|\n| 28|     M|administrator|   750|  32303|\n| 24|     F|        other|   751|  90034|\n| 60|     M|      retired|   752|  21201|\n| 56|     M|     salesman|   753|  91206|\n| 59|     F|    librarian|   754|  62901|\n| 44|     F|     educator|   755|  97007|\n| 30|     F|         none|   756|  90247|\n| 26|     M|      student|   757|  55104|\n| 27|     M|      student|   758|  53706|\n| 20|     F|      student|   759|  68503|\n| 35|     F|        other|   760|  14211|\n| 17|     M|      student|   761|  97302|\n| 32|     M|administrator|   762|  95050|\n| 27|     M|    scientist|   763|  02113|\n| 27|     F|     educator|   764|  62903|\n| 31|     M|      student|   765|  33066|\n| 42|     M|        other|   766|  10960|\n| 70|     M|     engineer|   767|  00000|\n| 29|     M|administrator|   768|  12866|\n| 39|     M|    executive|   769|  06927|\n| 28|     M|      student|   770|  14216|\n| 26|     M|      student|   771|  15232|\n| 50|     M|       writer|   772|  27105|\n| 20|     M|      student|   773|  55414|\n| 30|     M|      student|   774|  80027|\n| 46|     M|    executive|   775|  90036|\n| 30|     M|    librarian|   776|  51157|\n| 63|     M|   programmer|   777|  01810|\n| 34|     M|      student|   778|  01960|\n| 31|     M|      student|   779|  K7L5J|\n| 49|     M|   programmer|   780|  94560|\n| 20|     M|      student|   781|  48825|\n| 21|     F|       artist|   782|  33205|\n| 30|     M|    marketing|   783|  77081|\n| 47|     M|administrator|   784|  91040|\n| 32|     M|     engineer|   785|  23322|\n| 36|     F|     engineer|   786|  01754|\n| 18|     F|      student|   787|  98620|\n| 51|     M|administrator|   788|  05779|\n| 29|     M|        other|   789|  55420|\n| 27|     M|   technician|   790|  80913|\n| 31|     M|     educator|   791|  20064|\n| 40|     M|   programmer|   792|  12205|\n| 22|     M|      student|   793|  85281|\n| 32|     M|     educator|   794|  57197|\n| 30|     M|   programmer|   795|  08610|\n| 32|     F|       writer|   796|  33755|\n| 44|     F|        other|   797|  62522|\n| 40|     F|       writer|   798|  64131|\n| 49|     F|administrator|   799|  19716|\n| 25|     M|   programmer|   800|  55337|\n| 22|     M|       writer|   801|  92154|\n| 35|     M|administrator|   802|  34105|\n| 70|     M|administrator|   803|  78212|\n| 39|     M|     educator|   804|  61820|\n| 27|     F|        other|   805|  20009|\n| 27|     M|    marketing|   806|  11217|\n| 41|     F|   healthcare|   807|  93555|\n| 45|     M|     salesman|   808|  90016|\n| 50|     F|    marketing|   809|  30803|\n| 55|     F|        other|   810|  80526|\n| 40|     F|     educator|   811|  73013|\n| 22|     M|   technician|   812|  76234|\n| 14|     F|      student|   813|  02136|\n| 30|     M|        other|   814|  12345|\n| 32|     M|        other|   815|  28806|\n| 34|     M|        other|   816|  20755|\n| 19|     M|      student|   817|  60152|\n| 28|     M|    librarian|   818|  27514|\n| 59|     M|administrator|   819|  40205|\n| 22|     M|      student|   820|  37725|\n| 37|     M|     engineer|   821|  77845|\n| 29|     F|    librarian|   822|  53144|\n| 27|     M|       artist|   823|  50322|\n| 31|     M|        other|   824|  15017|\n| 44|     M|     engineer|   825|  05452|\n| 28|     M|       artist|   826|  77048|\n| 23|     F|     engineer|   827|  80228|\n| 28|     M|    librarian|   828|  85282|\n| 48|     M|       writer|   829|  80209|\n| 46|     M|   programmer|   830|  53066|\n| 21|     M|        other|   831|  33765|\n| 24|     M|   technician|   832|  77042|\n| 34|     M|       writer|   833|  90019|\n| 26|     M|        other|   834|  64153|\n| 44|     F|    executive|   835|  11577|\n| 44|     M|       artist|   836|  10018|\n| 36|     F|       artist|   837|  55409|\n| 23|     M|      student|   838|  01375|\n| 38|     F|entertainment|   839|  90814|\n| 39|     M|       artist|   840|  55406|\n| 45|     M|       doctor|   841|  47401|\n| 40|     M|       writer|   842|  93055|\n| 35|     M|    librarian|   843|  44212|\n| 22|     M|     engineer|   844|  95662|\n| 64|     M|       doctor|   845|  97405|\n| 27|     M|       lawyer|   846|  47130|\n| 29|     M|      student|   847|  55417|\n| 46|     M|     engineer|   848|  02146|\n| 15|     F|      student|   849|  25652|\n| 34|     M|   technician|   850|  78390|\n| 18|     M|        other|   851|  29646|\n| 46|     M|administrator|   852|  94086|\n| 49|     M|       writer|   853|  40515|\n| 29|     F|      student|   854|  55408|\n| 53|     M|    librarian|   855|  04988|\n| 43|     F|    marketing|   856|  97215|\n| 35|     F|administrator|   857|  V1G4L|\n| 63|     M|     educator|   858|  09645|\n| 18|     F|        other|   859|  06492|\n| 70|     F|      retired|   860|  48322|\n| 38|     F|      student|   861|  14085|\n| 25|     M|    executive|   862|  13820|\n| 17|     M|      student|   863|  60089|\n| 27|     M|   programmer|   864|  63021|\n| 25|     M|       artist|   865|  11231|\n| 45|     M|        other|   866|  60302|\n| 24|     M|    scientist|   867|  92507|\n| 21|     M|   programmer|   868|  55303|\n| 30|     M|      student|   869|  10025|\n| 22|     M|      student|   870|  65203|\n| 31|     M|    executive|   871|  44648|\n| 19|     F|      student|   872|  74078|\n| 48|     F|administrator|   873|  33763|\n| 36|     M|    scientist|   874|  37076|\n| 24|     F|      student|   875|  35802|\n| 41|     M|        other|   876|  20902|\n| 30|     M|        other|   877|  77504|\n| 50|     F|     educator|   878|  98027|\n| 33|     F|administrator|   879|  55337|\n| 13|     M|      student|   880|  83702|\n| 39|     M|    marketing|   881|  43017|\n| 35|     M|     engineer|   882|  40503|\n| 49|     M|    librarian|   883|  50266|\n| 44|     M|     engineer|   884|  55337|\n| 30|     F|        other|   885|  95316|\n| 20|     M|      student|   886|  61820|\n| 14|     F|      student|   887|  27249|\n| 41|     M|    scientist|   888|  17036|\n| 24|     M|   technician|   889|  78704|\n| 32|     M|      student|   890|  97301|\n| 51|     F|administrator|   891|  03062|\n| 36|     M|        other|   892|  45243|\n| 25|     M|      student|   893|  95823|\n| 47|     M|     educator|   894|  74075|\n| 31|     F|    librarian|   895|  32301|\n| 28|     M|       writer|   896|  91505|\n| 30|     M|        other|   897|  33484|\n| 23|     M|    homemaker|   898|  61755|\n| 32|     M|        other|   899|  55116|\n| 60|     M|      retired|   900|  18505|\n| 38|     M|    executive|   901|  L1V3W|\n| 45|     F|       artist|   902|  97203|\n| 28|     M|     educator|   903|  20850|\n| 17|     F|      student|   904|  61073|\n| 27|     M|        other|   905|  30350|\n| 45|     M|    librarian|   906|  70124|\n| 25|     F|        other|   907|  80526|\n| 44|     F|    librarian|   908|  68504|\n| 50|     F|     educator|   909|  53171|\n| 28|     M|   healthcare|   910|  29301|\n| 37|     F|       writer|   911|  53210|\n| 51|     M|        other|   912|  06512|\n| 27|     M|      student|   913|  76201|\n| 44|     F|        other|   914|  08105|\n| 50|     M|entertainment|   915|  60614|\n| 27|     M|     engineer|   916|  N2L5N|\n| 22|     F|      student|   917|  20006|\n| 40|     M|    scientist|   918|  70116|\n| 25|     M|        other|   919|  14216|\n| 30|     F|       artist|   920|  90008|\n| 20|     F|      student|   921|  98801|\n| 29|     F|administrator|   922|  21114|\n| 21|     M|      student|   923|  E2E3R|\n| 29|     M|        other|   924|  11753|\n| 18|     F|     salesman|   925|  49036|\n| 49|     M|entertainment|   926|  01701|\n| 23|     M|   programmer|   927|  55428|\n| 21|     M|      student|   928|  55408|\n| 44|     M|    scientist|   929|  53711|\n| 28|     F|    scientist|   930|  07310|\n| 60|     M|     educator|   931|  33556|\n| 58|     M|     educator|   932|  06437|\n| 28|     M|      student|   933|  48105|\n| 61|     M|     engineer|   934|  22902|\n| 42|     M|       doctor|   935|  66221|\n| 24|     M|        other|   936|  32789|\n| 48|     M|     educator|   937|  98072|\n| 38|     F|   technician|   938|  55038|\n| 26|     F|      student|   939|  33319|\n| 32|     M|administrator|   940|  02215|\n| 20|     M|      student|   941|  97229|\n| 48|     F|    librarian|   942|  78209|\n| 22|     M|      student|   943|  77841|\n+---+------+-------------+------+-------+\n\n</div>",
              "removedWidgets": [],
              "addedWidgets": {},
              "type": "html",
              "arguments": {}
            }
          },
          "data": {
            "text/html": [
              "<style scoped>\n  .ansiout {\n    display: block;\n    unicode-bidi: embed;\n    white-space: pre-wrap;\n    word-wrap: break-word;\n    word-break: break-all;\n    font-family: \"Source Code Pro\", \"Menlo\", monospace;;\n    font-size: 13px;\n    color: #555;\n    margin-left: 4px;\n    line-height: 19px;\n  }\n</style>\n<div class=\"ansiout\">+---+------+-------------+------+-------+\nage|gender|   occupation|userid|zipcode|\n+---+------+-------------+------+-------+\n 24|     M|   technician|     1|  85711|\n 53|     F|        other|     2|  94043|\n 23|     M|       writer|     3|  32067|\n 24|     M|   technician|     4|  43537|\n 33|     F|        other|     5|  15213|\n 42|     M|    executive|     6|  98101|\n 57|     M|administrator|     7|  91344|\n 36|     M|administrator|     8|  05201|\n 29|     M|      student|     9|  01002|\n 53|     M|       lawyer|    10|  90703|\n 39|     F|        other|    11|  30329|\n 28|     F|        other|    12|  06405|\n 47|     M|     educator|    13|  29206|\n 45|     M|    scientist|    14|  55106|\n 49|     F|     educator|    15|  97301|\n 21|     M|entertainment|    16|  10309|\n 30|     M|   programmer|    17|  06355|\n 35|     F|        other|    18|  37212|\n 40|     M|    librarian|    19|  02138|\n 42|     F|    homemaker|    20|  95660|\n 26|     M|       writer|    21|  30068|\n 25|     M|       writer|    22|  40206|\n 30|     F|       artist|    23|  48197|\n 21|     F|       artist|    24|  94533|\n 39|     M|     engineer|    25|  55107|\n 49|     M|     engineer|    26|  21044|\n 40|     F|    librarian|    27|  30030|\n 32|     M|       writer|    28|  55369|\n 41|     M|   programmer|    29|  94043|\n  7|     M|      student|    30|  55436|\n 24|     M|       artist|    31|  10003|\n 28|     F|      student|    32|  78741|\n 23|     M|      student|    33|  27510|\n 38|     F|administrator|    34|  42141|\n 20|     F|    homemaker|    35|  42459|\n 19|     F|      student|    36|  93117|\n 23|     M|      student|    37|  55105|\n 28|     F|        other|    38|  54467|\n 41|     M|entertainment|    39|  01040|\n 38|     M|    scientist|    40|  27514|\n 33|     M|     engineer|    41|  80525|\n 30|     M|administrator|    42|  17870|\n 29|     F|    librarian|    43|  20854|\n 26|     M|   technician|    44|  46260|\n 29|     M|   programmer|    45|  50233|\n 27|     F|    marketing|    46|  46538|\n 53|     M|    marketing|    47|  07102|\n 45|     M|administrator|    48|  12550|\n 23|     F|      student|    49|  76111|\n 21|     M|       writer|    50|  52245|\n 28|     M|     educator|    51|  16509|\n 18|     F|      student|    52|  55105|\n 26|     M|   programmer|    53|  55414|\n 22|     M|    executive|    54|  66315|\n 37|     M|   programmer|    55|  01331|\n 25|     M|    librarian|    56|  46260|\n 16|     M|         none|    57|  84010|\n 27|     M|   programmer|    58|  52246|\n 49|     M|     educator|    59|  08403|\n 50|     M|   healthcare|    60|  06472|\n 36|     M|     engineer|    61|  30040|\n 27|     F|administrator|    62|  97214|\n 31|     M|    marketing|    63|  75240|\n 32|     M|     educator|    64|  43202|\n 51|     F|     educator|    65|  48118|\n 23|     M|      student|    66|  80521|\n 17|     M|      student|    67|  60402|\n 19|     M|      student|    68|  22904|\n 24|     M|     engineer|    69|  55337|\n 27|     M|     engineer|    70|  60067|\n 39|     M|    scientist|    71|  98034|\n 48|     F|administrator|    72|  73034|\n 24|     M|      student|    73|  41850|\n 39|     M|    scientist|    74|  T8H1N|\n 24|     M|entertainment|    75|  08816|\n 20|     M|      student|    76|  02215|\n 30|     M|   technician|    77|  29379|\n 26|     M|administrator|    78|  61801|\n 39|     F|administrator|    79|  03755|\n 34|     F|administrator|    80|  52241|\n 21|     M|      student|    81|  21218|\n 50|     M|   programmer|    82|  22902|\n 40|     M|        other|    83|  44133|\n 32|     M|    executive|    84|  55369|\n 51|     M|     educator|    85|  20003|\n 26|     M|administrator|    86|  46005|\n 47|     M|administrator|    87|  89503|\n 49|     F|    librarian|    88|  11701|\n 43|     F|administrator|    89|  68106|\n 60|     M|     educator|    90|  78155|\n 55|     M|    marketing|    91|  01913|\n 32|     M|entertainment|    92|  80525|\n 48|     M|    executive|    93|  23112|\n 26|     M|      student|    94|  71457|\n 31|     M|administrator|    95|  10707|\n 25|     F|       artist|    96|  75206|\n 43|     M|       artist|    97|  98006|\n 49|     F|    executive|    98|  90291|\n 20|     M|      student|    99|  63129|\n 36|     M|    executive|   100|  90254|\n 15|     M|      student|   101|  05146|\n 38|     M|   programmer|   102|  30220|\n 26|     M|      student|   103|  55108|\n 27|     M|      student|   104|  55108|\n 24|     M|     engineer|   105|  94043|\n 61|     M|      retired|   106|  55125|\n 39|     M|    scientist|   107|  60466|\n 44|     M|     educator|   108|  63130|\n 29|     M|        other|   109|  55423|\n 19|     M|      student|   110|  77840|\n 57|     M|     engineer|   111|  90630|\n 30|     M|     salesman|   112|  60613|\n 47|     M|    executive|   113|  95032|\n 27|     M|   programmer|   114|  75013|\n 31|     M|     engineer|   115|  17110|\n 40|     M|   healthcare|   116|  97232|\n 20|     M|      student|   117|  16125|\n 21|     M|administrator|   118|  90210|\n 32|     M|   programmer|   119|  67401|\n 47|     F|        other|   120|  06260|\n 54|     M|    librarian|   121|  99603|\n 32|     F|       writer|   122|  22206|\n 48|     F|       artist|   123|  20008|\n 34|     M|      student|   124|  60615|\n 30|     M|       lawyer|   125|  22202|\n 28|     F|       lawyer|   126|  20015|\n 33|     M|         none|   127|  73439|\n 24|     F|    marketing|   128|  20009|\n 36|     F|    marketing|   129|  07039|\n 20|     M|         none|   130|  60115|\n 59|     F|administrator|   131|  15237|\n 24|     M|        other|   132|  94612|\n 53|     M|     engineer|   133|  78602|\n 31|     M|   programmer|   134|  80236|\n 23|     M|      student|   135|  38401|\n 51|     M|        other|   136|  97365|\n 50|     M|     educator|   137|  84408|\n 46|     M|       doctor|   138|  53211|\n 20|     M|      student|   139|  08904|\n 30|     F|      student|   140|  32250|\n 49|     M|   programmer|   141|  36117|\n 13|     M|        other|   142|  48118|\n 42|     M|   technician|   143|  08832|\n 53|     M|   programmer|   144|  20910|\n 31|     M|entertainment|   145|  V3N4P|\n 45|     M|       artist|   146|  83814|\n 40|     F|    librarian|   147|  02143|\n 33|     M|     engineer|   148|  97006|\n 35|     F|    marketing|   149|  17325|\n 20|     F|       artist|   150|  02139|\n 38|     F|administrator|   151|  48103|\n 33|     F|     educator|   152|  68767|\n 25|     M|      student|   153|  60641|\n 25|     M|      student|   154|  53703|\n 32|     F|        other|   155|  11217|\n 25|     M|     educator|   156|  08360|\n 57|     M|     engineer|   157|  70808|\n 50|     M|     educator|   158|  27606|\n 23|     F|      student|   159|  55346|\n 27|     M|   programmer|   160|  66215|\n 50|     M|       lawyer|   161|  55104|\n 25|     M|       artist|   162|  15610|\n 49|     M|administrator|   163|  97212|\n 47|     M|   healthcare|   164|  80123|\n 20|     F|        other|   165|  53715|\n 47|     M|     educator|   166|  55113|\n 37|     M|        other|   167|  L9G2B|\n 48|     M|        other|   168|  80127|\n 52|     F|        other|   169|  53705|\n 53|     F|   healthcare|   170|  30067|\n 48|     F|     educator|   171|  78750|\n 55|     M|    marketing|   172|  22207|\n 56|     M|        other|   173|  22306|\n 30|     F|administrator|   174|  52302|\n 26|     F|    scientist|   175|  21911|\n 28|     M|    scientist|   176|  07030|\n 20|     M|   programmer|   177|  19104|\n 26|     M|        other|   178|  49512|\n 15|     M|entertainment|   179|  20755|\n 22|     F|administrator|   180|  60202|\n 26|     M|    executive|   181|  21218|\n 36|     M|   programmer|   182|  33884|\n 33|     M|    scientist|   183|  27708|\n 37|     M|    librarian|   184|  76013|\n 53|     F|    librarian|   185|  97403|\n 39|     F|    executive|   186|  00000|\n 26|     M|     educator|   187|  16801|\n 42|     M|      student|   188|  29440|\n 32|     M|       artist|   189|  95014|\n 30|     M|administrator|   190|  95938|\n 33|     M|administrator|   191|  95161|\n 42|     M|     educator|   192|  90840|\n 29|     M|      student|   193|  49931|\n 38|     M|administrator|   194|  02154|\n 42|     M|    scientist|   195|  93555|\n 49|     M|       writer|   196|  55105|\n 55|     M|   technician|   197|  75094|\n 21|     F|      student|   198|  55414|\n 30|     M|       writer|   199|  17604|\n 40|     M|   programmer|   200|  93402|\n 27|     M|       writer|   201|  E2A4H|\n 41|     F|     educator|   202|  60201|\n 25|     F|      student|   203|  32301|\n 52|     F|    librarian|   204|  10960|\n 47|     M|       lawyer|   205|  06371|\n 14|     F|      student|   206|  53115|\n 39|     M|    marketing|   207|  92037|\n 43|     M|     engineer|   208|  01720|\n 33|     F|     educator|   209|  85710|\n 39|     M|     engineer|   210|  03060|\n 66|     M|     salesman|   211|  32605|\n 49|     F|     educator|   212|  61401|\n 33|     M|    executive|   213|  55345|\n 26|     F|    librarian|   214|  11231|\n 35|     M|   programmer|   215|  63033|\n 22|     M|     engineer|   216|  02215|\n 22|     M|        other|   217|  11727|\n 37|     M|administrator|   218|  06513|\n 32|     M|   programmer|   219|  43212|\n 30|     M|    librarian|   220|  78205|\n 19|     M|      student|   221|  20685|\n 29|     M|   programmer|   222|  27502|\n 19|     F|      student|   223|  47906|\n 31|     F|     educator|   224|  43512|\n 51|     F|administrator|   225|  58202|\n 28|     M|      student|   226|  92103|\n 46|     M|    executive|   227|  60659|\n 21|     F|      student|   228|  22003|\n 29|     F|    librarian|   229|  22903|\n 28|     F|      student|   230|  14476|\n 48|     M|    librarian|   231|  01080|\n 45|     M|    scientist|   232|  99709|\n 38|     M|     engineer|   233|  98682|\n 60|     M|      retired|   234|  94702|\n 37|     M|     educator|   235|  22973|\n 44|     F|       writer|   236|  53214|\n 49|     M|administrator|   237|  63146|\n 42|     F|administrator|   238|  44124|\n 39|     M|       artist|   239|  95628|\n 23|     F|     educator|   240|  20784|\n 26|     F|      student|   241|  20001|\n 33|     M|     educator|   242|  31404|\n 33|     M|     educator|   243|  60201|\n 28|     M|   technician|   244|  80525|\n 22|     M|      student|   245|  55109|\n 19|     M|      student|   246|  28734|\n 28|     M|     engineer|   247|  20770|\n 25|     M|      student|   248|  37235|\n 25|     M|      student|   249|  84103|\n 29|     M|    executive|   250|  95110|\n 28|     M|       doctor|   251|  85032|\n 42|     M|     engineer|   252|  07733|\n 26|     F|    librarian|   253|  22903|\n 44|     M|     educator|   254|  42647|\n 23|     M|entertainment|   255|  07029|\n 35|     F|         none|   256|  39042|\n 17|     M|      student|   257|  77005|\n 19|     F|      student|   258|  77801|\n 21|     M|      student|   259|  48823|\n 40|     F|       artist|   260|  89801|\n 28|     M|administrator|   261|  85202|\n 19|     F|      student|   262|  78264|\n 41|     M|   programmer|   263|  55346|\n 36|     F|       writer|   264|  90064|\n 26|     M|    executive|   265|  84601|\n 62|     F|administrator|   266|  78756|\n 23|     M|     engineer|   267|  83716|\n 24|     M|     engineer|   268|  19422|\n 31|     F|    librarian|   269|  43201|\n 18|     F|      student|   270|  63119|\n 51|     M|     engineer|   271|  22932|\n 33|     M|    scientist|   272|  53706|\n 50|     F|        other|   273|  10016|\n 20|     F|      student|   274|  55414|\n 38|     M|     engineer|   275|  92064|\n 21|     M|      student|   276|  95064|\n 35|     F|administrator|   277|  55406|\n 37|     F|    librarian|   278|  30033|\n 33|     M|   programmer|   279|  85251|\n 30|     F|    librarian|   280|  22903|\n 15|     F|      student|   281|  06059|\n 22|     M|administrator|   282|  20057|\n 28|     M|   programmer|   283|  55305|\n 40|     M|    executive|   284|  92629|\n 25|     M|   programmer|   285|  53713|\n 27|     M|      student|   286|  15217|\n 21|     M|     salesman|   287|  31211|\n 34|     M|    marketing|   288|  23226|\n 11|     M|         none|   289|  94619|\n 40|     M|     engineer|   290|  93550|\n 19|     M|      student|   291|  44106|\n 35|     F|   programmer|   292|  94703|\n 24|     M|       writer|   293|  60804|\n 34|     M|   technician|   294|  92110|\n 31|     M|     educator|   295|  50325|\n 43|     F|administrator|   296|  16803|\n 29|     F|     educator|   297|  98103|\n 44|     M|    executive|   298|  01581|\n 29|     M|       doctor|   299|  63108|\n 26|     F|   programmer|   300|  55106|\n 24|     M|      student|   301|  55439|\n 42|     M|     educator|   302|  77904|\n 19|     M|      student|   303|  14853|\n 22|     F|      student|   304|  71701|\n 23|     M|   programmer|   305|  94086|\n 45|     M|        other|   306|  73132|\n 25|     M|      student|   307|  55454|\n 60|     M|      retired|   308|  95076|\n 40|     M|    scientist|   309|  70802|\n 37|     M|     educator|   310|  91711|\n 32|     M|   technician|   311|  73071|\n 48|     M|        other|   312|  02110|\n 41|     M|    marketing|   313|  60035|\n 20|     F|      student|   314|  08043|\n 31|     M|     educator|   315|  18301|\n 43|     F|        other|   316|  77009|\n 22|     M|administrator|   317|  13210|\n 65|     M|      retired|   318|  06518|\n 38|     M|   programmer|   319|  22030|\n 19|     M|      student|   320|  24060|\n 49|     F|     educator|   321|  55413|\n 20|     M|      student|   322|  50613|\n 21|     M|      student|   323|  19149|\n 21|     F|      student|   324|  02176|\n 48|     M|   technician|   325|  02139|\n 41|     M|administrator|   326|  15235|\n 22|     M|      student|   327|  11101|\n 51|     M|administrator|   328|  06779|\n 48|     M|     educator|   329|  01720|\n 35|     F|     educator|   330|  33884|\n 33|     M|entertainment|   331|  91344|\n 20|     M|      student|   332|  40504|\n 47|     M|        other|   333|  V0R2M|\n 32|     M|    librarian|   334|  30002|\n 45|     M|    executive|   335|  33775|\n 23|     M|     salesman|   336|  42101|\n 37|     M|    scientist|   337|  10522|\n 39|     F|    librarian|   338|  59717|\n 35|     M|       lawyer|   339|  37901|\n 46|     M|     engineer|   340|  80123|\n 17|     F|      student|   341|  44405|\n 25|     F|        other|   342|  98006|\n 43|     M|     engineer|   343|  30093|\n 30|     F|    librarian|   344|  94117|\n 28|     F|    librarian|   345|  94143|\n 34|     M|        other|   346|  76059|\n 18|     M|      student|   347|  90210|\n 24|     F|      student|   348|  45660|\n 68|     M|      retired|   349|  61455|\n 32|     M|      student|   350|  97301|\n 61|     M|     educator|   351|  49938|\n 37|     F|   programmer|   352|  55105|\n 25|     M|    scientist|   353|  28480|\n 29|     F|    librarian|   354|  48197|\n 25|     M|      student|   355|  60135|\n 32|     F|    homemaker|   356|  92688|\n 26|     M|    executive|   357|  98133|\n 40|     M|     educator|   358|  10022|\n 22|     M|      student|   359|  61801|\n 51|     M|        other|   360|  98027|\n 22|     M|      student|   361|  44074|\n 35|     F|    homemaker|   362|  85233|\n 20|     M|      student|   363|  87501|\n 63|     M|     engineer|   364|  01810|\n 29|     M|       lawyer|   365|  20009|\n 20|     F|      student|   366|  50670|\n 17|     M|      student|   367|  37411|\n 18|     M|      student|   368|  92113|\n 24|     M|      student|   369|  91335|\n 52|     M|       writer|   370|  08534|\n 36|     M|     engineer|   371|  99206|\n 25|     F|      student|   372|  66046|\n 24|     F|        other|   373|  55116|\n 36|     M|    executive|   374|  78746|\n 17|     M|entertainment|   375|  37777|\n 28|     F|        other|   376|  10010|\n 22|     M|      student|   377|  18015|\n 35|     M|      student|   378|  02859|\n 44|     M|   programmer|   379|  98117|\n 32|     M|     engineer|   380|  55117|\n 33|     M|       artist|   381|  94608|\n 45|     M|     engineer|   382|  01824|\n 42|     M|administrator|   383|  75204|\n 52|     M|   programmer|   384|  45218|\n 36|     M|       writer|   385|  10003|\n 36|     M|     salesman|   386|  43221|\n 33|     M|entertainment|   387|  37412|\n 31|     M|        other|   388|  36106|\n 44|     F|       writer|   389|  83702|\n 42|     F|       writer|   390|  85016|\n 23|     M|      student|   391|  84604|\n 52|     M|       writer|   392|  59801|\n 19|     M|      student|   393|  83686|\n 25|     M|administrator|   394|  96819|\n 43|     M|        other|   395|  44092|\n 57|     M|     engineer|   396|  94551|\n 17|     M|      student|   397|  27514|\n 40|     M|        other|   398|  60008|\n 25|     M|        other|   399|  92374|\n 33|     F|administrator|   400|  78213|\n 46|     F|   healthcare|   401|  84107|\n 30|     M|     engineer|   402|  95129|\n 37|     M|        other|   403|  06811|\n 29|     F|   programmer|   404|  55108|\n 22|     F|   healthcare|   405|  10019|\n 52|     M|     educator|   406|  93109|\n 29|     M|     engineer|   407|  03261|\n 23|     M|      student|   408|  61755|\n 48|     M|administrator|   409|  98225|\n 30|     F|       artist|   410|  94025|\n 34|     M|     educator|   411|  44691|\n 25|     M|     educator|   412|  15222|\n 55|     M|     educator|   413|  78212|\n 24|     M|   programmer|   414|  38115|\n 39|     M|     educator|   415|  85711|\n 20|     F|      student|   416|  92626|\n 27|     F|        other|   417|  48103|\n 55|     F|         none|   418|  21206|\n 37|     M|       lawyer|   419|  43215|\n 53|     M|     educator|   420|  02140|\n 38|     F|   programmer|   421|  55105|\n 26|     M|entertainment|   422|  94533|\n 64|     M|        other|   423|  91606|\n 36|     F|    marketing|   424|  55422|\n 19|     M|      student|   425|  58644|\n 55|     M|     educator|   426|  01602|\n 51|     M|       doctor|   427|  85258|\n 28|     M|      student|   428|  55414|\n 27|     M|      student|   429|  29205|\n 38|     M|    scientist|   430|  98199|\n 24|     M|    marketing|   431|  92629|\n 22|     M|entertainment|   432|  50311|\n 27|     M|       artist|   433|  11211|\n 16|     F|      student|   434|  49705|\n 24|     M|     engineer|   435|  60007|\n 30|     F|administrator|   436|  17345|\n 27|     F|        other|   437|  20009|\n 51|     F|administrator|   438|  43204|\n 23|     F|administrator|   439|  20817|\n 30|     M|        other|   440|  48076|\n 50|     M|   technician|   441|  55013|\n 22|     M|      student|   442|  85282|\n 35|     M|     salesman|   443|  33308|\n 51|     F|       lawyer|   444|  53202|\n 21|     M|       writer|   445|  92653|\n 57|     M|     educator|   446|  60201|\n 30|     M|administrator|   447|  55113|\n 23|     M|entertainment|   448|  10021|\n 23|     M|    librarian|   449|  55021|\n 35|     F|     educator|   450|  11758|\n 16|     M|      student|   451|  48446|\n 35|     M|administrator|   452|  28018|\n 18|     M|      student|   453|  06333|\n 57|     M|        other|   454|  97330|\n 48|     M|administrator|   455|  83709|\n 24|     M|   technician|   456|  31820|\n 33|     F|     salesman|   457|  30011|\n 47|     M|   technician|   458|  Y1A6B|\n 22|     M|      student|   459|  29201|\n 44|     F|        other|   460|  60630|\n 15|     M|      student|   461|  98102|\n 19|     F|      student|   462|  02918|\n 48|     F|   healthcare|   463|  75218|\n 60|     M|       writer|   464|  94583|\n 32|     M|        other|   465|  05001|\n 22|     M|      student|   466|  90804|\n 29|     M|     engineer|   467|  91201|\n 28|     M|     engineer|   468|  02341|\n 60|     M|     educator|   469|  78628|\n 24|     M|   programmer|   470|  10021|\n 10|     M|      student|   471|  77459|\n 24|     M|      student|   472|  87544|\n 29|     M|      student|   473|  94708|\n 51|     M|    executive|   474|  93711|\n 30|     M|   programmer|   475|  75230|\n 28|     M|      student|   476|  60440|\n 23|     F|      student|   477|  02125|\n 29|     M|        other|   478|  10019|\n 30|     M|     educator|   479|  55409|\n 57|     M|      retired|   480|  98257|\n 73|     M|      retired|   481|  37771|\n 18|     F|      student|   482|  40256|\n 29|     M|    scientist|   483|  43212|\n 27|     M|      student|   484|  21208|\n 44|     F|     educator|   485|  95821|\n 39|     M|     educator|   486|  93101|\n 22|     M|     engineer|   487|  92121|\n 48|     M|   technician|   488|  21012|\n 55|     M|        other|   489|  45218|\n 29|     F|       artist|   490|  V5A2B|\n 43|     F|       writer|   491|  53711|\n 57|     M|     educator|   492|  94618|\n 22|     M|     engineer|   493|  60090|\n 38|     F|administrator|   494|  49428|\n 29|     M|     engineer|   495|  03052|\n 21|     F|      student|   496|  55414|\n 20|     M|      student|   497|  50112|\n 26|     M|       writer|   498|  55408|\n 42|     M|   programmer|   499|  75006|\n 28|     M|administrator|   500|  94305|\n 22|     M|      student|   501|  10025|\n 22|     M|      student|   502|  23092|\n 50|     F|       writer|   503|  27514|\n 40|     F|       writer|   504|  92115|\n 27|     F|        other|   505|  20657|\n 46|     M|   programmer|   506|  03869|\n 18|     F|       writer|   507|  28450|\n 27|     M|    marketing|   508|  19382|\n 23|     M|administrator|   509|  10011|\n 34|     M|        other|   510|  98038|\n 22|     M|      student|   511|  21250|\n 29|     M|        other|   512|  20090|\n 43|     M|administrator|   513|  26241|\n 27|     M|   programmer|   514|  20707|\n 53|     M|    marketing|   515|  49508|\n 53|     F|    librarian|   516|  10021|\n 24|     M|      student|   517|  55454|\n 49|     F|       writer|   518|  99709|\n 22|     M|        other|   519|  55320|\n 62|     M|   healthcare|   520|  12603|\n 19|     M|      student|   521|  02146|\n 36|     M|     engineer|   522|  55443|\n 50|     F|administrator|   523|  04102|\n 56|     M|     educator|   524|  02159|\n 27|     F|administrator|   525|  19711|\n 30|     M|    marketing|   526|  97124|\n 33|     M|    librarian|   527|  12180|\n 18|     M|      student|   528|  55104|\n 47|     F|administrator|   529|  44224|\n 29|     M|     engineer|   530|  94040|\n 30|     F|     salesman|   531|  97408|\n 20|     M|      student|   532|  92705|\n 43|     M|    librarian|   533|  02324|\n 20|     M|      student|   534|  05464|\n 45|     F|     educator|   535|  80302|\n 38|     M|     engineer|   536|  30078|\n 36|     M|     engineer|   537|  22902|\n 31|     M|    scientist|   538|  21010|\n 53|     F|administrator|   539|  80303|\n 28|     M|     engineer|   540|  91201|\n 19|     F|      student|   541|  84302|\n 21|     M|      student|   542|  60515|\n 33|     M|    scientist|   543|  95123|\n 44|     F|        other|   544|  29464|\n 27|     M|   technician|   545|  08052|\n 36|     M|    executive|   546|  22911|\n 50|     M|     educator|   547|  14534|\n 51|     M|       writer|   548|  95468|\n 42|     M|    scientist|   549|  45680|\n 16|     F|      student|   550|  95453|\n 25|     M|   programmer|   551|  55414|\n 45|     M|        other|   552|  68147|\n 58|     M|     educator|   553|  62901|\n 32|     M|    scientist|   554|  62901|\n 29|     F|     educator|   555|  23227|\n 35|     F|     educator|   556|  30606|\n 30|     F|       writer|   557|  11217|\n 56|     F|       writer|   558|  63132|\n 69|     M|    executive|   559|  10022|\n 32|     M|      student|   560|  10003|\n 23|     M|     engineer|   561|  60005|\n 54|     F|administrator|   562|  20879|\n 39|     F|    librarian|   563|  32707|\n 65|     M|      retired|   564|  94591|\n 40|     M|      student|   565|  55422|\n 20|     M|      student|   566|  14627|\n 24|     M|entertainment|   567|  10003|\n 39|     M|     educator|   568|  01915|\n 34|     M|     educator|   569|  91903|\n 26|     M|     educator|   570|  14627|\n 34|     M|       artist|   571|  01945|\n 51|     M|     educator|   572|  20003|\n 68|     M|      retired|   573|  48911|\n 56|     M|     educator|   574|  53188|\n 33|     M|    marketing|   575|  46032|\n 48|     M|    executive|   576|  98281|\n 36|     F|      student|   577|  77845|\n 31|     M|administrator|   578|  M7A1A|\n 32|     M|     educator|   579|  48103|\n 16|     M|      student|   580|  17961|\n 37|     M|        other|   581|  94131|\n 17|     M|      student|   582|  93003|\n 44|     M|     engineer|   583|  29631|\n 25|     M|      student|   584|  27511|\n 69|     M|    librarian|   585|  98501|\n 20|     M|      student|   586|  79508|\n 26|     M|        other|   587|  14216|\n 18|     F|      student|   588|  93063|\n 21|     M|       lawyer|   589|  90034|\n 50|     M|     educator|   590|  82435|\n 57|     F|    librarian|   591|  92093|\n 18|     M|      student|   592|  97520|\n 31|     F|     educator|   593|  68767|\n 46|     M|     educator|   594|  M4J2K|\n 25|     M|   programmer|   595|  31909|\n 20|     M|       artist|   596|  77073|\n 23|     M|        other|   597|  84116|\n 40|     F|    marketing|   598|  43085|\n 22|     F|      student|   599|  R3T5K|\n 34|     M|   programmer|   600|  02320|\n 19|     F|       artist|   601|  99687|\n 47|     F|        other|   602|  34656|\n 21|     M|   programmer|   603|  47905|\n 39|     M|     educator|   604|  11787|\n 33|     M|     engineer|   605|  33716|\n 28|     M|   programmer|   606|  63044|\n 49|     F|   healthcare|   607|  02154|\n 22|     M|        other|   608|  10003|\n 13|     F|      student|   609|  55106|\n 22|     M|      student|   610|  21227|\n 46|     M|    librarian|   611|  77008|\n 36|     M|     educator|   612|  79070|\n 37|     F|    marketing|   613|  29678|\n 54|     M|     educator|   614|  80227|\n 38|     M|     educator|   615|  27705|\n 55|     M|    scientist|   616|  50613|\n 27|     F|       writer|   617|  11201|\n 15|     F|      student|   618|  44212|\n 17|     M|      student|   619|  44134|\n 18|     F|       writer|   620|  81648|\n 17|     M|      student|   621|  60402|\n 25|     M|   programmer|   622|  14850|\n 50|     F|     educator|   623|  60187|\n 19|     M|      student|   624|  30067|\n 27|     M|   programmer|   625|  20723|\n 23|     M|    scientist|   626|  19807|\n 24|     M|     engineer|   627|  08034|\n 13|     M|         none|   628|  94306|\n 46|     F|        other|   629|  44224|\n 26|     F|   healthcare|   630|  55408|\n 18|     F|      student|   631|  38866|\n 18|     M|      student|   632|  55454|\n 35|     M|   programmer|   633|  55414|\n 39|     M|     engineer|   634|  T8H1N|\n 22|     M|        other|   635|  23237|\n 47|     M|     educator|   636|  48043|\n 30|     M|        other|   637|  74101|\n 45|     M|     engineer|   638|  01940|\n 42|     F|    librarian|   639|  12065|\n 20|     M|      student|   640|  61801|\n 24|     M|      student|   641|  60626|\n 18|     F|      student|   642|  95521|\n 39|     M|    scientist|   643|  55122|\n 51|     M|      retired|   644|  63645|\n 27|     M|   programmer|   645|  53211|\n 17|     F|      student|   646|  51250|\n 40|     M|     educator|   647|  45810|\n 43|     M|     engineer|   648|  91351|\n 20|     M|      student|   649|  39762|\n 42|     M|     engineer|   650|  83814|\n 65|     M|      retired|   651|  02903|\n 35|     M|        other|   652|  22911|\n 31|     M|    executive|   653|  55105|\n 27|     F|      student|   654|  78739|\n 50|     F|   healthcare|   655|  60657|\n 48|     M|     educator|   656|  10314|\n 26|     F|         none|   657|  78704|\n 33|     M|   programmer|   658|  92626|\n 31|     M|     educator|   659|  54248|\n 26|     M|      student|   660|  77380|\n 28|     M|   programmer|   661|  98121|\n 55|     M|    librarian|   662|  19102|\n 26|     M|        other|   663|  19341|\n 30|     M|     engineer|   664|  94115|\n 25|     M|administrator|   665|  55412|\n 44|     M|administrator|   666|  61820|\n 35|     M|    librarian|   667|  01970|\n 29|     F|       writer|   668|  10016|\n 37|     M|        other|   669|  20009|\n 30|     M|   technician|   670|  21114|\n 21|     M|   programmer|   671|  91919|\n 54|     F|administrator|   672|  90095|\n 51|     M|     educator|   673|  22906|\n 13|     F|      student|   674|  55337|\n 34|     M|        other|   675|  28814|\n 30|     M|   programmer|   676|  32712|\n 20|     M|        other|   677|  99835|\n 50|     M|     educator|   678|  61462|\n 20|     F|      student|   679|  54302|\n 33|     M|       lawyer|   680|  90405|\n 44|     F|    marketing|   681|  97208|\n 23|     M|   programmer|   682|  55128|\n 42|     M|    librarian|   683|  23509|\n 28|     M|      student|   684|  55414|\n 32|     F|    librarian|   685|  55409|\n 32|     M|     educator|   686|  26506|\n 31|     F|   healthcare|   687|  27713|\n 37|     F|administrator|   688|  60476|\n 25|     M|        other|   689|  45439|\n 35|     M|     salesman|   690|  63304|\n 34|     M|     educator|   691|  60089|\n 34|     M|     engineer|   692|  18053|\n 43|     F|   healthcare|   693|  85210|\n 60|     M|   programmer|   694|  06365|\n 26|     M|       writer|   695|  38115|\n 55|     M|        other|   696|  94920|\n 25|     M|        other|   697|  77042|\n 28|     F|   programmer|   698|  06906|\n 44|     M|        other|   699|  96754|\n 17|     M|      student|   700|  76309|\n 51|     F|    librarian|   701|  56321|\n 37|     M|        other|   702|  89104|\n 26|     M|     educator|   703|  49512|\n 51|     F|    librarian|   704|  91105|\n 21|     F|      student|   705|  54494|\n 23|     M|      student|   706|  55454|\n 56|     F|    librarian|   707|  19146|\n 26|     F|    homemaker|   708|  96349|\n 21|     M|        other|   709|  N4T1A|\n 19|     M|      student|   710|  92020|\n 22|     F|      student|   711|  15203|\n 22|     F|      student|   712|  54901|\n 42|     F|        other|   713|  07204|\n 26|     M|     engineer|   714|  55343|\n 21|     M|   technician|   715|  91206|\n 36|     F|administrator|   716|  44265|\n 24|     M|   technician|   717|  84105|\n 42|     M|   technician|   718|  64118|\n 37|     F|        other|   719|  V0R2H|\n 49|     F|administrator|   720|  16506|\n 24|     F|entertainment|   721|  11238|\n 50|     F|    homemaker|   722|  17331|\n 26|     M|    executive|   723|  94403|\n 31|     M|    executive|   724|  40243|\n 21|     M|      student|   725|  91711|\n 25|     F|administrator|   726|  80538|\n 25|     M|      student|   727|  78741|\n 58|     M|    executive|   728|  94306|\n 19|     M|      student|   729|  56567|\n 31|     F|    scientist|   730|  32114|\n 41|     F|     educator|   731|  70403|\n 28|     F|        other|   732|  98405|\n 44|     F|        other|   733|  60630|\n 25|     F|        other|   734|  63108|\n 29|     F|   healthcare|   735|  85719|\n 48|     F|       writer|   736|  94618|\n 30|     M|   programmer|   737|  98072|\n 35|     M|   technician|   738|  95403|\n 35|     M|   technician|   739|  73162|\n 25|     F|     educator|   740|  22206|\n 25|     M|       writer|   741|  63108|\n 35|     M|      student|   742|  29210|\n 31|     M|   programmer|   743|  92660|\n 35|     M|    marketing|   744|  47024|\n 42|     M|       writer|   745|  55113|\n 25|     M|     engineer|   746|  19047|\n 19|     M|        other|   747|  93612|\n 28|     M|administrator|   748|  94720|\n 33|     M|        other|   749|  80919|\n 28|     M|administrator|   750|  32303|\n 24|     F|        other|   751|  90034|\n 60|     M|      retired|   752|  21201|\n 56|     M|     salesman|   753|  91206|\n 59|     F|    librarian|   754|  62901|\n 44|     F|     educator|   755|  97007|\n 30|     F|         none|   756|  90247|\n 26|     M|      student|   757|  55104|\n 27|     M|      student|   758|  53706|\n 20|     F|      student|   759|  68503|\n 35|     F|        other|   760|  14211|\n 17|     M|      student|   761|  97302|\n 32|     M|administrator|   762|  95050|\n 27|     M|    scientist|   763|  02113|\n 27|     F|     educator|   764|  62903|\n 31|     M|      student|   765|  33066|\n 42|     M|        other|   766|  10960|\n 70|     M|     engineer|   767|  00000|\n 29|     M|administrator|   768|  12866|\n 39|     M|    executive|   769|  06927|\n 28|     M|      student|   770|  14216|\n 26|     M|      student|   771|  15232|\n 50|     M|       writer|   772|  27105|\n 20|     M|      student|   773|  55414|\n 30|     M|      student|   774|  80027|\n 46|     M|    executive|   775|  90036|\n 30|     M|    librarian|   776|  51157|\n 63|     M|   programmer|   777|  01810|\n 34|     M|      student|   778|  01960|\n 31|     M|      student|   779|  K7L5J|\n 49|     M|   programmer|   780|  94560|\n 20|     M|      student|   781|  48825|\n 21|     F|       artist|   782|  33205|\n 30|     M|    marketing|   783|  77081|\n 47|     M|administrator|   784|  91040|\n 32|     M|     engineer|   785|  23322|\n 36|     F|     engineer|   786|  01754|\n 18|     F|      student|   787|  98620|\n 51|     M|administrator|   788|  05779|\n 29|     M|        other|   789|  55420|\n 27|     M|   technician|   790|  80913|\n 31|     M|     educator|   791|  20064|\n 40|     M|   programmer|   792|  12205|\n 22|     M|      student|   793|  85281|\n 32|     M|     educator|   794|  57197|\n 30|     M|   programmer|   795|  08610|\n 32|     F|       writer|   796|  33755|\n 44|     F|        other|   797|  62522|\n 40|     F|       writer|   798|  64131|\n 49|     F|administrator|   799|  19716|\n 25|     M|   programmer|   800|  55337|\n 22|     M|       writer|   801|  92154|\n 35|     M|administrator|   802|  34105|\n 70|     M|administrator|   803|  78212|\n 39|     M|     educator|   804|  61820|\n 27|     F|        other|   805|  20009|\n 27|     M|    marketing|   806|  11217|\n 41|     F|   healthcare|   807|  93555|\n 45|     M|     salesman|   808|  90016|\n 50|     F|    marketing|   809|  30803|\n 55|     F|        other|   810|  80526|\n 40|     F|     educator|   811|  73013|\n 22|     M|   technician|   812|  76234|\n 14|     F|      student|   813|  02136|\n 30|     M|        other|   814|  12345|\n 32|     M|        other|   815|  28806|\n 34|     M|        other|   816|  20755|\n 19|     M|      student|   817|  60152|\n 28|     M|    librarian|   818|  27514|\n 59|     M|administrator|   819|  40205|\n 22|     M|      student|   820|  37725|\n 37|     M|     engineer|   821|  77845|\n 29|     F|    librarian|   822|  53144|\n 27|     M|       artist|   823|  50322|\n 31|     M|        other|   824|  15017|\n 44|     M|     engineer|   825|  05452|\n 28|     M|       artist|   826|  77048|\n 23|     F|     engineer|   827|  80228|\n 28|     M|    librarian|   828|  85282|\n 48|     M|       writer|   829|  80209|\n 46|     M|   programmer|   830|  53066|\n 21|     M|        other|   831|  33765|\n 24|     M|   technician|   832|  77042|\n 34|     M|       writer|   833|  90019|\n 26|     M|        other|   834|  64153|\n 44|     F|    executive|   835|  11577|\n 44|     M|       artist|   836|  10018|\n 36|     F|       artist|   837|  55409|\n 23|     M|      student|   838|  01375|\n 38|     F|entertainment|   839|  90814|\n 39|     M|       artist|   840|  55406|\n 45|     M|       doctor|   841|  47401|\n 40|     M|       writer|   842|  93055|\n 35|     M|    librarian|   843|  44212|\n 22|     M|     engineer|   844|  95662|\n 64|     M|       doctor|   845|  97405|\n 27|     M|       lawyer|   846|  47130|\n 29|     M|      student|   847|  55417|\n 46|     M|     engineer|   848|  02146|\n 15|     F|      student|   849|  25652|\n 34|     M|   technician|   850|  78390|\n 18|     M|        other|   851|  29646|\n 46|     M|administrator|   852|  94086|\n 49|     M|       writer|   853|  40515|\n 29|     F|      student|   854|  55408|\n 53|     M|    librarian|   855|  04988|\n 43|     F|    marketing|   856|  97215|\n 35|     F|administrator|   857|  V1G4L|\n 63|     M|     educator|   858|  09645|\n 18|     F|        other|   859|  06492|\n 70|     F|      retired|   860|  48322|\n 38|     F|      student|   861|  14085|\n 25|     M|    executive|   862|  13820|\n 17|     M|      student|   863|  60089|\n 27|     M|   programmer|   864|  63021|\n 25|     M|       artist|   865|  11231|\n 45|     M|        other|   866|  60302|\n 24|     M|    scientist|   867|  92507|\n 21|     M|   programmer|   868|  55303|\n 30|     M|      student|   869|  10025|\n 22|     M|      student|   870|  65203|\n 31|     M|    executive|   871|  44648|\n 19|     F|      student|   872|  74078|\n 48|     F|administrator|   873|  33763|\n 36|     M|    scientist|   874|  37076|\n 24|     F|      student|   875|  35802|\n 41|     M|        other|   876|  20902|\n 30|     M|        other|   877|  77504|\n 50|     F|     educator|   878|  98027|\n 33|     F|administrator|   879|  55337|\n 13|     M|      student|   880|  83702|\n 39|     M|    marketing|   881|  43017|\n 35|     M|     engineer|   882|  40503|\n 49|     M|    librarian|   883|  50266|\n 44|     M|     engineer|   884|  55337|\n 30|     F|        other|   885|  95316|\n 20|     M|      student|   886|  61820|\n 14|     F|      student|   887|  27249|\n 41|     M|    scientist|   888|  17036|\n 24|     M|   technician|   889|  78704|\n 32|     M|      student|   890|  97301|\n 51|     F|administrator|   891|  03062|\n 36|     M|        other|   892|  45243|\n 25|     M|      student|   893|  95823|\n 47|     M|     educator|   894|  74075|\n 31|     F|    librarian|   895|  32301|\n 28|     M|       writer|   896|  91505|\n 30|     M|        other|   897|  33484|\n 23|     M|    homemaker|   898|  61755|\n 32|     M|        other|   899|  55116|\n 60|     M|      retired|   900|  18505|\n 38|     M|    executive|   901|  L1V3W|\n 45|     F|       artist|   902|  97203|\n 28|     M|     educator|   903|  20850|\n 17|     F|      student|   904|  61073|\n 27|     M|        other|   905|  30350|\n 45|     M|    librarian|   906|  70124|\n 25|     F|        other|   907|  80526|\n 44|     F|    librarian|   908|  68504|\n 50|     F|     educator|   909|  53171|\n 28|     M|   healthcare|   910|  29301|\n 37|     F|       writer|   911|  53210|\n 51|     M|        other|   912|  06512|\n 27|     M|      student|   913|  76201|\n 44|     F|        other|   914|  08105|\n 50|     M|entertainment|   915|  60614|\n 27|     M|     engineer|   916|  N2L5N|\n 22|     F|      student|   917|  20006|\n 40|     M|    scientist|   918|  70116|\n 25|     M|        other|   919|  14216|\n 30|     F|       artist|   920|  90008|\n 20|     F|      student|   921|  98801|\n 29|     F|administrator|   922|  21114|\n 21|     M|      student|   923|  E2E3R|\n 29|     M|        other|   924|  11753|\n 18|     F|     salesman|   925|  49036|\n 49|     M|entertainment|   926|  01701|\n 23|     M|   programmer|   927|  55428|\n 21|     M|      student|   928|  55408|\n 44|     M|    scientist|   929|  53711|\n 28|     F|    scientist|   930|  07310|\n 60|     M|     educator|   931|  33556|\n 58|     M|     educator|   932|  06437|\n 28|     M|      student|   933|  48105|\n 61|     M|     engineer|   934|  22902|\n 42|     M|       doctor|   935|  66221|\n 24|     M|        other|   936|  32789|\n 48|     M|     educator|   937|  98072|\n 38|     F|   technician|   938|  55038|\n 26|     F|      student|   939|  33319|\n 32|     M|administrator|   940|  02215|\n 20|     M|      student|   941|  97229|\n 48|     F|    librarian|   942|  78209|\n 22|     M|      student|   943|  77841|\n+---+------+-------------+------+-------+\n\n</div>"
            ]
          }
        }
      ],
      "execution_count": null
    },
    {
      "cell_type": "code",
      "source": [
        "sqlContext.sql(\" SELECT *  FROM user_table\").show(5)"
      ],
      "metadata": {
        "application/vnd.databricks.v1+cell": {
          "title": "",
          "showTitle": false,
          "inputWidgets": {},
          "nuid": "1e89423b-3e4d-4493-8db4-db7b251c74a3"
        },
        "id": "a1X0pZGq7TNG",
        "outputId": "db4b93ee-e689-45cb-e446-530084e68931"
      },
      "outputs": [
        {
          "output_type": "display_data",
          "metadata": {
            "application/vnd.databricks.v1+output": {
              "datasetInfos": [],
              "data": "<div class=\"ansiout\">+---+------+----------+------+-------+\n|age|gender|occupation|userid|zipcode|\n+---+------+----------+------+-------+\n| 24|     M|technician|     1|  85711|\n| 53|     F|     other|     2|  94043|\n| 23|     M|    writer|     3|  32067|\n| 24|     M|technician|     4|  43537|\n| 33|     F|     other|     5|  15213|\n+---+------+----------+------+-------+\nonly showing top 5 rows\n\n</div>",
              "removedWidgets": [],
              "addedWidgets": {},
              "type": "html",
              "arguments": {}
            }
          },
          "data": {
            "text/html": [
              "<style scoped>\n  .ansiout {\n    display: block;\n    unicode-bidi: embed;\n    white-space: pre-wrap;\n    word-wrap: break-word;\n    word-break: break-all;\n    font-family: \"Source Code Pro\", \"Menlo\", monospace;;\n    font-size: 13px;\n    color: #555;\n    margin-left: 4px;\n    line-height: 19px;\n  }\n</style>\n<div class=\"ansiout\">+---+------+----------+------+-------+\nage|gender|occupation|userid|zipcode|\n+---+------+----------+------+-------+\n 24|     M|technician|     1|  85711|\n 53|     F|     other|     2|  94043|\n 23|     M|    writer|     3|  32067|\n 24|     M|technician|     4|  43537|\n 33|     F|     other|     5|  15213|\n+---+------+----------+------+-------+\nonly showing top 5 rows\n\n</div>"
            ]
          }
        }
      ],
      "execution_count": null
    },
    {
      "cell_type": "code",
      "source": [
        "sqlContext.sql(\" SELECT *  FROM user_table LIMIT 100\").show(1000)"
      ],
      "metadata": {
        "application/vnd.databricks.v1+cell": {
          "title": "",
          "showTitle": false,
          "inputWidgets": {},
          "nuid": "20b981b2-eabe-4f17-9a13-1aa7087b35d0"
        },
        "id": "dPaaC0sN7TNG",
        "outputId": "a686662b-b388-4e4f-f8df-6bf6713ce1d3"
      },
      "outputs": [
        {
          "output_type": "display_data",
          "metadata": {
            "application/vnd.databricks.v1+output": {
              "datasetInfos": [],
              "data": "<div class=\"ansiout\">+---+------+-------------+------+-------+\n|age|gender|   occupation|userid|zipcode|\n+---+------+-------------+------+-------+\n| 24|     M|   technician|     1|  85711|\n| 53|     F|        other|     2|  94043|\n| 23|     M|       writer|     3|  32067|\n| 24|     M|   technician|     4|  43537|\n| 33|     F|        other|     5|  15213|\n| 42|     M|    executive|     6|  98101|\n| 57|     M|administrator|     7|  91344|\n| 36|     M|administrator|     8|  05201|\n| 29|     M|      student|     9|  01002|\n| 53|     M|       lawyer|    10|  90703|\n| 39|     F|        other|    11|  30329|\n| 28|     F|        other|    12|  06405|\n| 47|     M|     educator|    13|  29206|\n| 45|     M|    scientist|    14|  55106|\n| 49|     F|     educator|    15|  97301|\n| 21|     M|entertainment|    16|  10309|\n| 30|     M|   programmer|    17|  06355|\n| 35|     F|        other|    18|  37212|\n| 40|     M|    librarian|    19|  02138|\n| 42|     F|    homemaker|    20|  95660|\n| 26|     M|       writer|    21|  30068|\n| 25|     M|       writer|    22|  40206|\n| 30|     F|       artist|    23|  48197|\n| 21|     F|       artist|    24|  94533|\n| 39|     M|     engineer|    25|  55107|\n| 49|     M|     engineer|    26|  21044|\n| 40|     F|    librarian|    27|  30030|\n| 32|     M|       writer|    28|  55369|\n| 41|     M|   programmer|    29|  94043|\n|  7|     M|      student|    30|  55436|\n| 24|     M|       artist|    31|  10003|\n| 28|     F|      student|    32|  78741|\n| 23|     M|      student|    33|  27510|\n| 38|     F|administrator|    34|  42141|\n| 20|     F|    homemaker|    35|  42459|\n| 19|     F|      student|    36|  93117|\n| 23|     M|      student|    37|  55105|\n| 28|     F|        other|    38|  54467|\n| 41|     M|entertainment|    39|  01040|\n| 38|     M|    scientist|    40|  27514|\n| 33|     M|     engineer|    41|  80525|\n| 30|     M|administrator|    42|  17870|\n| 29|     F|    librarian|    43|  20854|\n| 26|     M|   technician|    44|  46260|\n| 29|     M|   programmer|    45|  50233|\n| 27|     F|    marketing|    46|  46538|\n| 53|     M|    marketing|    47|  07102|\n| 45|     M|administrator|    48|  12550|\n| 23|     F|      student|    49|  76111|\n| 21|     M|       writer|    50|  52245|\n| 28|     M|     educator|    51|  16509|\n| 18|     F|      student|    52|  55105|\n| 26|     M|   programmer|    53|  55414|\n| 22|     M|    executive|    54|  66315|\n| 37|     M|   programmer|    55|  01331|\n| 25|     M|    librarian|    56|  46260|\n| 16|     M|         none|    57|  84010|\n| 27|     M|   programmer|    58|  52246|\n| 49|     M|     educator|    59|  08403|\n| 50|     M|   healthcare|    60|  06472|\n| 36|     M|     engineer|    61|  30040|\n| 27|     F|administrator|    62|  97214|\n| 31|     M|    marketing|    63|  75240|\n| 32|     M|     educator|    64|  43202|\n| 51|     F|     educator|    65|  48118|\n| 23|     M|      student|    66|  80521|\n| 17|     M|      student|    67|  60402|\n| 19|     M|      student|    68|  22904|\n| 24|     M|     engineer|    69|  55337|\n| 27|     M|     engineer|    70|  60067|\n| 39|     M|    scientist|    71|  98034|\n| 48|     F|administrator|    72|  73034|\n| 24|     M|      student|    73|  41850|\n| 39|     M|    scientist|    74|  T8H1N|\n| 24|     M|entertainment|    75|  08816|\n| 20|     M|      student|    76|  02215|\n| 30|     M|   technician|    77|  29379|\n| 26|     M|administrator|    78|  61801|\n| 39|     F|administrator|    79|  03755|\n| 34|     F|administrator|    80|  52241|\n| 21|     M|      student|    81|  21218|\n| 50|     M|   programmer|    82|  22902|\n| 40|     M|        other|    83|  44133|\n| 32|     M|    executive|    84|  55369|\n| 51|     M|     educator|    85|  20003|\n| 26|     M|administrator|    86|  46005|\n| 47|     M|administrator|    87|  89503|\n| 49|     F|    librarian|    88|  11701|\n| 43|     F|administrator|    89|  68106|\n| 60|     M|     educator|    90|  78155|\n| 55|     M|    marketing|    91|  01913|\n| 32|     M|entertainment|    92|  80525|\n| 48|     M|    executive|    93|  23112|\n| 26|     M|      student|    94|  71457|\n| 31|     M|administrator|    95|  10707|\n| 25|     F|       artist|    96|  75206|\n| 43|     M|       artist|    97|  98006|\n| 49|     F|    executive|    98|  90291|\n| 20|     M|      student|    99|  63129|\n| 36|     M|    executive|   100|  90254|\n+---+------+-------------+------+-------+\n\n</div>",
              "removedWidgets": [],
              "addedWidgets": {},
              "type": "html",
              "arguments": {}
            }
          },
          "data": {
            "text/html": [
              "<style scoped>\n  .ansiout {\n    display: block;\n    unicode-bidi: embed;\n    white-space: pre-wrap;\n    word-wrap: break-word;\n    word-break: break-all;\n    font-family: \"Source Code Pro\", \"Menlo\", monospace;;\n    font-size: 13px;\n    color: #555;\n    margin-left: 4px;\n    line-height: 19px;\n  }\n</style>\n<div class=\"ansiout\">+---+------+-------------+------+-------+\nage|gender|   occupation|userid|zipcode|\n+---+------+-------------+------+-------+\n 24|     M|   technician|     1|  85711|\n 53|     F|        other|     2|  94043|\n 23|     M|       writer|     3|  32067|\n 24|     M|   technician|     4|  43537|\n 33|     F|        other|     5|  15213|\n 42|     M|    executive|     6|  98101|\n 57|     M|administrator|     7|  91344|\n 36|     M|administrator|     8|  05201|\n 29|     M|      student|     9|  01002|\n 53|     M|       lawyer|    10|  90703|\n 39|     F|        other|    11|  30329|\n 28|     F|        other|    12|  06405|\n 47|     M|     educator|    13|  29206|\n 45|     M|    scientist|    14|  55106|\n 49|     F|     educator|    15|  97301|\n 21|     M|entertainment|    16|  10309|\n 30|     M|   programmer|    17|  06355|\n 35|     F|        other|    18|  37212|\n 40|     M|    librarian|    19|  02138|\n 42|     F|    homemaker|    20|  95660|\n 26|     M|       writer|    21|  30068|\n 25|     M|       writer|    22|  40206|\n 30|     F|       artist|    23|  48197|\n 21|     F|       artist|    24|  94533|\n 39|     M|     engineer|    25|  55107|\n 49|     M|     engineer|    26|  21044|\n 40|     F|    librarian|    27|  30030|\n 32|     M|       writer|    28|  55369|\n 41|     M|   programmer|    29|  94043|\n  7|     M|      student|    30|  55436|\n 24|     M|       artist|    31|  10003|\n 28|     F|      student|    32|  78741|\n 23|     M|      student|    33|  27510|\n 38|     F|administrator|    34|  42141|\n 20|     F|    homemaker|    35|  42459|\n 19|     F|      student|    36|  93117|\n 23|     M|      student|    37|  55105|\n 28|     F|        other|    38|  54467|\n 41|     M|entertainment|    39|  01040|\n 38|     M|    scientist|    40|  27514|\n 33|     M|     engineer|    41|  80525|\n 30|     M|administrator|    42|  17870|\n 29|     F|    librarian|    43|  20854|\n 26|     M|   technician|    44|  46260|\n 29|     M|   programmer|    45|  50233|\n 27|     F|    marketing|    46|  46538|\n 53|     M|    marketing|    47|  07102|\n 45|     M|administrator|    48|  12550|\n 23|     F|      student|    49|  76111|\n 21|     M|       writer|    50|  52245|\n 28|     M|     educator|    51|  16509|\n 18|     F|      student|    52|  55105|\n 26|     M|   programmer|    53|  55414|\n 22|     M|    executive|    54|  66315|\n 37|     M|   programmer|    55|  01331|\n 25|     M|    librarian|    56|  46260|\n 16|     M|         none|    57|  84010|\n 27|     M|   programmer|    58|  52246|\n 49|     M|     educator|    59|  08403|\n 50|     M|   healthcare|    60|  06472|\n 36|     M|     engineer|    61|  30040|\n 27|     F|administrator|    62|  97214|\n 31|     M|    marketing|    63|  75240|\n 32|     M|     educator|    64|  43202|\n 51|     F|     educator|    65|  48118|\n 23|     M|      student|    66|  80521|\n 17|     M|      student|    67|  60402|\n 19|     M|      student|    68|  22904|\n 24|     M|     engineer|    69|  55337|\n 27|     M|     engineer|    70|  60067|\n 39|     M|    scientist|    71|  98034|\n 48|     F|administrator|    72|  73034|\n 24|     M|      student|    73|  41850|\n 39|     M|    scientist|    74|  T8H1N|\n 24|     M|entertainment|    75|  08816|\n 20|     M|      student|    76|  02215|\n 30|     M|   technician|    77|  29379|\n 26|     M|administrator|    78|  61801|\n 39|     F|administrator|    79|  03755|\n 34|     F|administrator|    80|  52241|\n 21|     M|      student|    81|  21218|\n 50|     M|   programmer|    82|  22902|\n 40|     M|        other|    83|  44133|\n 32|     M|    executive|    84|  55369|\n 51|     M|     educator|    85|  20003|\n 26|     M|administrator|    86|  46005|\n 47|     M|administrator|    87|  89503|\n 49|     F|    librarian|    88|  11701|\n 43|     F|administrator|    89|  68106|\n 60|     M|     educator|    90|  78155|\n 55|     M|    marketing|    91|  01913|\n 32|     M|entertainment|    92|  80525|\n 48|     M|    executive|    93|  23112|\n 26|     M|      student|    94|  71457|\n 31|     M|administrator|    95|  10707|\n 25|     F|       artist|    96|  75206|\n 43|     M|       artist|    97|  98006|\n 49|     F|    executive|    98|  90291|\n 20|     M|      student|    99|  63129|\n 36|     M|    executive|   100|  90254|\n+---+------+-------------+------+-------+\n\n</div>"
            ]
          }
        }
      ],
      "execution_count": null
    },
    {
      "cell_type": "markdown",
      "source": [
        "# 19.3\t顯示部分欄位"
      ],
      "metadata": {
        "application/vnd.databricks.v1+cell": {
          "title": "",
          "showTitle": false,
          "inputWidgets": {},
          "nuid": "b2cecda6-3215-4fba-95a4-1b26a754f233"
        },
        "id": "sFLcrZDa7TNH"
      }
    },
    {
      "cell_type": "code",
      "source": [
        "userRDDnew= userRDD.map(lambda x: (x[0],x[3],x[2] ,x[1]) )\n",
        "userRDDnew.take(5)"
      ],
      "metadata": {
        "application/vnd.databricks.v1+cell": {
          "title": "",
          "showTitle": false,
          "inputWidgets": {},
          "nuid": "7352966e-6da3-45e7-be3e-719f0d5a5ced"
        },
        "id": "RtLzr6HA7TNI",
        "outputId": "ceb41455-936f-41f0-b195-88826676f732"
      },
      "outputs": [
        {
          "output_type": "display_data",
          "metadata": {
            "application/vnd.databricks.v1+output": {
              "datasetInfos": [],
              "data": "<div class=\"ansiout\">Out[20]: [(&#39;1&#39;, &#39;technician&#39;, &#39;M&#39;, &#39;24&#39;),\n (&#39;2&#39;, &#39;other&#39;, &#39;F&#39;, &#39;53&#39;),\n (&#39;3&#39;, &#39;writer&#39;, &#39;M&#39;, &#39;23&#39;),\n (&#39;4&#39;, &#39;technician&#39;, &#39;M&#39;, &#39;24&#39;),\n (&#39;5&#39;, &#39;other&#39;, &#39;F&#39;, &#39;33&#39;)]</div>",
              "removedWidgets": [],
              "addedWidgets": {},
              "type": "html",
              "arguments": {}
            }
          },
          "data": {
            "text/html": [
              "<style scoped>\n  .ansiout {\n    display: block;\n    unicode-bidi: embed;\n    white-space: pre-wrap;\n    word-wrap: break-word;\n    word-break: break-all;\n    font-family: \"Source Code Pro\", \"Menlo\", monospace;;\n    font-size: 13px;\n    color: #555;\n    margin-left: 4px;\n    line-height: 19px;\n  }\n</style>\n<div class=\"ansiout\">Out[20]: [(&#39;1&#39;, &#39;technician&#39;, &#39;M&#39;, &#39;24&#39;),\n (&#39;2&#39;, &#39;other&#39;, &#39;F&#39;, &#39;53&#39;),\n (&#39;3&#39;, &#39;writer&#39;, &#39;M&#39;, &#39;23&#39;),\n (&#39;4&#39;, &#39;technician&#39;, &#39;M&#39;, &#39;24&#39;),\n (&#39;5&#39;, &#39;other&#39;, &#39;F&#39;, &#39;33&#39;)]</div>"
            ]
          }
        }
      ],
      "execution_count": null
    },
    {
      "cell_type": "code",
      "source": [
        "user_df.select(\"userid\",\"occupation\",\"gender\",\"age\").show(100)"
      ],
      "metadata": {
        "application/vnd.databricks.v1+cell": {
          "title": "",
          "showTitle": false,
          "inputWidgets": {},
          "nuid": "996f0d7a-9730-4152-be6d-15210cc08155"
        },
        "id": "_RFmKIEZ7TNI",
        "outputId": "527b66de-1d69-499d-a6a4-17789f097660"
      },
      "outputs": [
        {
          "output_type": "display_data",
          "metadata": {
            "application/vnd.databricks.v1+output": {
              "datasetInfos": [],
              "data": "<div class=\"ansiout\">+------+-------------+------+---+\n|userid|   occupation|gender|age|\n+------+-------------+------+---+\n|     1|   technician|     M| 24|\n|     2|        other|     F| 53|\n|     3|       writer|     M| 23|\n|     4|   technician|     M| 24|\n|     5|        other|     F| 33|\n|     6|    executive|     M| 42|\n|     7|administrator|     M| 57|\n|     8|administrator|     M| 36|\n|     9|      student|     M| 29|\n|    10|       lawyer|     M| 53|\n|    11|        other|     F| 39|\n|    12|        other|     F| 28|\n|    13|     educator|     M| 47|\n|    14|    scientist|     M| 45|\n|    15|     educator|     F| 49|\n|    16|entertainment|     M| 21|\n|    17|   programmer|     M| 30|\n|    18|        other|     F| 35|\n|    19|    librarian|     M| 40|\n|    20|    homemaker|     F| 42|\n|    21|       writer|     M| 26|\n|    22|       writer|     M| 25|\n|    23|       artist|     F| 30|\n|    24|       artist|     F| 21|\n|    25|     engineer|     M| 39|\n|    26|     engineer|     M| 49|\n|    27|    librarian|     F| 40|\n|    28|       writer|     M| 32|\n|    29|   programmer|     M| 41|\n|    30|      student|     M|  7|\n|    31|       artist|     M| 24|\n|    32|      student|     F| 28|\n|    33|      student|     M| 23|\n|    34|administrator|     F| 38|\n|    35|    homemaker|     F| 20|\n|    36|      student|     F| 19|\n|    37|      student|     M| 23|\n|    38|        other|     F| 28|\n|    39|entertainment|     M| 41|\n|    40|    scientist|     M| 38|\n|    41|     engineer|     M| 33|\n|    42|administrator|     M| 30|\n|    43|    librarian|     F| 29|\n|    44|   technician|     M| 26|\n|    45|   programmer|     M| 29|\n|    46|    marketing|     F| 27|\n|    47|    marketing|     M| 53|\n|    48|administrator|     M| 45|\n|    49|      student|     F| 23|\n|    50|       writer|     M| 21|\n|    51|     educator|     M| 28|\n|    52|      student|     F| 18|\n|    53|   programmer|     M| 26|\n|    54|    executive|     M| 22|\n|    55|   programmer|     M| 37|\n|    56|    librarian|     M| 25|\n|    57|         none|     M| 16|\n|    58|   programmer|     M| 27|\n|    59|     educator|     M| 49|\n|    60|   healthcare|     M| 50|\n|    61|     engineer|     M| 36|\n|    62|administrator|     F| 27|\n|    63|    marketing|     M| 31|\n|    64|     educator|     M| 32|\n|    65|     educator|     F| 51|\n|    66|      student|     M| 23|\n|    67|      student|     M| 17|\n|    68|      student|     M| 19|\n|    69|     engineer|     M| 24|\n|    70|     engineer|     M| 27|\n|    71|    scientist|     M| 39|\n|    72|administrator|     F| 48|\n|    73|      student|     M| 24|\n|    74|    scientist|     M| 39|\n|    75|entertainment|     M| 24|\n|    76|      student|     M| 20|\n|    77|   technician|     M| 30|\n|    78|administrator|     M| 26|\n|    79|administrator|     F| 39|\n|    80|administrator|     F| 34|\n|    81|      student|     M| 21|\n|    82|   programmer|     M| 50|\n|    83|        other|     M| 40|\n|    84|    executive|     M| 32|\n|    85|     educator|     M| 51|\n|    86|administrator|     M| 26|\n|    87|administrator|     M| 47|\n|    88|    librarian|     F| 49|\n|    89|administrator|     F| 43|\n|    90|     educator|     M| 60|\n|    91|    marketing|     M| 55|\n|    92|entertainment|     M| 32|\n|    93|    executive|     M| 48|\n|    94|      student|     M| 26|\n|    95|administrator|     M| 31|\n|    96|       artist|     F| 25|\n|    97|       artist|     M| 43|\n|    98|    executive|     F| 49|\n|    99|      student|     M| 20|\n|   100|    executive|     M| 36|\n+------+-------------+------+---+\nonly showing top 100 rows\n\n</div>",
              "removedWidgets": [],
              "addedWidgets": {},
              "type": "html",
              "arguments": {}
            }
          },
          "data": {
            "text/html": [
              "<style scoped>\n  .ansiout {\n    display: block;\n    unicode-bidi: embed;\n    white-space: pre-wrap;\n    word-wrap: break-word;\n    word-break: break-all;\n    font-family: \"Source Code Pro\", \"Menlo\", monospace;;\n    font-size: 13px;\n    color: #555;\n    margin-left: 4px;\n    line-height: 19px;\n  }\n</style>\n<div class=\"ansiout\">+------+-------------+------+---+\nuserid|   occupation|gender|age|\n+------+-------------+------+---+\n     1|   technician|     M| 24|\n     2|        other|     F| 53|\n     3|       writer|     M| 23|\n     4|   technician|     M| 24|\n     5|        other|     F| 33|\n     6|    executive|     M| 42|\n     7|administrator|     M| 57|\n     8|administrator|     M| 36|\n     9|      student|     M| 29|\n    10|       lawyer|     M| 53|\n    11|        other|     F| 39|\n    12|        other|     F| 28|\n    13|     educator|     M| 47|\n    14|    scientist|     M| 45|\n    15|     educator|     F| 49|\n    16|entertainment|     M| 21|\n    17|   programmer|     M| 30|\n    18|        other|     F| 35|\n    19|    librarian|     M| 40|\n    20|    homemaker|     F| 42|\n    21|       writer|     M| 26|\n    22|       writer|     M| 25|\n    23|       artist|     F| 30|\n    24|       artist|     F| 21|\n    25|     engineer|     M| 39|\n    26|     engineer|     M| 49|\n    27|    librarian|     F| 40|\n    28|       writer|     M| 32|\n    29|   programmer|     M| 41|\n    30|      student|     M|  7|\n    31|       artist|     M| 24|\n    32|      student|     F| 28|\n    33|      student|     M| 23|\n    34|administrator|     F| 38|\n    35|    homemaker|     F| 20|\n    36|      student|     F| 19|\n    37|      student|     M| 23|\n    38|        other|     F| 28|\n    39|entertainment|     M| 41|\n    40|    scientist|     M| 38|\n    41|     engineer|     M| 33|\n    42|administrator|     M| 30|\n    43|    librarian|     F| 29|\n    44|   technician|     M| 26|\n    45|   programmer|     M| 29|\n    46|    marketing|     F| 27|\n    47|    marketing|     M| 53|\n    48|administrator|     M| 45|\n    49|      student|     F| 23|\n    50|       writer|     M| 21|\n    51|     educator|     M| 28|\n    52|      student|     F| 18|\n    53|   programmer|     M| 26|\n    54|    executive|     M| 22|\n    55|   programmer|     M| 37|\n    56|    librarian|     M| 25|\n    57|         none|     M| 16|\n    58|   programmer|     M| 27|\n    59|     educator|     M| 49|\n    60|   healthcare|     M| 50|\n    61|     engineer|     M| 36|\n    62|administrator|     F| 27|\n    63|    marketing|     M| 31|\n    64|     educator|     M| 32|\n    65|     educator|     F| 51|\n    66|      student|     M| 23|\n    67|      student|     M| 17|\n    68|      student|     M| 19|\n    69|     engineer|     M| 24|\n    70|     engineer|     M| 27|\n    71|    scientist|     M| 39|\n    72|administrator|     F| 48|\n    73|      student|     M| 24|\n    74|    scientist|     M| 39|\n    75|entertainment|     M| 24|\n    76|      student|     M| 20|\n    77|   technician|     M| 30|\n    78|administrator|     M| 26|\n    79|administrator|     F| 39|\n    80|administrator|     F| 34|\n    81|      student|     M| 21|\n    82|   programmer|     M| 50|\n    83|        other|     M| 40|\n    84|    executive|     M| 32|\n    85|     educator|     M| 51|\n    86|administrator|     M| 26|\n    87|administrator|     M| 47|\n    88|    librarian|     F| 49|\n    89|administrator|     F| 43|\n    90|     educator|     M| 60|\n    91|    marketing|     M| 55|\n    92|entertainment|     M| 32|\n    93|    executive|     M| 48|\n    94|      student|     M| 26|\n    95|administrator|     M| 31|\n    96|       artist|     F| 25|\n    97|       artist|     M| 43|\n    98|    executive|     F| 49|\n    99|      student|     M| 20|\n   100|    executive|     M| 36|\n+------+-------------+------+---+\nonly showing top 100 rows\n\n</div>"
            ]
          }
        }
      ],
      "execution_count": null
    },
    {
      "cell_type": "code",
      "source": [
        "user_df.select( user_df.userid, user_df.occupation,user_df.gender,user_df.age ).show(5)"
      ],
      "metadata": {
        "application/vnd.databricks.v1+cell": {
          "title": "",
          "showTitle": false,
          "inputWidgets": {},
          "nuid": "afcac2d2-54a0-417f-ac38-8da6e6bf9b06"
        },
        "id": "BNglLS8M7TNJ",
        "outputId": "1d3672dd-3329-423b-f3a1-a163186d1469"
      },
      "outputs": [
        {
          "output_type": "display_data",
          "metadata": {
            "application/vnd.databricks.v1+output": {
              "datasetInfos": [],
              "data": "<div class=\"ansiout\">+------+----------+------+---+\n|userid|occupation|gender|age|\n+------+----------+------+---+\n|     1|technician|     M| 24|\n|     2|     other|     F| 53|\n|     3|    writer|     M| 23|\n|     4|technician|     M| 24|\n|     5|     other|     F| 33|\n+------+----------+------+---+\nonly showing top 5 rows\n\n</div>",
              "removedWidgets": [],
              "addedWidgets": {},
              "type": "html",
              "arguments": {}
            }
          },
          "data": {
            "text/html": [
              "<style scoped>\n  .ansiout {\n    display: block;\n    unicode-bidi: embed;\n    white-space: pre-wrap;\n    word-wrap: break-word;\n    word-break: break-all;\n    font-family: \"Source Code Pro\", \"Menlo\", monospace;;\n    font-size: 13px;\n    color: #555;\n    margin-left: 4px;\n    line-height: 19px;\n  }\n</style>\n<div class=\"ansiout\">+------+----------+------+---+\nuserid|occupation|gender|age|\n+------+----------+------+---+\n     1|technician|     M| 24|\n     2|     other|     F| 53|\n     3|    writer|     M| 23|\n     4|technician|     M| 24|\n     5|     other|     F| 33|\n+------+----------+------+---+\nonly showing top 5 rows\n\n</div>"
            ]
          }
        }
      ],
      "execution_count": null
    },
    {
      "cell_type": "code",
      "source": [
        "df.select(df.userid,df.occupation,df.gender,df.age).show(5)"
      ],
      "metadata": {
        "application/vnd.databricks.v1+cell": {
          "title": "",
          "showTitle": false,
          "inputWidgets": {},
          "nuid": "670693c1-88f2-423a-9ff5-0bcbd71452e4"
        },
        "id": "PBKbgwSt7TNO",
        "outputId": "a3cc8f24-560c-4455-ecbd-2ac148c84c1e"
      },
      "outputs": [
        {
          "output_type": "display_data",
          "metadata": {
            "application/vnd.databricks.v1+output": {
              "datasetInfos": [],
              "data": "<div class=\"ansiout\">+------+----------+------+---+\n|userid|occupation|gender|age|\n+------+----------+------+---+\n|     1|technician|     M| 24|\n|     2|     other|     F| 53|\n|     3|    writer|     M| 23|\n|     4|technician|     M| 24|\n|     5|     other|     F| 33|\n+------+----------+------+---+\nonly showing top 5 rows\n\n</div>",
              "removedWidgets": [],
              "addedWidgets": {},
              "type": "html",
              "arguments": {}
            }
          },
          "data": {
            "text/html": [
              "<style scoped>\n  .ansiout {\n    display: block;\n    unicode-bidi: embed;\n    white-space: pre-wrap;\n    word-wrap: break-word;\n    word-break: break-all;\n    font-family: \"Source Code Pro\", \"Menlo\", monospace;;\n    font-size: 13px;\n    color: #555;\n    margin-left: 4px;\n    line-height: 19px;\n  }\n</style>\n<div class=\"ansiout\">+------+----------+------+---+\nuserid|occupation|gender|age|\n+------+----------+------+---+\n     1|technician|     M| 24|\n     2|     other|     F| 53|\n     3|    writer|     M| 23|\n     4|technician|     M| 24|\n     5|     other|     F| 33|\n+------+----------+------+---+\nonly showing top 5 rows\n\n</div>"
            ]
          }
        }
      ],
      "execution_count": null
    },
    {
      "cell_type": "code",
      "source": [
        "user_df.select(user_df.userid, user_df.occupation,df.gender,df.age ).show(5)"
      ],
      "metadata": {
        "application/vnd.databricks.v1+cell": {
          "title": "",
          "showTitle": false,
          "inputWidgets": {},
          "nuid": "bb079157-1ca4-4423-97e5-5d0af83b15f6"
        },
        "id": "pzPdnWbl7TNP",
        "outputId": "0da93fee-feb2-4804-e563-daf4357db3cf"
      },
      "outputs": [
        {
          "output_type": "display_data",
          "metadata": {
            "application/vnd.databricks.v1+output": {
              "datasetInfos": [],
              "data": "<div class=\"ansiout\">+------+----------+------+---+\n|userid|occupation|gender|age|\n+------+----------+------+---+\n|     1|technician|     M| 24|\n|     2|     other|     F| 53|\n|     3|    writer|     M| 23|\n|     4|technician|     M| 24|\n|     5|     other|     F| 33|\n+------+----------+------+---+\nonly showing top 5 rows\n\n</div>",
              "removedWidgets": [],
              "addedWidgets": {},
              "type": "html",
              "arguments": {}
            }
          },
          "data": {
            "text/html": [
              "<style scoped>\n  .ansiout {\n    display: block;\n    unicode-bidi: embed;\n    white-space: pre-wrap;\n    word-wrap: break-word;\n    word-break: break-all;\n    font-family: \"Source Code Pro\", \"Menlo\", monospace;;\n    font-size: 13px;\n    color: #555;\n    margin-left: 4px;\n    line-height: 19px;\n  }\n</style>\n<div class=\"ansiout\">+------+----------+------+---+\nuserid|occupation|gender|age|\n+------+----------+------+---+\n     1|technician|     M| 24|\n     2|     other|     F| 53|\n     3|    writer|     M| 23|\n     4|technician|     M| 24|\n     5|     other|     F| 33|\n+------+----------+------+---+\nonly showing top 5 rows\n\n</div>"
            ]
          }
        }
      ],
      "execution_count": null
    },
    {
      "cell_type": "code",
      "source": [
        "df[df['userid'],df['occupation'],df['gender'],df['age']  ].show(5)"
      ],
      "metadata": {
        "application/vnd.databricks.v1+cell": {
          "title": "",
          "showTitle": false,
          "inputWidgets": {},
          "nuid": "e8400c26-2da0-441e-bd70-5583784ab1f4"
        },
        "id": "DMtNt5m27TNQ",
        "outputId": "56b3c1d7-296c-4af0-9df2-b70be7efb0f5"
      },
      "outputs": [
        {
          "output_type": "display_data",
          "metadata": {
            "application/vnd.databricks.v1+output": {
              "datasetInfos": [],
              "data": "<div class=\"ansiout\">+------+----------+------+---+\n|userid|occupation|gender|age|\n+------+----------+------+---+\n|     1|technician|     M| 24|\n|     2|     other|     F| 53|\n|     3|    writer|     M| 23|\n|     4|technician|     M| 24|\n|     5|     other|     F| 33|\n+------+----------+------+---+\nonly showing top 5 rows\n\n</div>",
              "removedWidgets": [],
              "addedWidgets": {},
              "type": "html",
              "arguments": {}
            }
          },
          "data": {
            "text/html": [
              "<style scoped>\n  .ansiout {\n    display: block;\n    unicode-bidi: embed;\n    white-space: pre-wrap;\n    word-wrap: break-word;\n    word-break: break-all;\n    font-family: \"Source Code Pro\", \"Menlo\", monospace;;\n    font-size: 13px;\n    color: #555;\n    margin-left: 4px;\n    line-height: 19px;\n  }\n</style>\n<div class=\"ansiout\">+------+----------+------+---+\nuserid|occupation|gender|age|\n+------+----------+------+---+\n     1|technician|     M| 24|\n     2|     other|     F| 53|\n     3|    writer|     M| 23|\n     4|technician|     M| 24|\n     5|     other|     F| 33|\n+------+----------+------+---+\nonly showing top 5 rows\n\n</div>"
            ]
          }
        }
      ],
      "execution_count": null
    },
    {
      "cell_type": "code",
      "source": [
        "sqlContext.sql(\" SELECT userid,occupation,gender,age  FROM user_table\").show(5)"
      ],
      "metadata": {
        "application/vnd.databricks.v1+cell": {
          "title": "",
          "showTitle": false,
          "inputWidgets": {},
          "nuid": "f25289b4-78a1-4d17-b515-678f2c3834f5"
        },
        "id": "cuknA7_e7TNR",
        "outputId": "fcb18bf8-5dce-4176-d511-98b56e3cad45"
      },
      "outputs": [
        {
          "output_type": "display_data",
          "metadata": {
            "application/vnd.databricks.v1+output": {
              "datasetInfos": [],
              "data": "<div class=\"ansiout\">+------+----------+------+---+\n|userid|occupation|gender|age|\n+------+----------+------+---+\n|     1|technician|     M| 24|\n|     2|     other|     F| 53|\n|     3|    writer|     M| 23|\n|     4|technician|     M| 24|\n|     5|     other|     F| 33|\n+------+----------+------+---+\nonly showing top 5 rows\n\n</div>",
              "removedWidgets": [],
              "addedWidgets": {},
              "type": "html",
              "arguments": {}
            }
          },
          "data": {
            "text/html": [
              "<style scoped>\n  .ansiout {\n    display: block;\n    unicode-bidi: embed;\n    white-space: pre-wrap;\n    word-wrap: break-word;\n    word-break: break-all;\n    font-family: \"Source Code Pro\", \"Menlo\", monospace;;\n    font-size: 13px;\n    color: #555;\n    margin-left: 4px;\n    line-height: 19px;\n  }\n</style>\n<div class=\"ansiout\">+------+----------+------+---+\nuserid|occupation|gender|age|\n+------+----------+------+---+\n     1|technician|     M| 24|\n     2|     other|     F| 53|\n     3|    writer|     M| 23|\n     4|technician|     M| 24|\n     5|     other|     F| 33|\n+------+----------+------+---+\nonly showing top 5 rows\n\n</div>"
            ]
          }
        }
      ],
      "execution_count": null
    },
    {
      "cell_type": "markdown",
      "source": [
        "# 19.4 增加計算欄位"
      ],
      "metadata": {
        "application/vnd.databricks.v1+cell": {
          "title": "",
          "showTitle": false,
          "inputWidgets": {},
          "nuid": "dd02935f-be8c-46ba-a0f9-a2f65b23090f"
        },
        "id": "6HdxLuha7TNR"
      }
    },
    {
      "cell_type": "code",
      "source": [
        "userRDDnew= userRDD.map(lambda x: (x[0],x[3],x[2],x[1] ,2016-int(x[1])) )\n",
        "userRDDnew.take(5)"
      ],
      "metadata": {
        "application/vnd.databricks.v1+cell": {
          "title": "",
          "showTitle": false,
          "inputWidgets": {},
          "nuid": "48b9d67c-8f27-437e-b7d0-1a87b4264e38"
        },
        "id": "nn_Q-dwW7TNS",
        "outputId": "849ecb46-978a-40e1-f977-da1cc7a8c4db"
      },
      "outputs": [
        {
          "output_type": "display_data",
          "metadata": {
            "application/vnd.databricks.v1+output": {
              "datasetInfos": [],
              "data": "<div class=\"ansiout\">Out[28]: [(&#39;1&#39;, &#39;technician&#39;, &#39;M&#39;, &#39;24&#39;, 1992),\n (&#39;2&#39;, &#39;other&#39;, &#39;F&#39;, &#39;53&#39;, 1963),\n (&#39;3&#39;, &#39;writer&#39;, &#39;M&#39;, &#39;23&#39;, 1993),\n (&#39;4&#39;, &#39;technician&#39;, &#39;M&#39;, &#39;24&#39;, 1992),\n (&#39;5&#39;, &#39;other&#39;, &#39;F&#39;, &#39;33&#39;, 1983)]</div>",
              "removedWidgets": [],
              "addedWidgets": {},
              "type": "html",
              "arguments": {}
            }
          },
          "data": {
            "text/html": [
              "<style scoped>\n  .ansiout {\n    display: block;\n    unicode-bidi: embed;\n    white-space: pre-wrap;\n    word-wrap: break-word;\n    word-break: break-all;\n    font-family: \"Source Code Pro\", \"Menlo\", monospace;;\n    font-size: 13px;\n    color: #555;\n    margin-left: 4px;\n    line-height: 19px;\n  }\n</style>\n<div class=\"ansiout\">Out[28]: [(&#39;1&#39;, &#39;technician&#39;, &#39;M&#39;, &#39;24&#39;, 1992),\n (&#39;2&#39;, &#39;other&#39;, &#39;F&#39;, &#39;53&#39;, 1963),\n (&#39;3&#39;, &#39;writer&#39;, &#39;M&#39;, &#39;23&#39;, 1993),\n (&#39;4&#39;, &#39;technician&#39;, &#39;M&#39;, &#39;24&#39;, 1992),\n (&#39;5&#39;, &#39;other&#39;, &#39;F&#39;, &#39;33&#39;, 1983)]</div>"
            ]
          }
        }
      ],
      "execution_count": null
    },
    {
      "cell_type": "code",
      "source": [
        "df.select(\"userid\",\"occupation\",\"gender\",\"age\",2016-df.age).show(5)"
      ],
      "metadata": {
        "application/vnd.databricks.v1+cell": {
          "title": "",
          "showTitle": false,
          "inputWidgets": {},
          "nuid": "e534102c-5c3f-4115-a74d-85d626abb60e"
        },
        "id": "n5FjCM1C7TNS",
        "outputId": "9a5b495a-9a46-46fa-e47b-783a993b0399"
      },
      "outputs": [
        {
          "output_type": "display_data",
          "metadata": {
            "application/vnd.databricks.v1+output": {
              "datasetInfos": [],
              "data": "<div class=\"ansiout\">+------+----------+------+---+------------+\n|userid|occupation|gender|age|(2016 - age)|\n+------+----------+------+---+------------+\n|     1|technician|     M| 24|        1992|\n|     2|     other|     F| 53|        1963|\n|     3|    writer|     M| 23|        1993|\n|     4|technician|     M| 24|        1992|\n|     5|     other|     F| 33|        1983|\n+------+----------+------+---+------------+\nonly showing top 5 rows\n\n</div>",
              "removedWidgets": [],
              "addedWidgets": {},
              "type": "html",
              "arguments": {}
            }
          },
          "data": {
            "text/html": [
              "<style scoped>\n  .ansiout {\n    display: block;\n    unicode-bidi: embed;\n    white-space: pre-wrap;\n    word-wrap: break-word;\n    word-break: break-all;\n    font-family: \"Source Code Pro\", \"Menlo\", monospace;;\n    font-size: 13px;\n    color: #555;\n    margin-left: 4px;\n    line-height: 19px;\n  }\n</style>\n<div class=\"ansiout\">+------+----------+------+---+------------+\nuserid|occupation|gender|age|(2016 - age)|\n+------+----------+------+---+------------+\n     1|technician|     M| 24|        1992|\n     2|     other|     F| 53|        1963|\n     3|    writer|     M| 23|        1993|\n     4|technician|     M| 24|        1992|\n     5|     other|     F| 33|        1983|\n+------+----------+------+---+------------+\nonly showing top 5 rows\n\n</div>"
            ]
          }
        }
      ],
      "execution_count": null
    },
    {
      "cell_type": "code",
      "source": [
        "df.select(\"userid\",\"occupation\",\"gender\",\"age\",(2016-df.age).alias(\"birthyear\")).show(5)"
      ],
      "metadata": {
        "application/vnd.databricks.v1+cell": {
          "title": "",
          "showTitle": false,
          "inputWidgets": {},
          "nuid": "4ed7e57f-e35a-466a-8d2b-856e458cd89f"
        },
        "id": "vfW9svMd7TNT",
        "outputId": "a696674c-8c89-41c2-e328-23473b5063ab"
      },
      "outputs": [
        {
          "output_type": "display_data",
          "metadata": {
            "application/vnd.databricks.v1+output": {
              "datasetInfos": [],
              "data": "<div class=\"ansiout\">+------+----------+------+---+---------+\n|userid|occupation|gender|age|birthyear|\n+------+----------+------+---+---------+\n|     1|technician|     M| 24|     1992|\n|     2|     other|     F| 53|     1963|\n|     3|    writer|     M| 23|     1993|\n|     4|technician|     M| 24|     1992|\n|     5|     other|     F| 33|     1983|\n+------+----------+------+---+---------+\nonly showing top 5 rows\n\n</div>",
              "removedWidgets": [],
              "addedWidgets": {},
              "type": "html",
              "arguments": {}
            }
          },
          "data": {
            "text/html": [
              "<style scoped>\n  .ansiout {\n    display: block;\n    unicode-bidi: embed;\n    white-space: pre-wrap;\n    word-wrap: break-word;\n    word-break: break-all;\n    font-family: \"Source Code Pro\", \"Menlo\", monospace;;\n    font-size: 13px;\n    color: #555;\n    margin-left: 4px;\n    line-height: 19px;\n  }\n</style>\n<div class=\"ansiout\">+------+----------+------+---+---------+\nuserid|occupation|gender|age|birthyear|\n+------+----------+------+---+---------+\n     1|technician|     M| 24|     1992|\n     2|     other|     F| 53|     1963|\n     3|    writer|     M| 23|     1993|\n     4|technician|     M| 24|     1992|\n     5|     other|     F| 33|     1983|\n+------+----------+------+---+---------+\nonly showing top 5 rows\n\n</div>"
            ]
          }
        }
      ],
      "execution_count": null
    },
    {
      "cell_type": "code",
      "source": [
        "sqlContext.sql(\"\"\"\n",
        "SELECT userid,occupation,gender,age,2016-age birthyear \n",
        "FROM user_table\"\"\").show(5)"
      ],
      "metadata": {
        "application/vnd.databricks.v1+cell": {
          "title": "",
          "showTitle": false,
          "inputWidgets": {},
          "nuid": "e4de865b-ba3d-4509-a748-a438f17d3880"
        },
        "id": "sTmH2_GH7TNT",
        "outputId": "3791ee77-cd56-4e21-c7f7-b2d4cc61cde7"
      },
      "outputs": [
        {
          "output_type": "display_data",
          "metadata": {
            "application/vnd.databricks.v1+output": {
              "datasetInfos": [],
              "data": "<div class=\"ansiout\">+------+----------+------+---+---------+\n|userid|occupation|gender|age|birthyear|\n+------+----------+------+---+---------+\n|     1|technician|     M| 24|     1992|\n|     2|     other|     F| 53|     1963|\n|     3|    writer|     M| 23|     1993|\n|     4|technician|     M| 24|     1992|\n|     5|     other|     F| 33|     1983|\n+------+----------+------+---+---------+\nonly showing top 5 rows\n\n</div>",
              "removedWidgets": [],
              "addedWidgets": {},
              "type": "html",
              "arguments": {}
            }
          },
          "data": {
            "text/html": [
              "<style scoped>\n  .ansiout {\n    display: block;\n    unicode-bidi: embed;\n    white-space: pre-wrap;\n    word-wrap: break-word;\n    word-break: break-all;\n    font-family: \"Source Code Pro\", \"Menlo\", monospace;;\n    font-size: 13px;\n    color: #555;\n    margin-left: 4px;\n    line-height: 19px;\n  }\n</style>\n<div class=\"ansiout\">+------+----------+------+---+---------+\nuserid|occupation|gender|age|birthyear|\n+------+----------+------+---+---------+\n     1|technician|     M| 24|     1992|\n     2|     other|     F| 53|     1963|\n     3|    writer|     M| 23|     1993|\n     4|technician|     M| 24|     1992|\n     5|     other|     F| 33|     1983|\n+------+----------+------+---+---------+\nonly showing top 5 rows\n\n</div>"
            ]
          }
        }
      ],
      "execution_count": null
    },
    {
      "cell_type": "markdown",
      "source": [
        "# 19.5篩選資料"
      ],
      "metadata": {
        "application/vnd.databricks.v1+cell": {
          "title": "",
          "showTitle": false,
          "inputWidgets": {},
          "nuid": "707d4eb7-a8c2-4037-a92b-21e9cc01624e"
        },
        "id": "MSAK85rS7TNU"
      }
    },
    {
      "cell_type": "code",
      "source": [
        "userRDD.filter(lambda r:   r[3]=='technician' and r[2]=='M' and r[1]=='24').take(6)    "
      ],
      "metadata": {
        "application/vnd.databricks.v1+cell": {
          "title": "",
          "showTitle": false,
          "inputWidgets": {},
          "nuid": "d6dc5874-ce7c-4dac-9542-0be0087c881f"
        },
        "id": "0Ig2PP-G7TNV",
        "outputId": "497022dd-f329-4841-8dee-0b5e323bd232"
      },
      "outputs": [
        {
          "output_type": "display_data",
          "metadata": {
            "application/vnd.databricks.v1+output": {
              "datasetInfos": [],
              "data": "<div class=\"ansiout\">Out[32]: [[&#39;1&#39;, &#39;24&#39;, &#39;M&#39;, &#39;technician&#39;, &#39;85711&#39;],\n [&#39;4&#39;, &#39;24&#39;, &#39;M&#39;, &#39;technician&#39;, &#39;43537&#39;],\n [&#39;456&#39;, &#39;24&#39;, &#39;M&#39;, &#39;technician&#39;, &#39;31820&#39;],\n [&#39;717&#39;, &#39;24&#39;, &#39;M&#39;, &#39;technician&#39;, &#39;84105&#39;],\n [&#39;832&#39;, &#39;24&#39;, &#39;M&#39;, &#39;technician&#39;, &#39;77042&#39;],\n [&#39;889&#39;, &#39;24&#39;, &#39;M&#39;, &#39;technician&#39;, &#39;78704&#39;]]</div>",
              "removedWidgets": [],
              "addedWidgets": {},
              "type": "html",
              "arguments": {}
            }
          },
          "data": {
            "text/html": [
              "<style scoped>\n  .ansiout {\n    display: block;\n    unicode-bidi: embed;\n    white-space: pre-wrap;\n    word-wrap: break-word;\n    word-break: break-all;\n    font-family: \"Source Code Pro\", \"Menlo\", monospace;;\n    font-size: 13px;\n    color: #555;\n    margin-left: 4px;\n    line-height: 19px;\n  }\n</style>\n<div class=\"ansiout\">Out[32]: [[&#39;1&#39;, &#39;24&#39;, &#39;M&#39;, &#39;technician&#39;, &#39;85711&#39;],\n [&#39;4&#39;, &#39;24&#39;, &#39;M&#39;, &#39;technician&#39;, &#39;43537&#39;],\n [&#39;456&#39;, &#39;24&#39;, &#39;M&#39;, &#39;technician&#39;, &#39;31820&#39;],\n [&#39;717&#39;, &#39;24&#39;, &#39;M&#39;, &#39;technician&#39;, &#39;84105&#39;],\n [&#39;832&#39;, &#39;24&#39;, &#39;M&#39;, &#39;technician&#39;, &#39;77042&#39;],\n [&#39;889&#39;, &#39;24&#39;, &#39;M&#39;, &#39;technician&#39;, &#39;78704&#39;]]</div>"
            ]
          }
        }
      ],
      "execution_count": null
    },
    {
      "cell_type": "code",
      "source": [
        "user_df.filter(\"occupation='technician' \").filter(\"gender='M' \").filter(\"age=24\").show()"
      ],
      "metadata": {
        "application/vnd.databricks.v1+cell": {
          "title": "",
          "showTitle": false,
          "inputWidgets": {},
          "nuid": "53b38157-b501-4b65-a0b4-dcc2bb0a68ff"
        },
        "id": "7k_09LsE7TNV",
        "outputId": "bc7ea802-2810-4d9d-8c31-b832ef711240"
      },
      "outputs": [
        {
          "output_type": "display_data",
          "metadata": {
            "application/vnd.databricks.v1+output": {
              "datasetInfos": [],
              "data": "<div class=\"ansiout\">+---+------+----------+------+-------+\n|age|gender|occupation|userid|zipcode|\n+---+------+----------+------+-------+\n| 24|     M|technician|     1|  85711|\n| 24|     M|technician|     4|  43537|\n| 24|     M|technician|   456|  31820|\n| 24|     M|technician|   717|  84105|\n| 24|     M|technician|   832|  77042|\n| 24|     M|technician|   889|  78704|\n+---+------+----------+------+-------+\n\n</div>",
              "removedWidgets": [],
              "addedWidgets": {},
              "type": "html",
              "arguments": {}
            }
          },
          "data": {
            "text/html": [
              "<style scoped>\n  .ansiout {\n    display: block;\n    unicode-bidi: embed;\n    white-space: pre-wrap;\n    word-wrap: break-word;\n    word-break: break-all;\n    font-family: \"Source Code Pro\", \"Menlo\", monospace;;\n    font-size: 13px;\n    color: #555;\n    margin-left: 4px;\n    line-height: 19px;\n  }\n</style>\n<div class=\"ansiout\">+---+------+----------+------+-------+\nage|gender|occupation|userid|zipcode|\n+---+------+----------+------+-------+\n 24|     M|technician|     1|  85711|\n 24|     M|technician|     4|  43537|\n 24|     M|technician|   456|  31820|\n 24|     M|technician|   717|  84105|\n 24|     M|technician|   832|  77042|\n 24|     M|technician|   889|  78704|\n+---+------+----------+------+-------+\n\n</div>"
            ]
          }
        }
      ],
      "execution_count": null
    },
    {
      "cell_type": "code",
      "source": [
        "user_df.filter(\"occupation='technician' and gender='M' and age=24\").show()"
      ],
      "metadata": {
        "application/vnd.databricks.v1+cell": {
          "title": "",
          "showTitle": false,
          "inputWidgets": {},
          "nuid": "4cf7e9bf-2b36-46ce-a5cf-7fa4beb03ff7"
        },
        "id": "fY2LdZuH7TNW",
        "outputId": "71947a7f-f2a6-4885-ff74-b65979a16442"
      },
      "outputs": [
        {
          "output_type": "display_data",
          "metadata": {
            "application/vnd.databricks.v1+output": {
              "datasetInfos": [],
              "data": "<div class=\"ansiout\">+---+------+----------+------+-------+\n|age|gender|occupation|userid|zipcode|\n+---+------+----------+------+-------+\n| 24|     M|technician|     1|  85711|\n| 24|     M|technician|     4|  43537|\n| 24|     M|technician|   456|  31820|\n| 24|     M|technician|   717|  84105|\n| 24|     M|technician|   832|  77042|\n| 24|     M|technician|   889|  78704|\n+---+------+----------+------+-------+\n\n</div>",
              "removedWidgets": [],
              "addedWidgets": {},
              "type": "html",
              "arguments": {}
            }
          },
          "data": {
            "text/html": [
              "<style scoped>\n  .ansiout {\n    display: block;\n    unicode-bidi: embed;\n    white-space: pre-wrap;\n    word-wrap: break-word;\n    word-break: break-all;\n    font-family: \"Source Code Pro\", \"Menlo\", monospace;;\n    font-size: 13px;\n    color: #555;\n    margin-left: 4px;\n    line-height: 19px;\n  }\n</style>\n<div class=\"ansiout\">+---+------+----------+------+-------+\nage|gender|occupation|userid|zipcode|\n+---+------+----------+------+-------+\n 24|     M|technician|     1|  85711|\n 24|     M|technician|     4|  43537|\n 24|     M|technician|   456|  31820|\n 24|     M|technician|   717|  84105|\n 24|     M|technician|   832|  77042|\n 24|     M|technician|   889|  78704|\n+---+------+----------+------+-------+\n\n</div>"
            ]
          }
        }
      ],
      "execution_count": null
    },
    {
      "cell_type": "code",
      "source": [
        "df.filter((df.occupation=='technician' ) & (df.gender=='M' ) & (df.age==24)).show()"
      ],
      "metadata": {
        "application/vnd.databricks.v1+cell": {
          "title": "",
          "showTitle": false,
          "inputWidgets": {},
          "nuid": "c8988c7a-939d-4590-9f95-f0a451d08d70"
        },
        "id": "KNfdHEUC7TNW",
        "outputId": "f12bcd3b-948f-481d-9d02-a0cb073c9a94"
      },
      "outputs": [
        {
          "output_type": "display_data",
          "metadata": {
            "application/vnd.databricks.v1+output": {
              "datasetInfos": [],
              "data": "<div class=\"ansiout\">+---+------+----------+------+-------+\n|age|gender|occupation|userid|zipcode|\n+---+------+----------+------+-------+\n| 24|     M|technician|     1|  85711|\n| 24|     M|technician|     4|  43537|\n| 24|     M|technician|   456|  31820|\n| 24|     M|technician|   717|  84105|\n| 24|     M|technician|   832|  77042|\n| 24|     M|technician|   889|  78704|\n+---+------+----------+------+-------+\n\n</div>",
              "removedWidgets": [],
              "addedWidgets": {},
              "type": "html",
              "arguments": {}
            }
          },
          "data": {
            "text/html": [
              "<style scoped>\n  .ansiout {\n    display: block;\n    unicode-bidi: embed;\n    white-space: pre-wrap;\n    word-wrap: break-word;\n    word-break: break-all;\n    font-family: \"Source Code Pro\", \"Menlo\", monospace;;\n    font-size: 13px;\n    color: #555;\n    margin-left: 4px;\n    line-height: 19px;\n  }\n</style>\n<div class=\"ansiout\">+---+------+----------+------+-------+\nage|gender|occupation|userid|zipcode|\n+---+------+----------+------+-------+\n 24|     M|technician|     1|  85711|\n 24|     M|technician|     4|  43537|\n 24|     M|technician|   456|  31820|\n 24|     M|technician|   717|  84105|\n 24|     M|technician|   832|  77042|\n 24|     M|technician|   889|  78704|\n+---+------+----------+------+-------+\n\n</div>"
            ]
          }
        }
      ],
      "execution_count": null
    },
    {
      "cell_type": "code",
      "source": [
        "df.filter((df['occupation']=='technician' ) & (df['gender']=='M' ) & (df['age']==24)).show()"
      ],
      "metadata": {
        "application/vnd.databricks.v1+cell": {
          "title": "",
          "showTitle": false,
          "inputWidgets": {},
          "nuid": "5dc73d33-0ad6-46d9-8f29-4fec942e129a"
        },
        "id": "0Dk2dWuR7TNX",
        "outputId": "fcbd3d5f-7568-4106-c50c-5b7ef0735095"
      },
      "outputs": [
        {
          "output_type": "display_data",
          "metadata": {
            "application/vnd.databricks.v1+output": {
              "datasetInfos": [],
              "data": "<div class=\"ansiout\">+---+------+----------+------+-------+\n|age|gender|occupation|userid|zipcode|\n+---+------+----------+------+-------+\n| 24|     M|technician|     1|  85711|\n| 24|     M|technician|     4|  43537|\n| 24|     M|technician|   456|  31820|\n| 24|     M|technician|   717|  84105|\n| 24|     M|technician|   832|  77042|\n| 24|     M|technician|   889|  78704|\n+---+------+----------+------+-------+\n\n</div>",
              "removedWidgets": [],
              "addedWidgets": {},
              "type": "html",
              "arguments": {}
            }
          },
          "data": {
            "text/html": [
              "<style scoped>\n  .ansiout {\n    display: block;\n    unicode-bidi: embed;\n    white-space: pre-wrap;\n    word-wrap: break-word;\n    word-break: break-all;\n    font-family: \"Source Code Pro\", \"Menlo\", monospace;;\n    font-size: 13px;\n    color: #555;\n    margin-left: 4px;\n    line-height: 19px;\n  }\n</style>\n<div class=\"ansiout\">+---+------+----------+------+-------+\nage|gender|occupation|userid|zipcode|\n+---+------+----------+------+-------+\n 24|     M|technician|     1|  85711|\n 24|     M|technician|     4|  43537|\n 24|     M|technician|   456|  31820|\n 24|     M|technician|   717|  84105|\n 24|     M|technician|   832|  77042|\n 24|     M|technician|   889|  78704|\n+---+------+----------+------+-------+\n\n</div>"
            ]
          }
        }
      ],
      "execution_count": null
    },
    {
      "cell_type": "code",
      "source": [
        "#Step3 使用Spark SQL 篩選資料"
      ],
      "metadata": {
        "application/vnd.databricks.v1+cell": {
          "title": "",
          "showTitle": false,
          "inputWidgets": {},
          "nuid": "ee32c8ac-dda8-45bc-848e-ac7721165ca2"
        },
        "id": "UUoJlGIP7TNX",
        "outputId": "d68d564d-11f3-49ae-fe47-587439dee567"
      },
      "outputs": [
        {
          "output_type": "display_data",
          "metadata": {
            "application/vnd.databricks.v1+output": {
              "datasetInfos": [],
              "data": "<div class=\"ansiout\"></div>",
              "removedWidgets": [],
              "addedWidgets": {},
              "type": "html",
              "arguments": {}
            }
          },
          "data": {
            "text/html": [
              "<style scoped>\n  .ansiout {\n    display: block;\n    unicode-bidi: embed;\n    white-space: pre-wrap;\n    word-wrap: break-word;\n    word-break: break-all;\n    font-family: \"Source Code Pro\", \"Menlo\", monospace;;\n    font-size: 13px;\n    color: #555;\n    margin-left: 4px;\n    line-height: 19px;\n  }\n</style>\n<div class=\"ansiout\"></div>"
            ]
          }
        }
      ],
      "execution_count": null
    },
    {
      "cell_type": "code",
      "source": [
        "sqlContext.sql(\n",
        "'''SELECT *  \n",
        "FROM user_table \n",
        "where occupation='technician' and   gender='M' and age=24''').show(5)"
      ],
      "metadata": {
        "application/vnd.databricks.v1+cell": {
          "title": "",
          "showTitle": false,
          "inputWidgets": {},
          "nuid": "5c658f0a-ad9f-466a-b216-cee26483fb99"
        },
        "id": "Z1DFiwA37TNX",
        "outputId": "e9600e7b-3c1d-44bf-def9-b64674fe33f3"
      },
      "outputs": [
        {
          "output_type": "display_data",
          "metadata": {
            "application/vnd.databricks.v1+output": {
              "datasetInfos": [],
              "data": "<div class=\"ansiout\">+---+------+----------+------+-------+\n|age|gender|occupation|userid|zipcode|\n+---+------+----------+------+-------+\n| 24|     M|technician|     1|  85711|\n| 24|     M|technician|     4|  43537|\n| 24|     M|technician|   456|  31820|\n| 24|     M|technician|   717|  84105|\n| 24|     M|technician|   832|  77042|\n+---+------+----------+------+-------+\nonly showing top 5 rows\n\n</div>",
              "removedWidgets": [],
              "addedWidgets": {},
              "type": "html",
              "arguments": {}
            }
          },
          "data": {
            "text/html": [
              "<style scoped>\n  .ansiout {\n    display: block;\n    unicode-bidi: embed;\n    white-space: pre-wrap;\n    word-wrap: break-word;\n    word-break: break-all;\n    font-family: \"Source Code Pro\", \"Menlo\", monospace;;\n    font-size: 13px;\n    color: #555;\n    margin-left: 4px;\n    line-height: 19px;\n  }\n</style>\n<div class=\"ansiout\">+---+------+----------+------+-------+\nage|gender|occupation|userid|zipcode|\n+---+------+----------+------+-------+\n 24|     M|technician|     1|  85711|\n 24|     M|technician|     4|  43537|\n 24|     M|technician|   456|  31820|\n 24|     M|technician|   717|  84105|\n 24|     M|technician|   832|  77042|\n+---+------+----------+------+-------+\nonly showing top 5 rows\n\n</div>"
            ]
          }
        }
      ],
      "execution_count": null
    },
    {
      "cell_type": "markdown",
      "source": [
        "# 19.6 篩選資料"
      ],
      "metadata": {
        "application/vnd.databricks.v1+cell": {
          "title": "",
          "showTitle": false,
          "inputWidgets": {},
          "nuid": "c6baedfa-10fe-42a5-981d-fd1b36d9f11e"
        },
        "id": "LMShj60T7TNY"
      }
    },
    {
      "cell_type": "code",
      "source": [
        "#Step1 使用多個filter篩選資料\n",
        "user_df.filter(\"occupation='technician' \").filter(\"gender='M' \").filter(\"age=24\").show(5)"
      ],
      "metadata": {
        "application/vnd.databricks.v1+cell": {
          "title": "",
          "showTitle": false,
          "inputWidgets": {},
          "nuid": "e28ed9f6-4406-4655-9b0b-f013a8f13fd4"
        },
        "id": "0uu9Xf_i7TNY",
        "outputId": "102734f7-93d2-4efe-c7ea-1b9d98429163"
      },
      "outputs": [
        {
          "output_type": "display_data",
          "metadata": {
            "application/vnd.databricks.v1+output": {
              "datasetInfos": [],
              "data": "<div class=\"ansiout\">+---+------+----------+------+-------+\n|age|gender|occupation|userid|zipcode|\n+---+------+----------+------+-------+\n| 24|     M|technician|     1|  85711|\n| 24|     M|technician|     4|  43537|\n| 24|     M|technician|   456|  31820|\n| 24|     M|technician|   717|  84105|\n| 24|     M|technician|   832|  77042|\n+---+------+----------+------+-------+\nonly showing top 5 rows\n\n</div>",
              "removedWidgets": [],
              "addedWidgets": {},
              "type": "html",
              "arguments": {}
            }
          },
          "data": {
            "text/html": [
              "<style scoped>\n  .ansiout {\n    display: block;\n    unicode-bidi: embed;\n    white-space: pre-wrap;\n    word-wrap: break-word;\n    word-break: break-all;\n    font-family: \"Source Code Pro\", \"Menlo\", monospace;;\n    font-size: 13px;\n    color: #555;\n    margin-left: 4px;\n    line-height: 19px;\n  }\n</style>\n<div class=\"ansiout\">+---+------+----------+------+-------+\nage|gender|occupation|userid|zipcode|\n+---+------+----------+------+-------+\n 24|     M|technician|     1|  85711|\n 24|     M|technician|     4|  43537|\n 24|     M|technician|   456|  31820|\n 24|     M|technician|   717|  84105|\n 24|     M|technician|   832|  77042|\n+---+------+----------+------+-------+\nonly showing top 5 rows\n\n</div>"
            ]
          }
        }
      ],
      "execution_count": null
    },
    {
      "cell_type": "code",
      "source": [
        "user_df.filter(\"occupation='technician' and gender='M' and age=24\").show()"
      ],
      "metadata": {
        "application/vnd.databricks.v1+cell": {
          "title": "",
          "showTitle": false,
          "inputWidgets": {},
          "nuid": "be0361a1-33b2-409f-8666-eedc4e65dfe6"
        },
        "id": "69ZdBYNs7TNZ",
        "outputId": "346a61cd-28d4-48ac-9fa9-8cb667a22884"
      },
      "outputs": [
        {
          "output_type": "display_data",
          "metadata": {
            "application/vnd.databricks.v1+output": {
              "datasetInfos": [],
              "data": "<div class=\"ansiout\">+---+------+----------+------+-------+\n|age|gender|occupation|userid|zipcode|\n+---+------+----------+------+-------+\n| 24|     M|technician|     1|  85711|\n| 24|     M|technician|     4|  43537|\n| 24|     M|technician|   456|  31820|\n| 24|     M|technician|   717|  84105|\n| 24|     M|technician|   832|  77042|\n| 24|     M|technician|   889|  78704|\n+---+------+----------+------+-------+\n\n</div>",
              "removedWidgets": [],
              "addedWidgets": {},
              "type": "html",
              "arguments": {}
            }
          },
          "data": {
            "text/html": [
              "<style scoped>\n  .ansiout {\n    display: block;\n    unicode-bidi: embed;\n    white-space: pre-wrap;\n    word-wrap: break-word;\n    word-break: break-all;\n    font-family: \"Source Code Pro\", \"Menlo\", monospace;;\n    font-size: 13px;\n    color: #555;\n    margin-left: 4px;\n    line-height: 19px;\n  }\n</style>\n<div class=\"ansiout\">+---+------+----------+------+-------+\nage|gender|occupation|userid|zipcode|\n+---+------+----------+------+-------+\n 24|     M|technician|     1|  85711|\n 24|     M|technician|     4|  43537|\n 24|     M|technician|   456|  31820|\n 24|     M|technician|   717|  84105|\n 24|     M|technician|   832|  77042|\n 24|     M|technician|   889|  78704|\n+---+------+----------+------+-------+\n\n</div>"
            ]
          }
        }
      ],
      "execution_count": null
    },
    {
      "cell_type": "code",
      "source": [
        "user_df.filter(user_df.occupation=='technician' ).filter(user_df.gender=='M' ).filter(user_df.age==24).show()"
      ],
      "metadata": {
        "application/vnd.databricks.v1+cell": {
          "title": "",
          "showTitle": false,
          "inputWidgets": {},
          "nuid": "7e887895-7134-4812-bd21-7901d04e09a8"
        },
        "id": "ymoeFoEV7TNZ",
        "outputId": "f006826c-f97d-40f0-b157-ff503ec40012"
      },
      "outputs": [
        {
          "output_type": "display_data",
          "metadata": {
            "application/vnd.databricks.v1+output": {
              "datasetInfos": [],
              "data": "<div class=\"ansiout\">+---+------+----------+------+-------+\n|age|gender|occupation|userid|zipcode|\n+---+------+----------+------+-------+\n| 24|     M|technician|     1|  85711|\n| 24|     M|technician|     4|  43537|\n| 24|     M|technician|   456|  31820|\n| 24|     M|technician|   717|  84105|\n| 24|     M|technician|   832|  77042|\n| 24|     M|technician|   889|  78704|\n+---+------+----------+------+-------+\n\n</div>",
              "removedWidgets": [],
              "addedWidgets": {},
              "type": "html",
              "arguments": {}
            }
          },
          "data": {
            "text/html": [
              "<style scoped>\n  .ansiout {\n    display: block;\n    unicode-bidi: embed;\n    white-space: pre-wrap;\n    word-wrap: break-word;\n    word-break: break-all;\n    font-family: \"Source Code Pro\", \"Menlo\", monospace;;\n    font-size: 13px;\n    color: #555;\n    margin-left: 4px;\n    line-height: 19px;\n  }\n</style>\n<div class=\"ansiout\">+---+------+----------+------+-------+\nage|gender|occupation|userid|zipcode|\n+---+------+----------+------+-------+\n 24|     M|technician|     1|  85711|\n 24|     M|technician|     4|  43537|\n 24|     M|technician|   456|  31820|\n 24|     M|technician|   717|  84105|\n 24|     M|technician|   832|  77042|\n 24|     M|technician|   889|  78704|\n+---+------+----------+------+-------+\n\n</div>"
            ]
          }
        }
      ],
      "execution_count": null
    },
    {
      "cell_type": "code",
      "source": [
        "user_df.filter((df.occupation=='technician' ) & (df.gender=='M' ) & (df.age==24)).show()"
      ],
      "metadata": {
        "application/vnd.databricks.v1+cell": {
          "title": "",
          "showTitle": false,
          "inputWidgets": {},
          "nuid": "95e74edf-852d-4d52-8e3a-ecaf6bc0036c"
        },
        "id": "ul4Xf1Ew7TNa",
        "outputId": "2ce7343d-649d-4da7-f1a7-ce9364297224"
      },
      "outputs": [
        {
          "output_type": "display_data",
          "metadata": {
            "application/vnd.databricks.v1+output": {
              "datasetInfos": [],
              "data": "<div class=\"ansiout\">+---+------+----------+------+-------+\n|age|gender|occupation|userid|zipcode|\n+---+------+----------+------+-------+\n| 24|     M|technician|     1|  85711|\n| 24|     M|technician|     4|  43537|\n| 24|     M|technician|   456|  31820|\n| 24|     M|technician|   717|  84105|\n| 24|     M|technician|   832|  77042|\n| 24|     M|technician|   889|  78704|\n+---+------+----------+------+-------+\n\n</div>",
              "removedWidgets": [],
              "addedWidgets": {},
              "type": "html",
              "arguments": {}
            }
          },
          "data": {
            "text/html": [
              "<style scoped>\n  .ansiout {\n    display: block;\n    unicode-bidi: embed;\n    white-space: pre-wrap;\n    word-wrap: break-word;\n    word-break: break-all;\n    font-family: \"Source Code Pro\", \"Menlo\", monospace;;\n    font-size: 13px;\n    color: #555;\n    margin-left: 4px;\n    line-height: 19px;\n  }\n</style>\n<div class=\"ansiout\">+---+------+----------+------+-------+\nage|gender|occupation|userid|zipcode|\n+---+------+----------+------+-------+\n 24|     M|technician|     1|  85711|\n 24|     M|technician|     4|  43537|\n 24|     M|technician|   456|  31820|\n 24|     M|technician|   717|  84105|\n 24|     M|technician|   832|  77042|\n 24|     M|technician|   889|  78704|\n+---+------+----------+------+-------+\n\n</div>"
            ]
          }
        }
      ],
      "execution_count": null
    },
    {
      "cell_type": "code",
      "source": [
        "df.filter((df['occupation']=='technician' ) & (df['gender']=='M' ) &  (df['age']==24)).show()"
      ],
      "metadata": {
        "application/vnd.databricks.v1+cell": {
          "title": "",
          "showTitle": false,
          "inputWidgets": {},
          "nuid": "8862ea7f-7ba8-4d7e-af3d-0bd397b670bb"
        },
        "id": "MHnh-pnQ7TNa",
        "outputId": "942a9f98-529c-4313-c107-8fba61b45841"
      },
      "outputs": [
        {
          "output_type": "display_data",
          "metadata": {
            "application/vnd.databricks.v1+output": {
              "datasetInfos": [],
              "data": "<div class=\"ansiout\">+---+------+----------+------+-------+\n|age|gender|occupation|userid|zipcode|\n+---+------+----------+------+-------+\n| 24|     M|technician|     1|  85711|\n| 24|     M|technician|     4|  43537|\n| 24|     M|technician|   456|  31820|\n| 24|     M|technician|   717|  84105|\n| 24|     M|technician|   832|  77042|\n| 24|     M|technician|   889|  78704|\n+---+------+----------+------+-------+\n\n</div>",
              "removedWidgets": [],
              "addedWidgets": {},
              "type": "html",
              "arguments": {}
            }
          },
          "data": {
            "text/html": [
              "<style scoped>\n  .ansiout {\n    display: block;\n    unicode-bidi: embed;\n    white-space: pre-wrap;\n    word-wrap: break-word;\n    word-break: break-all;\n    font-family: \"Source Code Pro\", \"Menlo\", monospace;;\n    font-size: 13px;\n    color: #555;\n    margin-left: 4px;\n    line-height: 19px;\n  }\n</style>\n<div class=\"ansiout\">+---+------+----------+------+-------+\nage|gender|occupation|userid|zipcode|\n+---+------+----------+------+-------+\n 24|     M|technician|     1|  85711|\n 24|     M|technician|     4|  43537|\n 24|     M|technician|   456|  31820|\n 24|     M|technician|   717|  84105|\n 24|     M|technician|   832|  77042|\n 24|     M|technician|   889|  78704|\n+---+------+----------+------+-------+\n\n</div>"
            ]
          }
        }
      ],
      "execution_count": null
    },
    {
      "cell_type": "markdown",
      "source": [
        "# 19.6 單一欄位排序資料"
      ],
      "metadata": {
        "application/vnd.databricks.v1+cell": {
          "title": "",
          "showTitle": false,
          "inputWidgets": {},
          "nuid": "1bff6975-208b-4f1c-8c5e-1e3aa86350c6"
        },
        "id": "PuvtafAq7TNb"
      }
    },
    {
      "cell_type": "code",
      "source": [
        "userRDD.takeOrdered(5, key = lambda x: int(x[1]))"
      ],
      "metadata": {
        "application/vnd.databricks.v1+cell": {
          "title": "",
          "showTitle": false,
          "inputWidgets": {},
          "nuid": "c179be90-164a-4d43-90ce-481d02c38782"
        },
        "id": "EldleaW97TNb",
        "outputId": "54dc0f23-ca29-4fe1-b83e-3f5fa600dbe2"
      },
      "outputs": [
        {
          "output_type": "display_data",
          "metadata": {
            "application/vnd.databricks.v1+output": {
              "datasetInfos": [],
              "data": "<div class=\"ansiout\">Out[38]: [[&#39;30&#39;, &#39;7&#39;, &#39;M&#39;, &#39;student&#39;, &#39;55436&#39;],\n [&#39;471&#39;, &#39;10&#39;, &#39;M&#39;, &#39;student&#39;, &#39;77459&#39;],\n [&#39;289&#39;, &#39;11&#39;, &#39;M&#39;, &#39;none&#39;, &#39;94619&#39;],\n [&#39;142&#39;, &#39;13&#39;, &#39;M&#39;, &#39;other&#39;, &#39;48118&#39;],\n [&#39;609&#39;, &#39;13&#39;, &#39;F&#39;, &#39;student&#39;, &#39;55106&#39;]]</div>",
              "removedWidgets": [],
              "addedWidgets": {},
              "type": "html",
              "arguments": {}
            }
          },
          "data": {
            "text/html": [
              "<style scoped>\n  .ansiout {\n    display: block;\n    unicode-bidi: embed;\n    white-space: pre-wrap;\n    word-wrap: break-word;\n    word-break: break-all;\n    font-family: \"Source Code Pro\", \"Menlo\", monospace;;\n    font-size: 13px;\n    color: #555;\n    margin-left: 4px;\n    line-height: 19px;\n  }\n</style>\n<div class=\"ansiout\">Out[38]: [[&#39;30&#39;, &#39;7&#39;, &#39;M&#39;, &#39;student&#39;, &#39;55436&#39;],\n [&#39;471&#39;, &#39;10&#39;, &#39;M&#39;, &#39;student&#39;, &#39;77459&#39;],\n [&#39;289&#39;, &#39;11&#39;, &#39;M&#39;, &#39;none&#39;, &#39;94619&#39;],\n [&#39;142&#39;, &#39;13&#39;, &#39;M&#39;, &#39;other&#39;, &#39;48118&#39;],\n [&#39;609&#39;, &#39;13&#39;, &#39;F&#39;, &#39;student&#39;, &#39;55106&#39;]]</div>"
            ]
          }
        }
      ],
      "execution_count": null
    },
    {
      "cell_type": "code",
      "source": [
        "userRDD.takeOrdered(5, key = lambda x: -1*int(x[1]))"
      ],
      "metadata": {
        "application/vnd.databricks.v1+cell": {
          "title": "",
          "showTitle": false,
          "inputWidgets": {},
          "nuid": "7b31b55c-5640-49c7-822c-a23cdca7a289"
        },
        "id": "M2J7scj27TNc",
        "outputId": "be590adb-c88f-4f9c-e987-961eca73a282"
      },
      "outputs": [
        {
          "output_type": "display_data",
          "metadata": {
            "application/vnd.databricks.v1+output": {
              "datasetInfos": [],
              "data": "<div class=\"ansiout\">Out[39]: [[&#39;481&#39;, &#39;73&#39;, &#39;M&#39;, &#39;retired&#39;, &#39;37771&#39;],\n [&#39;767&#39;, &#39;70&#39;, &#39;M&#39;, &#39;engineer&#39;, &#39;00000&#39;],\n [&#39;803&#39;, &#39;70&#39;, &#39;M&#39;, &#39;administrator&#39;, &#39;78212&#39;],\n [&#39;860&#39;, &#39;70&#39;, &#39;F&#39;, &#39;retired&#39;, &#39;48322&#39;],\n [&#39;559&#39;, &#39;69&#39;, &#39;M&#39;, &#39;executive&#39;, &#39;10022&#39;]]</div>",
              "removedWidgets": [],
              "addedWidgets": {},
              "type": "html",
              "arguments": {}
            }
          },
          "data": {
            "text/html": [
              "<style scoped>\n  .ansiout {\n    display: block;\n    unicode-bidi: embed;\n    white-space: pre-wrap;\n    word-wrap: break-word;\n    word-break: break-all;\n    font-family: \"Source Code Pro\", \"Menlo\", monospace;;\n    font-size: 13px;\n    color: #555;\n    margin-left: 4px;\n    line-height: 19px;\n  }\n</style>\n<div class=\"ansiout\">Out[39]: [[&#39;481&#39;, &#39;73&#39;, &#39;M&#39;, &#39;retired&#39;, &#39;37771&#39;],\n [&#39;767&#39;, &#39;70&#39;, &#39;M&#39;, &#39;engineer&#39;, &#39;00000&#39;],\n [&#39;803&#39;, &#39;70&#39;, &#39;M&#39;, &#39;administrator&#39;, &#39;78212&#39;],\n [&#39;860&#39;, &#39;70&#39;, &#39;F&#39;, &#39;retired&#39;, &#39;48322&#39;],\n [&#39;559&#39;, &#39;69&#39;, &#39;M&#39;, &#39;executive&#39;, &#39;10022&#39;]]</div>"
            ]
          }
        }
      ],
      "execution_count": null
    },
    {
      "cell_type": "code",
      "source": [
        "sqlContext.sql(\"\"\"\n",
        "SELECT userid,occupation,gender,age   \n",
        "FROM user_table \n",
        "ORDER BY age\"\"\").show(5)"
      ],
      "metadata": {
        "application/vnd.databricks.v1+cell": {
          "title": "",
          "showTitle": false,
          "inputWidgets": {},
          "nuid": "8012edb5-2415-4498-89e0-06666e526ca8"
        },
        "id": "w3fzqsX47TNd",
        "outputId": "596ae43e-98c3-4181-fb39-64d44237ccdd"
      },
      "outputs": [
        {
          "output_type": "display_data",
          "metadata": {
            "application/vnd.databricks.v1+output": {
              "datasetInfos": [],
              "data": "<div class=\"ansiout\">+------+----------+------+---+\n|userid|occupation|gender|age|\n+------+----------+------+---+\n|    30|   student|     M|  7|\n|   471|   student|     M| 10|\n|   289|      none|     M| 11|\n|   880|   student|     M| 13|\n|   628|      none|     M| 13|\n+------+----------+------+---+\nonly showing top 5 rows\n\n</div>",
              "removedWidgets": [],
              "addedWidgets": {},
              "type": "html",
              "arguments": {}
            }
          },
          "data": {
            "text/html": [
              "<style scoped>\n  .ansiout {\n    display: block;\n    unicode-bidi: embed;\n    white-space: pre-wrap;\n    word-wrap: break-word;\n    word-break: break-all;\n    font-family: \"Source Code Pro\", \"Menlo\", monospace;;\n    font-size: 13px;\n    color: #555;\n    margin-left: 4px;\n    line-height: 19px;\n  }\n</style>\n<div class=\"ansiout\">+------+----------+------+---+\nuserid|occupation|gender|age|\n+------+----------+------+---+\n    30|   student|     M|  7|\n   471|   student|     M| 10|\n   289|      none|     M| 11|\n   880|   student|     M| 13|\n   628|      none|     M| 13|\n+------+----------+------+---+\nonly showing top 5 rows\n\n</div>"
            ]
          }
        }
      ],
      "execution_count": null
    },
    {
      "cell_type": "code",
      "source": [
        "sqlContext.sql(\"\"\"\n",
        "SELECT userid,occupation,gender,age   \n",
        "FROM user_table \n",
        "ORDER BY age DESC\"\"\").show(5)"
      ],
      "metadata": {
        "application/vnd.databricks.v1+cell": {
          "title": "",
          "showTitle": false,
          "inputWidgets": {},
          "nuid": "10fd5ac0-b51f-405a-98a5-b1fb7f3eb17e"
        },
        "id": "2_5PfsSC7TNd",
        "outputId": "0b63e6b3-909c-466d-bebc-807f7b279966"
      },
      "outputs": [
        {
          "output_type": "display_data",
          "metadata": {
            "application/vnd.databricks.v1+output": {
              "datasetInfos": [],
              "data": "<div class=\"ansiout\">+------+-------------+------+---+\n|userid|   occupation|gender|age|\n+------+-------------+------+---+\n|   481|      retired|     M| 73|\n|   860|      retired|     F| 70|\n|   767|     engineer|     M| 70|\n|   803|administrator|     M| 70|\n|   559|    executive|     M| 69|\n+------+-------------+------+---+\nonly showing top 5 rows\n\n</div>",
              "removedWidgets": [],
              "addedWidgets": {},
              "type": "html",
              "arguments": {}
            }
          },
          "data": {
            "text/html": [
              "<style scoped>\n  .ansiout {\n    display: block;\n    unicode-bidi: embed;\n    white-space: pre-wrap;\n    word-wrap: break-word;\n    word-break: break-all;\n    font-family: \"Source Code Pro\", \"Menlo\", monospace;;\n    font-size: 13px;\n    color: #555;\n    margin-left: 4px;\n    line-height: 19px;\n  }\n</style>\n<div class=\"ansiout\">+------+-------------+------+---+\nuserid|   occupation|gender|age|\n+------+-------------+------+---+\n   481|      retired|     M| 73|\n   860|      retired|     F| 70|\n   767|     engineer|     M| 70|\n   803|administrator|     M| 70|\n   559|    executive|     M| 69|\n+------+-------------+------+---+\nonly showing top 5 rows\n\n</div>"
            ]
          }
        }
      ],
      "execution_count": null
    },
    {
      "cell_type": "code",
      "source": [
        "user_df.select(\"userid\",\"occupation\",\"gender\",\"age\").orderBy(\"age\").show(5)"
      ],
      "metadata": {
        "application/vnd.databricks.v1+cell": {
          "title": "",
          "showTitle": false,
          "inputWidgets": {},
          "nuid": "e4e20883-d264-4907-8415-488a174de115"
        },
        "id": "9Nn_suNb7TNe",
        "outputId": "2cfdca32-5833-42cf-8344-97deaf1658a5"
      },
      "outputs": [
        {
          "output_type": "display_data",
          "metadata": {
            "application/vnd.databricks.v1+output": {
              "datasetInfos": [],
              "data": "<div class=\"ansiout\">+------+----------+------+---+\n|userid|occupation|gender|age|\n+------+----------+------+---+\n|    30|   student|     M|  7|\n|   471|   student|     M| 10|\n|   289|      none|     M| 11|\n|   142|     other|     M| 13|\n|   609|   student|     F| 13|\n+------+----------+------+---+\nonly showing top 5 rows\n\n</div>",
              "removedWidgets": [],
              "addedWidgets": {},
              "type": "html",
              "arguments": {}
            }
          },
          "data": {
            "text/html": [
              "<style scoped>\n  .ansiout {\n    display: block;\n    unicode-bidi: embed;\n    white-space: pre-wrap;\n    word-wrap: break-word;\n    word-break: break-all;\n    font-family: \"Source Code Pro\", \"Menlo\", monospace;;\n    font-size: 13px;\n    color: #555;\n    margin-left: 4px;\n    line-height: 19px;\n  }\n</style>\n<div class=\"ansiout\">+------+----------+------+---+\nuserid|occupation|gender|age|\n+------+----------+------+---+\n    30|   student|     M|  7|\n   471|   student|     M| 10|\n   289|      none|     M| 11|\n   142|     other|     M| 13|\n   609|   student|     F| 13|\n+------+----------+------+---+\nonly showing top 5 rows\n\n</div>"
            ]
          }
        }
      ],
      "execution_count": null
    },
    {
      "cell_type": "code",
      "source": [
        "df.select(\"userid\",\"occupation\",\"gender\",\"age\").orderBy(\"age\",ascending=0 ).show(5)"
      ],
      "metadata": {
        "application/vnd.databricks.v1+cell": {
          "title": "",
          "showTitle": false,
          "inputWidgets": {},
          "nuid": "ff7400f1-6b98-4be6-8631-faafef9f5e8b"
        },
        "id": "3HNGR7M07TNe",
        "outputId": "808b2dda-dd5d-4152-a9d5-c096f8169fcc"
      },
      "outputs": [
        {
          "output_type": "display_data",
          "metadata": {
            "application/vnd.databricks.v1+output": {
              "datasetInfos": [],
              "data": "<div class=\"ansiout\">+------+-------------+------+---+\n|userid|   occupation|gender|age|\n+------+-------------+------+---+\n|   481|      retired|     M| 73|\n|   860|      retired|     F| 70|\n|   767|     engineer|     M| 70|\n|   803|administrator|     M| 70|\n|   559|    executive|     M| 69|\n+------+-------------+------+---+\nonly showing top 5 rows\n\n</div>",
              "removedWidgets": [],
              "addedWidgets": {},
              "type": "html",
              "arguments": {}
            }
          },
          "data": {
            "text/html": [
              "<style scoped>\n  .ansiout {\n    display: block;\n    unicode-bidi: embed;\n    white-space: pre-wrap;\n    word-wrap: break-word;\n    word-break: break-all;\n    font-family: \"Source Code Pro\", \"Menlo\", monospace;;\n    font-size: 13px;\n    color: #555;\n    margin-left: 4px;\n    line-height: 19px;\n  }\n</style>\n<div class=\"ansiout\">+------+-------------+------+---+\nuserid|   occupation|gender|age|\n+------+-------------+------+---+\n   481|      retired|     M| 73|\n   860|      retired|     F| 70|\n   767|     engineer|     M| 70|\n   803|administrator|     M| 70|\n   559|    executive|     M| 69|\n+------+-------------+------+---+\nonly showing top 5 rows\n\n</div>"
            ]
          }
        }
      ],
      "execution_count": null
    },
    {
      "cell_type": "code",
      "source": [
        "df.select(\"userid\",\"occupation\",\"gender\",\"age\").orderBy(df.age).show(5)"
      ],
      "metadata": {
        "application/vnd.databricks.v1+cell": {
          "title": "",
          "showTitle": false,
          "inputWidgets": {},
          "nuid": "5606dc64-4373-41dc-aa49-0f64f5e24120"
        },
        "id": "f96uADpl7TNf",
        "outputId": "3a86b3ce-61f4-4080-c0ae-cfe9484d27fc"
      },
      "outputs": [
        {
          "output_type": "display_data",
          "metadata": {
            "application/vnd.databricks.v1+output": {
              "datasetInfos": [],
              "data": "<div class=\"ansiout\">+------+----------+------+---+\n|userid|occupation|gender|age|\n+------+----------+------+---+\n|    30|   student|     M|  7|\n|   471|   student|     M| 10|\n|   289|      none|     M| 11|\n|   142|     other|     M| 13|\n|   609|   student|     F| 13|\n+------+----------+------+---+\nonly showing top 5 rows\n\n</div>",
              "removedWidgets": [],
              "addedWidgets": {},
              "type": "html",
              "arguments": {}
            }
          },
          "data": {
            "text/html": [
              "<style scoped>\n  .ansiout {\n    display: block;\n    unicode-bidi: embed;\n    white-space: pre-wrap;\n    word-wrap: break-word;\n    word-break: break-all;\n    font-family: \"Source Code Pro\", \"Menlo\", monospace;;\n    font-size: 13px;\n    color: #555;\n    margin-left: 4px;\n    line-height: 19px;\n  }\n</style>\n<div class=\"ansiout\">+------+----------+------+---+\nuserid|occupation|gender|age|\n+------+----------+------+---+\n    30|   student|     M|  7|\n   471|   student|     M| 10|\n   289|      none|     M| 11|\n   142|     other|     M| 13|\n   609|   student|     F| 13|\n+------+----------+------+---+\nonly showing top 5 rows\n\n</div>"
            ]
          }
        }
      ],
      "execution_count": null
    },
    {
      "cell_type": "code",
      "source": [
        "df.select(\"userid\",\"occupation\",\"gender\",\"age\").orderBy(df.age.desc()).show(5)"
      ],
      "metadata": {
        "application/vnd.databricks.v1+cell": {
          "title": "",
          "showTitle": false,
          "inputWidgets": {},
          "nuid": "c189e55d-ca69-475f-b968-01d836985f6f"
        },
        "id": "mNEL_WoB7TNf",
        "outputId": "fe884f7b-6486-45b7-e1a6-4d91cb2a5ad3"
      },
      "outputs": [
        {
          "output_type": "display_data",
          "metadata": {
            "application/vnd.databricks.v1+output": {
              "datasetInfos": [],
              "data": "<div class=\"ansiout\">+------+-------------+------+---+\n|userid|   occupation|gender|age|\n+------+-------------+------+---+\n|   481|      retired|     M| 73|\n|   860|      retired|     F| 70|\n|   767|     engineer|     M| 70|\n|   803|administrator|     M| 70|\n|   559|    executive|     M| 69|\n+------+-------------+------+---+\nonly showing top 5 rows\n\n</div>",
              "removedWidgets": [],
              "addedWidgets": {},
              "type": "html",
              "arguments": {}
            }
          },
          "data": {
            "text/html": [
              "<style scoped>\n  .ansiout {\n    display: block;\n    unicode-bidi: embed;\n    white-space: pre-wrap;\n    word-wrap: break-word;\n    word-break: break-all;\n    font-family: \"Source Code Pro\", \"Menlo\", monospace;;\n    font-size: 13px;\n    color: #555;\n    margin-left: 4px;\n    line-height: 19px;\n  }\n</style>\n<div class=\"ansiout\">+------+-------------+------+---+\nuserid|   occupation|gender|age|\n+------+-------------+------+---+\n   481|      retired|     M| 73|\n   860|      retired|     F| 70|\n   767|     engineer|     M| 70|\n   803|administrator|     M| 70|\n   559|    executive|     M| 69|\n+------+-------------+------+---+\nonly showing top 5 rows\n\n</div>"
            ]
          }
        }
      ],
      "execution_count": null
    },
    {
      "cell_type": "markdown",
      "source": [
        "# 19.7 多欄位排序資料"
      ],
      "metadata": {
        "application/vnd.databricks.v1+cell": {
          "title": "",
          "showTitle": false,
          "inputWidgets": {},
          "nuid": "57ac93e9-7962-47a8-a02f-e641d6bfb98d"
        },
        "id": "t1u0Xv3a7TNg"
      }
    },
    {
      "cell_type": "code",
      "source": [
        "userRDD.takeOrdered(5, key = lambda x: (-int(x[1]), x[2] ) )"
      ],
      "metadata": {
        "application/vnd.databricks.v1+cell": {
          "title": "",
          "showTitle": false,
          "inputWidgets": {},
          "nuid": "deb79f50-af39-492a-a181-a80782126f76"
        },
        "id": "0hfcVKc47TNh",
        "outputId": "29a76ddb-ff0c-4070-f6bf-d4914d73c55a"
      },
      "outputs": [
        {
          "output_type": "display_data",
          "metadata": {
            "application/vnd.databricks.v1+output": {
              "datasetInfos": [],
              "data": "<div class=\"ansiout\">Out[46]: [[&#39;481&#39;, &#39;73&#39;, &#39;M&#39;, &#39;retired&#39;, &#39;37771&#39;],\n [&#39;860&#39;, &#39;70&#39;, &#39;F&#39;, &#39;retired&#39;, &#39;48322&#39;],\n [&#39;767&#39;, &#39;70&#39;, &#39;M&#39;, &#39;engineer&#39;, &#39;00000&#39;],\n [&#39;803&#39;, &#39;70&#39;, &#39;M&#39;, &#39;administrator&#39;, &#39;78212&#39;],\n [&#39;559&#39;, &#39;69&#39;, &#39;M&#39;, &#39;executive&#39;, &#39;10022&#39;]]</div>",
              "removedWidgets": [],
              "addedWidgets": {},
              "type": "html",
              "arguments": {}
            }
          },
          "data": {
            "text/html": [
              "<style scoped>\n  .ansiout {\n    display: block;\n    unicode-bidi: embed;\n    white-space: pre-wrap;\n    word-wrap: break-word;\n    word-break: break-all;\n    font-family: \"Source Code Pro\", \"Menlo\", monospace;;\n    font-size: 13px;\n    color: #555;\n    margin-left: 4px;\n    line-height: 19px;\n  }\n</style>\n<div class=\"ansiout\">Out[46]: [[&#39;481&#39;, &#39;73&#39;, &#39;M&#39;, &#39;retired&#39;, &#39;37771&#39;],\n [&#39;860&#39;, &#39;70&#39;, &#39;F&#39;, &#39;retired&#39;, &#39;48322&#39;],\n [&#39;767&#39;, &#39;70&#39;, &#39;M&#39;, &#39;engineer&#39;, &#39;00000&#39;],\n [&#39;803&#39;, &#39;70&#39;, &#39;M&#39;, &#39;administrator&#39;, &#39;78212&#39;],\n [&#39;559&#39;, &#39;69&#39;, &#39;M&#39;, &#39;executive&#39;, &#39;10022&#39;]]</div>"
            ]
          }
        }
      ],
      "execution_count": null
    },
    {
      "cell_type": "code",
      "source": [
        "sqlContext.sql(\"\"\"\n",
        "SELECT userid, age, gender,occupation,zipcode\n",
        "FROM user_table\n",
        "ORDER BY age DESC,gender \"\"\").show(5)"
      ],
      "metadata": {
        "application/vnd.databricks.v1+cell": {
          "title": "",
          "showTitle": false,
          "inputWidgets": {},
          "nuid": "b9a47bd7-a610-4aa8-a4ff-ab89c94f2708"
        },
        "id": "ZfrEB_HP7TNh",
        "outputId": "cc493f08-3b6c-48cf-9cc3-d0eb44e9e197"
      },
      "outputs": [
        {
          "output_type": "display_data",
          "metadata": {
            "application/vnd.databricks.v1+output": {
              "datasetInfos": [],
              "data": "<div class=\"ansiout\">+------+---+------+-------------+-------+\n|userid|age|gender|   occupation|zipcode|\n+------+---+------+-------------+-------+\n|   481| 73|     M|      retired|  37771|\n|   860| 70|     F|      retired|  48322|\n|   803| 70|     M|administrator|  78212|\n|   767| 70|     M|     engineer|  00000|\n|   559| 69|     M|    executive|  10022|\n+------+---+------+-------------+-------+\nonly showing top 5 rows\n\n</div>",
              "removedWidgets": [],
              "addedWidgets": {},
              "type": "html",
              "arguments": {}
            }
          },
          "data": {
            "text/html": [
              "<style scoped>\n  .ansiout {\n    display: block;\n    unicode-bidi: embed;\n    white-space: pre-wrap;\n    word-wrap: break-word;\n    word-break: break-all;\n    font-family: \"Source Code Pro\", \"Menlo\", monospace;;\n    font-size: 13px;\n    color: #555;\n    margin-left: 4px;\n    line-height: 19px;\n  }\n</style>\n<div class=\"ansiout\">+------+---+------+-------------+-------+\nuserid|age|gender|   occupation|zipcode|\n+------+---+------+-------------+-------+\n   481| 73|     M|      retired|  37771|\n   860| 70|     F|      retired|  48322|\n   803| 70|     M|administrator|  78212|\n   767| 70|     M|     engineer|  00000|\n   559| 69|     M|    executive|  10022|\n+------+---+------+-------------+-------+\nonly showing top 5 rows\n\n</div>"
            ]
          }
        }
      ],
      "execution_count": null
    },
    {
      "cell_type": "code",
      "source": [
        "df.orderBy([\"age\",\"gender\"],ascending=[0,1] ).show(5)"
      ],
      "metadata": {
        "application/vnd.databricks.v1+cell": {
          "title": "",
          "showTitle": false,
          "inputWidgets": {},
          "nuid": "162bb4fc-1b66-4377-b6cb-a2f737163dd7"
        },
        "id": "SAwiz4737TNi",
        "outputId": "a1af993b-425c-4c22-bfea-84f4101b0b75"
      },
      "outputs": [
        {
          "output_type": "display_data",
          "metadata": {
            "application/vnd.databricks.v1+output": {
              "datasetInfos": [],
              "data": "<div class=\"ansiout\">+---+------+-------------+------+-------+\n|age|gender|   occupation|userid|zipcode|\n+---+------+-------------+------+-------+\n| 73|     M|      retired|   481|  37771|\n| 70|     F|      retired|   860|  48322|\n| 70|     M|administrator|   803|  78212|\n| 70|     M|     engineer|   767|  00000|\n| 69|     M|    executive|   559|  10022|\n+---+------+-------------+------+-------+\nonly showing top 5 rows\n\n</div>",
              "removedWidgets": [],
              "addedWidgets": {},
              "type": "html",
              "arguments": {}
            }
          },
          "data": {
            "text/html": [
              "<style scoped>\n  .ansiout {\n    display: block;\n    unicode-bidi: embed;\n    white-space: pre-wrap;\n    word-wrap: break-word;\n    word-break: break-all;\n    font-family: \"Source Code Pro\", \"Menlo\", monospace;;\n    font-size: 13px;\n    color: #555;\n    margin-left: 4px;\n    line-height: 19px;\n  }\n</style>\n<div class=\"ansiout\">+---+------+-------------+------+-------+\nage|gender|   occupation|userid|zipcode|\n+---+------+-------------+------+-------+\n 73|     M|      retired|   481|  37771|\n 70|     F|      retired|   860|  48322|\n 70|     M|administrator|   803|  78212|\n 70|     M|     engineer|   767|  00000|\n 69|     M|    executive|   559|  10022|\n+---+------+-------------+------+-------+\nonly showing top 5 rows\n\n</div>"
            ]
          }
        }
      ],
      "execution_count": null
    },
    {
      "cell_type": "code",
      "source": [
        "df.orderBy(df.age.desc(),df.gender ).show(5)"
      ],
      "metadata": {
        "application/vnd.databricks.v1+cell": {
          "title": "",
          "showTitle": false,
          "inputWidgets": {},
          "nuid": "692cd7fe-0b62-4da4-8af3-20d06c568535"
        },
        "id": "kxPT7n7C7TNi",
        "outputId": "3d8e04af-d660-47e7-e90b-82ea6425a47b"
      },
      "outputs": [
        {
          "output_type": "display_data",
          "metadata": {
            "application/vnd.databricks.v1+output": {
              "datasetInfos": [],
              "data": "<div class=\"ansiout\">+---+------+-------------+------+-------+\n|age|gender|   occupation|userid|zipcode|\n+---+------+-------------+------+-------+\n| 73|     M|      retired|   481|  37771|\n| 70|     F|      retired|   860|  48322|\n| 70|     M|administrator|   803|  78212|\n| 70|     M|     engineer|   767|  00000|\n| 69|     M|    executive|   559|  10022|\n+---+------+-------------+------+-------+\nonly showing top 5 rows\n\n</div>",
              "removedWidgets": [],
              "addedWidgets": {},
              "type": "html",
              "arguments": {}
            }
          },
          "data": {
            "text/html": [
              "<style scoped>\n  .ansiout {\n    display: block;\n    unicode-bidi: embed;\n    white-space: pre-wrap;\n    word-wrap: break-word;\n    word-break: break-all;\n    font-family: \"Source Code Pro\", \"Menlo\", monospace;;\n    font-size: 13px;\n    color: #555;\n    margin-left: 4px;\n    line-height: 19px;\n  }\n</style>\n<div class=\"ansiout\">+---+------+-------------+------+-------+\nage|gender|   occupation|userid|zipcode|\n+---+------+-------------+------+-------+\n 73|     M|      retired|   481|  37771|\n 70|     F|      retired|   860|  48322|\n 70|     M|administrator|   803|  78212|\n 70|     M|     engineer|   767|  00000|\n 69|     M|    executive|   559|  10022|\n+---+------+-------------+------+-------+\nonly showing top 5 rows\n\n</div>"
            ]
          }
        }
      ],
      "execution_count": null
    },
    {
      "cell_type": "markdown",
      "source": [
        "# 19.8 顯示不重複資料"
      ],
      "metadata": {
        "application/vnd.databricks.v1+cell": {
          "title": "",
          "showTitle": false,
          "inputWidgets": {},
          "nuid": "ae7de94c-868f-424a-95e8-1f9821493248"
        },
        "id": "z9AdxkY67TNj"
      }
    },
    {
      "cell_type": "code",
      "source": [
        "userRDD.map( lambda x:x[2] ).distinct().collect()"
      ],
      "metadata": {
        "application/vnd.databricks.v1+cell": {
          "title": "",
          "showTitle": false,
          "inputWidgets": {},
          "nuid": "e4aaa9f8-dc35-4ef0-ae39-ed57de26bd08"
        },
        "id": "Hk3E8EWy7TNj",
        "outputId": "5a0c377a-1692-4d87-c03c-12316325e1be"
      },
      "outputs": [
        {
          "output_type": "display_data",
          "metadata": {
            "application/vnd.databricks.v1+output": {
              "datasetInfos": [],
              "data": "<div class=\"ansiout\">Out[50]: [&#39;M&#39;, &#39;F&#39;]</div>",
              "removedWidgets": [],
              "addedWidgets": {},
              "type": "html",
              "arguments": {}
            }
          },
          "data": {
            "text/html": [
              "<style scoped>\n  .ansiout {\n    display: block;\n    unicode-bidi: embed;\n    white-space: pre-wrap;\n    word-wrap: break-word;\n    word-break: break-all;\n    font-family: \"Source Code Pro\", \"Menlo\", monospace;;\n    font-size: 13px;\n    color: #555;\n    margin-left: 4px;\n    line-height: 19px;\n  }\n</style>\n<div class=\"ansiout\">Out[50]: [&#39;M&#39;, &#39;F&#39;]</div>"
            ]
          }
        }
      ],
      "execution_count": null
    },
    {
      "cell_type": "code",
      "source": [
        "userRDD.map( lambda x:(x[1],x[2]) ).distinct().take(20)"
      ],
      "metadata": {
        "application/vnd.databricks.v1+cell": {
          "title": "",
          "showTitle": false,
          "inputWidgets": {},
          "nuid": "5ec0c1f6-854f-4090-aee0-9abc3d16fab9"
        },
        "id": "ObJeA0pj7TNj",
        "outputId": "509e7685-d472-4c9c-d640-1b189c9d37a6"
      },
      "outputs": [
        {
          "output_type": "display_data",
          "metadata": {
            "application/vnd.databricks.v1+output": {
              "datasetInfos": [],
              "data": "<div class=\"ansiout\">Out[51]: [(&#39;23&#39;, &#39;M&#39;),\n (&#39;42&#39;, &#39;M&#39;),\n (&#39;36&#39;, &#39;M&#39;),\n (&#39;39&#39;, &#39;F&#39;),\n (&#39;28&#39;, &#39;F&#39;),\n (&#39;47&#39;, &#39;M&#39;),\n (&#39;49&#39;, &#39;F&#39;),\n (&#39;30&#39;, &#39;M&#39;),\n (&#39;35&#39;, &#39;F&#39;),\n (&#39;42&#39;, &#39;F&#39;),\n (&#39;25&#39;, &#39;M&#39;),\n (&#39;30&#39;, &#39;F&#39;),\n (&#39;39&#39;, &#39;M&#39;),\n (&#39;49&#39;, &#39;M&#39;),\n (&#39;32&#39;, &#39;M&#39;),\n (&#39;41&#39;, &#39;M&#39;),\n (&#39;7&#39;, &#39;M&#39;),\n (&#39;38&#39;, &#39;F&#39;),\n (&#39;38&#39;, &#39;M&#39;),\n (&#39;27&#39;, &#39;F&#39;)]</div>",
              "removedWidgets": [],
              "addedWidgets": {},
              "type": "html",
              "arguments": {}
            }
          },
          "data": {
            "text/html": [
              "<style scoped>\n  .ansiout {\n    display: block;\n    unicode-bidi: embed;\n    white-space: pre-wrap;\n    word-wrap: break-word;\n    word-break: break-all;\n    font-family: \"Source Code Pro\", \"Menlo\", monospace;;\n    font-size: 13px;\n    color: #555;\n    margin-left: 4px;\n    line-height: 19px;\n  }\n</style>\n<div class=\"ansiout\">Out[51]: [(&#39;23&#39;, &#39;M&#39;),\n (&#39;42&#39;, &#39;M&#39;),\n (&#39;36&#39;, &#39;M&#39;),\n (&#39;39&#39;, &#39;F&#39;),\n (&#39;28&#39;, &#39;F&#39;),\n (&#39;47&#39;, &#39;M&#39;),\n (&#39;49&#39;, &#39;F&#39;),\n (&#39;30&#39;, &#39;M&#39;),\n (&#39;35&#39;, &#39;F&#39;),\n (&#39;42&#39;, &#39;F&#39;),\n (&#39;25&#39;, &#39;M&#39;),\n (&#39;30&#39;, &#39;F&#39;),\n (&#39;39&#39;, &#39;M&#39;),\n (&#39;49&#39;, &#39;M&#39;),\n (&#39;32&#39;, &#39;M&#39;),\n (&#39;41&#39;, &#39;M&#39;),\n (&#39;7&#39;, &#39;M&#39;),\n (&#39;38&#39;, &#39;F&#39;),\n (&#39;38&#39;, &#39;M&#39;),\n (&#39;27&#39;, &#39;F&#39;)]</div>"
            ]
          }
        }
      ],
      "execution_count": null
    },
    {
      "cell_type": "code",
      "source": [
        "sqlContext.sql(\" SELECT distinct gender FROM user_table\").show()"
      ],
      "metadata": {
        "application/vnd.databricks.v1+cell": {
          "title": "",
          "showTitle": false,
          "inputWidgets": {},
          "nuid": "55a7d6aa-8cfb-42aa-ad82-1239879b2aca"
        },
        "id": "2CmCtnq57TNk",
        "outputId": "3d0ed4a6-92ab-4aa2-c643-080a7939972f"
      },
      "outputs": [
        {
          "output_type": "display_data",
          "metadata": {
            "application/vnd.databricks.v1+output": {
              "datasetInfos": [],
              "data": "<div class=\"ansiout\">+------+\n|gender|\n+------+\n|     F|\n|     M|\n+------+\n\n</div>",
              "removedWidgets": [],
              "addedWidgets": {},
              "type": "html",
              "arguments": {}
            }
          },
          "data": {
            "text/html": [
              "<style scoped>\n  .ansiout {\n    display: block;\n    unicode-bidi: embed;\n    white-space: pre-wrap;\n    word-wrap: break-word;\n    word-break: break-all;\n    font-family: \"Source Code Pro\", \"Menlo\", monospace;;\n    font-size: 13px;\n    color: #555;\n    margin-left: 4px;\n    line-height: 19px;\n  }\n</style>\n<div class=\"ansiout\">+------+\ngender|\n+------+\n     F|\n     M|\n+------+\n\n</div>"
            ]
          }
        }
      ],
      "execution_count": null
    },
    {
      "cell_type": "code",
      "source": [
        "sqlContext.sql(\" SELECT distinct age,gender  FROM user_table\").show()"
      ],
      "metadata": {
        "application/vnd.databricks.v1+cell": {
          "title": "",
          "showTitle": false,
          "inputWidgets": {},
          "nuid": "f0d10704-cec9-4297-8379-bd05508059fd"
        },
        "id": "PouQEH0e7TNk",
        "outputId": "6c2c3b9f-3c46-4614-9ace-47051e7438a4"
      },
      "outputs": [
        {
          "output_type": "display_data",
          "metadata": {
            "application/vnd.databricks.v1+output": {
              "datasetInfos": [],
              "data": "<div class=\"ansiout\">+---+------+\n|age|gender|\n+---+------+\n| 39|     F|\n| 48|     M|\n| 26|     M|\n| 28|     M|\n| 54|     M|\n| 60|     M|\n| 50|     M|\n| 53|     F|\n| 30|     M|\n| 48|     F|\n| 47|     M|\n| 46|     M|\n| 56|     M|\n| 32|     M|\n| 31|     M|\n| 53|     M|\n| 20|     F|\n| 29|     F|\n| 21|     F|\n| 42|     M|\n+---+------+\nonly showing top 20 rows\n\n</div>",
              "removedWidgets": [],
              "addedWidgets": {},
              "type": "html",
              "arguments": {}
            }
          },
          "data": {
            "text/html": [
              "<style scoped>\n  .ansiout {\n    display: block;\n    unicode-bidi: embed;\n    white-space: pre-wrap;\n    word-wrap: break-word;\n    word-break: break-all;\n    font-family: \"Source Code Pro\", \"Menlo\", monospace;;\n    font-size: 13px;\n    color: #555;\n    margin-left: 4px;\n    line-height: 19px;\n  }\n</style>\n<div class=\"ansiout\">+---+------+\nage|gender|\n+---+------+\n 39|     F|\n 48|     M|\n 26|     M|\n 28|     M|\n 54|     M|\n 60|     M|\n 50|     M|\n 53|     F|\n 30|     M|\n 48|     F|\n 47|     M|\n 46|     M|\n 56|     M|\n 32|     M|\n 31|     M|\n 53|     M|\n 20|     F|\n 29|     F|\n 21|     F|\n 42|     M|\n+---+------+\nonly showing top 20 rows\n\n</div>"
            ]
          }
        }
      ],
      "execution_count": null
    },
    {
      "cell_type": "code",
      "source": [
        "user_df.select(\"gender\").distinct().show()"
      ],
      "metadata": {
        "application/vnd.databricks.v1+cell": {
          "title": "",
          "showTitle": false,
          "inputWidgets": {},
          "nuid": "62c3cc8f-9585-4f39-9ba6-849dcea81f1a"
        },
        "id": "S-U3t8hL7TNl",
        "outputId": "d7971e87-2949-447e-8654-2fc982e216db"
      },
      "outputs": [
        {
          "output_type": "display_data",
          "metadata": {
            "application/vnd.databricks.v1+output": {
              "datasetInfos": [],
              "data": "<div class=\"ansiout\">+------+\n|gender|\n+------+\n|     F|\n|     M|\n+------+\n\n</div>",
              "removedWidgets": [],
              "addedWidgets": {},
              "type": "html",
              "arguments": {}
            }
          },
          "data": {
            "text/html": [
              "<style scoped>\n  .ansiout {\n    display: block;\n    unicode-bidi: embed;\n    white-space: pre-wrap;\n    word-wrap: break-word;\n    word-break: break-all;\n    font-family: \"Source Code Pro\", \"Menlo\", monospace;;\n    font-size: 13px;\n    color: #555;\n    margin-left: 4px;\n    line-height: 19px;\n  }\n</style>\n<div class=\"ansiout\">+------+\ngender|\n+------+\n     F|\n     M|\n+------+\n\n</div>"
            ]
          }
        }
      ],
      "execution_count": null
    },
    {
      "cell_type": "code",
      "source": [
        "user_df.select(\"age\",\"gender\").distinct().show()"
      ],
      "metadata": {
        "application/vnd.databricks.v1+cell": {
          "title": "",
          "showTitle": false,
          "inputWidgets": {},
          "nuid": "50292d92-3cce-4b16-8924-410326b7d182"
        },
        "id": "pwRinuCT7TNl",
        "outputId": "3fbe1842-813e-4bad-e888-10e203c235e3"
      },
      "outputs": [
        {
          "output_type": "display_data",
          "metadata": {
            "application/vnd.databricks.v1+output": {
              "datasetInfos": [],
              "data": "<div class=\"ansiout\">+---+------+\n|age|gender|\n+---+------+\n| 39|     F|\n| 48|     M|\n| 26|     M|\n| 28|     M|\n| 54|     M|\n| 60|     M|\n| 50|     M|\n| 53|     F|\n| 30|     M|\n| 48|     F|\n| 47|     M|\n| 46|     M|\n| 56|     M|\n| 32|     M|\n| 31|     M|\n| 53|     M|\n| 20|     F|\n| 29|     F|\n| 21|     F|\n| 42|     M|\n+---+------+\nonly showing top 20 rows\n\n</div>",
              "removedWidgets": [],
              "addedWidgets": {},
              "type": "html",
              "arguments": {}
            }
          },
          "data": {
            "text/html": [
              "<style scoped>\n  .ansiout {\n    display: block;\n    unicode-bidi: embed;\n    white-space: pre-wrap;\n    word-wrap: break-word;\n    word-break: break-all;\n    font-family: \"Source Code Pro\", \"Menlo\", monospace;;\n    font-size: 13px;\n    color: #555;\n    margin-left: 4px;\n    line-height: 19px;\n  }\n</style>\n<div class=\"ansiout\">+---+------+\nage|gender|\n+---+------+\n 39|     F|\n 48|     M|\n 26|     M|\n 28|     M|\n 54|     M|\n 60|     M|\n 50|     M|\n 53|     F|\n 30|     M|\n 48|     F|\n 47|     M|\n 46|     M|\n 56|     M|\n 32|     M|\n 31|     M|\n 53|     M|\n 20|     F|\n 29|     F|\n 21|     F|\n 42|     M|\n+---+------+\nonly showing top 20 rows\n\n</div>"
            ]
          }
        }
      ],
      "execution_count": null
    },
    {
      "cell_type": "markdown",
      "source": [
        "# 19.9\t群組統計資料"
      ],
      "metadata": {
        "application/vnd.databricks.v1+cell": {
          "title": "",
          "showTitle": false,
          "inputWidgets": {},
          "nuid": "c76795a8-2586-4271-8caa-5be3f558ee48"
        },
        "id": "pQSCBi-K7TNm"
      }
    },
    {
      "cell_type": "code",
      "source": [
        "userRDD.map(lambda x: (x[2],1)) \\\n",
        "               .reduceByKey(lambda x,y: x+y).collect()"
      ],
      "metadata": {
        "application/vnd.databricks.v1+cell": {
          "title": "",
          "showTitle": false,
          "inputWidgets": {},
          "nuid": "de8fd916-45d0-424a-b29c-2517157fb726"
        },
        "id": "CluGF3tJ7TNm",
        "outputId": "7a43efcc-86b8-4eba-d9f8-c1deafc91f39"
      },
      "outputs": [
        {
          "output_type": "display_data",
          "metadata": {
            "application/vnd.databricks.v1+output": {
              "datasetInfos": [],
              "data": "<div class=\"ansiout\">Out[56]: [(&#39;M&#39;, 670), (&#39;F&#39;, 273)]</div>",
              "removedWidgets": [],
              "addedWidgets": {},
              "type": "html",
              "arguments": {}
            }
          },
          "data": {
            "text/html": [
              "<style scoped>\n  .ansiout {\n    display: block;\n    unicode-bidi: embed;\n    white-space: pre-wrap;\n    word-wrap: break-word;\n    word-break: break-all;\n    font-family: \"Source Code Pro\", \"Menlo\", monospace;;\n    font-size: 13px;\n    color: #555;\n    margin-left: 4px;\n    line-height: 19px;\n  }\n</style>\n<div class=\"ansiout\">Out[56]: [(&#39;M&#39;, 670), (&#39;F&#39;, 273)]</div>"
            ]
          }
        }
      ],
      "execution_count": null
    },
    {
      "cell_type": "code",
      "source": [
        "userRDD.map(lambda x: ((x[2],x[3]),1)).reduceByKey(lambda x,y: x+y).collect()"
      ],
      "metadata": {
        "application/vnd.databricks.v1+cell": {
          "title": "",
          "showTitle": false,
          "inputWidgets": {},
          "nuid": "7a571c1f-dcec-47d0-960a-584fe4b69a9a"
        },
        "id": "8ZIcDbSY7TNm",
        "outputId": "d891de9a-5426-42e0-84bf-c704b748d541"
      },
      "outputs": [
        {
          "output_type": "display_data",
          "metadata": {
            "application/vnd.databricks.v1+output": {
              "datasetInfos": [],
              "data": "<div class=\"ansiout\">Out[57]: [((&#39;M&#39;, &#39;technician&#39;), 26),\n ((&#39;M&#39;, &#39;writer&#39;), 26),\n ((&#39;M&#39;, &#39;lawyer&#39;), 10),\n ((&#39;M&#39;, &#39;scientist&#39;), 28),\n ((&#39;M&#39;, &#39;entertainment&#39;), 16),\n ((&#39;M&#39;, &#39;librarian&#39;), 22),\n ((&#39;F&#39;, &#39;librarian&#39;), 29),\n ((&#39;F&#39;, &#39;marketing&#39;), 10),\n ((&#39;M&#39;, &#39;marketing&#39;), 16),\n ((&#39;M&#39;, &#39;healthcare&#39;), 5),\n ((&#39;M&#39;, &#39;salesman&#39;), 9),\n ((&#39;F&#39;, &#39;writer&#39;), 19),\n ((&#39;F&#39;, &#39;lawyer&#39;), 2),\n ((&#39;F&#39;, &#39;healthcare&#39;), 11),\n ((&#39;F&#39;, &#39;scientist&#39;), 3),\n ((&#39;F&#39;, &#39;salesman&#39;), 3),\n ((&#39;F&#39;, &#39;entertainment&#39;), 2),\n ((&#39;F&#39;, &#39;technician&#39;), 1),\n ((&#39;F&#39;, &#39;other&#39;), 36),\n ((&#39;M&#39;, &#39;executive&#39;), 29),\n ((&#39;M&#39;, &#39;administrator&#39;), 43),\n ((&#39;M&#39;, &#39;student&#39;), 136),\n ((&#39;M&#39;, &#39;educator&#39;), 69),\n ((&#39;F&#39;, &#39;educator&#39;), 26),\n ((&#39;M&#39;, &#39;programmer&#39;), 60),\n ((&#39;F&#39;, &#39;homemaker&#39;), 6),\n ((&#39;F&#39;, &#39;artist&#39;), 13),\n ((&#39;M&#39;, &#39;engineer&#39;), 65),\n ((&#39;M&#39;, &#39;artist&#39;), 15),\n ((&#39;F&#39;, &#39;student&#39;), 60),\n ((&#39;F&#39;, &#39;administrator&#39;), 36),\n ((&#39;M&#39;, &#39;none&#39;), 5),\n ((&#39;M&#39;, &#39;other&#39;), 69),\n ((&#39;F&#39;, &#39;executive&#39;), 3),\n ((&#39;M&#39;, &#39;retired&#39;), 13),\n ((&#39;M&#39;, &#39;doctor&#39;), 7),\n ((&#39;F&#39;, &#39;none&#39;), 4),\n ((&#39;F&#39;, &#39;programmer&#39;), 6),\n ((&#39;F&#39;, &#39;engineer&#39;), 2),\n ((&#39;F&#39;, &#39;retired&#39;), 1),\n ((&#39;M&#39;, &#39;homemaker&#39;), 1)]</div>",
              "removedWidgets": [],
              "addedWidgets": {},
              "type": "html",
              "arguments": {}
            }
          },
          "data": {
            "text/html": [
              "<style scoped>\n  .ansiout {\n    display: block;\n    unicode-bidi: embed;\n    white-space: pre-wrap;\n    word-wrap: break-word;\n    word-break: break-all;\n    font-family: \"Source Code Pro\", \"Menlo\", monospace;;\n    font-size: 13px;\n    color: #555;\n    margin-left: 4px;\n    line-height: 19px;\n  }\n</style>\n<div class=\"ansiout\">Out[57]: [((&#39;M&#39;, &#39;technician&#39;), 26),\n ((&#39;M&#39;, &#39;writer&#39;), 26),\n ((&#39;M&#39;, &#39;lawyer&#39;), 10),\n ((&#39;M&#39;, &#39;scientist&#39;), 28),\n ((&#39;M&#39;, &#39;entertainment&#39;), 16),\n ((&#39;M&#39;, &#39;librarian&#39;), 22),\n ((&#39;F&#39;, &#39;librarian&#39;), 29),\n ((&#39;F&#39;, &#39;marketing&#39;), 10),\n ((&#39;M&#39;, &#39;marketing&#39;), 16),\n ((&#39;M&#39;, &#39;healthcare&#39;), 5),\n ((&#39;M&#39;, &#39;salesman&#39;), 9),\n ((&#39;F&#39;, &#39;writer&#39;), 19),\n ((&#39;F&#39;, &#39;lawyer&#39;), 2),\n ((&#39;F&#39;, &#39;healthcare&#39;), 11),\n ((&#39;F&#39;, &#39;scientist&#39;), 3),\n ((&#39;F&#39;, &#39;salesman&#39;), 3),\n ((&#39;F&#39;, &#39;entertainment&#39;), 2),\n ((&#39;F&#39;, &#39;technician&#39;), 1),\n ((&#39;F&#39;, &#39;other&#39;), 36),\n ((&#39;M&#39;, &#39;executive&#39;), 29),\n ((&#39;M&#39;, &#39;administrator&#39;), 43),\n ((&#39;M&#39;, &#39;student&#39;), 136),\n ((&#39;M&#39;, &#39;educator&#39;), 69),\n ((&#39;F&#39;, &#39;educator&#39;), 26),\n ((&#39;M&#39;, &#39;programmer&#39;), 60),\n ((&#39;F&#39;, &#39;homemaker&#39;), 6),\n ((&#39;F&#39;, &#39;artist&#39;), 13),\n ((&#39;M&#39;, &#39;engineer&#39;), 65),\n ((&#39;M&#39;, &#39;artist&#39;), 15),\n ((&#39;F&#39;, &#39;student&#39;), 60),\n ((&#39;F&#39;, &#39;administrator&#39;), 36),\n ((&#39;M&#39;, &#39;none&#39;), 5),\n ((&#39;M&#39;, &#39;other&#39;), 69),\n ((&#39;F&#39;, &#39;executive&#39;), 3),\n ((&#39;M&#39;, &#39;retired&#39;), 13),\n ((&#39;M&#39;, &#39;doctor&#39;), 7),\n ((&#39;F&#39;, &#39;none&#39;), 4),\n ((&#39;F&#39;, &#39;programmer&#39;), 6),\n ((&#39;F&#39;, &#39;engineer&#39;), 2),\n ((&#39;F&#39;, &#39;retired&#39;), 1),\n ((&#39;M&#39;, &#39;homemaker&#39;), 1)]</div>"
            ]
          }
        }
      ],
      "execution_count": null
    },
    {
      "cell_type": "code",
      "source": [
        "sqlContext.sql(\"\"\" \n",
        "SELECT gender ,count(*)  counts  \n",
        "FROM   user_table \n",
        "GROUP BY gender\"\"\").show()"
      ],
      "metadata": {
        "application/vnd.databricks.v1+cell": {
          "title": "",
          "showTitle": false,
          "inputWidgets": {},
          "nuid": "9080d090-3bc5-4487-aeb6-88cd8b9a23e0"
        },
        "id": "A5S0T0GM7TNn",
        "outputId": "49039624-451d-482e-9d3a-8654d86ffbf7"
      },
      "outputs": [
        {
          "output_type": "display_data",
          "metadata": {
            "application/vnd.databricks.v1+output": {
              "datasetInfos": [],
              "data": "<div class=\"ansiout\">+------+------+\n|gender|counts|\n+------+------+\n|     F|   273|\n|     M|   670|\n+------+------+\n\n</div>",
              "removedWidgets": [],
              "addedWidgets": {},
              "type": "html",
              "arguments": {}
            }
          },
          "data": {
            "text/html": [
              "<style scoped>\n  .ansiout {\n    display: block;\n    unicode-bidi: embed;\n    white-space: pre-wrap;\n    word-wrap: break-word;\n    word-break: break-all;\n    font-family: \"Source Code Pro\", \"Menlo\", monospace;;\n    font-size: 13px;\n    color: #555;\n    margin-left: 4px;\n    line-height: 19px;\n  }\n</style>\n<div class=\"ansiout\">+------+------+\ngender|counts|\n+------+------+\n     F|   273|\n     M|   670|\n+------+------+\n\n</div>"
            ]
          }
        }
      ],
      "execution_count": null
    },
    {
      "cell_type": "code",
      "source": [
        "sqlContext.sql(\"\"\" \n",
        "SELECT gender,occupation,count(*) counts  \n",
        "FROM   user_table \n",
        "GROUP BY gender,occupation \n",
        "\"\"\").show(100)"
      ],
      "metadata": {
        "application/vnd.databricks.v1+cell": {
          "title": "",
          "showTitle": false,
          "inputWidgets": {},
          "nuid": "28a91de6-096f-4bd1-806a-d50a2bd9a95d"
        },
        "id": "2jzSQVrE7TNn",
        "outputId": "14898963-0d5f-4543-eb8f-bbe91b91a48c"
      },
      "outputs": [
        {
          "output_type": "display_data",
          "metadata": {
            "application/vnd.databricks.v1+output": {
              "datasetInfos": [],
              "data": "<div class=\"ansiout\">+------+-------------+------+\n|gender|   occupation|counts|\n+------+-------------+------+\n|     M|    executive|    29|\n|     M|     educator|    69|\n|     F|         none|     4|\n|     F|entertainment|     2|\n|     F|      retired|     1|\n|     F|       artist|    13|\n|     F|    librarian|    29|\n|     F|     engineer|     2|\n|     F|   healthcare|    11|\n|     F|administrator|    36|\n|     M|        other|    69|\n|     M|    homemaker|     1|\n|     F|       lawyer|     2|\n|     M|   programmer|    60|\n|     M|     salesman|     9|\n|     M|         none|     5|\n|     M|entertainment|    16|\n|     M|    marketing|    16|\n|     M|   technician|    26|\n|     M|administrator|    43|\n|     F|    marketing|    10|\n|     F|   programmer|     6|\n|     F|   technician|     1|\n|     F|    executive|     3|\n|     M|    scientist|    28|\n|     F|     educator|    26|\n|     M|      retired|    13|\n|     M|   healthcare|     5|\n|     M|       writer|    26|\n|     M|       lawyer|    10|\n|     M|      student|   136|\n|     F|     salesman|     3|\n|     M|       doctor|     7|\n|     M|       artist|    15|\n|     F|    homemaker|     6|\n|     M|     engineer|    65|\n|     F|        other|    36|\n|     F|       writer|    19|\n|     F|      student|    60|\n|     F|    scientist|     3|\n|     M|    librarian|    22|\n+------+-------------+------+\n\n</div>",
              "removedWidgets": [],
              "addedWidgets": {},
              "type": "html",
              "arguments": {}
            }
          },
          "data": {
            "text/html": [
              "<style scoped>\n  .ansiout {\n    display: block;\n    unicode-bidi: embed;\n    white-space: pre-wrap;\n    word-wrap: break-word;\n    word-break: break-all;\n    font-family: \"Source Code Pro\", \"Menlo\", monospace;;\n    font-size: 13px;\n    color: #555;\n    margin-left: 4px;\n    line-height: 19px;\n  }\n</style>\n<div class=\"ansiout\">+------+-------------+------+\ngender|   occupation|counts|\n+------+-------------+------+\n     M|    executive|    29|\n     M|     educator|    69|\n     F|         none|     4|\n     F|entertainment|     2|\n     F|      retired|     1|\n     F|       artist|    13|\n     F|    librarian|    29|\n     F|     engineer|     2|\n     F|   healthcare|    11|\n     F|administrator|    36|\n     M|        other|    69|\n     M|    homemaker|     1|\n     F|       lawyer|     2|\n     M|   programmer|    60|\n     M|     salesman|     9|\n     M|         none|     5|\n     M|entertainment|    16|\n     M|    marketing|    16|\n     M|   technician|    26|\n     M|administrator|    43|\n     F|    marketing|    10|\n     F|   programmer|     6|\n     F|   technician|     1|\n     F|    executive|     3|\n     M|    scientist|    28|\n     F|     educator|    26|\n     M|      retired|    13|\n     M|   healthcare|     5|\n     M|       writer|    26|\n     M|       lawyer|    10|\n     M|      student|   136|\n     F|     salesman|     3|\n     M|       doctor|     7|\n     M|       artist|    15|\n     F|    homemaker|     6|\n     M|     engineer|    65|\n     F|        other|    36|\n     F|       writer|    19|\n     F|      student|    60|\n     F|    scientist|     3|\n     M|    librarian|    22|\n+------+-------------+------+\n\n</div>"
            ]
          }
        }
      ],
      "execution_count": null
    },
    {
      "cell_type": "code",
      "source": [
        "user_df.select(\"gender\")      \\\n",
        "            .groupby(\"gender\")  \\\n",
        "            .count().show()  "
      ],
      "metadata": {
        "application/vnd.databricks.v1+cell": {
          "title": "",
          "showTitle": false,
          "inputWidgets": {},
          "nuid": "793fb2df-d68e-42d6-8ccb-044c07274869"
        },
        "id": "9wWQ8DMA7TNo",
        "outputId": "53739030-bc3e-4638-9d4e-866d1c2e338d"
      },
      "outputs": [
        {
          "output_type": "display_data",
          "metadata": {
            "application/vnd.databricks.v1+output": {
              "datasetInfos": [],
              "data": "<div class=\"ansiout\">+------+-----+\n|gender|count|\n+------+-----+\n|     F|  273|\n|     M|  670|\n+------+-----+\n\n</div>",
              "removedWidgets": [],
              "addedWidgets": {},
              "type": "html",
              "arguments": {}
            }
          },
          "data": {
            "text/html": [
              "<style scoped>\n  .ansiout {\n    display: block;\n    unicode-bidi: embed;\n    white-space: pre-wrap;\n    word-wrap: break-word;\n    word-break: break-all;\n    font-family: \"Source Code Pro\", \"Menlo\", monospace;;\n    font-size: 13px;\n    color: #555;\n    margin-left: 4px;\n    line-height: 19px;\n  }\n</style>\n<div class=\"ansiout\">+------+-----+\ngender|count|\n+------+-----+\n     F|  273|\n     M|  670|\n+------+-----+\n\n</div>"
            ]
          }
        }
      ],
      "execution_count": null
    },
    {
      "cell_type": "code",
      "source": [
        "user_df.select(\"gender\",\"occupation\").                 \\\n",
        "                groupby(\"gender\",\"occupation\").           \\\n",
        "                count().                                                   \\\n",
        "                orderBy(\"gender\",\"occupation\").           \\\n",
        "                show(100)"
      ],
      "metadata": {
        "application/vnd.databricks.v1+cell": {
          "title": "",
          "showTitle": false,
          "inputWidgets": {},
          "nuid": "bdd21732-94c6-4218-a0b2-ed959d60291b"
        },
        "id": "QgMzx-SZ7TNo",
        "outputId": "a2bdec7e-7702-4628-8d3c-11b850e3a437"
      },
      "outputs": [
        {
          "output_type": "display_data",
          "metadata": {
            "application/vnd.databricks.v1+output": {
              "datasetInfos": [],
              "data": "<div class=\"ansiout\">+------+-------------+-----+\n|gender|   occupation|count|\n+------+-------------+-----+\n|     F|administrator|   36|\n|     F|       artist|   13|\n|     F|     educator|   26|\n|     F|     engineer|    2|\n|     F|entertainment|    2|\n|     F|    executive|    3|\n|     F|   healthcare|   11|\n|     F|    homemaker|    6|\n|     F|       lawyer|    2|\n|     F|    librarian|   29|\n|     F|    marketing|   10|\n|     F|         none|    4|\n|     F|        other|   36|\n|     F|   programmer|    6|\n|     F|      retired|    1|\n|     F|     salesman|    3|\n|     F|    scientist|    3|\n|     F|      student|   60|\n|     F|   technician|    1|\n|     F|       writer|   19|\n|     M|administrator|   43|\n|     M|       artist|   15|\n|     M|       doctor|    7|\n|     M|     educator|   69|\n|     M|     engineer|   65|\n|     M|entertainment|   16|\n|     M|    executive|   29|\n|     M|   healthcare|    5|\n|     M|    homemaker|    1|\n|     M|       lawyer|   10|\n|     M|    librarian|   22|\n|     M|    marketing|   16|\n|     M|         none|    5|\n|     M|        other|   69|\n|     M|   programmer|   60|\n|     M|      retired|   13|\n|     M|     salesman|    9|\n|     M|    scientist|   28|\n|     M|      student|  136|\n|     M|   technician|   26|\n|     M|       writer|   26|\n+------+-------------+-----+\n\n</div>",
              "removedWidgets": [],
              "addedWidgets": {},
              "type": "html",
              "arguments": {}
            }
          },
          "data": {
            "text/html": [
              "<style scoped>\n  .ansiout {\n    display: block;\n    unicode-bidi: embed;\n    white-space: pre-wrap;\n    word-wrap: break-word;\n    word-break: break-all;\n    font-family: \"Source Code Pro\", \"Menlo\", monospace;;\n    font-size: 13px;\n    color: #555;\n    margin-left: 4px;\n    line-height: 19px;\n  }\n</style>\n<div class=\"ansiout\">+------+-------------+-----+\ngender|   occupation|count|\n+------+-------------+-----+\n     F|administrator|   36|\n     F|       artist|   13|\n     F|     educator|   26|\n     F|     engineer|    2|\n     F|entertainment|    2|\n     F|    executive|    3|\n     F|   healthcare|   11|\n     F|    homemaker|    6|\n     F|       lawyer|    2|\n     F|    librarian|   29|\n     F|    marketing|   10|\n     F|         none|    4|\n     F|        other|   36|\n     F|   programmer|    6|\n     F|      retired|    1|\n     F|     salesman|    3|\n     F|    scientist|    3|\n     F|      student|   60|\n     F|   technician|    1|\n     F|       writer|   19|\n     M|administrator|   43|\n     M|       artist|   15|\n     M|       doctor|    7|\n     M|     educator|   69|\n     M|     engineer|   65|\n     M|entertainment|   16|\n     M|    executive|   29|\n     M|   healthcare|    5|\n     M|    homemaker|    1|\n     M|       lawyer|   10|\n     M|    librarian|   22|\n     M|    marketing|   16|\n     M|         none|    5|\n     M|        other|   69|\n     M|   programmer|   60|\n     M|      retired|   13|\n     M|     salesman|    9|\n     M|    scientist|   28|\n     M|      student|  136|\n     M|   technician|   26|\n     M|       writer|   26|\n+------+-------------+-----+\n\n</div>"
            ]
          }
        }
      ],
      "execution_count": null
    },
    {
      "cell_type": "code",
      "source": [
        "user_df.stat.crosstab(\"occupation\",\"gender\" ).show(30)"
      ],
      "metadata": {
        "application/vnd.databricks.v1+cell": {
          "title": "",
          "showTitle": false,
          "inputWidgets": {},
          "nuid": "f72df74a-a8a0-40eb-8c2c-6f7900f8dd49"
        },
        "id": "z39zh2037TNp",
        "outputId": "1b2d9c82-a806-461f-b932-4aa47142bb56"
      },
      "outputs": [
        {
          "output_type": "display_data",
          "metadata": {
            "application/vnd.databricks.v1+output": {
              "datasetInfos": [],
              "data": "<div class=\"ansiout\">+-----------------+---+---+\n|occupation_gender|  F|  M|\n+-----------------+---+---+\n|        scientist|  3| 28|\n|          student| 60|136|\n|           writer| 19| 26|\n|         salesman|  3|  9|\n|          retired|  1| 13|\n|    administrator| 36| 43|\n|       programmer|  6| 60|\n|           doctor|  0|  7|\n|        homemaker|  6|  1|\n|        executive|  3| 29|\n|         engineer|  2| 65|\n|    entertainment|  2| 16|\n|        marketing| 10| 16|\n|       technician|  1| 26|\n|           artist| 13| 15|\n|        librarian| 29| 22|\n|           lawyer|  2| 10|\n|         educator| 26| 69|\n|       healthcare| 11|  5|\n|             none|  4|  5|\n|            other| 36| 69|\n+-----------------+---+---+\n\n</div>",
              "removedWidgets": [],
              "addedWidgets": {},
              "type": "html",
              "arguments": {}
            }
          },
          "data": {
            "text/html": [
              "<style scoped>\n  .ansiout {\n    display: block;\n    unicode-bidi: embed;\n    white-space: pre-wrap;\n    word-wrap: break-word;\n    word-break: break-all;\n    font-family: \"Source Code Pro\", \"Menlo\", monospace;;\n    font-size: 13px;\n    color: #555;\n    margin-left: 4px;\n    line-height: 19px;\n  }\n</style>\n<div class=\"ansiout\">+-----------------+---+---+\noccupation_gender|  F|  M|\n+-----------------+---+---+\n        scientist|  3| 28|\n          student| 60|136|\n           writer| 19| 26|\n         salesman|  3|  9|\n          retired|  1| 13|\n    administrator| 36| 43|\n       programmer|  6| 60|\n           doctor|  0|  7|\n        homemaker|  6|  1|\n        executive|  3| 29|\n         engineer|  2| 65|\n    entertainment|  2| 16|\n        marketing| 10| 16|\n       technician|  1| 26|\n           artist| 13| 15|\n        librarian| 29| 22|\n           lawyer|  2| 10|\n         educator| 26| 69|\n       healthcare| 11|  5|\n             none|  4|  5|\n            other| 36| 69|\n+-----------------+---+---+\n\n</div>"
            ]
          }
        }
      ],
      "execution_count": null
    },
    {
      "cell_type": "code",
      "source": [
        "user_df.describe().show()"
      ],
      "metadata": {
        "application/vnd.databricks.v1+cell": {
          "title": "",
          "showTitle": false,
          "inputWidgets": {},
          "nuid": "d0791587-2697-4270-9837-b7373eceed8e"
        },
        "id": "-aNxZIdI7TNp",
        "outputId": "0f0a89e7-b93a-42d3-850d-4ee93be0804e"
      },
      "outputs": [
        {
          "output_type": "display_data",
          "metadata": {
            "application/vnd.databricks.v1+output": {
              "datasetInfos": [],
              "data": "<div class=\"ansiout\">+-------+-----------------+------+-------------+-----------------+------------------+\n|summary|              age|gender|   occupation|           userid|           zipcode|\n+-------+-----------------+------+-------------+-----------------+------------------+\n|  count|              943|   943|          943|              943|               943|\n|   mean|34.05196182396607|  null|         null|            472.0| 50868.78810810811|\n| stddev|12.19273973305903|  null|         null|272.3649512449549|30891.373254138158|\n|    min|                7|     F|administrator|                1|             00000|\n|    max|               73|     M|       writer|              943|             Y1A6B|\n+-------+-----------------+------+-------------+-----------------+------------------+\n\n</div>",
              "removedWidgets": [],
              "addedWidgets": {},
              "type": "html",
              "arguments": {}
            }
          },
          "data": {
            "text/html": [
              "<style scoped>\n  .ansiout {\n    display: block;\n    unicode-bidi: embed;\n    white-space: pre-wrap;\n    word-wrap: break-word;\n    word-break: break-all;\n    font-family: \"Source Code Pro\", \"Menlo\", monospace;;\n    font-size: 13px;\n    color: #555;\n    margin-left: 4px;\n    line-height: 19px;\n  }\n</style>\n<div class=\"ansiout\">+-------+-----------------+------+-------------+-----------------+------------------+\nsummary|              age|gender|   occupation|           userid|           zipcode|\n+-------+-----------------+------+-------------+-----------------+------------------+\n  count|              943|   943|          943|              943|               943|\n   mean|34.05196182396607|  null|         null|            472.0| 50868.78810810811|\n stddev|12.19273973305903|  null|         null|272.3649512449549|30891.373254138158|\n    min|                7|     F|administrator|                1|             00000|\n    max|               73|     M|       writer|              943|             Y1A6B|\n+-------+-----------------+------+-------------+-----------------+------------------+\n\n</div>"
            ]
          }
        }
      ],
      "execution_count": null
    },
    {
      "cell_type": "markdown",
      "source": [
        "# 19.10\tJoin關聯資料"
      ],
      "metadata": {
        "application/vnd.databricks.v1+cell": {
          "title": "",
          "showTitle": false,
          "inputWidgets": {},
          "nuid": "258247a1-7db9-4339-a2ab-3e68b6be0aff"
        },
        "id": "KmZnAswh7TNq"
      }
    },
    {
      "cell_type": "markdown",
      "source": [
        "# ZipCode"
      ],
      "metadata": {
        "application/vnd.databricks.v1+cell": {
          "title": "",
          "showTitle": false,
          "inputWidgets": {},
          "nuid": "91eed2f8-e03b-4c3c-83ca-c43f79347623"
        },
        "id": "hLCDaw8m7TNq"
      }
    },
    {
      "cell_type": "code",
      "source": [
        "#wget http://federalgovernmentzipcodes.us/free-zipcode-database-Primary.csv"
      ],
      "metadata": {
        "application/vnd.databricks.v1+cell": {
          "title": "",
          "showTitle": false,
          "inputWidgets": {},
          "nuid": "127393bc-3094-4b11-85ef-721d016f8bbd"
        },
        "id": "Ldz3yJr_7TNr",
        "outputId": "8f593feb-5c26-4a53-fe9f-4579c6b92cd4"
      },
      "outputs": [
        {
          "output_type": "display_data",
          "metadata": {
            "application/vnd.databricks.v1+output": {
              "datasetInfos": [],
              "data": "<div class=\"ansiout\"></div>",
              "removedWidgets": [],
              "addedWidgets": {},
              "type": "html",
              "arguments": {}
            }
          },
          "data": {
            "text/html": [
              "<style scoped>\n  .ansiout {\n    display: block;\n    unicode-bidi: embed;\n    white-space: pre-wrap;\n    word-wrap: break-word;\n    word-break: break-all;\n    font-family: \"Source Code Pro\", \"Menlo\", monospace;;\n    font-size: 13px;\n    color: #555;\n    margin-left: 4px;\n    line-height: 19px;\n  }\n</style>\n<div class=\"ansiout\"></div>"
            ]
          }
        }
      ],
      "execution_count": null
    },
    {
      "cell_type": "code",
      "source": [
        "#Path=\"file:/home/hduser/pythonwork/ipynotebook/\"\n",
        "rawDataWithHeader = sc.textFile(Path+\"free_zipcode_database_Primary-df465.csv\")\n",
        "rawDataWithHeader .take(2)"
      ],
      "metadata": {
        "application/vnd.databricks.v1+cell": {
          "title": "",
          "showTitle": false,
          "inputWidgets": {},
          "nuid": "4c7d0457-3f1b-4ed2-90de-0ae608ef2fc1"
        },
        "id": "ZXIYWYSZ7TNr",
        "outputId": "392b88ac-b1b5-4f93-f114-9457e70d21da"
      },
      "outputs": [
        {
          "output_type": "display_data",
          "metadata": {
            "application/vnd.databricks.v1+output": {
              "datasetInfos": [],
              "data": "<div class=\"ansiout\">Out[63]: [&#39;&#34;Zipcode&#34;,&#34;ZipCodeType&#34;,&#34;City&#34;,&#34;State&#34;,&#34;LocationType&#34;,&#34;Lat&#34;,&#34;Long&#34;,&#34;Location&#34;,&#34;Decommisioned&#34;,&#34;TaxReturnsFiled&#34;,&#34;EstimatedPopulation&#34;,&#34;TotalWages&#34;&#39;,\n &#39;&#34;00705&#34;,&#34;STANDARD&#34;,&#34;AIBONITO&#34;,&#34;PR&#34;,&#34;PRIMARY&#34;,18.14,-66.26,&#34;NA-US-PR-AIBONITO&#34;,&#34;false&#34;,,,&#39;]</div>",
              "removedWidgets": [],
              "addedWidgets": {},
              "type": "html",
              "arguments": {}
            }
          },
          "data": {
            "text/html": [
              "<style scoped>\n  .ansiout {\n    display: block;\n    unicode-bidi: embed;\n    white-space: pre-wrap;\n    word-wrap: break-word;\n    word-break: break-all;\n    font-family: \"Source Code Pro\", \"Menlo\", monospace;;\n    font-size: 13px;\n    color: #555;\n    margin-left: 4px;\n    line-height: 19px;\n  }\n</style>\n<div class=\"ansiout\">Out[63]: [&#39;&#34;Zipcode&#34;,&#34;ZipCodeType&#34;,&#34;City&#34;,&#34;State&#34;,&#34;LocationType&#34;,&#34;Lat&#34;,&#34;Long&#34;,&#34;Location&#34;,&#34;Decommisioned&#34;,&#34;TaxReturnsFiled&#34;,&#34;EstimatedPopulation&#34;,&#34;TotalWages&#34;&#39;,\n &#39;&#34;00705&#34;,&#34;STANDARD&#34;,&#34;AIBONITO&#34;,&#34;PR&#34;,&#34;PRIMARY&#34;,18.14,-66.26,&#34;NA-US-PR-AIBONITO&#34;,&#34;false&#34;,,,&#39;]</div>"
            ]
          }
        }
      ],
      "execution_count": null
    },
    {
      "cell_type": "code",
      "source": [
        "header = rawDataWithHeader.first()\n",
        "rawData = rawDataWithHeader.filter(lambda x:x !=header)\n",
        "rawData.first()"
      ],
      "metadata": {
        "application/vnd.databricks.v1+cell": {
          "title": "",
          "showTitle": false,
          "inputWidgets": {},
          "nuid": "1e7b9159-4caf-4f86-b4bd-80471ecc88f6"
        },
        "id": "-_-hoYeE7TNs",
        "outputId": "5bbfec40-71f5-4256-8393-cefa8de55cc6"
      },
      "outputs": [
        {
          "output_type": "display_data",
          "metadata": {
            "application/vnd.databricks.v1+output": {
              "datasetInfos": [],
              "data": "<div class=\"ansiout\">Out[64]: &#39;&#34;00705&#34;,&#34;STANDARD&#34;,&#34;AIBONITO&#34;,&#34;PR&#34;,&#34;PRIMARY&#34;,18.14,-66.26,&#34;NA-US-PR-AIBONITO&#34;,&#34;false&#34;,,,&#39;</div>",
              "removedWidgets": [],
              "addedWidgets": {},
              "type": "html",
              "arguments": {}
            }
          },
          "data": {
            "text/html": [
              "<style scoped>\n  .ansiout {\n    display: block;\n    unicode-bidi: embed;\n    white-space: pre-wrap;\n    word-wrap: break-word;\n    word-break: break-all;\n    font-family: \"Source Code Pro\", \"Menlo\", monospace;;\n    font-size: 13px;\n    color: #555;\n    margin-left: 4px;\n    line-height: 19px;\n  }\n</style>\n<div class=\"ansiout\">Out[64]: &#39;&#34;00705&#34;,&#34;STANDARD&#34;,&#34;AIBONITO&#34;,&#34;PR&#34;,&#34;PRIMARY&#34;,18.14,-66.26,&#34;NA-US-PR-AIBONITO&#34;,&#34;false&#34;,,,&#39;</div>"
            ]
          }
        }
      ],
      "execution_count": null
    },
    {
      "cell_type": "code",
      "source": [
        "rData=rawData.map(lambda x: x.replace(\"\\\"\", \"\"))   \n",
        "rData.first()"
      ],
      "metadata": {
        "application/vnd.databricks.v1+cell": {
          "title": "",
          "showTitle": false,
          "inputWidgets": {},
          "nuid": "65675a98-3849-495e-be2d-5a820a0238a9"
        },
        "id": "QLkhVjFq7TNs",
        "outputId": "202c4e2b-9c6b-41d1-bb35-17f73c315b2d"
      },
      "outputs": [
        {
          "output_type": "display_data",
          "metadata": {
            "application/vnd.databricks.v1+output": {
              "datasetInfos": [],
              "data": "<div class=\"ansiout\">Out[65]: &#39;00705,STANDARD,AIBONITO,PR,PRIMARY,18.14,-66.26,NA-US-PR-AIBONITO,false,,,&#39;</div>",
              "removedWidgets": [],
              "addedWidgets": {},
              "type": "html",
              "arguments": {}
            }
          },
          "data": {
            "text/html": [
              "<style scoped>\n  .ansiout {\n    display: block;\n    unicode-bidi: embed;\n    white-space: pre-wrap;\n    word-wrap: break-word;\n    word-break: break-all;\n    font-family: \"Source Code Pro\", \"Menlo\", monospace;;\n    font-size: 13px;\n    color: #555;\n    margin-left: 4px;\n    line-height: 19px;\n  }\n</style>\n<div class=\"ansiout\">Out[65]: &#39;00705,STANDARD,AIBONITO,PR,PRIMARY,18.14,-66.26,NA-US-PR-AIBONITO,false,,,&#39;</div>"
            ]
          }
        }
      ],
      "execution_count": null
    },
    {
      "cell_type": "code",
      "source": [
        "ZipRDD = rData.map(lambda x: x.split(\",\"))\n",
        "ZipRDD.first()"
      ],
      "metadata": {
        "application/vnd.databricks.v1+cell": {
          "title": "",
          "showTitle": false,
          "inputWidgets": {},
          "nuid": "99a239d5-57e1-483c-bc57-bae5627bc70f"
        },
        "id": "20HeLjR17TNt",
        "outputId": "77f0aeac-4c8d-41d4-ad85-233bedf2e23e"
      },
      "outputs": [
        {
          "output_type": "display_data",
          "metadata": {
            "application/vnd.databricks.v1+output": {
              "datasetInfos": [],
              "data": "<div class=\"ansiout\">Out[66]: [&#39;00705&#39;,\n &#39;STANDARD&#39;,\n &#39;AIBONITO&#39;,\n &#39;PR&#39;,\n &#39;PRIMARY&#39;,\n &#39;18.14&#39;,\n &#39;-66.26&#39;,\n &#39;NA-US-PR-AIBONITO&#39;,\n &#39;false&#39;,\n &#39;&#39;,\n &#39;&#39;,\n &#39;&#39;]</div>",
              "removedWidgets": [],
              "addedWidgets": {},
              "type": "html",
              "arguments": {}
            }
          },
          "data": {
            "text/html": [
              "<style scoped>\n  .ansiout {\n    display: block;\n    unicode-bidi: embed;\n    white-space: pre-wrap;\n    word-wrap: break-word;\n    word-break: break-all;\n    font-family: \"Source Code Pro\", \"Menlo\", monospace;;\n    font-size: 13px;\n    color: #555;\n    margin-left: 4px;\n    line-height: 19px;\n  }\n</style>\n<div class=\"ansiout\">Out[66]: [&#39;00705&#39;,\n &#39;STANDARD&#39;,\n &#39;AIBONITO&#39;,\n &#39;PR&#39;,\n &#39;PRIMARY&#39;,\n &#39;18.14&#39;,\n &#39;-66.26&#39;,\n &#39;NA-US-PR-AIBONITO&#39;,\n &#39;false&#39;,\n &#39;&#39;,\n &#39;&#39;,\n &#39;&#39;]</div>"
            ]
          }
        }
      ],
      "execution_count": null
    },
    {
      "cell_type": "markdown",
      "source": [
        "# 19.19.2\t建立zipcode_table"
      ],
      "metadata": {
        "application/vnd.databricks.v1+cell": {
          "title": "",
          "showTitle": false,
          "inputWidgets": {},
          "nuid": "f959bf66-c2e2-4188-9f84-59ca22b29df6"
        },
        "id": "rdJ8U1j07TNt"
      }
    },
    {
      "cell_type": "code",
      "source": [
        "from pyspark.sql import Row\n",
        "zipcode_data =ZipRDD .map(lambda p: \n",
        "   Row(\n",
        "    zipcode=int(p[0]), \n",
        "    zipCodeType=p[1],\n",
        "    city=p[2],\n",
        "    state=p[3]\n",
        "    )\n",
        ")\n",
        "zipcode_data.take(5)"
      ],
      "metadata": {
        "application/vnd.databricks.v1+cell": {
          "title": "",
          "showTitle": false,
          "inputWidgets": {},
          "nuid": "0d584175-cc69-4565-9c69-f8323faf658b"
        },
        "id": "wG39eoAV7TNu",
        "outputId": "e199afa0-00c9-450f-ada1-8a76a490e019"
      },
      "outputs": [
        {
          "output_type": "display_data",
          "metadata": {
            "application/vnd.databricks.v1+output": {
              "datasetInfos": [],
              "data": "<div class=\"ansiout\">Out[67]: [Row(city=&#39;AIBONITO&#39;, state=&#39;PR&#39;, zipCodeType=&#39;STANDARD&#39;, zipcode=705),\n Row(city=&#39;ANASCO&#39;, state=&#39;PR&#39;, zipCodeType=&#39;STANDARD&#39;, zipcode=610),\n Row(city=&#39;ANGELES&#39;, state=&#39;PR&#39;, zipCodeType=&#39;PO BOX&#39;, zipcode=611),\n Row(city=&#39;ARECIBO&#39;, state=&#39;PR&#39;, zipCodeType=&#39;STANDARD&#39;, zipcode=612),\n Row(city=&#39;ADJUNTAS&#39;, state=&#39;PR&#39;, zipCodeType=&#39;STANDARD&#39;, zipcode=601)]</div>",
              "removedWidgets": [],
              "addedWidgets": {},
              "type": "html",
              "arguments": {}
            }
          },
          "data": {
            "text/html": [
              "<style scoped>\n  .ansiout {\n    display: block;\n    unicode-bidi: embed;\n    white-space: pre-wrap;\n    word-wrap: break-word;\n    word-break: break-all;\n    font-family: \"Source Code Pro\", \"Menlo\", monospace;;\n    font-size: 13px;\n    color: #555;\n    margin-left: 4px;\n    line-height: 19px;\n  }\n</style>\n<div class=\"ansiout\">Out[67]: [Row(city=&#39;AIBONITO&#39;, state=&#39;PR&#39;, zipCodeType=&#39;STANDARD&#39;, zipcode=705),\n Row(city=&#39;ANASCO&#39;, state=&#39;PR&#39;, zipCodeType=&#39;STANDARD&#39;, zipcode=610),\n Row(city=&#39;ANGELES&#39;, state=&#39;PR&#39;, zipCodeType=&#39;PO BOX&#39;, zipcode=611),\n Row(city=&#39;ARECIBO&#39;, state=&#39;PR&#39;, zipCodeType=&#39;STANDARD&#39;, zipcode=612),\n Row(city=&#39;ADJUNTAS&#39;, state=&#39;PR&#39;, zipCodeType=&#39;STANDARD&#39;, zipcode=601)]</div>"
            ]
          }
        }
      ],
      "execution_count": null
    },
    {
      "cell_type": "code",
      "source": [
        "zipcode_df  = sqlContext.createDataFrame(zipcode_data )\n",
        "zipcode_df.printSchema()"
      ],
      "metadata": {
        "application/vnd.databricks.v1+cell": {
          "title": "",
          "showTitle": false,
          "inputWidgets": {},
          "nuid": "0acc42f0-0ace-4807-98d2-ecff399b5b2b"
        },
        "id": "Nljzo9q_7TNu",
        "outputId": "66f1b44b-d04a-4056-90a1-dd3bccd3220d"
      },
      "outputs": [
        {
          "output_type": "display_data",
          "metadata": {
            "application/vnd.databricks.v1+output": {
              "datasetInfos": [
                {
                  "name": "zipcode_df",
                  "typeStr": "pyspark.sql.dataframe.DataFrame",
                  "schema": {
                    "fields": [
                      {
                        "metadata": {},
                        "name": "city",
                        "nullable": true,
                        "type": "string"
                      },
                      {
                        "metadata": {},
                        "name": "state",
                        "nullable": true,
                        "type": "string"
                      },
                      {
                        "metadata": {},
                        "name": "zipCodeType",
                        "nullable": true,
                        "type": "string"
                      },
                      {
                        "metadata": {},
                        "name": "zipcode",
                        "nullable": true,
                        "type": "long"
                      }
                    ],
                    "type": "struct"
                  },
                  "tableIdentifier": null
                }
              ],
              "data": "<div class=\"ansiout\">root\n |-- city: string (nullable = true)\n |-- state: string (nullable = true)\n |-- zipCodeType: string (nullable = true)\n |-- zipcode: long (nullable = true)\n\n</div>",
              "removedWidgets": [],
              "addedWidgets": {},
              "type": "html",
              "arguments": {}
            }
          },
          "data": {
            "text/html": [
              "<style scoped>\n  .ansiout {\n    display: block;\n    unicode-bidi: embed;\n    white-space: pre-wrap;\n    word-wrap: break-word;\n    word-break: break-all;\n    font-family: \"Source Code Pro\", \"Menlo\", monospace;;\n    font-size: 13px;\n    color: #555;\n    margin-left: 4px;\n    line-height: 19px;\n  }\n</style>\n<div class=\"ansiout\">root\n-- city: string (nullable = true)\n-- state: string (nullable = true)\n-- zipCodeType: string (nullable = true)\n-- zipcode: long (nullable = true)\n\n</div>"
            ]
          }
        }
      ],
      "execution_count": null
    },
    {
      "cell_type": "code",
      "source": [
        "zipcode_df.registerTempTable(\"zipcode_table\")\n",
        "zipcode_df.show(10)"
      ],
      "metadata": {
        "application/vnd.databricks.v1+cell": {
          "title": "",
          "showTitle": false,
          "inputWidgets": {},
          "nuid": "818ae9aa-a889-4957-8066-6f1e061e6634"
        },
        "id": "Zvg02TSt7TNv",
        "outputId": "4534cca8-8de4-46ed-c915-9b720dfa9b15"
      },
      "outputs": [
        {
          "output_type": "display_data",
          "metadata": {
            "application/vnd.databricks.v1+output": {
              "datasetInfos": [],
              "data": "<div class=\"ansiout\">+---------+-----+-----------+-------+\n|     city|state|zipCodeType|zipcode|\n+---------+-----+-----------+-------+\n| AIBONITO|   PR|   STANDARD|    705|\n|   ANASCO|   PR|   STANDARD|    610|\n|  ANGELES|   PR|     PO BOX|    611|\n|  ARECIBO|   PR|   STANDARD|    612|\n| ADJUNTAS|   PR|   STANDARD|    601|\n| CASTANER|   PR|     PO BOX|    631|\n|   AGUADA|   PR|   STANDARD|    602|\n|AGUADILLA|   PR|   STANDARD|    603|\n|AGUADILLA|   PR|     PO BOX|    604|\n|AGUADILLA|   PR|     PO BOX|    605|\n+---------+-----+-----------+-------+\nonly showing top 10 rows\n\n</div>",
              "removedWidgets": [],
              "addedWidgets": {},
              "type": "html",
              "arguments": {}
            }
          },
          "data": {
            "text/html": [
              "<style scoped>\n  .ansiout {\n    display: block;\n    unicode-bidi: embed;\n    white-space: pre-wrap;\n    word-wrap: break-word;\n    word-break: break-all;\n    font-family: \"Source Code Pro\", \"Menlo\", monospace;;\n    font-size: 13px;\n    color: #555;\n    margin-left: 4px;\n    line-height: 19px;\n  }\n</style>\n<div class=\"ansiout\">+---------+-----+-----------+-------+\n     city|state|zipCodeType|zipcode|\n+---------+-----+-----------+-------+\n AIBONITO|   PR|   STANDARD|    705|\n   ANASCO|   PR|   STANDARD|    610|\n  ANGELES|   PR|     PO BOX|    611|\n  ARECIBO|   PR|   STANDARD|    612|\n ADJUNTAS|   PR|   STANDARD|    601|\n CASTANER|   PR|     PO BOX|    631|\n   AGUADA|   PR|   STANDARD|    602|\nAGUADILLA|   PR|   STANDARD|    603|\nAGUADILLA|   PR|     PO BOX|    604|\nAGUADILLA|   PR|     PO BOX|    605|\n+---------+-----+-----------+-------+\nonly showing top 10 rows\n\n</div>"
            ]
          }
        }
      ],
      "execution_count": null
    },
    {
      "cell_type": "code",
      "source": [
        "sqlContext.sql(\"\"\" \n",
        "SELECT z.* \n",
        "FROM zipcode_table z \n",
        "\"\"\").show(10)"
      ],
      "metadata": {
        "application/vnd.databricks.v1+cell": {
          "title": "",
          "showTitle": false,
          "inputWidgets": {},
          "nuid": "36fa9c32-71a8-4acd-99ca-d03b783bc6ee"
        },
        "id": "5MrAKDi27TNv",
        "outputId": "f261639d-02fb-4624-d676-785d61052633"
      },
      "outputs": [
        {
          "output_type": "display_data",
          "metadata": {
            "application/vnd.databricks.v1+output": {
              "datasetInfos": [],
              "data": "<div class=\"ansiout\">+---------+-----+-----------+-------+\n|     city|state|zipCodeType|zipcode|\n+---------+-----+-----------+-------+\n| AIBONITO|   PR|   STANDARD|    705|\n|   ANASCO|   PR|   STANDARD|    610|\n|  ANGELES|   PR|     PO BOX|    611|\n|  ARECIBO|   PR|   STANDARD|    612|\n| ADJUNTAS|   PR|   STANDARD|    601|\n| CASTANER|   PR|     PO BOX|    631|\n|   AGUADA|   PR|   STANDARD|    602|\n|AGUADILLA|   PR|   STANDARD|    603|\n|AGUADILLA|   PR|     PO BOX|    604|\n|AGUADILLA|   PR|     PO BOX|    605|\n+---------+-----+-----------+-------+\nonly showing top 10 rows\n\n</div>",
              "removedWidgets": [],
              "addedWidgets": {},
              "type": "html",
              "arguments": {}
            }
          },
          "data": {
            "text/html": [
              "<style scoped>\n  .ansiout {\n    display: block;\n    unicode-bidi: embed;\n    white-space: pre-wrap;\n    word-wrap: break-word;\n    word-break: break-all;\n    font-family: \"Source Code Pro\", \"Menlo\", monospace;;\n    font-size: 13px;\n    color: #555;\n    margin-left: 4px;\n    line-height: 19px;\n  }\n</style>\n<div class=\"ansiout\">+---------+-----+-----------+-------+\n     city|state|zipCodeType|zipcode|\n+---------+-----+-----------+-------+\n AIBONITO|   PR|   STANDARD|    705|\n   ANASCO|   PR|   STANDARD|    610|\n  ANGELES|   PR|     PO BOX|    611|\n  ARECIBO|   PR|   STANDARD|    612|\n ADJUNTAS|   PR|   STANDARD|    601|\n CASTANER|   PR|     PO BOX|    631|\n   AGUADA|   PR|   STANDARD|    602|\nAGUADILLA|   PR|   STANDARD|    603|\nAGUADILLA|   PR|     PO BOX|    604|\nAGUADILLA|   PR|     PO BOX|    605|\n+---------+-----+-----------+-------+\nonly showing top 10 rows\n\n</div>"
            ]
          }
        }
      ],
      "execution_count": null
    },
    {
      "cell_type": "code",
      "source": [
        "sqlContext.sql(\"\"\" \n",
        "SELECT u.* ,z.city,z.state \n",
        "FROM user_table u \n",
        "LEFT JOIN zipcode_table z  ON u.zipcode = z.zipcode\n",
        "WHERE z.state='NY'\n",
        "\"\"\").show(100)"
      ],
      "metadata": {
        "application/vnd.databricks.v1+cell": {
          "title": "",
          "showTitle": false,
          "inputWidgets": {},
          "nuid": "9084015b-d81d-4b25-8f14-cf7c6bf22cfc"
        },
        "id": "M1z5ydKD7TNw",
        "outputId": "2589293b-0149-41bf-829d-8da30e06b077"
      },
      "outputs": [
        {
          "output_type": "display_data",
          "metadata": {
            "application/vnd.databricks.v1+output": {
              "datasetInfos": [],
              "data": "<div class=\"ansiout\">+---+------+-------------+------+-------+----------------+-----+\n|age|gender|   occupation|userid|zipcode|            city|state|\n+---+------+-------------+------+-------+----------------+-----+\n| 22|     F|   healthcare|   405|  10019|        NEW YORK|   NY|\n| 29|     M|        other|   478|  10019|        NEW YORK|   NY|\n| 22|     M|      student|   327|  11101|LONG ISLAND CITY|   NY|\n| 48|     M|     educator|   656|  10314|   STATEN ISLAND|   NY|\n| 27|     F|       writer|   617|  11201|        BROOKLYN|   NY|\n| 35|     F|        other|   760|  14211|         BUFFALO|   NY|\n| 32|     F|        other|   155|  11217|        BROOKLYN|   NY|\n| 30|     F|       writer|   557|  11217|        BROOKLYN|   NY|\n| 27|     M|    marketing|   806|  11217|        BROOKLYN|   NY|\n| 23|     M|administrator|   509|  10011|        NEW YORK|   NY|\n| 30|     M|        other|   814|  12345|     SCHENECTADY|   NY|\n| 21|     M|entertainment|    16|  10309|   STATEN ISLAND|   NY|\n| 50|     M|     educator|   547|  14534|       PITTSFORD|   NY|\n| 38|     F|      student|   861|  14085|       LAKE VIEW|   NY|\n| 26|     M|        other|   587|  14216|         BUFFALO|   NY|\n| 28|     M|      student|   770|  14216|         BUFFALO|   NY|\n| 25|     M|        other|   919|  14216|         BUFFALO|   NY|\n| 28|     F|        other|   376|  10010|        NEW YORK|   NY|\n| 28|     F|      student|   230|  14476|         KENDALL|   NY|\n| 20|     M|      student|   566|  14627|       ROCHESTER|   NY|\n| 26|     M|     educator|   570|  14627|       ROCHESTER|   NY|\n| 39|     M|     educator|   604|  11787|       SMITHTOWN|   NY|\n| 22|     M|administrator|   317|  13210|        SYRACUSE|   NY|\n| 40|     M|   programmer|   792|  12205|          ALBANY|   NY|\n| 29|     M|        other|   924|  11753|         JERICHO|   NY|\n| 31|     M|administrator|    95|  10707|        TUCKAHOE|   NY|\n| 23|     M|entertainment|   448|  10021|        NEW YORK|   NY|\n| 24|     M|   programmer|   470|  10021|        NEW YORK|   NY|\n| 53|     F|    librarian|   516|  10021|        NEW YORK|   NY|\n| 49|     F|    librarian|    88|  11701|      AMITYVILLE|   NY|\n| 29|     M|administrator|   768|  12866|SARATOGA SPRINGS|   NY|\n| 44|     M|       artist|   836|  10018|        NEW YORK|   NY|\n| 27|     M|       artist|   433|  11211|        BROOKLYN|   NY|\n| 22|     M|        other|   217|  11727|           CORAM|   NY|\n| 22|     M|      student|   501|  10025|        NEW YORK|   NY|\n| 30|     M|      student|   869|  10025|        NEW YORK|   NY|\n| 45|     M|administrator|    48|  12550|        NEWBURGH|   NY|\n| 50|     F|        other|   273|  10016|        NEW YORK|   NY|\n| 29|     F|       writer|   668|  10016|        NEW YORK|   NY|\n| 44|     F|    executive|   835|  11577|  ROSLYN HEIGHTS|   NY|\n| 24|     M|       artist|    31|  10003|        NEW YORK|   NY|\n| 36|     M|       writer|   385|  10003|        NEW YORK|   NY|\n| 32|     M|      student|   560|  10003|        NEW YORK|   NY|\n| 24|     M|entertainment|   567|  10003|        NEW YORK|   NY|\n| 22|     M|        other|   608|  10003|        NEW YORK|   NY|\n| 40|     M|     educator|   358|  10022|        NEW YORK|   NY|\n| 69|     M|    executive|   559|  10022|        NEW YORK|   NY|\n| 19|     M|      student|   303|  14853|          ITHACA|   NY|\n| 52|     F|    librarian|   204|  10960|           NYACK|   NY|\n| 42|     M|        other|   766|  10960|           NYACK|   NY|\n| 33|     M|    librarian|   527|  12180|            TROY|   NY|\n| 62|     M|   healthcare|   520|  12603|    POUGHKEEPSIE|   NY|\n| 26|     F|    librarian|   214|  11231|        BROOKLYN|   NY|\n| 25|     M|       artist|   865|  11231|        BROOKLYN|   NY|\n| 24|     F|entertainment|   721|  11238|        BROOKLYN|   NY|\n| 25|     M|    executive|   862|  13820|         ONEONTA|   NY|\n| 37|     M|    scientist|   337|  10522|     DOBBS FERRY|   NY|\n| 35|     F|     educator|   450|  11758|      MASSAPEQUA|   NY|\n| 42|     F|    librarian|   639|  12065|    CLIFTON PARK|   NY|\n| 25|     M|   programmer|   622|  14850|          ITHACA|   NY|\n+---+------+-------------+------+-------+----------------+-----+\n\n</div>",
              "removedWidgets": [],
              "addedWidgets": {},
              "type": "html",
              "arguments": {}
            }
          },
          "data": {
            "text/html": [
              "<style scoped>\n  .ansiout {\n    display: block;\n    unicode-bidi: embed;\n    white-space: pre-wrap;\n    word-wrap: break-word;\n    word-break: break-all;\n    font-family: \"Source Code Pro\", \"Menlo\", monospace;;\n    font-size: 13px;\n    color: #555;\n    margin-left: 4px;\n    line-height: 19px;\n  }\n</style>\n<div class=\"ansiout\">+---+------+-------------+------+-------+----------------+-----+\nage|gender|   occupation|userid|zipcode|            city|state|\n+---+------+-------------+------+-------+----------------+-----+\n 22|     F|   healthcare|   405|  10019|        NEW YORK|   NY|\n 29|     M|        other|   478|  10019|        NEW YORK|   NY|\n 22|     M|      student|   327|  11101|LONG ISLAND CITY|   NY|\n 48|     M|     educator|   656|  10314|   STATEN ISLAND|   NY|\n 27|     F|       writer|   617|  11201|        BROOKLYN|   NY|\n 35|     F|        other|   760|  14211|         BUFFALO|   NY|\n 32|     F|        other|   155|  11217|        BROOKLYN|   NY|\n 30|     F|       writer|   557|  11217|        BROOKLYN|   NY|\n 27|     M|    marketing|   806|  11217|        BROOKLYN|   NY|\n 23|     M|administrator|   509|  10011|        NEW YORK|   NY|\n 30|     M|        other|   814|  12345|     SCHENECTADY|   NY|\n 21|     M|entertainment|    16|  10309|   STATEN ISLAND|   NY|\n 50|     M|     educator|   547|  14534|       PITTSFORD|   NY|\n 38|     F|      student|   861|  14085|       LAKE VIEW|   NY|\n 26|     M|        other|   587|  14216|         BUFFALO|   NY|\n 28|     M|      student|   770|  14216|         BUFFALO|   NY|\n 25|     M|        other|   919|  14216|         BUFFALO|   NY|\n 28|     F|        other|   376|  10010|        NEW YORK|   NY|\n 28|     F|      student|   230|  14476|         KENDALL|   NY|\n 20|     M|      student|   566|  14627|       ROCHESTER|   NY|\n 26|     M|     educator|   570|  14627|       ROCHESTER|   NY|\n 39|     M|     educator|   604|  11787|       SMITHTOWN|   NY|\n 22|     M|administrator|   317|  13210|        SYRACUSE|   NY|\n 40|     M|   programmer|   792|  12205|          ALBANY|   NY|\n 29|     M|        other|   924|  11753|         JERICHO|   NY|\n 31|     M|administrator|    95|  10707|        TUCKAHOE|   NY|\n 23|     M|entertainment|   448|  10021|        NEW YORK|   NY|\n 24|     M|   programmer|   470|  10021|        NEW YORK|   NY|\n 53|     F|    librarian|   516|  10021|        NEW YORK|   NY|\n 49|     F|    librarian|    88|  11701|      AMITYVILLE|   NY|\n 29|     M|administrator|   768|  12866|SARATOGA SPRINGS|   NY|\n 44|     M|       artist|   836|  10018|        NEW YORK|   NY|\n 27|     M|       artist|   433|  11211|        BROOKLYN|   NY|\n 22|     M|        other|   217|  11727|           CORAM|   NY|\n 22|     M|      student|   501|  10025|        NEW YORK|   NY|\n 30|     M|      student|   869|  10025|        NEW YORK|   NY|\n 45|     M|administrator|    48|  12550|        NEWBURGH|   NY|\n 50|     F|        other|   273|  10016|        NEW YORK|   NY|\n 29|     F|       writer|   668|  10016|        NEW YORK|   NY|\n 44|     F|    executive|   835|  11577|  ROSLYN HEIGHTS|   NY|\n 24|     M|       artist|    31|  10003|        NEW YORK|   NY|\n 36|     M|       writer|   385|  10003|        NEW YORK|   NY|\n 32|     M|      student|   560|  10003|        NEW YORK|   NY|\n 24|     M|entertainment|   567|  10003|        NEW YORK|   NY|\n 22|     M|        other|   608|  10003|        NEW YORK|   NY|\n 40|     M|     educator|   358|  10022|        NEW YORK|   NY|\n 69|     M|    executive|   559|  10022|        NEW YORK|   NY|\n 19|     M|      student|   303|  14853|          ITHACA|   NY|\n 52|     F|    librarian|   204|  10960|           NYACK|   NY|\n 42|     M|        other|   766|  10960|           NYACK|   NY|\n 33|     M|    librarian|   527|  12180|            TROY|   NY|\n 62|     M|   healthcare|   520|  12603|    POUGHKEEPSIE|   NY|\n 26|     F|    librarian|   214|  11231|        BROOKLYN|   NY|\n 25|     M|       artist|   865|  11231|        BROOKLYN|   NY|\n 24|     F|entertainment|   721|  11238|        BROOKLYN|   NY|\n 25|     M|    executive|   862|  13820|         ONEONTA|   NY|\n 37|     M|    scientist|   337|  10522|     DOBBS FERRY|   NY|\n 35|     F|     educator|   450|  11758|      MASSAPEQUA|   NY|\n 42|     F|    librarian|   639|  12065|    CLIFTON PARK|   NY|\n 25|     M|   programmer|   622|  14850|          ITHACA|   NY|\n+---+------+-------------+------+-------+----------------+-----+\n\n</div>"
            ]
          }
        }
      ],
      "execution_count": null
    },
    {
      "cell_type": "code",
      "source": [
        "sqlContext.sql(\"\"\" \n",
        "SELECT u.* ,z.city,z.state \n",
        "FROM user_table u, zipcode_table z WHERE u.zipcode = z.zipcode and z.state='NY'\n",
        "\"\"\").show(100)"
      ],
      "metadata": {
        "application/vnd.databricks.v1+cell": {
          "title": "",
          "showTitle": false,
          "inputWidgets": {},
          "nuid": "f0f910f8-cc6f-43a4-8a81-f59cc25edac7"
        },
        "id": "z__-2b8K7TNw",
        "outputId": "47e88fcb-698f-4c18-f04b-9cb361ec7614"
      },
      "outputs": [
        {
          "output_type": "display_data",
          "metadata": {
            "application/vnd.databricks.v1+output": {
              "datasetInfos": [],
              "data": "<div class=\"ansiout\">+---+------+-------------+------+-------+----------------+-----+\n|age|gender|   occupation|userid|zipcode|            city|state|\n+---+------+-------------+------+-------+----------------+-----+\n| 22|     F|   healthcare|   405|  10019|        NEW YORK|   NY|\n| 29|     M|        other|   478|  10019|        NEW YORK|   NY|\n| 22|     M|      student|   327|  11101|LONG ISLAND CITY|   NY|\n| 48|     M|     educator|   656|  10314|   STATEN ISLAND|   NY|\n| 27|     F|       writer|   617|  11201|        BROOKLYN|   NY|\n| 35|     F|        other|   760|  14211|         BUFFALO|   NY|\n| 32|     F|        other|   155|  11217|        BROOKLYN|   NY|\n| 30|     F|       writer|   557|  11217|        BROOKLYN|   NY|\n| 27|     M|    marketing|   806|  11217|        BROOKLYN|   NY|\n| 23|     M|administrator|   509|  10011|        NEW YORK|   NY|\n| 30|     M|        other|   814|  12345|     SCHENECTADY|   NY|\n| 21|     M|entertainment|    16|  10309|   STATEN ISLAND|   NY|\n| 50|     M|     educator|   547|  14534|       PITTSFORD|   NY|\n| 38|     F|      student|   861|  14085|       LAKE VIEW|   NY|\n| 26|     M|        other|   587|  14216|         BUFFALO|   NY|\n| 28|     M|      student|   770|  14216|         BUFFALO|   NY|\n| 25|     M|        other|   919|  14216|         BUFFALO|   NY|\n| 28|     F|        other|   376|  10010|        NEW YORK|   NY|\n| 28|     F|      student|   230|  14476|         KENDALL|   NY|\n| 20|     M|      student|   566|  14627|       ROCHESTER|   NY|\n| 26|     M|     educator|   570|  14627|       ROCHESTER|   NY|\n| 39|     M|     educator|   604|  11787|       SMITHTOWN|   NY|\n| 22|     M|administrator|   317|  13210|        SYRACUSE|   NY|\n| 40|     M|   programmer|   792|  12205|          ALBANY|   NY|\n| 29|     M|        other|   924|  11753|         JERICHO|   NY|\n| 31|     M|administrator|    95|  10707|        TUCKAHOE|   NY|\n| 23|     M|entertainment|   448|  10021|        NEW YORK|   NY|\n| 24|     M|   programmer|   470|  10021|        NEW YORK|   NY|\n| 53|     F|    librarian|   516|  10021|        NEW YORK|   NY|\n| 49|     F|    librarian|    88|  11701|      AMITYVILLE|   NY|\n| 29|     M|administrator|   768|  12866|SARATOGA SPRINGS|   NY|\n| 44|     M|       artist|   836|  10018|        NEW YORK|   NY|\n| 27|     M|       artist|   433|  11211|        BROOKLYN|   NY|\n| 22|     M|        other|   217|  11727|           CORAM|   NY|\n| 22|     M|      student|   501|  10025|        NEW YORK|   NY|\n| 30|     M|      student|   869|  10025|        NEW YORK|   NY|\n| 45|     M|administrator|    48|  12550|        NEWBURGH|   NY|\n| 50|     F|        other|   273|  10016|        NEW YORK|   NY|\n| 29|     F|       writer|   668|  10016|        NEW YORK|   NY|\n| 44|     F|    executive|   835|  11577|  ROSLYN HEIGHTS|   NY|\n| 24|     M|       artist|    31|  10003|        NEW YORK|   NY|\n| 36|     M|       writer|   385|  10003|        NEW YORK|   NY|\n| 32|     M|      student|   560|  10003|        NEW YORK|   NY|\n| 24|     M|entertainment|   567|  10003|        NEW YORK|   NY|\n| 22|     M|        other|   608|  10003|        NEW YORK|   NY|\n| 40|     M|     educator|   358|  10022|        NEW YORK|   NY|\n| 69|     M|    executive|   559|  10022|        NEW YORK|   NY|\n| 19|     M|      student|   303|  14853|          ITHACA|   NY|\n| 52|     F|    librarian|   204|  10960|           NYACK|   NY|\n| 42|     M|        other|   766|  10960|           NYACK|   NY|\n| 33|     M|    librarian|   527|  12180|            TROY|   NY|\n| 62|     M|   healthcare|   520|  12603|    POUGHKEEPSIE|   NY|\n| 26|     F|    librarian|   214|  11231|        BROOKLYN|   NY|\n| 25|     M|       artist|   865|  11231|        BROOKLYN|   NY|\n| 24|     F|entertainment|   721|  11238|        BROOKLYN|   NY|\n| 25|     M|    executive|   862|  13820|         ONEONTA|   NY|\n| 37|     M|    scientist|   337|  10522|     DOBBS FERRY|   NY|\n| 35|     F|     educator|   450|  11758|      MASSAPEQUA|   NY|\n| 42|     F|    librarian|   639|  12065|    CLIFTON PARK|   NY|\n| 25|     M|   programmer|   622|  14850|          ITHACA|   NY|\n+---+------+-------------+------+-------+----------------+-----+\n\n</div>",
              "removedWidgets": [],
              "addedWidgets": {},
              "type": "html",
              "arguments": {}
            }
          },
          "data": {
            "text/html": [
              "<style scoped>\n  .ansiout {\n    display: block;\n    unicode-bidi: embed;\n    white-space: pre-wrap;\n    word-wrap: break-word;\n    word-break: break-all;\n    font-family: \"Source Code Pro\", \"Menlo\", monospace;;\n    font-size: 13px;\n    color: #555;\n    margin-left: 4px;\n    line-height: 19px;\n  }\n</style>\n<div class=\"ansiout\">+---+------+-------------+------+-------+----------------+-----+\nage|gender|   occupation|userid|zipcode|            city|state|\n+---+------+-------------+------+-------+----------------+-----+\n 22|     F|   healthcare|   405|  10019|        NEW YORK|   NY|\n 29|     M|        other|   478|  10019|        NEW YORK|   NY|\n 22|     M|      student|   327|  11101|LONG ISLAND CITY|   NY|\n 48|     M|     educator|   656|  10314|   STATEN ISLAND|   NY|\n 27|     F|       writer|   617|  11201|        BROOKLYN|   NY|\n 35|     F|        other|   760|  14211|         BUFFALO|   NY|\n 32|     F|        other|   155|  11217|        BROOKLYN|   NY|\n 30|     F|       writer|   557|  11217|        BROOKLYN|   NY|\n 27|     M|    marketing|   806|  11217|        BROOKLYN|   NY|\n 23|     M|administrator|   509|  10011|        NEW YORK|   NY|\n 30|     M|        other|   814|  12345|     SCHENECTADY|   NY|\n 21|     M|entertainment|    16|  10309|   STATEN ISLAND|   NY|\n 50|     M|     educator|   547|  14534|       PITTSFORD|   NY|\n 38|     F|      student|   861|  14085|       LAKE VIEW|   NY|\n 26|     M|        other|   587|  14216|         BUFFALO|   NY|\n 28|     M|      student|   770|  14216|         BUFFALO|   NY|\n 25|     M|        other|   919|  14216|         BUFFALO|   NY|\n 28|     F|        other|   376|  10010|        NEW YORK|   NY|\n 28|     F|      student|   230|  14476|         KENDALL|   NY|\n 20|     M|      student|   566|  14627|       ROCHESTER|   NY|\n 26|     M|     educator|   570|  14627|       ROCHESTER|   NY|\n 39|     M|     educator|   604|  11787|       SMITHTOWN|   NY|\n 22|     M|administrator|   317|  13210|        SYRACUSE|   NY|\n 40|     M|   programmer|   792|  12205|          ALBANY|   NY|\n 29|     M|        other|   924|  11753|         JERICHO|   NY|\n 31|     M|administrator|    95|  10707|        TUCKAHOE|   NY|\n 23|     M|entertainment|   448|  10021|        NEW YORK|   NY|\n 24|     M|   programmer|   470|  10021|        NEW YORK|   NY|\n 53|     F|    librarian|   516|  10021|        NEW YORK|   NY|\n 49|     F|    librarian|    88|  11701|      AMITYVILLE|   NY|\n 29|     M|administrator|   768|  12866|SARATOGA SPRINGS|   NY|\n 44|     M|       artist|   836|  10018|        NEW YORK|   NY|\n 27|     M|       artist|   433|  11211|        BROOKLYN|   NY|\n 22|     M|        other|   217|  11727|           CORAM|   NY|\n 22|     M|      student|   501|  10025|        NEW YORK|   NY|\n 30|     M|      student|   869|  10025|        NEW YORK|   NY|\n 45|     M|administrator|    48|  12550|        NEWBURGH|   NY|\n 50|     F|        other|   273|  10016|        NEW YORK|   NY|\n 29|     F|       writer|   668|  10016|        NEW YORK|   NY|\n 44|     F|    executive|   835|  11577|  ROSLYN HEIGHTS|   NY|\n 24|     M|       artist|    31|  10003|        NEW YORK|   NY|\n 36|     M|       writer|   385|  10003|        NEW YORK|   NY|\n 32|     M|      student|   560|  10003|        NEW YORK|   NY|\n 24|     M|entertainment|   567|  10003|        NEW YORK|   NY|\n 22|     M|        other|   608|  10003|        NEW YORK|   NY|\n 40|     M|     educator|   358|  10022|        NEW YORK|   NY|\n 69|     M|    executive|   559|  10022|        NEW YORK|   NY|\n 19|     M|      student|   303|  14853|          ITHACA|   NY|\n 52|     F|    librarian|   204|  10960|           NYACK|   NY|\n 42|     M|        other|   766|  10960|           NYACK|   NY|\n 33|     M|    librarian|   527|  12180|            TROY|   NY|\n 62|     M|   healthcare|   520|  12603|    POUGHKEEPSIE|   NY|\n 26|     F|    librarian|   214|  11231|        BROOKLYN|   NY|\n 25|     M|       artist|   865|  11231|        BROOKLYN|   NY|\n 24|     F|entertainment|   721|  11238|        BROOKLYN|   NY|\n 25|     M|    executive|   862|  13820|         ONEONTA|   NY|\n 37|     M|    scientist|   337|  10522|     DOBBS FERRY|   NY|\n 35|     F|     educator|   450|  11758|      MASSAPEQUA|   NY|\n 42|     F|    librarian|   639|  12065|    CLIFTON PARK|   NY|\n 25|     M|   programmer|   622|  14850|          ITHACA|   NY|\n+---+------+-------------+------+-------+----------------+-----+\n\n</div>"
            ]
          }
        }
      ],
      "execution_count": null
    },
    {
      "cell_type": "code",
      "source": [
        "sqlContext.sql(\"\"\" \n",
        "SELECT z.state ,count(*)\n",
        "FROM user_table u\n",
        "LEFT JOIN zipcode_table z  ON u.zipcode = z.zipcode\n",
        "GROUP BY z.state \n",
        "\"\"\").show(60)"
      ],
      "metadata": {
        "application/vnd.databricks.v1+cell": {
          "title": "",
          "showTitle": false,
          "inputWidgets": {},
          "nuid": "22f14171-48ea-4505-8f89-3016243a98d4"
        },
        "id": "U4DMgiXc7TNx",
        "outputId": "751d3991-2884-446a-97bd-8bfa5057d550"
      },
      "outputs": [
        {
          "output_type": "display_data",
          "metadata": {
            "application/vnd.databricks.v1+output": {
              "datasetInfos": [],
              "data": "<div class=\"ansiout\">+-----+--------+\n|state|count(1)|\n+-----+--------+\n|   AZ|      14|\n|   SC|      11|\n|   LA|       6|\n|   MN|      78|\n|   NJ|      18|\n|   DC|      14|\n|   OR|      20|\n|   VA|      27|\n| null|      35|\n|   RI|       3|\n|   KY|      11|\n|   WY|       1|\n|   NH|       6|\n|   MI|      23|\n|   NV|       3|\n|   WI|      22|\n|   ID|       7|\n|   CA|     116|\n|   NE|       6|\n|   CT|      17|\n|   MT|       2|\n|   NC|      19|\n|   VT|       5|\n|   MD|      27|\n|   DE|       3|\n|   MO|      17|\n|   IL|      50|\n|   ME|       2|\n|   WA|      24|\n|   ND|       2|\n|   MS|       3|\n|   AL|       3|\n|   IN|       9|\n|   AE|       1|\n|   OH|      32|\n|   TN|      12|\n|   IA|      14|\n|   NM|       2|\n|   PA|      34|\n|   SD|       1|\n|   NY|      60|\n|   TX|      51|\n|   WV|       3|\n|   GA|      19|\n|   MA|      35|\n|   KS|       4|\n|   CO|      20|\n|   FL|      24|\n|   AK|       5|\n|   AR|       1|\n|   OK|       9|\n|   AP|       1|\n|   UT|       9|\n|   HI|       2|\n+-----+--------+\n\n</div>",
              "removedWidgets": [],
              "addedWidgets": {},
              "type": "html",
              "arguments": {}
            }
          },
          "data": {
            "text/html": [
              "<style scoped>\n  .ansiout {\n    display: block;\n    unicode-bidi: embed;\n    white-space: pre-wrap;\n    word-wrap: break-word;\n    word-break: break-all;\n    font-family: \"Source Code Pro\", \"Menlo\", monospace;;\n    font-size: 13px;\n    color: #555;\n    margin-left: 4px;\n    line-height: 19px;\n  }\n</style>\n<div class=\"ansiout\">+-----+--------+\nstate|count(1)|\n+-----+--------+\n   AZ|      14|\n   SC|      11|\n   LA|       6|\n   MN|      78|\n   NJ|      18|\n   DC|      14|\n   OR|      20|\n   VA|      27|\n null|      35|\n   RI|       3|\n   KY|      11|\n   WY|       1|\n   NH|       6|\n   MI|      23|\n   NV|       3|\n   WI|      22|\n   ID|       7|\n   CA|     116|\n   NE|       6|\n   CT|      17|\n   MT|       2|\n   NC|      19|\n   VT|       5|\n   MD|      27|\n   DE|       3|\n   MO|      17|\n   IL|      50|\n   ME|       2|\n   WA|      24|\n   ND|       2|\n   MS|       3|\n   AL|       3|\n   IN|       9|\n   AE|       1|\n   OH|      32|\n   TN|      12|\n   IA|      14|\n   NM|       2|\n   PA|      34|\n   SD|       1|\n   NY|      60|\n   TX|      51|\n   WV|       3|\n   GA|      19|\n   MA|      35|\n   KS|       4|\n   CO|      20|\n   FL|      24|\n   AK|       5|\n   AR|       1|\n   OK|       9|\n   AP|       1|\n   UT|       9|\n   HI|       2|\n+-----+--------+\n\n</div>"
            ]
          }
        }
      ],
      "execution_count": null
    },
    {
      "cell_type": "code",
      "source": [
        "#user_df.leftOuterJoin(zipcode_df )"
      ],
      "metadata": {
        "application/vnd.databricks.v1+cell": {
          "title": "",
          "showTitle": false,
          "inputWidgets": {},
          "nuid": "61c835af-f5d1-41b5-93a2-b3c616358484"
        },
        "id": "qY4dF_iz7TNx",
        "outputId": "192aa9e7-d072-4f29-ab25-bc201a9c4b68"
      },
      "outputs": [
        {
          "output_type": "display_data",
          "metadata": {
            "application/vnd.databricks.v1+output": {
              "datasetInfos": [],
              "data": "<div class=\"ansiout\"></div>",
              "removedWidgets": [],
              "addedWidgets": {},
              "type": "html",
              "arguments": {}
            }
          },
          "data": {
            "text/html": [
              "<style scoped>\n  .ansiout {\n    display: block;\n    unicode-bidi: embed;\n    white-space: pre-wrap;\n    word-wrap: break-word;\n    word-break: break-all;\n    font-family: \"Source Code Pro\", \"Menlo\", monospace;;\n    font-size: 13px;\n    color: #555;\n    margin-left: 4px;\n    line-height: 19px;\n  }\n</style>\n<div class=\"ansiout\"></div>"
            ]
          }
        }
      ],
      "execution_count": null
    },
    {
      "cell_type": "code",
      "source": [
        "joined_df=user_df.join(zipcode_df ,  \\\n",
        "                                 user_df.zipcode == zipcode_df.zipcode, \"left_outer\")\n",
        "\n",
        "joined_df.printSchema()    "
      ],
      "metadata": {
        "application/vnd.databricks.v1+cell": {
          "title": "",
          "showTitle": false,
          "inputWidgets": {},
          "nuid": "7eb5da7c-6abe-4857-80e7-f947108b9500"
        },
        "id": "4sIaDefR7TNy",
        "outputId": "88527c99-e1b6-4a7a-8b00-8743869d4ef0"
      },
      "outputs": [
        {
          "output_type": "display_data",
          "metadata": {
            "application/vnd.databricks.v1+output": {
              "datasetInfos": [
                {
                  "name": "joined_df",
                  "typeStr": "pyspark.sql.dataframe.DataFrame",
                  "schema": {
                    "fields": [
                      {
                        "metadata": {},
                        "name": "age",
                        "nullable": true,
                        "type": "long"
                      },
                      {
                        "metadata": {},
                        "name": "gender",
                        "nullable": true,
                        "type": "string"
                      },
                      {
                        "metadata": {},
                        "name": "occupation",
                        "nullable": true,
                        "type": "string"
                      },
                      {
                        "metadata": {},
                        "name": "userid",
                        "nullable": true,
                        "type": "long"
                      },
                      {
                        "metadata": {},
                        "name": "zipcode",
                        "nullable": true,
                        "type": "string"
                      },
                      {
                        "metadata": {},
                        "name": "city",
                        "nullable": true,
                        "type": "string"
                      },
                      {
                        "metadata": {},
                        "name": "state",
                        "nullable": true,
                        "type": "string"
                      },
                      {
                        "metadata": {},
                        "name": "zipCodeType",
                        "nullable": true,
                        "type": "string"
                      },
                      {
                        "metadata": {},
                        "name": "zipcode",
                        "nullable": true,
                        "type": "long"
                      }
                    ],
                    "type": "struct"
                  },
                  "tableIdentifier": null
                }
              ],
              "data": "<div class=\"ansiout\">root\n |-- age: long (nullable = true)\n |-- gender: string (nullable = true)\n |-- occupation: string (nullable = true)\n |-- userid: long (nullable = true)\n |-- zipcode: string (nullable = true)\n |-- city: string (nullable = true)\n |-- state: string (nullable = true)\n |-- zipCodeType: string (nullable = true)\n |-- zipcode: long (nullable = true)\n\n</div>",
              "removedWidgets": [],
              "addedWidgets": {},
              "type": "html",
              "arguments": {}
            }
          },
          "data": {
            "text/html": [
              "<style scoped>\n  .ansiout {\n    display: block;\n    unicode-bidi: embed;\n    white-space: pre-wrap;\n    word-wrap: break-word;\n    word-break: break-all;\n    font-family: \"Source Code Pro\", \"Menlo\", monospace;;\n    font-size: 13px;\n    color: #555;\n    margin-left: 4px;\n    line-height: 19px;\n  }\n</style>\n<div class=\"ansiout\">root\n-- age: long (nullable = true)\n-- gender: string (nullable = true)\n-- occupation: string (nullable = true)\n-- userid: long (nullable = true)\n-- zipcode: string (nullable = true)\n-- city: string (nullable = true)\n-- state: string (nullable = true)\n-- zipCodeType: string (nullable = true)\n-- zipcode: long (nullable = true)\n\n</div>"
            ]
          }
        }
      ],
      "execution_count": null
    },
    {
      "cell_type": "code",
      "source": [
        "joined_df.show(10)"
      ],
      "metadata": {
        "application/vnd.databricks.v1+cell": {
          "title": "",
          "showTitle": false,
          "inputWidgets": {},
          "nuid": "bb5b1ea4-ce18-45c8-80c6-09ca5323881e"
        },
        "id": "phvNvRVb7TNy",
        "outputId": "bac0658e-3b89-40c7-f1d2-963ddd772c68"
      },
      "outputs": [
        {
          "output_type": "display_data",
          "metadata": {
            "application/vnd.databricks.v1+output": {
              "datasetInfos": [],
              "data": "<div class=\"ansiout\">+---+------+-------------+------+-------+-------------+-----+-----------+-------+\n|age|gender|   occupation|userid|zipcode|         city|state|zipCodeType|zipcode|\n+---+------+-------------+------+-------+-------------+-----+-----------+-------+\n| 59|     F|administrator|   131|  15237|   PITTSBURGH|   PA|   STANDARD|  15237|\n| 17|     M|      student|   619|  44134|    CLEVELAND|   OH|   STANDARD|  44134|\n| 38|     F|entertainment|   839|  90814|   LONG BEACH|   CA|   STANDARD|  90814|\n| 48|     M|administrator|   409|  98225|   BELLINGHAM|   WA|   STANDARD|  98225|\n| 31|     M|     educator|   791|  20064|   WASHINGTON|   DC|     UNIQUE|  20064|\n| 51|     M|     engineer|   271|  22932|       CROZET|   VA|   STANDARD|  22932|\n| 17|     M|entertainment|   375|  37777|   LOUISVILLE|   TN|   STANDARD|  37777|\n| 33|     M|    scientist|   272|  53706|      MADISON|   WI|   STANDARD|  53706|\n| 27|     M|      student|   758|  53706|      MADISON|   WI|   STANDARD|  53706|\n| 30|     F|    librarian|   344|  94117|SAN FRANCISCO|   CA|   STANDARD|  94117|\n+---+------+-------------+------+-------+-------------+-----+-----------+-------+\nonly showing top 10 rows\n\n</div>",
              "removedWidgets": [],
              "addedWidgets": {},
              "type": "html",
              "arguments": {}
            }
          },
          "data": {
            "text/html": [
              "<style scoped>\n  .ansiout {\n    display: block;\n    unicode-bidi: embed;\n    white-space: pre-wrap;\n    word-wrap: break-word;\n    word-break: break-all;\n    font-family: \"Source Code Pro\", \"Menlo\", monospace;;\n    font-size: 13px;\n    color: #555;\n    margin-left: 4px;\n    line-height: 19px;\n  }\n</style>\n<div class=\"ansiout\">+---+------+-------------+------+-------+-------------+-----+-----------+-------+\nage|gender|   occupation|userid|zipcode|         city|state|zipCodeType|zipcode|\n+---+------+-------------+------+-------+-------------+-----+-----------+-------+\n 59|     F|administrator|   131|  15237|   PITTSBURGH|   PA|   STANDARD|  15237|\n 17|     M|      student|   619|  44134|    CLEVELAND|   OH|   STANDARD|  44134|\n 38|     F|entertainment|   839|  90814|   LONG BEACH|   CA|   STANDARD|  90814|\n 48|     M|administrator|   409|  98225|   BELLINGHAM|   WA|   STANDARD|  98225|\n 31|     M|     educator|   791|  20064|   WASHINGTON|   DC|     UNIQUE|  20064|\n 51|     M|     engineer|   271|  22932|       CROZET|   VA|   STANDARD|  22932|\n 17|     M|entertainment|   375|  37777|   LOUISVILLE|   TN|   STANDARD|  37777|\n 33|     M|    scientist|   272|  53706|      MADISON|   WI|   STANDARD|  53706|\n 27|     M|      student|   758|  53706|      MADISON|   WI|   STANDARD|  53706|\n 30|     F|    librarian|   344|  94117|SAN FRANCISCO|   CA|   STANDARD|  94117|\n+---+------+-------------+------+-------+-------------+-----+-----------+-------+\nonly showing top 10 rows\n\n</div>"
            ]
          }
        }
      ],
      "execution_count": null
    },
    {
      "cell_type": "code",
      "source": [
        "joined_df.filter(\"state='NY' \").show(10)"
      ],
      "metadata": {
        "application/vnd.databricks.v1+cell": {
          "title": "",
          "showTitle": false,
          "inputWidgets": {},
          "nuid": "81761c40-a009-494a-ba7b-e17b2c68528e"
        },
        "id": "71Y-Kwv_7TNz",
        "outputId": "08de8c8c-3c93-4e2d-a954-c20cf63ef375"
      },
      "outputs": [
        {
          "output_type": "display_data",
          "metadata": {
            "application/vnd.databricks.v1+output": {
              "datasetInfos": [],
              "data": "<div class=\"ansiout\">+---+------+-------------+------+-------+----------------+-----+-----------+-------+\n|age|gender|   occupation|userid|zipcode|            city|state|zipCodeType|zipcode|\n+---+------+-------------+------+-------+----------------+-----+-----------+-------+\n| 22|     F|   healthcare|   405|  10019|        NEW YORK|   NY|   STANDARD|  10019|\n| 29|     M|        other|   478|  10019|        NEW YORK|   NY|   STANDARD|  10019|\n| 22|     M|      student|   327|  11101|LONG ISLAND CITY|   NY|   STANDARD|  11101|\n| 48|     M|     educator|   656|  10314|   STATEN ISLAND|   NY|   STANDARD|  10314|\n| 27|     F|       writer|   617|  11201|        BROOKLYN|   NY|   STANDARD|  11201|\n| 35|     F|        other|   760|  14211|         BUFFALO|   NY|   STANDARD|  14211|\n| 32|     F|        other|   155|  11217|        BROOKLYN|   NY|   STANDARD|  11217|\n| 30|     F|       writer|   557|  11217|        BROOKLYN|   NY|   STANDARD|  11217|\n| 27|     M|    marketing|   806|  11217|        BROOKLYN|   NY|   STANDARD|  11217|\n| 23|     M|administrator|   509|  10011|        NEW YORK|   NY|   STANDARD|  10011|\n+---+------+-------------+------+-------+----------------+-----+-----------+-------+\nonly showing top 10 rows\n\n</div>",
              "removedWidgets": [],
              "addedWidgets": {},
              "type": "html",
              "arguments": {}
            }
          },
          "data": {
            "text/html": [
              "<style scoped>\n  .ansiout {\n    display: block;\n    unicode-bidi: embed;\n    white-space: pre-wrap;\n    word-wrap: break-word;\n    word-break: break-all;\n    font-family: \"Source Code Pro\", \"Menlo\", monospace;;\n    font-size: 13px;\n    color: #555;\n    margin-left: 4px;\n    line-height: 19px;\n  }\n</style>\n<div class=\"ansiout\">+---+------+-------------+------+-------+----------------+-----+-----------+-------+\nage|gender|   occupation|userid|zipcode|            city|state|zipCodeType|zipcode|\n+---+------+-------------+------+-------+----------------+-----+-----------+-------+\n 22|     F|   healthcare|   405|  10019|        NEW YORK|   NY|   STANDARD|  10019|\n 29|     M|        other|   478|  10019|        NEW YORK|   NY|   STANDARD|  10019|\n 22|     M|      student|   327|  11101|LONG ISLAND CITY|   NY|   STANDARD|  11101|\n 48|     M|     educator|   656|  10314|   STATEN ISLAND|   NY|   STANDARD|  10314|\n 27|     F|       writer|   617|  11201|        BROOKLYN|   NY|   STANDARD|  11201|\n 35|     F|        other|   760|  14211|         BUFFALO|   NY|   STANDARD|  14211|\n 32|     F|        other|   155|  11217|        BROOKLYN|   NY|   STANDARD|  11217|\n 30|     F|       writer|   557|  11217|        BROOKLYN|   NY|   STANDARD|  11217|\n 27|     M|    marketing|   806|  11217|        BROOKLYN|   NY|   STANDARD|  11217|\n 23|     M|administrator|   509|  10011|        NEW YORK|   NY|   STANDARD|  10011|\n+---+------+-------------+------+-------+----------------+-----+-----------+-------+\nonly showing top 10 rows\n\n</div>"
            ]
          }
        }
      ],
      "execution_count": null
    },
    {
      "cell_type": "code",
      "source": [
        "GroupByState_df=joined_df.groupBy(\"state\").count()\n",
        "GroupByState_df.show(60)"
      ],
      "metadata": {
        "application/vnd.databricks.v1+cell": {
          "title": "",
          "showTitle": false,
          "inputWidgets": {},
          "nuid": "6692e1bd-a223-462f-9bc3-47486312ba42"
        },
        "id": "KnmVp2Il7TNz",
        "outputId": "8d259abf-8cc7-4cb9-aa5e-9b56aa36d315"
      },
      "outputs": [
        {
          "output_type": "display_data",
          "metadata": {
            "application/vnd.databricks.v1+output": {
              "datasetInfos": [
                {
                  "name": "GroupByState_df",
                  "typeStr": "pyspark.sql.dataframe.DataFrame",
                  "schema": {
                    "fields": [
                      {
                        "metadata": {},
                        "name": "state",
                        "nullable": true,
                        "type": "string"
                      },
                      {
                        "metadata": {},
                        "name": "count",
                        "nullable": false,
                        "type": "long"
                      }
                    ],
                    "type": "struct"
                  },
                  "tableIdentifier": null
                }
              ],
              "data": "<div class=\"ansiout\">+-----+-----+\n|state|count|\n+-----+-----+\n|   AZ|   14|\n|   SC|   11|\n|   LA|    6|\n|   MN|   78|\n|   NJ|   18|\n|   DC|   14|\n|   OR|   20|\n|   VA|   27|\n| null|   35|\n|   RI|    3|\n|   KY|   11|\n|   WY|    1|\n|   NH|    6|\n|   MI|   23|\n|   NV|    3|\n|   WI|   22|\n|   ID|    7|\n|   CA|  116|\n|   NE|    6|\n|   CT|   17|\n|   MT|    2|\n|   NC|   19|\n|   VT|    5|\n|   MD|   27|\n|   DE|    3|\n|   MO|   17|\n|   IL|   50|\n|   ME|    2|\n|   WA|   24|\n|   ND|    2|\n|   MS|    3|\n|   AL|    3|\n|   IN|    9|\n|   AE|    1|\n|   OH|   32|\n|   TN|   12|\n|   IA|   14|\n|   NM|    2|\n|   PA|   34|\n|   SD|    1|\n|   NY|   60|\n|   TX|   51|\n|   WV|    3|\n|   GA|   19|\n|   MA|   35|\n|   KS|    4|\n|   CO|   20|\n|   FL|   24|\n|   AK|    5|\n|   AR|    1|\n|   OK|    9|\n|   AP|    1|\n|   UT|    9|\n|   HI|    2|\n+-----+-----+\n\n</div>",
              "removedWidgets": [],
              "addedWidgets": {},
              "type": "html",
              "arguments": {}
            }
          },
          "data": {
            "text/html": [
              "<style scoped>\n  .ansiout {\n    display: block;\n    unicode-bidi: embed;\n    white-space: pre-wrap;\n    word-wrap: break-word;\n    word-break: break-all;\n    font-family: \"Source Code Pro\", \"Menlo\", monospace;;\n    font-size: 13px;\n    color: #555;\n    margin-left: 4px;\n    line-height: 19px;\n  }\n</style>\n<div class=\"ansiout\">+-----+-----+\nstate|count|\n+-----+-----+\n   AZ|   14|\n   SC|   11|\n   LA|    6|\n   MN|   78|\n   NJ|   18|\n   DC|   14|\n   OR|   20|\n   VA|   27|\n null|   35|\n   RI|    3|\n   KY|   11|\n   WY|    1|\n   NH|    6|\n   MI|   23|\n   NV|    3|\n   WI|   22|\n   ID|    7|\n   CA|  116|\n   NE|    6|\n   CT|   17|\n   MT|    2|\n   NC|   19|\n   VT|    5|\n   MD|   27|\n   DE|    3|\n   MO|   17|\n   IL|   50|\n   ME|    2|\n   WA|   24|\n   ND|    2|\n   MS|    3|\n   AL|    3|\n   IN|    9|\n   AE|    1|\n   OH|   32|\n   TN|   12|\n   IA|   14|\n   NM|    2|\n   PA|   34|\n   SD|    1|\n   NY|   60|\n   TX|   51|\n   WV|    3|\n   GA|   19|\n   MA|   35|\n   KS|    4|\n   CO|   20|\n   FL|   24|\n   AK|    5|\n   AR|    1|\n   OK|    9|\n   AP|    1|\n   UT|    9|\n   HI|    2|\n+-----+-----+\n\n</div>"
            ]
          }
        }
      ],
      "execution_count": null
    },
    {
      "cell_type": "markdown",
      "source": [
        "# 19.11\t以Pandas DataFrame繪圖"
      ],
      "metadata": {
        "application/vnd.databricks.v1+cell": {
          "title": "",
          "showTitle": false,
          "inputWidgets": {},
          "nuid": "ede44433-e252-4a0d-aa75-ac1772866f8d"
        },
        "id": "65Et6ld17TN0"
      }
    },
    {
      "cell_type": "code",
      "source": [
        "import pandas as pd\n",
        "GroupByState_pandas_df =GroupByState_df.toPandas().set_index('state')\n",
        "GroupByState_pandas_df"
      ],
      "metadata": {
        "application/vnd.databricks.v1+cell": {
          "title": "",
          "showTitle": false,
          "inputWidgets": {},
          "nuid": "1649188d-157c-4156-bb31-e2aa8e639de6"
        },
        "id": "vVGjg1Tj7TN0",
        "outputId": "621448af-57a2-4f82-9f65-1309281767dc"
      },
      "outputs": [
        {
          "output_type": "display_data",
          "metadata": {
            "application/vnd.databricks.v1+output": {
              "datasetInfos": [],
              "data": "<div>\n<style scoped>\n    .dataframe tbody tr th:only-of-type {\n        vertical-align: middle;\n    }\n\n    .dataframe tbody tr th {\n        vertical-align: top;\n    }\n\n    .dataframe thead th {\n        text-align: right;\n    }\n</style>\n<table border=\"1\" class=\"dataframe\">\n  <thead>\n    <tr style=\"text-align: right;\">\n      <th></th>\n      <th>count</th>\n    </tr>\n    <tr>\n      <th>state</th>\n      <th></th>\n    </tr>\n  </thead>\n  <tbody>\n    <tr>\n      <th>AZ</th>\n      <td>14</td>\n    </tr>\n    <tr>\n      <th>SC</th>\n      <td>11</td>\n    </tr>\n    <tr>\n      <th>LA</th>\n      <td>6</td>\n    </tr>\n    <tr>\n      <th>MN</th>\n      <td>78</td>\n    </tr>\n    <tr>\n      <th>NJ</th>\n      <td>18</td>\n    </tr>\n    <tr>\n      <th>DC</th>\n      <td>14</td>\n    </tr>\n    <tr>\n      <th>OR</th>\n      <td>20</td>\n    </tr>\n    <tr>\n      <th>VA</th>\n      <td>27</td>\n    </tr>\n    <tr>\n      <th>NaN</th>\n      <td>35</td>\n    </tr>\n    <tr>\n      <th>RI</th>\n      <td>3</td>\n    </tr>\n    <tr>\n      <th>KY</th>\n      <td>11</td>\n    </tr>\n    <tr>\n      <th>WY</th>\n      <td>1</td>\n    </tr>\n    <tr>\n      <th>NH</th>\n      <td>6</td>\n    </tr>\n    <tr>\n      <th>MI</th>\n      <td>23</td>\n    </tr>\n    <tr>\n      <th>NV</th>\n      <td>3</td>\n    </tr>\n    <tr>\n      <th>WI</th>\n      <td>22</td>\n    </tr>\n    <tr>\n      <th>ID</th>\n      <td>7</td>\n    </tr>\n    <tr>\n      <th>CA</th>\n      <td>116</td>\n    </tr>\n    <tr>\n      <th>NE</th>\n      <td>6</td>\n    </tr>\n    <tr>\n      <th>CT</th>\n      <td>17</td>\n    </tr>\n    <tr>\n      <th>MT</th>\n      <td>2</td>\n    </tr>\n    <tr>\n      <th>NC</th>\n      <td>19</td>\n    </tr>\n    <tr>\n      <th>VT</th>\n      <td>5</td>\n    </tr>\n    <tr>\n      <th>MD</th>\n      <td>27</td>\n    </tr>\n    <tr>\n      <th>DE</th>\n      <td>3</td>\n    </tr>\n    <tr>\n      <th>MO</th>\n      <td>17</td>\n    </tr>\n    <tr>\n      <th>IL</th>\n      <td>50</td>\n    </tr>\n    <tr>\n      <th>ME</th>\n      <td>2</td>\n    </tr>\n    <tr>\n      <th>WA</th>\n      <td>24</td>\n    </tr>\n    <tr>\n      <th>ND</th>\n      <td>2</td>\n    </tr>\n    <tr>\n      <th>MS</th>\n      <td>3</td>\n    </tr>\n    <tr>\n      <th>AL</th>\n      <td>3</td>\n    </tr>\n    <tr>\n      <th>IN</th>\n      <td>9</td>\n    </tr>\n    <tr>\n      <th>AE</th>\n      <td>1</td>\n    </tr>\n    <tr>\n      <th>OH</th>\n      <td>32</td>\n    </tr>\n    <tr>\n      <th>TN</th>\n      <td>12</td>\n    </tr>\n    <tr>\n      <th>IA</th>\n      <td>14</td>\n    </tr>\n    <tr>\n      <th>NM</th>\n      <td>2</td>\n    </tr>\n    <tr>\n      <th>PA</th>\n      <td>34</td>\n    </tr>\n    <tr>\n      <th>SD</th>\n      <td>1</td>\n    </tr>\n    <tr>\n      <th>NY</th>\n      <td>60</td>\n    </tr>\n    <tr>\n      <th>TX</th>\n      <td>51</td>\n    </tr>\n    <tr>\n      <th>WV</th>\n      <td>3</td>\n    </tr>\n    <tr>\n      <th>GA</th>\n      <td>19</td>\n    </tr>\n    <tr>\n      <th>MA</th>\n      <td>35</td>\n    </tr>\n    <tr>\n      <th>KS</th>\n      <td>4</td>\n    </tr>\n    <tr>\n      <th>CO</th>\n      <td>20</td>\n    </tr>\n    <tr>\n      <th>FL</th>\n      <td>24</td>\n    </tr>\n    <tr>\n      <th>AK</th>\n      <td>5</td>\n    </tr>\n    <tr>\n      <th>AR</th>\n      <td>1</td>\n    </tr>\n    <tr>\n      <th>OK</th>\n      <td>9</td>\n    </tr>\n    <tr>\n      <th>AP</th>\n      <td>1</td>\n    </tr>\n    <tr>\n      <th>UT</th>\n      <td>9</td>\n    </tr>\n    <tr>\n      <th>HI</th>\n      <td>2</td>\n    </tr>\n  </tbody>\n</table>\n</div>",
              "textData": "<div class=\"ansiout\">Out[80]: </div>",
              "removedWidgets": [],
              "addedWidgets": {},
              "type": "htmlSandbox",
              "arguments": {}
            }
          },
          "data": {
            "text/html": [
              "<div>\n<style scoped>\n    .dataframe tbody tr th:only-of-type {\n        vertical-align: middle;\n    }\n\n    .dataframe tbody tr th {\n        vertical-align: top;\n    }\n\n    .dataframe thead th {\n        text-align: right;\n    }\n</style>\n<table border=\"1\" class=\"dataframe\">\n  <thead>\n    <tr style=\"text-align: right;\">\n      <th></th>\n      <th>count</th>\n    </tr>\n    <tr>\n      <th>state</th>\n      <th></th>\n    </tr>\n  </thead>\n  <tbody>\n    <tr>\n      <th>AZ</th>\n      <td>14</td>\n    </tr>\n    <tr>\n      <th>SC</th>\n      <td>11</td>\n    </tr>\n    <tr>\n      <th>LA</th>\n      <td>6</td>\n    </tr>\n    <tr>\n      <th>MN</th>\n      <td>78</td>\n    </tr>\n    <tr>\n      <th>NJ</th>\n      <td>18</td>\n    </tr>\n    <tr>\n      <th>DC</th>\n      <td>14</td>\n    </tr>\n    <tr>\n      <th>OR</th>\n      <td>20</td>\n    </tr>\n    <tr>\n      <th>VA</th>\n      <td>27</td>\n    </tr>\n    <tr>\n      <th>NaN</th>\n      <td>35</td>\n    </tr>\n    <tr>\n      <th>RI</th>\n      <td>3</td>\n    </tr>\n    <tr>\n      <th>KY</th>\n      <td>11</td>\n    </tr>\n    <tr>\n      <th>WY</th>\n      <td>1</td>\n    </tr>\n    <tr>\n      <th>NH</th>\n      <td>6</td>\n    </tr>\n    <tr>\n      <th>MI</th>\n      <td>23</td>\n    </tr>\n    <tr>\n      <th>NV</th>\n      <td>3</td>\n    </tr>\n    <tr>\n      <th>WI</th>\n      <td>22</td>\n    </tr>\n    <tr>\n      <th>ID</th>\n      <td>7</td>\n    </tr>\n    <tr>\n      <th>CA</th>\n      <td>116</td>\n    </tr>\n    <tr>\n      <th>NE</th>\n      <td>6</td>\n    </tr>\n    <tr>\n      <th>CT</th>\n      <td>17</td>\n    </tr>\n    <tr>\n      <th>MT</th>\n      <td>2</td>\n    </tr>\n    <tr>\n      <th>NC</th>\n      <td>19</td>\n    </tr>\n    <tr>\n      <th>VT</th>\n      <td>5</td>\n    </tr>\n    <tr>\n      <th>MD</th>\n      <td>27</td>\n    </tr>\n    <tr>\n      <th>DE</th>\n      <td>3</td>\n    </tr>\n    <tr>\n      <th>MO</th>\n      <td>17</td>\n    </tr>\n    <tr>\n      <th>IL</th>\n      <td>50</td>\n    </tr>\n    <tr>\n      <th>ME</th>\n      <td>2</td>\n    </tr>\n    <tr>\n      <th>WA</th>\n      <td>24</td>\n    </tr>\n    <tr>\n      <th>ND</th>\n      <td>2</td>\n    </tr>\n    <tr>\n      <th>MS</th>\n      <td>3</td>\n    </tr>\n    <tr>\n      <th>AL</th>\n      <td>3</td>\n    </tr>\n    <tr>\n      <th>IN</th>\n      <td>9</td>\n    </tr>\n    <tr>\n      <th>AE</th>\n      <td>1</td>\n    </tr>\n    <tr>\n      <th>OH</th>\n      <td>32</td>\n    </tr>\n    <tr>\n      <th>TN</th>\n      <td>12</td>\n    </tr>\n    <tr>\n      <th>IA</th>\n      <td>14</td>\n    </tr>\n    <tr>\n      <th>NM</th>\n      <td>2</td>\n    </tr>\n    <tr>\n      <th>PA</th>\n      <td>34</td>\n    </tr>\n    <tr>\n      <th>SD</th>\n      <td>1</td>\n    </tr>\n    <tr>\n      <th>NY</th>\n      <td>60</td>\n    </tr>\n    <tr>\n      <th>TX</th>\n      <td>51</td>\n    </tr>\n    <tr>\n      <th>WV</th>\n      <td>3</td>\n    </tr>\n    <tr>\n      <th>GA</th>\n      <td>19</td>\n    </tr>\n    <tr>\n      <th>MA</th>\n      <td>35</td>\n    </tr>\n    <tr>\n      <th>KS</th>\n      <td>4</td>\n    </tr>\n    <tr>\n      <th>CO</th>\n      <td>20</td>\n    </tr>\n    <tr>\n      <th>FL</th>\n      <td>24</td>\n    </tr>\n    <tr>\n      <th>AK</th>\n      <td>5</td>\n    </tr>\n    <tr>\n      <th>AR</th>\n      <td>1</td>\n    </tr>\n    <tr>\n      <th>OK</th>\n      <td>9</td>\n    </tr>\n    <tr>\n      <th>AP</th>\n      <td>1</td>\n    </tr>\n    <tr>\n      <th>UT</th>\n      <td>9</td>\n    </tr>\n    <tr>\n      <th>HI</th>\n      <td>2</td>\n    </tr>\n  </tbody>\n</table>\n</div>"
            ]
          }
        }
      ],
      "execution_count": null
    },
    {
      "cell_type": "code",
      "source": [
        "GroupByState_pandas_df.T"
      ],
      "metadata": {
        "application/vnd.databricks.v1+cell": {
          "title": "",
          "showTitle": false,
          "inputWidgets": {},
          "nuid": "7771f90a-a848-414c-8224-ad53619fbb76"
        },
        "id": "G9f3dAdb7TN1",
        "outputId": "211eec96-5a2c-4d60-fdae-f427c0f307dd"
      },
      "outputs": [
        {
          "output_type": "display_data",
          "metadata": {
            "application/vnd.databricks.v1+output": {
              "datasetInfos": [],
              "data": "<div>\n<style scoped>\n    .dataframe tbody tr th:only-of-type {\n        vertical-align: middle;\n    }\n\n    .dataframe tbody tr th {\n        vertical-align: top;\n    }\n\n    .dataframe thead th {\n        text-align: right;\n    }\n</style>\n<table border=\"1\" class=\"dataframe\">\n  <thead>\n    <tr style=\"text-align: right;\">\n      <th>state</th>\n      <th>AZ</th>\n      <th>SC</th>\n      <th>LA</th>\n      <th>MN</th>\n      <th>NJ</th>\n      <th>DC</th>\n      <th>OR</th>\n      <th>VA</th>\n      <th>None</th>\n      <th>RI</th>\n      <th>KY</th>\n      <th>WY</th>\n      <th>NH</th>\n      <th>MI</th>\n      <th>NV</th>\n      <th>WI</th>\n      <th>ID</th>\n      <th>CA</th>\n      <th>NE</th>\n      <th>CT</th>\n      <th>MT</th>\n      <th>NC</th>\n      <th>VT</th>\n      <th>MD</th>\n      <th>DE</th>\n      <th>MO</th>\n      <th>IL</th>\n      <th>ME</th>\n      <th>WA</th>\n      <th>ND</th>\n      <th>MS</th>\n      <th>AL</th>\n      <th>IN</th>\n      <th>AE</th>\n      <th>OH</th>\n      <th>TN</th>\n      <th>IA</th>\n      <th>NM</th>\n      <th>PA</th>\n      <th>SD</th>\n      <th>NY</th>\n      <th>TX</th>\n      <th>WV</th>\n      <th>GA</th>\n      <th>MA</th>\n      <th>KS</th>\n      <th>CO</th>\n      <th>FL</th>\n      <th>AK</th>\n      <th>AR</th>\n      <th>OK</th>\n      <th>AP</th>\n      <th>UT</th>\n      <th>HI</th>\n    </tr>\n  </thead>\n  <tbody>\n    <tr>\n      <th>count</th>\n      <td>14</td>\n      <td>11</td>\n      <td>6</td>\n      <td>78</td>\n      <td>18</td>\n      <td>14</td>\n      <td>20</td>\n      <td>27</td>\n      <td>35</td>\n      <td>3</td>\n      <td>11</td>\n      <td>1</td>\n      <td>6</td>\n      <td>23</td>\n      <td>3</td>\n      <td>22</td>\n      <td>7</td>\n      <td>116</td>\n      <td>6</td>\n      <td>17</td>\n      <td>2</td>\n      <td>19</td>\n      <td>5</td>\n      <td>27</td>\n      <td>3</td>\n      <td>17</td>\n      <td>50</td>\n      <td>2</td>\n      <td>24</td>\n      <td>2</td>\n      <td>3</td>\n      <td>3</td>\n      <td>9</td>\n      <td>1</td>\n      <td>32</td>\n      <td>12</td>\n      <td>14</td>\n      <td>2</td>\n      <td>34</td>\n      <td>1</td>\n      <td>60</td>\n      <td>51</td>\n      <td>3</td>\n      <td>19</td>\n      <td>35</td>\n      <td>4</td>\n      <td>20</td>\n      <td>24</td>\n      <td>5</td>\n      <td>1</td>\n      <td>9</td>\n      <td>1</td>\n      <td>9</td>\n      <td>2</td>\n    </tr>\n  </tbody>\n</table>\n</div>",
              "textData": "<div class=\"ansiout\">Out[81]: </div>",
              "removedWidgets": [],
              "addedWidgets": {},
              "type": "htmlSandbox",
              "arguments": {}
            }
          },
          "data": {
            "text/html": [
              "<div>\n<style scoped>\n    .dataframe tbody tr th:only-of-type {\n        vertical-align: middle;\n    }\n\n    .dataframe tbody tr th {\n        vertical-align: top;\n    }\n\n    .dataframe thead th {\n        text-align: right;\n    }\n</style>\n<table border=\"1\" class=\"dataframe\">\n  <thead>\n    <tr style=\"text-align: right;\">\n      <th>state</th>\n      <th>AZ</th>\n      <th>SC</th>\n      <th>LA</th>\n      <th>MN</th>\n      <th>NJ</th>\n      <th>DC</th>\n      <th>OR</th>\n      <th>VA</th>\n      <th>None</th>\n      <th>RI</th>\n      <th>KY</th>\n      <th>WY</th>\n      <th>NH</th>\n      <th>MI</th>\n      <th>NV</th>\n      <th>WI</th>\n      <th>ID</th>\n      <th>CA</th>\n      <th>NE</th>\n      <th>CT</th>\n      <th>MT</th>\n      <th>NC</th>\n      <th>VT</th>\n      <th>MD</th>\n      <th>DE</th>\n      <th>MO</th>\n      <th>IL</th>\n      <th>ME</th>\n      <th>WA</th>\n      <th>ND</th>\n      <th>MS</th>\n      <th>AL</th>\n      <th>IN</th>\n      <th>AE</th>\n      <th>OH</th>\n      <th>TN</th>\n      <th>IA</th>\n      <th>NM</th>\n      <th>PA</th>\n      <th>SD</th>\n      <th>NY</th>\n      <th>TX</th>\n      <th>WV</th>\n      <th>GA</th>\n      <th>MA</th>\n      <th>KS</th>\n      <th>CO</th>\n      <th>FL</th>\n      <th>AK</th>\n      <th>AR</th>\n      <th>OK</th>\n      <th>AP</th>\n      <th>UT</th>\n      <th>HI</th>\n    </tr>\n  </thead>\n  <tbody>\n    <tr>\n      <th>count</th>\n      <td>14</td>\n      <td>11</td>\n      <td>6</td>\n      <td>78</td>\n      <td>18</td>\n      <td>14</td>\n      <td>20</td>\n      <td>27</td>\n      <td>35</td>\n      <td>3</td>\n      <td>11</td>\n      <td>1</td>\n      <td>6</td>\n      <td>23</td>\n      <td>3</td>\n      <td>22</td>\n      <td>7</td>\n      <td>116</td>\n      <td>6</td>\n      <td>17</td>\n      <td>2</td>\n      <td>19</td>\n      <td>5</td>\n      <td>27</td>\n      <td>3</td>\n      <td>17</td>\n      <td>50</td>\n      <td>2</td>\n      <td>24</td>\n      <td>2</td>\n      <td>3</td>\n      <td>3</td>\n      <td>9</td>\n      <td>1</td>\n      <td>32</td>\n      <td>12</td>\n      <td>14</td>\n      <td>2</td>\n      <td>34</td>\n      <td>1</td>\n      <td>60</td>\n      <td>51</td>\n      <td>3</td>\n      <td>19</td>\n      <td>35</td>\n      <td>4</td>\n      <td>20</td>\n      <td>24</td>\n      <td>5</td>\n      <td>1</td>\n      <td>9</td>\n      <td>1</td>\n      <td>9</td>\n      <td>2</td>\n    </tr>\n  </tbody>\n</table>\n</div>"
            ]
          }
        }
      ],
      "execution_count": null
    },
    {
      "cell_type": "code",
      "source": [
        "import matplotlib.pyplot as plt\n",
        "%matplotlib inline\n",
        "ax = GroupByState_pandas_df ['count']  \\\n",
        "            .plot(kind='bar', title =\"State \",figsize=(12,6),legend=True, fontsize=12)\n",
        "plt.show()"
      ],
      "metadata": {
        "application/vnd.databricks.v1+cell": {
          "title": "",
          "showTitle": false,
          "inputWidgets": {},
          "nuid": "42810630-7cf7-4c5a-a252-226d1a1198a1"
        },
        "id": "D4i_14C47TN1",
        "outputId": "14cc6586-d724-4648-9347-7299e1ec4296"
      },
      "outputs": [
        {
          "output_type": "display_data",
          "metadata": {
            "application/vnd.databricks.v1+output": {
              "datasetInfos": [],
              "data": "/plots/7e6273dd-729f-4e30-8ce3-94625ad040a3.png",
              "removedWidgets": [],
              "addedWidgets": {},
              "type": "image",
              "arguments": {}
            }
          },
          "data": {
            "image/png": "[encoded data removed]"
          }
        }
      ],
      "execution_count": null
    },
    {
      "cell_type": "code",
      "source": [
        "Occupation_df=sqlContext.sql(\"\"\" \n",
        "SELECT u.occupation ,count(*) counts\n",
        "FROM user_table u\n",
        "GROUP BY occupation\n",
        "\"\"\")\n",
        "Occupation_df.show(30)"
      ],
      "metadata": {
        "application/vnd.databricks.v1+cell": {
          "title": "",
          "showTitle": false,
          "inputWidgets": {},
          "nuid": "fc136a74-e1dd-4149-9ccc-450a9973f301"
        },
        "id": "oOZ19acB7TN2",
        "outputId": "43525c57-3800-4f5b-8c6a-3142c087e904"
      },
      "outputs": [
        {
          "output_type": "display_data",
          "metadata": {
            "application/vnd.databricks.v1+output": {
              "datasetInfos": [
                {
                  "name": "Occupation_df",
                  "typeStr": "pyspark.sql.dataframe.DataFrame",
                  "schema": {
                    "fields": [
                      {
                        "metadata": {},
                        "name": "occupation",
                        "nullable": true,
                        "type": "string"
                      },
                      {
                        "metadata": {},
                        "name": "counts",
                        "nullable": false,
                        "type": "long"
                      }
                    ],
                    "type": "struct"
                  },
                  "tableIdentifier": null
                }
              ],
              "data": "<div class=\"ansiout\">+-------------+------+\n|   occupation|counts|\n+-------------+------+\n|    librarian|    51|\n|      retired|    14|\n|       lawyer|    12|\n|         none|     9|\n|       writer|    45|\n|   programmer|    66|\n|    marketing|    26|\n|        other|   105|\n|    executive|    32|\n|    scientist|    31|\n|      student|   196|\n|     salesman|    12|\n|       artist|    28|\n|   technician|    27|\n|administrator|    79|\n|     engineer|    67|\n|   healthcare|    16|\n|     educator|    95|\n|entertainment|    18|\n|    homemaker|     7|\n|       doctor|     7|\n+-------------+------+\n\n</div>",
              "removedWidgets": [],
              "addedWidgets": {},
              "type": "html",
              "arguments": {}
            }
          },
          "data": {
            "text/html": [
              "<style scoped>\n  .ansiout {\n    display: block;\n    unicode-bidi: embed;\n    white-space: pre-wrap;\n    word-wrap: break-word;\n    word-break: break-all;\n    font-family: \"Source Code Pro\", \"Menlo\", monospace;;\n    font-size: 13px;\n    color: #555;\n    margin-left: 4px;\n    line-height: 19px;\n  }\n</style>\n<div class=\"ansiout\">+-------------+------+\n   occupation|counts|\n+-------------+------+\n    librarian|    51|\n      retired|    14|\n       lawyer|    12|\n         none|     9|\n       writer|    45|\n   programmer|    66|\n    marketing|    26|\n        other|   105|\n    executive|    32|\n    scientist|    31|\n      student|   196|\n     salesman|    12|\n       artist|    28|\n   technician|    27|\nadministrator|    79|\n     engineer|    67|\n   healthcare|    16|\n     educator|    95|\nentertainment|    18|\n    homemaker|     7|\n       doctor|     7|\n+-------------+------+\n\n</div>"
            ]
          }
        }
      ],
      "execution_count": null
    },
    {
      "cell_type": "code",
      "source": [
        "Occupation_pandas_df =Occupation_df.toPandas().set_index('occupation')\n",
        "Occupation_pandas_df"
      ],
      "metadata": {
        "application/vnd.databricks.v1+cell": {
          "title": "",
          "showTitle": false,
          "inputWidgets": {},
          "nuid": "598d891b-17a3-48d5-ba19-4c53faee70b8"
        },
        "id": "0W4lbn-t7TN2",
        "outputId": "9d814221-425f-4594-cc0d-8b93536ea1f3"
      },
      "outputs": [
        {
          "output_type": "display_data",
          "metadata": {
            "application/vnd.databricks.v1+output": {
              "datasetInfos": [],
              "data": "<div>\n<style scoped>\n    .dataframe tbody tr th:only-of-type {\n        vertical-align: middle;\n    }\n\n    .dataframe tbody tr th {\n        vertical-align: top;\n    }\n\n    .dataframe thead th {\n        text-align: right;\n    }\n</style>\n<table border=\"1\" class=\"dataframe\">\n  <thead>\n    <tr style=\"text-align: right;\">\n      <th></th>\n      <th>counts</th>\n    </tr>\n    <tr>\n      <th>occupation</th>\n      <th></th>\n    </tr>\n  </thead>\n  <tbody>\n    <tr>\n      <th>librarian</th>\n      <td>51</td>\n    </tr>\n    <tr>\n      <th>retired</th>\n      <td>14</td>\n    </tr>\n    <tr>\n      <th>lawyer</th>\n      <td>12</td>\n    </tr>\n    <tr>\n      <th>none</th>\n      <td>9</td>\n    </tr>\n    <tr>\n      <th>writer</th>\n      <td>45</td>\n    </tr>\n    <tr>\n      <th>programmer</th>\n      <td>66</td>\n    </tr>\n    <tr>\n      <th>marketing</th>\n      <td>26</td>\n    </tr>\n    <tr>\n      <th>other</th>\n      <td>105</td>\n    </tr>\n    <tr>\n      <th>executive</th>\n      <td>32</td>\n    </tr>\n    <tr>\n      <th>scientist</th>\n      <td>31</td>\n    </tr>\n    <tr>\n      <th>student</th>\n      <td>196</td>\n    </tr>\n    <tr>\n      <th>salesman</th>\n      <td>12</td>\n    </tr>\n    <tr>\n      <th>artist</th>\n      <td>28</td>\n    </tr>\n    <tr>\n      <th>technician</th>\n      <td>27</td>\n    </tr>\n    <tr>\n      <th>administrator</th>\n      <td>79</td>\n    </tr>\n    <tr>\n      <th>engineer</th>\n      <td>67</td>\n    </tr>\n    <tr>\n      <th>healthcare</th>\n      <td>16</td>\n    </tr>\n    <tr>\n      <th>educator</th>\n      <td>95</td>\n    </tr>\n    <tr>\n      <th>entertainment</th>\n      <td>18</td>\n    </tr>\n    <tr>\n      <th>homemaker</th>\n      <td>7</td>\n    </tr>\n    <tr>\n      <th>doctor</th>\n      <td>7</td>\n    </tr>\n  </tbody>\n</table>\n</div>",
              "textData": "<div class=\"ansiout\">Out[84]: </div>",
              "removedWidgets": [],
              "addedWidgets": {},
              "type": "htmlSandbox",
              "arguments": {}
            }
          },
          "data": {
            "text/html": [
              "<div>\n<style scoped>\n    .dataframe tbody tr th:only-of-type {\n        vertical-align: middle;\n    }\n\n    .dataframe tbody tr th {\n        vertical-align: top;\n    }\n\n    .dataframe thead th {\n        text-align: right;\n    }\n</style>\n<table border=\"1\" class=\"dataframe\">\n  <thead>\n    <tr style=\"text-align: right;\">\n      <th></th>\n      <th>counts</th>\n    </tr>\n    <tr>\n      <th>occupation</th>\n      <th></th>\n    </tr>\n  </thead>\n  <tbody>\n    <tr>\n      <th>librarian</th>\n      <td>51</td>\n    </tr>\n    <tr>\n      <th>retired</th>\n      <td>14</td>\n    </tr>\n    <tr>\n      <th>lawyer</th>\n      <td>12</td>\n    </tr>\n    <tr>\n      <th>none</th>\n      <td>9</td>\n    </tr>\n    <tr>\n      <th>writer</th>\n      <td>45</td>\n    </tr>\n    <tr>\n      <th>programmer</th>\n      <td>66</td>\n    </tr>\n    <tr>\n      <th>marketing</th>\n      <td>26</td>\n    </tr>\n    <tr>\n      <th>other</th>\n      <td>105</td>\n    </tr>\n    <tr>\n      <th>executive</th>\n      <td>32</td>\n    </tr>\n    <tr>\n      <th>scientist</th>\n      <td>31</td>\n    </tr>\n    <tr>\n      <th>student</th>\n      <td>196</td>\n    </tr>\n    <tr>\n      <th>salesman</th>\n      <td>12</td>\n    </tr>\n    <tr>\n      <th>artist</th>\n      <td>28</td>\n    </tr>\n    <tr>\n      <th>technician</th>\n      <td>27</td>\n    </tr>\n    <tr>\n      <th>administrator</th>\n      <td>79</td>\n    </tr>\n    <tr>\n      <th>engineer</th>\n      <td>67</td>\n    </tr>\n    <tr>\n      <th>healthcare</th>\n      <td>16</td>\n    </tr>\n    <tr>\n      <th>educator</th>\n      <td>95</td>\n    </tr>\n    <tr>\n      <th>entertainment</th>\n      <td>18</td>\n    </tr>\n    <tr>\n      <th>homemaker</th>\n      <td>7</td>\n    </tr>\n    <tr>\n      <th>doctor</th>\n      <td>7</td>\n    </tr>\n  </tbody>\n</table>\n</div>"
            ]
          }
        }
      ],
      "execution_count": null
    },
    {
      "cell_type": "code",
      "source": [
        "ax =Occupation_pandas_df['counts'].plot(kind='pie',\n",
        "           title =\"occupation\",figsize=(8,8),startangle=90,autopct='%1.1f%%')\n",
        "ax.legend(bbox_to_anchor=(1.05, 1), loc=2, borderaxespad=0.)\n",
        "plt.show()"
      ],
      "metadata": {
        "application/vnd.databricks.v1+cell": {
          "title": "",
          "showTitle": false,
          "inputWidgets": {},
          "nuid": "b160c955-5a18-418f-af78-1bd9cd53395d"
        },
        "id": "wq-3aOUW7TN3",
        "outputId": "b5e9e0bf-4e04-4c88-98a6-e4c9519ce753"
      },
      "outputs": [
        {
          "output_type": "display_data",
          "metadata": {
            "application/vnd.databricks.v1+output": {
              "datasetInfos": [],
              "data": "/plots/916e68a6-3ffc-48ba-9e4f-9fe2f4347b73.png",
              "removedWidgets": [],
              "addedWidgets": {},
              "type": "image",
              "arguments": {}
            }
          },
          "data": {
            "image/png": "[encoded data removed]"
          }
        }
      ],
      "execution_count": null
    }
  ],
  "metadata": {
    "application/vnd.databricks.v1+notebook": {
      "notebookName": "ch19",
      "dashboards": [],
      "language": "python",
      "widgets": {},
      "notebookOrigID": 2645531088711823
    },
    "colab": {
      "name": "SparkDataFrame.ipynb",
      "provenance": [],
      "include_colab_link": true
    }
  },
  "nbformat": 4,
  "nbformat_minor": 0
}