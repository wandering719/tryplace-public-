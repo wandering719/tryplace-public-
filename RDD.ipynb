{
  "nbformat": 4,
  "nbformat_minor": 0,
  "metadata": {
    "kernelspec": {
      "display_name": "Python 2",
      "language": "python",
      "name": "python2"
    },
    "language_info": {
      "codemirror_mode": {
        "name": "ipython",
        "version": 2
      },
      "file_extension": ".py",
      "mimetype": "text/x-python",
      "name": "python",
      "nbconvert_exporter": "python",
      "pygments_lexer": "ipython2",
      "version": "2.7.11"
    },
    "colab": {
      "name": "RDD.ipynb",
      "provenance": [],
      "collapsed_sections": [
        "nYONGfE_00O7",
        "91taOsy600O8",
        "gTwJZqvd00O_",
        "rDXV9lCq00PC",
        "0pbAjH6R00PE",
        "IJpEgilp00PG",
        "IwwU_Y4I00PI",
        "elp6vSGr00PJ",
        "IbMvZJiC00PL",
        "rTvhR7mH00PM"
      ],
      "include_colab_link": true
    }
  },
  "cells": [
    {
      "cell_type": "markdown",
      "metadata": {
        "id": "view-in-github",
        "colab_type": "text"
      },
      "source": [
        "<a href=\"https://colab.research.google.com/github/wandering719/tryplace-public-/blob/main/RDD.ipynb\" target=\"_parent\"><img src=\"https://colab.research.google.com/assets/colab-badge.svg\" alt=\"Open In Colab\"/></a>"
      ]
    },
    {
      "cell_type": "code",
      "metadata": {
        "collapsed": true,
        "id": "X0obXU4Z00Ov"
      },
      "source": [
        "#注意事項:\n",
        "#當您執行本Notebook的程式後，如果你要關閉Notebook，請選擇選單: File > Close and Halt    才能確實停止目前正在執行的程式，並且釋放資源\n",
        "#如果您沒有使用以上方法，只關閉此分頁，程式仍在執行，未釋放資源，當您開啟並執行其他的Notebook時，可能會發生錯誤"
      ],
      "execution_count": null,
      "outputs": []
    },
    {
      "cell_type": "code",
      "metadata": {
        "colab": {
          "base_uri": "https://localhost:8080/"
        },
        "id": "cP_R0Ydr03Sw",
        "outputId": "3105264d-fe93-433e-ad18-0cdca92c0716"
      },
      "source": [
        "!apt-get update\n",
        "!apt-get -y install openjdk-8-jre-headless\n",
        "!pip install pyspark\n",
        "from pyspark.sql import SparkSession\n",
        "from pyspark import SparkContext\n",
        "spark = SparkSession.builder.master(\"local\").getOrCreate()\n",
        "sc = SparkContext.getOrCreate()"
      ],
      "execution_count": null,
      "outputs": [
        {
          "output_type": "stream",
          "name": "stdout",
          "text": [
            "\r0% [Working]\r            \rHit:1 http://security.ubuntu.com/ubuntu bionic-security InRelease\n",
            "\r0% [Connecting to archive.ubuntu.com (91.189.88.152)] [Waiting for headers] [Co\r                                                                               \rHit:2 https://cloud.r-project.org/bin/linux/ubuntu bionic-cran40/ InRelease\n",
            "Ign:3 https://developer.download.nvidia.com/compute/cuda/repos/ubuntu1804/x86_64  InRelease\n",
            "Hit:4 http://ppa.launchpad.net/c2d4u.team/c2d4u4.0+/ubuntu bionic InRelease\n",
            "Ign:5 https://developer.download.nvidia.com/compute/machine-learning/repos/ubuntu1804/x86_64  InRelease\n",
            "Hit:6 https://developer.download.nvidia.com/compute/cuda/repos/ubuntu1804/x86_64  Release\n",
            "Hit:7 https://developer.download.nvidia.com/compute/machine-learning/repos/ubuntu1804/x86_64  Release\n",
            "Hit:8 http://archive.ubuntu.com/ubuntu bionic InRelease\n",
            "Hit:9 http://archive.ubuntu.com/ubuntu bionic-updates InRelease\n",
            "Hit:10 http://ppa.launchpad.net/cran/libgit2/ubuntu bionic InRelease\n",
            "Hit:11 http://archive.ubuntu.com/ubuntu bionic-backports InRelease\n",
            "Hit:12 http://ppa.launchpad.net/deadsnakes/ppa/ubuntu bionic InRelease\n",
            "Hit:13 http://ppa.launchpad.net/graphics-drivers/ppa/ubuntu bionic InRelease\n",
            "Reading package lists... Done\n",
            "Reading package lists... Done\n",
            "Building dependency tree       \n",
            "Reading state information... Done\n",
            "Suggested packages:\n",
            "  libnss-mdns fonts-dejavu-extra fonts-ipafont-gothic fonts-ipafont-mincho\n",
            "  fonts-wqy-microhei fonts-wqy-zenhei fonts-indic\n",
            "The following NEW packages will be installed:\n",
            "  openjdk-8-jre-headless\n",
            "0 upgraded, 1 newly installed, 0 to remove and 100 not upgraded.\n",
            "Need to get 28.2 MB of archives.\n",
            "After this operation, 104 MB of additional disk space will be used.\n",
            "Get:1 http://archive.ubuntu.com/ubuntu bionic-updates/universe amd64 openjdk-8-jre-headless amd64 8u312-b07-0ubuntu1~18.04 [28.2 MB]\n",
            "Fetched 28.2 MB in 2s (13.7 MB/s)\n",
            "Selecting previously unselected package openjdk-8-jre-headless:amd64.\n",
            "(Reading database ... 155222 files and directories currently installed.)\n",
            "Preparing to unpack .../openjdk-8-jre-headless_8u312-b07-0ubuntu1~18.04_amd64.deb ...\n",
            "Unpacking openjdk-8-jre-headless:amd64 (8u312-b07-0ubuntu1~18.04) ...\n",
            "Setting up openjdk-8-jre-headless:amd64 (8u312-b07-0ubuntu1~18.04) ...\n",
            "update-alternatives: using /usr/lib/jvm/java-8-openjdk-amd64/jre/bin/orbd to provide /usr/bin/orbd (orbd) in auto mode\n",
            "update-alternatives: using /usr/lib/jvm/java-8-openjdk-amd64/jre/bin/servertool to provide /usr/bin/servertool (servertool) in auto mode\n",
            "update-alternatives: using /usr/lib/jvm/java-8-openjdk-amd64/jre/bin/tnameserv to provide /usr/bin/tnameserv (tnameserv) in auto mode\n",
            "Collecting pyspark\n",
            "  Downloading pyspark-3.2.0.tar.gz (281.3 MB)\n",
            "\u001b[K     |████████████████████████████████| 281.3 MB 43 kB/s \n",
            "\u001b[?25hCollecting py4j==0.10.9.2\n",
            "  Downloading py4j-0.10.9.2-py2.py3-none-any.whl (198 kB)\n",
            "\u001b[K     |████████████████████████████████| 198 kB 50.4 MB/s \n",
            "\u001b[?25hBuilding wheels for collected packages: pyspark\n",
            "  Building wheel for pyspark (setup.py) ... \u001b[?25l\u001b[?25hdone\n",
            "  Created wheel for pyspark: filename=pyspark-3.2.0-py2.py3-none-any.whl size=281805912 sha256=9e072b6e7d4fc0d9291618066cd9a826e0c3c553d1a8ad79af9996a1e469d2aa\n",
            "  Stored in directory: /root/.cache/pip/wheels/0b/de/d2/9be5d59d7331c6c2a7c1b6d1a4f463ce107332b1ecd4e80718\n",
            "Successfully built pyspark\n",
            "Installing collected packages: py4j, pyspark\n",
            "Successfully installed py4j-0.10.9.2 pyspark-3.2.0\n"
          ]
        }
      ]
    },
    {
      "cell_type": "markdown",
      "metadata": {
        "id": "ioHwYrSS00O0"
      },
      "source": [
        "# 10.3 基本RDD「轉換」運算"
      ]
    },
    {
      "cell_type": "code",
      "metadata": {
        "colab": {
          "base_uri": "https://localhost:8080/"
        },
        "id": "-6FBU38A00O1",
        "outputId": "ad94c3ce-28b7-4e23-dc16-9e02c839f880"
      },
      "source": [
        "intRDD = sc.parallelize([5, 2, 6, 3, 8])\n",
        "intRDD.collect()"
      ],
      "execution_count": null,
      "outputs": [
        {
          "output_type": "execute_result",
          "data": {
            "text/plain": [
              "[5, 2, 6, 3, 8]"
            ]
          },
          "metadata": {},
          "execution_count": 3
        }
      ]
    },
    {
      "cell_type": "code",
      "metadata": {
        "colab": {
          "base_uri": "https://localhost:8080/"
        },
        "id": "RwESnryp00O2",
        "outputId": "b451f6d5-6ea2-4f41-af45-08b0c0b9ce03"
      },
      "source": [
        "stringRDD = sc.parallelize([\"Apple\", \"Orange\", \"Banana\",\"Grape\",\"PineApple\"])\n",
        "stringRDD.collect()"
      ],
      "execution_count": null,
      "outputs": [
        {
          "output_type": "execute_result",
          "data": {
            "text/plain": [
              "['Apple', 'Orange', 'Banana', 'Grape', 'PineApple']"
            ]
          },
          "metadata": {},
          "execution_count": 4
        }
      ]
    },
    {
      "cell_type": "code",
      "metadata": {
        "scrolled": true,
        "colab": {
          "base_uri": "https://localhost:8080/"
        },
        "id": "izg2CdU000O2",
        "outputId": "d148816a-4636-419b-a3e8-c42103f9e1c5"
      },
      "source": [
        "def addOne(x):\n",
        "    return (x+1)\n",
        "\n",
        "intRDD.map(addOne).collect()"
      ],
      "execution_count": null,
      "outputs": [
        {
          "output_type": "execute_result",
          "data": {
            "text/plain": [
              "[6, 3, 7, 4, 9]"
            ]
          },
          "metadata": {},
          "execution_count": 8
        }
      ]
    },
    {
      "cell_type": "code",
      "metadata": {
        "id": "0xj8ABPu00O2",
        "outputId": "67a26cdb-88f3-490a-89f1-633824bec474",
        "colab": {
          "base_uri": "https://localhost:8080/"
        }
      },
      "source": [
        "intRDD.map(lambda  x : x + 1).collect()"
      ],
      "execution_count": null,
      "outputs": [
        {
          "output_type": "execute_result",
          "data": {
            "text/plain": [
              "[6, 3, 7, 4, 9]"
            ]
          },
          "metadata": {},
          "execution_count": 9
        }
      ]
    },
    {
      "cell_type": "code",
      "metadata": {
        "id": "WhBhDWnG00O3",
        "outputId": "19e85244-fa62-4213-fc20-f316bcd2ce17",
        "colab": {
          "base_uri": "https://localhost:8080/"
        }
      },
      "source": [
        "stringRDD.map(lambda x: \"fruit:\"+x).collect()"
      ],
      "execution_count": null,
      "outputs": [
        {
          "output_type": "execute_result",
          "data": {
            "text/plain": [
              "['fruit:Apple',\n",
              " 'fruit:Orange',\n",
              " 'fruit:Banana',\n",
              " 'fruit:Grape',\n",
              " 'fruit:PineApple']"
            ]
          },
          "metadata": {},
          "execution_count": 10
        }
      ]
    },
    {
      "cell_type": "code",
      "metadata": {
        "id": "UHG8uMbE00O3",
        "outputId": "311c6a7e-bcfb-4de4-90d1-15a4735a3280",
        "colab": {
          "base_uri": "https://localhost:8080/"
        }
      },
      "source": [
        "stringRDD.filter(lambda x : \"le\" in  x ).collect()"
      ],
      "execution_count": null,
      "outputs": [
        {
          "output_type": "execute_result",
          "data": {
            "text/plain": [
              "['Apple', 'PineApple']"
            ]
          },
          "metadata": {},
          "execution_count": 11
        }
      ]
    },
    {
      "cell_type": "code",
      "metadata": {
        "id": "sdOJq-z-00O3",
        "outputId": "fc7d04d2-bd72-4625-82c5-a494cec193d2",
        "colab": {
          "base_uri": "https://localhost:8080/"
        }
      },
      "source": [
        "intRDD.filter(lambda x : x < 3).collect()"
      ],
      "execution_count": null,
      "outputs": [
        {
          "output_type": "execute_result",
          "data": {
            "text/plain": [
              "[2]"
            ]
          },
          "metadata": {},
          "execution_count": 12
        }
      ]
    },
    {
      "cell_type": "code",
      "metadata": {
        "id": "bR_M32tL00O4",
        "outputId": "3e4347cb-9d53-422d-9eb5-73751cd17976",
        "colab": {
          "base_uri": "https://localhost:8080/"
        }
      },
      "source": [
        "intRDD.filter(lambda x : x == 3).collect()"
      ],
      "execution_count": null,
      "outputs": [
        {
          "output_type": "execute_result",
          "data": {
            "text/plain": [
              "[3]"
            ]
          },
          "metadata": {},
          "execution_count": 13
        }
      ]
    },
    {
      "cell_type": "code",
      "metadata": {
        "id": "D7Vz0XSr00O4",
        "outputId": "554386d5-a63a-4739-a913-3786b8a59c0f",
        "colab": {
          "base_uri": "https://localhost:8080/"
        }
      },
      "source": [
        "intRDD.filter(lambda x : 1< x and x <5  ).collect()"
      ],
      "execution_count": null,
      "outputs": [
        {
          "output_type": "execute_result",
          "data": {
            "text/plain": [
              "[2, 3]"
            ]
          },
          "metadata": {},
          "execution_count": 14
        }
      ]
    },
    {
      "cell_type": "code",
      "metadata": {
        "id": "_0JtPFn800O4",
        "outputId": "658812b1-2308-4eed-8890-311f89ae1bb4",
        "colab": {
          "base_uri": "https://localhost:8080/"
        }
      },
      "source": [
        "intRDD.filter(lambda x : x >=5 or x<3 ).collect()"
      ],
      "execution_count": null,
      "outputs": [
        {
          "output_type": "execute_result",
          "data": {
            "text/plain": [
              "[5, 2, 6, 8]"
            ]
          },
          "metadata": {},
          "execution_count": 15
        }
      ]
    },
    {
      "cell_type": "code",
      "metadata": {
        "id": "-nZjwjYY00O5",
        "outputId": "76d97a23-a8cf-4f9e-b556-aada278c9077",
        "colab": {
          "base_uri": "https://localhost:8080/"
        }
      },
      "source": [
        "stringRDD.filter(lambda x : \"ra\" in x ).collect()"
      ],
      "execution_count": null,
      "outputs": [
        {
          "output_type": "execute_result",
          "data": {
            "text/plain": [
              "['Orange', 'Grape']"
            ]
          },
          "metadata": {},
          "execution_count": 16
        }
      ]
    },
    {
      "cell_type": "code",
      "metadata": {
        "id": "Tw9y-H9Y00O5",
        "outputId": "0f245e6a-a857-4bac-82dc-cc04ea71331c",
        "colab": {
          "base_uri": "https://localhost:8080/"
        }
      },
      "source": [
        "intRDD.distinct().collect()"
      ],
      "execution_count": null,
      "outputs": [
        {
          "output_type": "execute_result",
          "data": {
            "text/plain": [
              "[5, 2, 6, 3, 8]"
            ]
          },
          "metadata": {},
          "execution_count": 5
        }
      ]
    },
    {
      "cell_type": "code",
      "metadata": {
        "id": "gStOVieS00O5",
        "outputId": "e701c945-1d10-4400-a814-f95d7c4c68b2",
        "colab": {
          "base_uri": "https://localhost:8080/"
        }
      },
      "source": [
        "stringRDD.distinct().collect()"
      ],
      "execution_count": null,
      "outputs": [
        {
          "output_type": "execute_result",
          "data": {
            "text/plain": [
              "['Apple', 'Orange', 'Banana', 'Grape', 'PineApple']"
            ]
          },
          "metadata": {},
          "execution_count": 6
        }
      ]
    },
    {
      "cell_type": "code",
      "metadata": {
        "id": "WsBOuGEb00O5"
      },
      "source": [
        "sRDD = intRDD.randomSplit([0.4,0.6])"
      ],
      "execution_count": null,
      "outputs": []
    },
    {
      "cell_type": "code",
      "metadata": {
        "id": "y5i_VPTu00O6",
        "outputId": "8db1b334-7c7e-4fd0-9b4b-5fb7dddb9525",
        "colab": {
          "base_uri": "https://localhost:8080/"
        }
      },
      "source": [
        "sRDD[0].collect()"
      ],
      "execution_count": null,
      "outputs": [
        {
          "output_type": "execute_result",
          "data": {
            "text/plain": [
              "[2, 3, 8]"
            ]
          },
          "metadata": {},
          "execution_count": 17
        }
      ]
    },
    {
      "cell_type": "code",
      "metadata": {
        "id": "fsm32PVw00O6",
        "outputId": "fef51a7a-9669-40e6-c34b-bc9f791e0455",
        "colab": {
          "base_uri": "https://localhost:8080/"
        }
      },
      "source": [
        "sRDD[1].collect()"
      ],
      "execution_count": null,
      "outputs": [
        {
          "output_type": "execute_result",
          "data": {
            "text/plain": [
              "[5, 2, 6, 3, 8]"
            ]
          },
          "metadata": {},
          "execution_count": 19
        }
      ]
    },
    {
      "cell_type": "code",
      "metadata": {
        "collapsed": true,
        "id": "IdLwu7BI00O6"
      },
      "source": [
        "gRDD=intRDD.groupBy(\n",
        "    lambda  x: \"even\" if (x % 2 == 0)     else \"odd\"\n",
        ").collect()"
      ],
      "execution_count": null,
      "outputs": []
    },
    {
      "cell_type": "code",
      "metadata": {
        "id": "dT-yX1TH00O6",
        "outputId": "0c54f679-9a81-4cc2-fdce-1536f7c720cb",
        "colab": {
          "base_uri": "https://localhost:8080/"
        }
      },
      "source": [
        "print (gRDD[0][0],sorted(gRDD[0][1]))"
      ],
      "execution_count": null,
      "outputs": [
        {
          "output_type": "stream",
          "name": "stdout",
          "text": [
            "odd [3, 5]\n"
          ]
        }
      ]
    },
    {
      "cell_type": "code",
      "metadata": {
        "id": "jFekH7vO00O6",
        "outputId": "5c600bea-5dda-46e1-ad3e-1af9d14bbe68",
        "colab": {
          "base_uri": "https://localhost:8080/"
        }
      },
      "source": [
        "print (gRDD[1][0],sorted(gRDD[1][1]))"
      ],
      "execution_count": null,
      "outputs": [
        {
          "output_type": "stream",
          "name": "stdout",
          "text": [
            "even [2, 6, 8]\n"
          ]
        }
      ]
    },
    {
      "cell_type": "markdown",
      "metadata": {
        "id": "nYONGfE_00O7"
      },
      "source": [
        "# 10.4 多個RDD「轉換」運算"
      ]
    },
    {
      "cell_type": "code",
      "metadata": {
        "id": "F1AjZlXC00O7"
      },
      "source": [
        "intRDD1 = sc.parallelize([3, 1, 2, 5, 5])\n",
        "intRDD2 = sc.parallelize([5, 6])\n",
        "intRDD3 = sc.parallelize([2, 7])"
      ],
      "execution_count": null,
      "outputs": []
    },
    {
      "cell_type": "code",
      "metadata": {
        "id": "tsjpgIcY00O7",
        "outputId": "28d26f69-b5cb-4c98-9d91-c03b0c5f8927"
      },
      "source": [
        "intRDD1.collect()"
      ],
      "execution_count": null,
      "outputs": [
        {
          "output_type": "execute_result",
          "data": {
            "text/plain": [
              "[3, 1, 2, 5, 5]"
            ]
          },
          "metadata": {
            "tags": []
          },
          "execution_count": 127
        }
      ]
    },
    {
      "cell_type": "code",
      "metadata": {
        "id": "TabCjRD600O7",
        "outputId": "bfbe6af0-fe80-49b5-bbe0-676305491278"
      },
      "source": [
        "intRDD2.collect()"
      ],
      "execution_count": null,
      "outputs": [
        {
          "output_type": "execute_result",
          "data": {
            "text/plain": [
              "[5, 6]"
            ]
          },
          "metadata": {
            "tags": []
          },
          "execution_count": 128
        }
      ]
    },
    {
      "cell_type": "code",
      "metadata": {
        "id": "nN0URRrn00O7",
        "outputId": "5404a188-521d-466f-e863-8e785015c986"
      },
      "source": [
        "intRDD3.collect()"
      ],
      "execution_count": null,
      "outputs": [
        {
          "output_type": "execute_result",
          "data": {
            "text/plain": [
              "[2, 7]"
            ]
          },
          "metadata": {
            "tags": []
          },
          "execution_count": 129
        }
      ]
    },
    {
      "cell_type": "code",
      "metadata": {
        "id": "tlqmQuTW00O8",
        "outputId": "f8032023-a186-4592-9b27-53fcb49ed5e3"
      },
      "source": [
        "intRDD1.union(intRDD2).union(intRDD3).collect()"
      ],
      "execution_count": null,
      "outputs": [
        {
          "output_type": "execute_result",
          "data": {
            "text/plain": [
              "[3, 1, 2, 5, 5, 5, 6, 2, 7]"
            ]
          },
          "metadata": {
            "tags": []
          },
          "execution_count": 130
        }
      ]
    },
    {
      "cell_type": "code",
      "metadata": {
        "id": "P5gPoGzu00O8",
        "outputId": "b8274d3a-17e0-4032-ad42-259a891aaaaa"
      },
      "source": [
        "intRDD1.intersection(intRDD2).collect()"
      ],
      "execution_count": null,
      "outputs": [
        {
          "output_type": "execute_result",
          "data": {
            "text/plain": [
              "[5]"
            ]
          },
          "metadata": {
            "tags": []
          },
          "execution_count": 131
        }
      ]
    },
    {
      "cell_type": "code",
      "metadata": {
        "id": "1qzbEnaj00O8",
        "outputId": "a62da8a0-e9e3-4c85-838b-85fbba587b7b"
      },
      "source": [
        "intRDD1.subtract(intRDD2).collect()"
      ],
      "execution_count": null,
      "outputs": [
        {
          "output_type": "execute_result",
          "data": {
            "text/plain": [
              "[2, 1, 3]"
            ]
          },
          "metadata": {
            "tags": []
          },
          "execution_count": 132
        }
      ]
    },
    {
      "cell_type": "code",
      "metadata": {
        "id": "Oe1rN0jF00O8",
        "outputId": "a1fcc3ea-213c-4501-a0bb-c8dfad453359"
      },
      "source": [
        "print intRDD1.cartesian(intRDD2).collect()"
      ],
      "execution_count": null,
      "outputs": [
        {
          "output_type": "stream",
          "text": [
            "[(3, 5), (3, 6), (1, 5), (1, 6), (2, 5), (2, 6), (5, 5), (5, 6), (5, 5), (5, 6)]\n"
          ],
          "name": "stdout"
        }
      ]
    },
    {
      "cell_type": "markdown",
      "metadata": {
        "id": "91taOsy600O8"
      },
      "source": [
        "# 10.5 基本「動作」運算"
      ]
    },
    {
      "cell_type": "code",
      "metadata": {
        "collapsed": true,
        "id": "ctABlcC400O8"
      },
      "source": [
        "#Step1 讀取元素"
      ],
      "execution_count": null,
      "outputs": []
    },
    {
      "cell_type": "code",
      "metadata": {
        "id": "Sv02OB7c00O9",
        "outputId": "e83ef207-000e-4575-a355-58777c1d8d22"
      },
      "source": [
        "intRDD.first()"
      ],
      "execution_count": null,
      "outputs": [
        {
          "output_type": "execute_result",
          "data": {
            "text/plain": [
              "3"
            ]
          },
          "metadata": {
            "tags": []
          },
          "execution_count": 135
        }
      ]
    },
    {
      "cell_type": "code",
      "metadata": {
        "id": "-r3NCIGv00O9",
        "outputId": "dc44942a-4785-4ff2-a051-f4a35c82af79"
      },
      "source": [
        "intRDD.take(2)"
      ],
      "execution_count": null,
      "outputs": [
        {
          "output_type": "execute_result",
          "data": {
            "text/plain": [
              "[3, 1]"
            ]
          },
          "metadata": {
            "tags": []
          },
          "execution_count": 136
        }
      ]
    },
    {
      "cell_type": "code",
      "metadata": {
        "id": "iEJybOBN00O9",
        "outputId": "8a665d88-d8ab-41dd-82d6-b3c83f15bd6e"
      },
      "source": [
        "intRDD.takeOrdered(3)"
      ],
      "execution_count": null,
      "outputs": [
        {
          "output_type": "execute_result",
          "data": {
            "text/plain": [
              "[1, 2, 3]"
            ]
          },
          "metadata": {
            "tags": []
          },
          "execution_count": 137
        }
      ]
    },
    {
      "cell_type": "code",
      "metadata": {
        "id": "P6JK5aqR00O9",
        "outputId": "cacce6e1-509e-487d-b73f-35b488af1536"
      },
      "source": [
        "intRDD.takeOrdered(3,key=lambda x: -x)"
      ],
      "execution_count": null,
      "outputs": [
        {
          "output_type": "execute_result",
          "data": {
            "text/plain": [
              "[5, 5, 3]"
            ]
          },
          "metadata": {
            "tags": []
          },
          "execution_count": 138
        }
      ]
    },
    {
      "cell_type": "code",
      "metadata": {
        "id": "pWqokyVu00O-",
        "outputId": "81194d4d-af08-46d5-c3a0-e4de728cffb5"
      },
      "source": [
        "intRDD.stats()"
      ],
      "execution_count": null,
      "outputs": [
        {
          "output_type": "execute_result",
          "data": {
            "text/plain": [
              "(count: 5, mean: 3.2, stdev: 1.6, max: 5.0, min: 1.0)"
            ]
          },
          "metadata": {
            "tags": []
          },
          "execution_count": 139
        }
      ]
    },
    {
      "cell_type": "code",
      "metadata": {
        "id": "kyPkcWzt00O-",
        "outputId": "ce3869af-f405-4c41-e684-a704a2b778ed"
      },
      "source": [
        "intRDD.min()"
      ],
      "execution_count": null,
      "outputs": [
        {
          "output_type": "execute_result",
          "data": {
            "text/plain": [
              "1"
            ]
          },
          "metadata": {
            "tags": []
          },
          "execution_count": 140
        }
      ]
    },
    {
      "cell_type": "code",
      "metadata": {
        "id": "Bant3mhd00O-",
        "outputId": "41cef3bd-b9c2-42c4-c2ca-a2d5d91a6d99"
      },
      "source": [
        "intRDD.max()"
      ],
      "execution_count": null,
      "outputs": [
        {
          "output_type": "execute_result",
          "data": {
            "text/plain": [
              "5"
            ]
          },
          "metadata": {
            "tags": []
          },
          "execution_count": 141
        }
      ]
    },
    {
      "cell_type": "code",
      "metadata": {
        "id": "2MTCmhD300O-",
        "outputId": "0fd0e0e5-165d-4c40-d1cf-b1934ed830dc"
      },
      "source": [
        "intRDD.stdev()"
      ],
      "execution_count": null,
      "outputs": [
        {
          "output_type": "execute_result",
          "data": {
            "text/plain": [
              "1.6000000000000001"
            ]
          },
          "metadata": {
            "tags": []
          },
          "execution_count": 142
        }
      ]
    },
    {
      "cell_type": "code",
      "metadata": {
        "id": "kFD1x8I900O_",
        "outputId": "99dc2573-ea08-41fb-e7fb-b1a7308e49f4"
      },
      "source": [
        "intRDD.count()"
      ],
      "execution_count": null,
      "outputs": [
        {
          "output_type": "execute_result",
          "data": {
            "text/plain": [
              "5"
            ]
          },
          "metadata": {
            "tags": []
          },
          "execution_count": 143
        }
      ]
    },
    {
      "cell_type": "code",
      "metadata": {
        "id": "u2SlhB1400O_",
        "outputId": "8b77d3a8-f0be-4199-b368-9be7b72951a2"
      },
      "source": [
        "intRDD.sum()"
      ],
      "execution_count": null,
      "outputs": [
        {
          "output_type": "execute_result",
          "data": {
            "text/plain": [
              "16"
            ]
          },
          "metadata": {
            "tags": []
          },
          "execution_count": 144
        }
      ]
    },
    {
      "cell_type": "code",
      "metadata": {
        "id": "nPGyVbln00O_",
        "outputId": "d817def5-e6e2-439e-ad46-a4a07a0fa824"
      },
      "source": [
        "intRDD.mean()"
      ],
      "execution_count": null,
      "outputs": [
        {
          "output_type": "execute_result",
          "data": {
            "text/plain": [
              "3.2"
            ]
          },
          "metadata": {
            "tags": []
          },
          "execution_count": 145
        }
      ]
    },
    {
      "cell_type": "markdown",
      "metadata": {
        "id": "gTwJZqvd00O_"
      },
      "source": [
        "# 10.6 RDD Key-Value 基本「轉換」運算"
      ]
    },
    {
      "cell_type": "code",
      "metadata": {
        "id": "eyNsqaWp00O_",
        "outputId": "0f1a2a74-e3a5-413f-f4f9-fd71c29bfe44"
      },
      "source": [
        "kvRDD1 = sc.parallelize([(3, 4), (3, 6), (5, 6), (1, 2)])\n",
        "kvRDD1.collect()"
      ],
      "execution_count": null,
      "outputs": [
        {
          "output_type": "execute_result",
          "data": {
            "text/plain": [
              "[(3, 4), (3, 6), (5, 6), (1, 2)]"
            ]
          },
          "metadata": {
            "tags": []
          },
          "execution_count": 146
        }
      ]
    },
    {
      "cell_type": "code",
      "metadata": {
        "id": "9xbGFiOj00PA",
        "outputId": "112adce8-d78b-4b91-98bc-38a491fa200e"
      },
      "source": [
        "kvRDD1.keys().collect()"
      ],
      "execution_count": null,
      "outputs": [
        {
          "output_type": "execute_result",
          "data": {
            "text/plain": [
              "[3, 3, 5, 1]"
            ]
          },
          "metadata": {
            "tags": []
          },
          "execution_count": 147
        }
      ]
    },
    {
      "cell_type": "code",
      "metadata": {
        "id": "mnUVlaZy00PA",
        "outputId": "ec983e0c-db27-4450-ed00-90572e30433d"
      },
      "source": [
        "kvRDD1.values().collect()"
      ],
      "execution_count": null,
      "outputs": [
        {
          "output_type": "execute_result",
          "data": {
            "text/plain": [
              "[4, 6, 6, 2]"
            ]
          },
          "metadata": {
            "tags": []
          },
          "execution_count": 148
        }
      ]
    },
    {
      "cell_type": "code",
      "metadata": {
        "id": "R99C0IZB00PA",
        "outputId": "4a80ea69-82a6-4796-d72c-90aa2211aa9b"
      },
      "source": [
        "kvRDD1.filter(lambda keyValue: keyValue[0] < 5).collect()"
      ],
      "execution_count": null,
      "outputs": [
        {
          "output_type": "execute_result",
          "data": {
            "text/plain": [
              "[(3, 4), (3, 6), (1, 2)]"
            ]
          },
          "metadata": {
            "tags": []
          },
          "execution_count": 149
        }
      ]
    },
    {
      "cell_type": "code",
      "metadata": {
        "id": "VkOVgsI900PA",
        "outputId": "5546927a-8688-489f-fa8e-9d1009df8309"
      },
      "source": [
        "kvRDD1.filter(lambda keyValue: keyValue[1] < 5).collect()"
      ],
      "execution_count": null,
      "outputs": [
        {
          "output_type": "execute_result",
          "data": {
            "text/plain": [
              "[(3, 4), (1, 2)]"
            ]
          },
          "metadata": {
            "tags": []
          },
          "execution_count": 150
        }
      ]
    },
    {
      "cell_type": "code",
      "metadata": {
        "id": "AfdWMCsb00PA",
        "outputId": "367cef3e-6391-4abe-b86a-5920e9a83e30"
      },
      "source": [
        "kvRDD1.mapValues(lambda x : x * x).collect()"
      ],
      "execution_count": null,
      "outputs": [
        {
          "output_type": "execute_result",
          "data": {
            "text/plain": [
              "[(3, 16), (3, 36), (5, 36), (1, 4)]"
            ]
          },
          "metadata": {
            "tags": []
          },
          "execution_count": 151
        }
      ]
    },
    {
      "cell_type": "code",
      "metadata": {
        "id": "R5a2EgnU00PB",
        "outputId": "d32294b4-871f-40de-ab33-e182c49e2b55"
      },
      "source": [
        "kvRDD1.sortByKey(ascending=True).collect()"
      ],
      "execution_count": null,
      "outputs": [
        {
          "output_type": "execute_result",
          "data": {
            "text/plain": [
              "[(1, 2), (3, 4), (3, 6), (5, 6)]"
            ]
          },
          "metadata": {
            "tags": []
          },
          "execution_count": 152
        }
      ]
    },
    {
      "cell_type": "code",
      "metadata": {
        "id": "tOdV5GH700PB",
        "outputId": "e0834c7f-0618-45eb-df47-871f2e0578f7"
      },
      "source": [
        "kvRDD1.sortByKey().collect()"
      ],
      "execution_count": null,
      "outputs": [
        {
          "output_type": "execute_result",
          "data": {
            "text/plain": [
              "[(1, 2), (3, 4), (3, 6), (5, 6)]"
            ]
          },
          "metadata": {
            "tags": []
          },
          "execution_count": 153
        }
      ]
    },
    {
      "cell_type": "code",
      "metadata": {
        "id": "WYWQq_Vb00PB",
        "outputId": "4fbba112-f1fa-4403-dfb9-73db3e316542"
      },
      "source": [
        "kvRDD1.sortByKey(ascending=False).collect()"
      ],
      "execution_count": null,
      "outputs": [
        {
          "output_type": "execute_result",
          "data": {
            "text/plain": [
              "[(5, 6), (3, 4), (3, 6), (1, 2)]"
            ]
          },
          "metadata": {
            "tags": []
          },
          "execution_count": 154
        }
      ]
    },
    {
      "cell_type": "code",
      "metadata": {
        "id": "8WWB4X7R00PB",
        "outputId": "dbe29bb9-189e-4352-bc4a-36058ee34c2d"
      },
      "source": [
        "kvRDD1.reduceByKey(lambda x ,y: x+y).collect()"
      ],
      "execution_count": null,
      "outputs": [
        {
          "output_type": "execute_result",
          "data": {
            "text/plain": [
              "[(1, 2), (3, 10), (5, 6)]"
            ]
          },
          "metadata": {
            "tags": []
          },
          "execution_count": 155
        }
      ]
    },
    {
      "cell_type": "markdown",
      "metadata": {
        "id": "rDXV9lCq00PC"
      },
      "source": [
        "## 10.7 多個RDD Key-Value「轉換」運算"
      ]
    },
    {
      "cell_type": "code",
      "metadata": {
        "collapsed": true,
        "id": "LsuU1ZxN00PC"
      },
      "source": [
        "kvRDD1 = sc.parallelize([(3, 4), (3, 6), (5, 6), (1, 2)])\n",
        "kvRDD2 = sc.parallelize([(3, 8)])"
      ],
      "execution_count": null,
      "outputs": []
    },
    {
      "cell_type": "code",
      "metadata": {
        "id": "IaZTfClC00PC",
        "outputId": "87f69284-fdab-4e75-e266-c6226c53ab38"
      },
      "source": [
        "kvRDD1.collect()"
      ],
      "execution_count": null,
      "outputs": [
        {
          "output_type": "execute_result",
          "data": {
            "text/plain": [
              "[(3, 4), (3, 6), (5, 6), (1, 2)]"
            ]
          },
          "metadata": {
            "tags": []
          },
          "execution_count": 157
        }
      ]
    },
    {
      "cell_type": "code",
      "metadata": {
        "scrolled": true,
        "id": "1BnBeRop00PC",
        "outputId": "e5457133-2479-4a00-9185-050ac744cb4c"
      },
      "source": [
        "kvRDD2.collect()"
      ],
      "execution_count": null,
      "outputs": [
        {
          "output_type": "execute_result",
          "data": {
            "text/plain": [
              "[(3, 8)]"
            ]
          },
          "metadata": {
            "tags": []
          },
          "execution_count": 158
        }
      ]
    },
    {
      "cell_type": "code",
      "metadata": {
        "id": "AxtxG4Tx00PC",
        "outputId": "f4050fc4-a092-46fd-9716-7ea6bbe4b8e0"
      },
      "source": [
        "kvRDD1.join(kvRDD2).collect()"
      ],
      "execution_count": null,
      "outputs": [
        {
          "output_type": "execute_result",
          "data": {
            "text/plain": [
              "[(3, (4, 8)), (3, (6, 8))]"
            ]
          },
          "metadata": {
            "tags": []
          },
          "execution_count": 159
        }
      ]
    },
    {
      "cell_type": "code",
      "metadata": {
        "id": "0IR-wKtE00PC",
        "outputId": "aa5eb9d1-e8cb-4b5a-85f3-d560027764fd"
      },
      "source": [
        "kvRDD1.leftOuterJoin(kvRDD2).collect()"
      ],
      "execution_count": null,
      "outputs": [
        {
          "output_type": "execute_result",
          "data": {
            "text/plain": [
              "[(1, (2, None)), (3, (4, 8)), (3, (6, 8)), (5, (6, None))]"
            ]
          },
          "metadata": {
            "tags": []
          },
          "execution_count": 160
        }
      ]
    },
    {
      "cell_type": "code",
      "metadata": {
        "id": "8HlGOZiw00PD",
        "outputId": "f48951fb-e6f2-49e6-a9c0-810d967c5343"
      },
      "source": [
        "kvRDD1.rightOuterJoin(kvRDD2).collect()"
      ],
      "execution_count": null,
      "outputs": [
        {
          "output_type": "execute_result",
          "data": {
            "text/plain": [
              "[(3, (4, 8)), (3, (6, 8))]"
            ]
          },
          "metadata": {
            "tags": []
          },
          "execution_count": 161
        }
      ]
    },
    {
      "cell_type": "code",
      "metadata": {
        "id": "aABlR3Lf00PD",
        "outputId": "c27a150b-6cf4-4945-a3a7-f72c653c0ef0"
      },
      "source": [
        "kvRDD1.subtractByKey(kvRDD2).collect()"
      ],
      "execution_count": null,
      "outputs": [
        {
          "output_type": "execute_result",
          "data": {
            "text/plain": [
              "[(1, 2), (5, 6)]"
            ]
          },
          "metadata": {
            "tags": []
          },
          "execution_count": 162
        }
      ]
    },
    {
      "cell_type": "markdown",
      "metadata": {
        "id": "0pbAjH6R00PE"
      },
      "source": [
        "## 10.8 Key-Value 「動作」運算"
      ]
    },
    {
      "cell_type": "code",
      "metadata": {
        "id": "gdsAu-M800PE",
        "outputId": "b4a1a5fd-f491-4cbd-a419-5fe030fd37c5"
      },
      "source": [
        "kvRDD1.first()"
      ],
      "execution_count": null,
      "outputs": [
        {
          "output_type": "execute_result",
          "data": {
            "text/plain": [
              "(3, 4)"
            ]
          },
          "metadata": {
            "tags": []
          },
          "execution_count": 163
        }
      ]
    },
    {
      "cell_type": "code",
      "metadata": {
        "id": "sGfB7GsG00PE",
        "outputId": "489d270d-8d27-466b-ab9d-93dcca191f82"
      },
      "source": [
        "kvRDD1.take(2)"
      ],
      "execution_count": null,
      "outputs": [
        {
          "output_type": "execute_result",
          "data": {
            "text/plain": [
              "[(3, 4), (3, 6)]"
            ]
          },
          "metadata": {
            "tags": []
          },
          "execution_count": 164
        }
      ]
    },
    {
      "cell_type": "code",
      "metadata": {
        "id": "nTQoDmac00PE",
        "outputId": "5b642fbc-d3b5-439b-f7f7-f08b192edbfe"
      },
      "source": [
        "kvFirst=kvRDD1.first()\n",
        "kvFirst"
      ],
      "execution_count": null,
      "outputs": [
        {
          "output_type": "execute_result",
          "data": {
            "text/plain": [
              "(3, 4)"
            ]
          },
          "metadata": {
            "tags": []
          },
          "execution_count": 165
        }
      ]
    },
    {
      "cell_type": "code",
      "metadata": {
        "id": "TrCc2IdS00PF",
        "outputId": "e3606074-9121-470d-cad4-56aedc36c793"
      },
      "source": [
        "kvFirst[0]"
      ],
      "execution_count": null,
      "outputs": [
        {
          "output_type": "execute_result",
          "data": {
            "text/plain": [
              "3"
            ]
          },
          "metadata": {
            "tags": []
          },
          "execution_count": 166
        }
      ]
    },
    {
      "cell_type": "code",
      "metadata": {
        "id": "H7QuUm1R00PF",
        "outputId": "8270d45b-f3e0-4473-a841-51b538cb10d9"
      },
      "source": [
        "kvFirst[1]"
      ],
      "execution_count": null,
      "outputs": [
        {
          "output_type": "execute_result",
          "data": {
            "text/plain": [
              "4"
            ]
          },
          "metadata": {
            "tags": []
          },
          "execution_count": 167
        }
      ]
    },
    {
      "cell_type": "code",
      "metadata": {
        "id": "aQTCJqjk00PF",
        "outputId": "4be78b50-bd7f-48c8-f1fc-511958d1168e"
      },
      "source": [
        "kvRDD1.countByKey()"
      ],
      "execution_count": null,
      "outputs": [
        {
          "output_type": "execute_result",
          "data": {
            "text/plain": [
              "defaultdict(int, {1: 1, 3: 2, 5: 1})"
            ]
          },
          "metadata": {
            "tags": []
          },
          "execution_count": 168
        }
      ]
    },
    {
      "cell_type": "code",
      "metadata": {
        "id": "zTZuLWwu00PF",
        "outputId": "3257453e-0f33-4fa3-ed96-7048748d5d77"
      },
      "source": [
        "KV=kvRDD1.collectAsMap()\n",
        "KV"
      ],
      "execution_count": null,
      "outputs": [
        {
          "output_type": "execute_result",
          "data": {
            "text/plain": [
              "{1: 2, 3: 6, 5: 6}"
            ]
          },
          "metadata": {
            "tags": []
          },
          "execution_count": 169
        }
      ]
    },
    {
      "cell_type": "code",
      "metadata": {
        "id": "ZOmiKWRS00PG",
        "outputId": "919c3259-f177-4675-e559-6cdedc372702"
      },
      "source": [
        "type(KV)"
      ],
      "execution_count": null,
      "outputs": [
        {
          "output_type": "execute_result",
          "data": {
            "text/plain": [
              "dict"
            ]
          },
          "metadata": {
            "tags": []
          },
          "execution_count": 170
        }
      ]
    },
    {
      "cell_type": "code",
      "metadata": {
        "id": "H4QJFjIa00PG",
        "outputId": "d227c478-6b91-4777-bfcc-45ccb7034eac"
      },
      "source": [
        "KV[3]"
      ],
      "execution_count": null,
      "outputs": [
        {
          "output_type": "execute_result",
          "data": {
            "text/plain": [
              "6"
            ]
          },
          "metadata": {
            "tags": []
          },
          "execution_count": 171
        }
      ]
    },
    {
      "cell_type": "code",
      "metadata": {
        "id": "Eg3LZxHb00PG",
        "outputId": "abb4b951-a678-462a-a9fc-7cf4233916cf"
      },
      "source": [
        "KV[1]"
      ],
      "execution_count": null,
      "outputs": [
        {
          "output_type": "execute_result",
          "data": {
            "text/plain": [
              "2"
            ]
          },
          "metadata": {
            "tags": []
          },
          "execution_count": 172
        }
      ]
    },
    {
      "cell_type": "code",
      "metadata": {
        "id": "ETsJdFMq00PG",
        "outputId": "fd41f58b-17a0-40fe-821a-46ea6a855c95"
      },
      "source": [
        "kvRDD1.lookup(3)"
      ],
      "execution_count": null,
      "outputs": [
        {
          "output_type": "execute_result",
          "data": {
            "text/plain": [
              "[4, 6]"
            ]
          },
          "metadata": {
            "tags": []
          },
          "execution_count": 173
        }
      ]
    },
    {
      "cell_type": "code",
      "metadata": {
        "id": "nkgeNYL000PG",
        "outputId": "66eeef53-f1a7-47a6-d1e7-5719dcf89213"
      },
      "source": [
        "kvRDD1.lookup(5)"
      ],
      "execution_count": null,
      "outputs": [
        {
          "output_type": "execute_result",
          "data": {
            "text/plain": [
              "[6]"
            ]
          },
          "metadata": {
            "tags": []
          },
          "execution_count": 174
        }
      ]
    },
    {
      "cell_type": "markdown",
      "metadata": {
        "id": "IJpEgilp00PG"
      },
      "source": [
        "# 10.9 Broadcast 廣播變數"
      ]
    },
    {
      "cell_type": "code",
      "metadata": {
        "collapsed": true,
        "id": "HefDmPaz00PH"
      },
      "source": [
        "kvFruit = sc.parallelize([(1, \"apple\"), (2, \"orange\"), (3, \"banana\"), (4, \"grape\")])"
      ],
      "execution_count": null,
      "outputs": []
    },
    {
      "cell_type": "code",
      "metadata": {
        "id": "nXmNesMc00PH",
        "outputId": "d15eedc3-1f78-46ea-c93d-12bcb78b51e0"
      },
      "source": [
        "fruitMap=kvFruit.collectAsMap()\n",
        "print \"字典：\"+str(fruitMap)"
      ],
      "execution_count": null,
      "outputs": [
        {
          "output_type": "stream",
          "text": [
            "字典：{1: 'apple', 2: 'orange', 3: 'banana', 4: 'grape'}\n"
          ],
          "name": "stdout"
        }
      ]
    },
    {
      "cell_type": "code",
      "metadata": {
        "id": "9mlYH_CT00PH",
        "outputId": "431d10b6-7d3a-4d10-ee03-897a30fdd5d3"
      },
      "source": [
        "fruitIds=sc.parallelize([2,4,1,3])\n",
        "print \"水果編號：\"+str(fruitIds.collect()),"
      ],
      "execution_count": null,
      "outputs": [
        {
          "output_type": "stream",
          "text": [
            "水果編號：[2, 4, 1, 3]\n"
          ],
          "name": "stdout"
        }
      ]
    },
    {
      "cell_type": "code",
      "metadata": {
        "id": "UiCe_hPx00PH",
        "outputId": "869ed884-2035-4588-dd2f-095f942f7330"
      },
      "source": [
        "print \"使用字典進行轉換=>\"\n",
        "fruitNames= fruitIds.map(lambda x : fruitMap[x]).collect()\n",
        "print \"水果名稱：\"+str(fruitNames)"
      ],
      "execution_count": null,
      "outputs": [
        {
          "output_type": "stream",
          "text": [
            "使用字典進行轉換=>\n",
            "水果名稱：['orange', 'grape', 'apple', 'banana']\n"
          ],
          "name": "stdout"
        }
      ]
    },
    {
      "cell_type": "code",
      "metadata": {
        "collapsed": true,
        "id": "oSfCZFI300PH"
      },
      "source": [
        "kvFruit = sc.parallelize([(1, \"apple\"), (2, \"orange\"), (3, \"banana\"), (4, \"grape\")])"
      ],
      "execution_count": null,
      "outputs": []
    },
    {
      "cell_type": "code",
      "metadata": {
        "id": "iBk1cWTe00PH",
        "outputId": "51877ebf-7fcd-410b-a120-44bbef72ef30"
      },
      "source": [
        "fruitMap=kvFruit.collectAsMap()\n",
        "bcFruitMap=sc.broadcast(fruitMap)\n",
        "print \"字典：\"+str(fruitMap)"
      ],
      "execution_count": null,
      "outputs": [
        {
          "output_type": "stream",
          "text": [
            "字典：{1: 'apple', 2: 'orange', 3: 'banana', 4: 'grape'}\n"
          ],
          "name": "stdout"
        }
      ]
    },
    {
      "cell_type": "code",
      "metadata": {
        "id": "lFeZFxvT00PI",
        "outputId": "462b49f7-5014-4e74-8f48-47ad98940b77"
      },
      "source": [
        "fruitIds=sc.parallelize([2,4,1,3])\n",
        "print \"水果編號：\"+str(fruitIds.collect()),"
      ],
      "execution_count": null,
      "outputs": [
        {
          "output_type": "stream",
          "text": [
            "水果編號：[2, 4, 1, 3]\n"
          ],
          "name": "stdout"
        }
      ]
    },
    {
      "cell_type": "code",
      "metadata": {
        "id": "lG5OkI-300PI",
        "outputId": "59eb7b4c-002e-4c02-c59b-4c17307d6c74"
      },
      "source": [
        "print \"使用Broadcast 廣播變數字典進行轉換=>\"\n",
        "fruitNames= fruitIds.map(lambda x : bcFruitMap.value[x] ).collect()\n",
        "print \"水果名稱：\"+str(fruitNames)"
      ],
      "execution_count": null,
      "outputs": [
        {
          "output_type": "stream",
          "text": [
            "使用Broadcast 廣播變數字典進行轉換=>\n",
            "水果名稱：['orange', 'grape', 'apple', 'banana']\n"
          ],
          "name": "stdout"
        }
      ]
    },
    {
      "cell_type": "markdown",
      "metadata": {
        "collapsed": true,
        "id": "IwwU_Y4I00PI"
      },
      "source": [
        "# 10.10\taccumulator累加器"
      ]
    },
    {
      "cell_type": "code",
      "metadata": {
        "collapsed": true,
        "id": "Xlb8iqgf00PI"
      },
      "source": [
        "intRDD = sc.parallelize([3,1, 2, 5, 5])"
      ],
      "execution_count": null,
      "outputs": []
    },
    {
      "cell_type": "code",
      "metadata": {
        "collapsed": true,
        "id": "y4i4sBHQ00PI"
      },
      "source": [
        "total = sc.accumulator(0.0)"
      ],
      "execution_count": null,
      "outputs": []
    },
    {
      "cell_type": "code",
      "metadata": {
        "collapsed": true,
        "id": "YHGZ2pJk00PJ"
      },
      "source": [
        "num = sc.accumulator(0)"
      ],
      "execution_count": null,
      "outputs": []
    },
    {
      "cell_type": "code",
      "metadata": {
        "collapsed": true,
        "id": "cUfcrqxF00PJ"
      },
      "source": [
        "intRDD.foreach(lambda  i:  [total.add(i) , num.add(1)])"
      ],
      "execution_count": null,
      "outputs": []
    },
    {
      "cell_type": "code",
      "metadata": {
        "id": "qLbN3VRS00PJ",
        "outputId": "e0f3fb9e-110f-49ce-ed8f-a9eb96d7f14c"
      },
      "source": [
        "avg = total.value / num.value        \n",
        "print(\"total=\"+str(total.value)+\", num=\"+str(num.value)+\", avg=\"+str(avg))"
      ],
      "execution_count": null,
      "outputs": [
        {
          "output_type": "stream",
          "text": [
            "total=16.0, num=5, avg=3.2\n"
          ],
          "name": "stdout"
        }
      ]
    },
    {
      "cell_type": "code",
      "metadata": {
        "id": "fAkIqLYS00PJ",
        "outputId": "aed12984-a921-411a-e674-3b061866303c"
      },
      "source": [
        "intRDD = sc.parallelize([3,1, 2, 5, 5])\n",
        "\n",
        "total = sc.accumulator(0.0)\n",
        "num = sc.accumulator(0)\n",
        "\n",
        "intRDD.foreach(lambda  i:  [total.add(i) , num.add(1)])\n",
        "\n",
        "avg = total.value / num.value        \n",
        "print(\"total=\"+str(total.value)+\", num=\"+str(num.value)+\", avg=\"+str(avg))"
      ],
      "execution_count": null,
      "outputs": [
        {
          "output_type": "stream",
          "text": [
            "total=16.0, num=5, avg=3.2\n"
          ],
          "name": "stdout"
        }
      ]
    },
    {
      "cell_type": "markdown",
      "metadata": {
        "id": "elp6vSGr00PJ"
      },
      "source": [
        "# 10.11 RDD Persistence持久化"
      ]
    },
    {
      "cell_type": "code",
      "metadata": {
        "scrolled": true,
        "id": "pmbE4cKA00PJ"
      },
      "source": [
        "intRddMemory = sc.parallelize([3,1, 2, 5, 5])"
      ],
      "execution_count": null,
      "outputs": []
    },
    {
      "cell_type": "code",
      "metadata": {
        "id": "63jQAUP000PJ",
        "outputId": "3d699b3e-ce69-4cfe-ca2c-6775cdd4ba12"
      },
      "source": [
        "intRddMemory.persist()"
      ],
      "execution_count": null,
      "outputs": [
        {
          "output_type": "execute_result",
          "data": {
            "text/plain": [
              "ParallelCollectionRDD[277] at parallelize at PythonRDD.scala:475"
            ]
          },
          "metadata": {
            "tags": []
          },
          "execution_count": 190
        }
      ]
    },
    {
      "cell_type": "code",
      "metadata": {
        "id": "1DJ8NvXx00PK",
        "outputId": "8422c429-2020-4086-cef7-42e070beba6b"
      },
      "source": [
        "intRddMemory.is_cached"
      ],
      "execution_count": null,
      "outputs": [
        {
          "output_type": "execute_result",
          "data": {
            "text/plain": [
              "True"
            ]
          },
          "metadata": {
            "tags": []
          },
          "execution_count": 191
        }
      ]
    },
    {
      "cell_type": "code",
      "metadata": {
        "id": "WHbUj8Qf00PK",
        "outputId": "331a1286-23b0-445b-f123-812b7173ea26"
      },
      "source": [
        "intRddMemory.unpersist()"
      ],
      "execution_count": null,
      "outputs": [
        {
          "output_type": "execute_result",
          "data": {
            "text/plain": [
              "ParallelCollectionRDD[277] at parallelize at PythonRDD.scala:475"
            ]
          },
          "metadata": {
            "tags": []
          },
          "execution_count": 192
        }
      ]
    },
    {
      "cell_type": "code",
      "metadata": {
        "id": "75E0qI_C00PK",
        "outputId": "0d13e849-8842-4cbb-e1d9-4bd3e8db307d"
      },
      "source": [
        "intRddMemory.is_cached"
      ],
      "execution_count": null,
      "outputs": [
        {
          "output_type": "execute_result",
          "data": {
            "text/plain": [
              "False"
            ]
          },
          "metadata": {
            "tags": []
          },
          "execution_count": 193
        }
      ]
    },
    {
      "cell_type": "code",
      "metadata": {
        "id": "lNZCi3GJ00PK"
      },
      "source": [
        "intRddMemoryAndDisk = sc.parallelize([3,1, 2, 5, 5])"
      ],
      "execution_count": null,
      "outputs": []
    },
    {
      "cell_type": "code",
      "metadata": {
        "id": "4BagbqeK00PK",
        "outputId": "68bf88c2-64eb-4f90-901f-4fe4479eb3ab"
      },
      "source": [
        "intRddMemoryAndDisk.persist(StorageLevel.MEMORY_AND_DISK)"
      ],
      "execution_count": null,
      "outputs": [
        {
          "output_type": "execute_result",
          "data": {
            "text/plain": [
              "ParallelCollectionRDD[278] at parallelize at PythonRDD.scala:475"
            ]
          },
          "metadata": {
            "tags": []
          },
          "execution_count": 195
        }
      ]
    },
    {
      "cell_type": "code",
      "metadata": {
        "id": "6aYzCni300PL",
        "outputId": "5237d691-1f20-4174-b70b-8aa108c77d66"
      },
      "source": [
        "intRddMemoryAndDisk.is_cached"
      ],
      "execution_count": null,
      "outputs": [
        {
          "output_type": "execute_result",
          "data": {
            "text/plain": [
              "True"
            ]
          },
          "metadata": {
            "tags": []
          },
          "execution_count": 196
        }
      ]
    },
    {
      "cell_type": "markdown",
      "metadata": {
        "collapsed": true,
        "id": "IbMvZJiC00PL"
      },
      "source": [
        "# 10.12 使用Spark 建立WordCount "
      ]
    },
    {
      "cell_type": "code",
      "metadata": {
        "id": "HftGV2bO00PL",
        "outputId": "28126ad0-5065-4da8-ee03-33e78d247c76"
      },
      "source": [
        "%rm -R /home/hduser/pythonsparkexample/ipynotebook/data/output"
      ],
      "execution_count": null,
      "outputs": [
        {
          "output_type": "stream",
          "text": [
            "rm: 無法移除 ‘/home/hduser/pythonsparkexample/ipynotebook/data/output’: 沒有此一檔案或目錄\r\n"
          ],
          "name": "stdout"
        }
      ]
    },
    {
      "cell_type": "code",
      "metadata": {
        "id": "Ftsums4m00PL",
        "outputId": "5b4551f5-f659-41bd-ab6a-eded582b2038"
      },
      "source": [
        "%pwd"
      ],
      "execution_count": null,
      "outputs": [
        {
          "output_type": "execute_result",
          "data": {
            "text/plain": [
              "u'/home/hduser/pythonsparkexample/ipynotebook'"
            ]
          },
          "metadata": {
            "tags": []
          },
          "execution_count": 198
        }
      ]
    },
    {
      "cell_type": "code",
      "metadata": {
        "id": "1fKZsVax00PL"
      },
      "source": [
        "textFile = sc.textFile(\"data/test.txt\")\n",
        "stringRDD=textFile.flatMap(lambda line : line.split(\" \"))\n",
        "countsRDD = stringRDD.map(lambda word : (word, 1))  \\\n",
        "                                            .reduceByKey(lambda x,y : x+y)\n",
        "countsRDD.saveAsTextFile(\"data/output\")"
      ],
      "execution_count": null,
      "outputs": []
    },
    {
      "cell_type": "code",
      "metadata": {
        "id": "Diuc8ldA00PL",
        "outputId": "7f645e12-500d-4fc9-bfc7-40dbdd9212fb"
      },
      "source": [
        "%ll data/output"
      ],
      "execution_count": null,
      "outputs": [
        {
          "output_type": "stream",
          "text": [
            "總計 4\r\n",
            "-rw-r--r-- 1 hduser 58  9月 26 18:43 part-00000\r\n",
            "-rw-r--r-- 1 hduser  0  9月 26 18:43 _SUCCESS\r\n"
          ],
          "name": "stdout"
        }
      ]
    },
    {
      "cell_type": "code",
      "metadata": {
        "id": "hNRTaFpY00PM",
        "outputId": "35ff0aa6-c386-4b83-d4a2-7769ebb14eb4"
      },
      "source": [
        "%cat data/output/part-00000"
      ],
      "execution_count": null,
      "outputs": [
        {
          "output_type": "stream",
          "text": [
            "(u'Orange', 1)\r\n",
            "(u'Grape', 2)\r\n",
            "(u'Apple', 2)\r\n",
            "(u'Banana', 1)\r\n"
          ],
          "name": "stdout"
        }
      ]
    },
    {
      "cell_type": "code",
      "metadata": {
        "id": "XX73EzPX00PM",
        "outputId": "4a92ec93-323e-4735-9714-ba197f30c6ed"
      },
      "source": [
        "%cat data/output/part-00001"
      ],
      "execution_count": null,
      "outputs": [
        {
          "output_type": "stream",
          "text": [
            "cat: data/output/part-00001: 沒有此一檔案或目錄\r\n"
          ],
          "name": "stdout"
        }
      ]
    },
    {
      "cell_type": "code",
      "metadata": {
        "id": "2fh-qhqt00PM"
      },
      "source": [
        "%rm -R data/output"
      ],
      "execution_count": null,
      "outputs": []
    },
    {
      "cell_type": "markdown",
      "metadata": {
        "id": "rTvhR7mH00PM"
      },
      "source": [
        "# 10.13 Spark WordCount 詳細解說 "
      ]
    },
    {
      "cell_type": "code",
      "metadata": {
        "collapsed": true,
        "id": "nNWfgi5r00PM"
      },
      "source": [
        "#Step1 sc.textFile讀取檔案 "
      ],
      "execution_count": null,
      "outputs": []
    },
    {
      "cell_type": "code",
      "metadata": {
        "id": "fxsQGHK500PM",
        "outputId": "29793566-3c95-4c09-cde3-bc24aaf698ce"
      },
      "source": [
        "textFile = sc.textFile(\"data/test.txt\")\n",
        "textFile.collect()"
      ],
      "execution_count": null,
      "outputs": [
        {
          "output_type": "execute_result",
          "data": {
            "text/plain": [
              "[u'Apple Apple Orange', u'Banana Grape Grape']"
            ]
          },
          "metadata": {
            "tags": []
          },
          "execution_count": 205
        }
      ]
    },
    {
      "cell_type": "code",
      "metadata": {
        "collapsed": true,
        "id": "6fAqk55600PN"
      },
      "source": [
        "#Step2 flatMap取出每一個字"
      ],
      "execution_count": null,
      "outputs": []
    },
    {
      "cell_type": "code",
      "metadata": {
        "id": "Mqu5vjlS00PN",
        "outputId": "cedf0812-3845-407b-935f-d4858307091c"
      },
      "source": [
        "stringRDD=textFile.map(lambda line : line.split(\" \"))\n",
        "stringRDD.collect()"
      ],
      "execution_count": null,
      "outputs": [
        {
          "output_type": "execute_result",
          "data": {
            "text/plain": [
              "[[u'Apple', u'Apple', u'Orange'], [u'Banana', u'Grape', u'Grape']]"
            ]
          },
          "metadata": {
            "tags": []
          },
          "execution_count": 207
        }
      ]
    },
    {
      "cell_type": "code",
      "metadata": {
        "id": "3fucFYyx00PN",
        "outputId": "9fb2474b-a4d7-4016-d7f5-b5ba2f9d60cf"
      },
      "source": [
        "stringRDD=textFile.flatMap(lambda line : line.split(\" \"))\n",
        "stringRDD.collect()"
      ],
      "execution_count": null,
      "outputs": [
        {
          "output_type": "execute_result",
          "data": {
            "text/plain": [
              "[u'Apple', u'Apple', u'Orange', u'Banana', u'Grape', u'Grape']"
            ]
          },
          "metadata": {
            "tags": []
          },
          "execution_count": 208
        }
      ]
    },
    {
      "cell_type": "code",
      "metadata": {
        "id": "Wf0mOGTF00PN",
        "outputId": "c9f929c4-bc07-4341-ccc3-6858d9c10cf1"
      },
      "source": [
        "stringRDD.map(lambda word : (word, 1)).collect()"
      ],
      "execution_count": null,
      "outputs": [
        {
          "output_type": "execute_result",
          "data": {
            "text/plain": [
              "[(u'Apple', 1),\n",
              " (u'Apple', 1),\n",
              " (u'Orange', 1),\n",
              " (u'Banana', 1),\n",
              " (u'Grape', 1),\n",
              " (u'Grape', 1)]"
            ]
          },
          "metadata": {
            "tags": []
          },
          "execution_count": 209
        }
      ]
    },
    {
      "cell_type": "code",
      "metadata": {
        "id": "4dciMQef00PO",
        "outputId": "420971a4-73fa-4065-f228-ef5e4197f4b9"
      },
      "source": [
        "stringRDD.map(lambda word : (word, 1)).reduceByKey(lambda x,y : x+y).collect()"
      ],
      "execution_count": null,
      "outputs": [
        {
          "output_type": "execute_result",
          "data": {
            "text/plain": [
              "[(u'Orange', 1), (u'Grape', 2), (u'Apple', 2), (u'Banana', 1)]"
            ]
          },
          "metadata": {
            "tags": []
          },
          "execution_count": 210
        }
      ]
    }
  ]
}